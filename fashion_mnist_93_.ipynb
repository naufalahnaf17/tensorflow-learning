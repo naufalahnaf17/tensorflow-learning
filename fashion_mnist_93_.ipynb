{
  "metadata": {
    "kernelspec": {
      "language": "python",
      "display_name": "Python 3",
      "name": "python3"
    },
    "language_info": {
      "name": "python",
      "version": "3.10.13",
      "mimetype": "text/x-python",
      "codemirror_mode": {
        "name": "ipython",
        "version": 3
      },
      "pygments_lexer": "ipython3",
      "nbconvert_exporter": "python",
      "file_extension": ".py"
    },
    "kaggle": {
      "accelerator": "gpu",
      "dataSources": [],
      "dockerImageVersionId": 30733,
      "isInternetEnabled": true,
      "language": "python",
      "sourceType": "notebook",
      "isGpuEnabled": true
    },
    "colab": {
      "name": "fashion-mnist-93%",
      "provenance": [],
      "include_colab_link": true
    }
  },
  "nbformat_minor": 0,
  "nbformat": 4,
  "cells": [
    {
      "cell_type": "markdown",
      "metadata": {
        "id": "view-in-github",
        "colab_type": "text"
      },
      "source": [
        "<a href=\"https://colab.research.google.com/github/naufalahnaf17/tensorflow_learning/blob/main/fashion_mnist_93_.ipynb\" target=\"_parent\"><img src=\"https://colab.research.google.com/assets/colab-badge.svg\" alt=\"Open In Colab\"/></a>"
      ]
    },
    {
      "cell_type": "code",
      "source": [
        "import tensorflow as tf\n",
        "import pandas as pd\n",
        "import numpy as np\n",
        "import matplotlib.pyplot as plt"
      ],
      "metadata": {
        "_uuid": "8f2839f25d086af736a60e9eeb907d3b93b6e0e5",
        "_cell_guid": "b1076dfc-b9ad-4769-8c92-a6c4dae69d19",
        "execution": {
          "iopub.status.busy": "2024-06-12T12:01:40.188057Z",
          "iopub.execute_input": "2024-06-12T12:01:40.188419Z",
          "iopub.status.idle": "2024-06-12T12:01:52.910827Z",
          "shell.execute_reply.started": "2024-06-12T12:01:40.188389Z",
          "shell.execute_reply": "2024-06-12T12:01:52.910043Z"
        },
        "trusted": true,
        "id": "HXv3CIynjvTY"
      },
      "execution_count": null,
      "outputs": []
    },
    {
      "cell_type": "code",
      "source": [
        "from tensorflow.keras import models\n",
        "from tensorflow.keras.layers import Flatten,Dense,Conv2D,MaxPooling2D,BatchNormalization,Dropout\n",
        "from tensorflow.keras.optimizers import Adam\n",
        "from tensorflow.keras.losses import CategoricalCrossentropy\n",
        "from tensorflow.keras.preprocessing.image import ImageDataGenerator\n",
        "from tensorflow.keras.utils import to_categorical"
      ],
      "metadata": {
        "execution": {
          "iopub.status.busy": "2024-06-12T12:07:32.000406Z",
          "iopub.execute_input": "2024-06-12T12:07:32.000761Z",
          "iopub.status.idle": "2024-06-12T12:07:32.01023Z",
          "shell.execute_reply.started": "2024-06-12T12:07:32.000733Z",
          "shell.execute_reply": "2024-06-12T12:07:32.009443Z"
        },
        "trusted": true,
        "id": "KoBT8CVJjvTf"
      },
      "execution_count": null,
      "outputs": []
    },
    {
      "cell_type": "code",
      "source": [
        "import warnings\n",
        "warnings.filterwarnings('ignore')"
      ],
      "metadata": {
        "execution": {
          "iopub.status.busy": "2024-06-12T12:17:50.376885Z",
          "iopub.execute_input": "2024-06-12T12:17:50.377261Z",
          "iopub.status.idle": "2024-06-12T12:17:50.381944Z",
          "shell.execute_reply.started": "2024-06-12T12:17:50.377232Z",
          "shell.execute_reply": "2024-06-12T12:17:50.380745Z"
        },
        "trusted": true,
        "id": "XfriqRyijvTi"
      },
      "execution_count": null,
      "outputs": []
    },
    {
      "cell_type": "code",
      "source": [
        "fashion_mnist = tf.keras.datasets.fashion_mnist\n",
        "\n",
        "(train_images,train_labels) , (test_images,test_labels) = fashion_mnist.load_data()"
      ],
      "metadata": {
        "execution": {
          "iopub.status.busy": "2024-06-12T12:04:55.151134Z",
          "iopub.execute_input": "2024-06-12T12:04:55.152051Z",
          "iopub.status.idle": "2024-06-12T12:04:55.946635Z",
          "shell.execute_reply.started": "2024-06-12T12:04:55.152018Z",
          "shell.execute_reply": "2024-06-12T12:04:55.945662Z"
        },
        "trusted": true,
        "id": "VB_TM-A2jvTi"
      },
      "execution_count": null,
      "outputs": []
    },
    {
      "cell_type": "code",
      "source": [
        "train_images.shape , test_images.shape"
      ],
      "metadata": {
        "execution": {
          "iopub.status.busy": "2024-06-12T12:05:17.982468Z",
          "iopub.execute_input": "2024-06-12T12:05:17.983295Z",
          "iopub.status.idle": "2024-06-12T12:05:17.989153Z",
          "shell.execute_reply.started": "2024-06-12T12:05:17.983264Z",
          "shell.execute_reply": "2024-06-12T12:05:17.988278Z"
        },
        "trusted": true,
        "id": "ifZ6kn9rjvTj"
      },
      "execution_count": null,
      "outputs": []
    },
    {
      "cell_type": "code",
      "source": [
        "train_labels.shape, test_labels.shape"
      ],
      "metadata": {
        "execution": {
          "iopub.status.busy": "2024-06-12T12:05:31.418789Z",
          "iopub.execute_input": "2024-06-12T12:05:31.419464Z",
          "iopub.status.idle": "2024-06-12T12:05:31.425317Z",
          "shell.execute_reply.started": "2024-06-12T12:05:31.419433Z",
          "shell.execute_reply": "2024-06-12T12:05:31.424285Z"
        },
        "trusted": true,
        "id": "AbzV_FKXjvTk"
      },
      "execution_count": null,
      "outputs": []
    },
    {
      "cell_type": "code",
      "source": [
        "class_names = [\n",
        "    'T-shirt/top',\n",
        "    'Trouser',\n",
        "    'Pullover',\n",
        "    'Dress',\n",
        "    'Coat',\n",
        "    'Sandal',\n",
        "    'Shirt',\n",
        "    'Sneaker',\n",
        "    'Bag',\n",
        "    'Ankle boot'\n",
        "]"
      ],
      "metadata": {
        "execution": {
          "iopub.status.busy": "2024-06-12T12:05:51.069193Z",
          "iopub.execute_input": "2024-06-12T12:05:51.069566Z",
          "iopub.status.idle": "2024-06-12T12:05:51.074312Z",
          "shell.execute_reply.started": "2024-06-12T12:05:51.069538Z",
          "shell.execute_reply": "2024-06-12T12:05:51.073382Z"
        },
        "trusted": true,
        "id": "0zd5_9q3jvTl"
      },
      "execution_count": null,
      "outputs": []
    },
    {
      "cell_type": "code",
      "source": [
        "train_images = train_images / 255.\n",
        "test_images = test_images / 255."
      ],
      "metadata": {
        "execution": {
          "iopub.status.busy": "2024-06-12T12:06:16.595721Z",
          "iopub.execute_input": "2024-06-12T12:06:16.596361Z",
          "iopub.status.idle": "2024-06-12T12:06:16.738467Z",
          "shell.execute_reply.started": "2024-06-12T12:06:16.596329Z",
          "shell.execute_reply": "2024-06-12T12:06:16.737494Z"
        },
        "trusted": true,
        "id": "TSk9sAdyjvTm"
      },
      "execution_count": null,
      "outputs": []
    },
    {
      "cell_type": "code",
      "source": [
        "train_labels = to_categorical(train_labels,num_classes=10)\n",
        "test_labels = to_categorical(test_labels,num_classes=10)"
      ],
      "metadata": {
        "execution": {
          "iopub.status.busy": "2024-06-12T12:08:22.000897Z",
          "iopub.execute_input": "2024-06-12T12:08:22.001755Z",
          "iopub.status.idle": "2024-06-12T12:08:22.00948Z",
          "shell.execute_reply.started": "2024-06-12T12:08:22.001721Z",
          "shell.execute_reply": "2024-06-12T12:08:22.008661Z"
        },
        "trusted": true,
        "id": "pcEcnqPvjvTo"
      },
      "execution_count": null,
      "outputs": []
    },
    {
      "cell_type": "code",
      "source": [
        "train_labels"
      ],
      "metadata": {
        "execution": {
          "iopub.status.busy": "2024-06-12T12:08:26.690428Z",
          "iopub.execute_input": "2024-06-12T12:08:26.690787Z",
          "iopub.status.idle": "2024-06-12T12:08:26.697436Z",
          "shell.execute_reply.started": "2024-06-12T12:08:26.690759Z",
          "shell.execute_reply": "2024-06-12T12:08:26.696618Z"
        },
        "trusted": true,
        "id": "pUa38MFmjvTq"
      },
      "execution_count": null,
      "outputs": []
    },
    {
      "cell_type": "code",
      "source": [
        "test_labels"
      ],
      "metadata": {
        "execution": {
          "iopub.status.busy": "2024-06-12T12:08:30.668837Z",
          "iopub.execute_input": "2024-06-12T12:08:30.669692Z",
          "iopub.status.idle": "2024-06-12T12:08:30.676074Z",
          "shell.execute_reply.started": "2024-06-12T12:08:30.669663Z",
          "shell.execute_reply": "2024-06-12T12:08:30.675071Z"
        },
        "trusted": true,
        "id": "Blozp78xjvTr"
      },
      "execution_count": null,
      "outputs": []
    },
    {
      "cell_type": "code",
      "source": [
        "train_images = train_images.reshape((train_images.shape[0], 28, 28, 1))\n",
        "test_images = test_images.reshape((test_images.shape[0], 28, 28, 1))"
      ],
      "metadata": {
        "execution": {
          "iopub.status.busy": "2024-06-12T12:10:49.471386Z",
          "iopub.execute_input": "2024-06-12T12:10:49.472087Z",
          "iopub.status.idle": "2024-06-12T12:10:49.476666Z",
          "shell.execute_reply.started": "2024-06-12T12:10:49.472055Z",
          "shell.execute_reply": "2024-06-12T12:10:49.475679Z"
        },
        "trusted": true,
        "id": "oc9Jd5hfjvTt"
      },
      "execution_count": null,
      "outputs": []
    },
    {
      "cell_type": "code",
      "source": [
        "train_datagen = ImageDataGenerator()\n",
        "test_datagen = ImageDataGenerator()\n",
        "\n",
        "train_data = train_datagen.flow(\n",
        "    train_images,train_labels,\n",
        "    batch_size=32\n",
        ")\n",
        "\n",
        "test_data = test_datagen.flow(\n",
        "    test_images,test_labels,\n",
        "    batch_size=32\n",
        ")"
      ],
      "metadata": {
        "execution": {
          "iopub.status.busy": "2024-06-12T12:10:50.988634Z",
          "iopub.execute_input": "2024-06-12T12:10:50.989688Z",
          "iopub.status.idle": "2024-06-12T12:10:51.079337Z",
          "shell.execute_reply.started": "2024-06-12T12:10:50.989654Z",
          "shell.execute_reply": "2024-06-12T12:10:51.078309Z"
        },
        "trusted": true,
        "id": "jBiJL8EOjvTt"
      },
      "execution_count": null,
      "outputs": []
    },
    {
      "cell_type": "code",
      "source": [
        "tf.random.set_seed(42)\n",
        "\n",
        "model_1 = models.Sequential()\n",
        "model_1.add(Conv2D(32 , (3,3) , activation=\"relu\" , input_shape=(28,28,1)))\n",
        "model_1.add(Conv2D(32 , (3,3) , activation=\"relu\"))\n",
        "model_1.add(MaxPooling2D(2,2))\n",
        "model_1.add(BatchNormalization())\n",
        "model_1.add(Dropout(0.2))\n",
        "\n",
        "model_1.add(Conv2D(64 , (3,3) , activation=\"relu\"))\n",
        "model_1.add(Conv2D(64 , (3,3) , activation=\"relu\"))\n",
        "model_1.add(MaxPooling2D(2,2))\n",
        "model_1.add(BatchNormalization())\n",
        "model_1.add(Dropout(0.3))\n",
        "\n",
        "model_1.add(Flatten())\n",
        "model_1.add(Dense(64,activation=\"relu\"))\n",
        "model_1.add(Dense(10,activation=\"sigmoid\"))\n",
        "\n",
        "model_1.compile(\n",
        "    loss=CategoricalCrossentropy(),\n",
        "    optimizer=Adam(),\n",
        "    metrics=[\"accuracy\"]\n",
        ")\n",
        "\n",
        "model_1.fit(train_data,epochs=50,validation_data=test_data)"
      ],
      "metadata": {
        "execution": {
          "iopub.status.busy": "2024-06-12T12:50:24.98833Z",
          "iopub.execute_input": "2024-06-12T12:50:24.988992Z",
          "iopub.status.idle": "2024-06-12T12:55:41.257462Z",
          "shell.execute_reply.started": "2024-06-12T12:50:24.988963Z",
          "shell.execute_reply": "2024-06-12T12:55:41.256601Z"
        },
        "trusted": true,
        "id": "YUbIykW_jvTu"
      },
      "execution_count": null,
      "outputs": []
    },
    {
      "cell_type": "code",
      "source": [
        "model_1.evaluate(test_data)"
      ],
      "metadata": {
        "execution": {
          "iopub.status.busy": "2024-06-12T12:55:44.287929Z",
          "iopub.execute_input": "2024-06-12T12:55:44.288906Z",
          "iopub.status.idle": "2024-06-12T12:55:45.174628Z",
          "shell.execute_reply.started": "2024-06-12T12:55:44.288872Z",
          "shell.execute_reply": "2024-06-12T12:55:45.17366Z"
        },
        "trusted": true,
        "id": "LidXRMc2jvTu"
      },
      "execution_count": null,
      "outputs": []
    },
    {
      "cell_type": "code",
      "source": [
        "preds = model_1.predict(test_data)"
      ],
      "metadata": {
        "execution": {
          "iopub.status.busy": "2024-06-12T12:39:29.359895Z",
          "iopub.execute_input": "2024-06-12T12:39:29.360726Z",
          "iopub.status.idle": "2024-06-12T12:39:30.965272Z",
          "shell.execute_reply.started": "2024-06-12T12:39:29.360693Z",
          "shell.execute_reply": "2024-06-12T12:39:30.964278Z"
        },
        "trusted": true,
        "id": "KOLmYMFEjvTu"
      },
      "execution_count": null,
      "outputs": []
    },
    {
      "cell_type": "code",
      "source": [
        "sample_image, sample_label = next(iter(test_data))\n",
        "prediction = model_1.predict(sample_image)\n",
        "\n",
        "plt.figure(figsize=(10,10))\n",
        "for i in range(30):\n",
        "    plt.subplot(5,6,i+1)\n",
        "    plt.imshow(sample_image[i],cmap=plt.cm.binary)\n",
        "    plt.xticks([])\n",
        "    plt.yticks([])\n",
        "    plt.grid(False)\n",
        "    plt.title(class_names[np.argmax(prediction[i])])\n",
        "plt.show()"
      ],
      "metadata": {
        "execution": {
          "iopub.status.busy": "2024-06-12T12:56:08.995451Z",
          "iopub.execute_input": "2024-06-12T12:56:08.996149Z",
          "iopub.status.idle": "2024-06-12T12:56:10.364983Z",
          "shell.execute_reply.started": "2024-06-12T12:56:08.996115Z",
          "shell.execute_reply": "2024-06-12T12:56:10.364085Z"
        },
        "trusted": true,
        "id": "GiXRoo9ujvTv"
      },
      "execution_count": null,
      "outputs": []
    },
    {
      "cell_type": "code",
      "source": [],
      "metadata": {
        "id": "tVYeVpl1jvTv"
      },
      "execution_count": null,
      "outputs": []
    }
  ]
}