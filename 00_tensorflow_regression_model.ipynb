{
  "nbformat": 4,
  "nbformat_minor": 0,
  "metadata": {
    "colab": {
      "provenance": [],
      "gpuType": "T4",
      "authorship_tag": "ABX9TyOmpWdUs5NwFSOtkKP+pvaX",
      "include_colab_link": true
    },
    "kernelspec": {
      "name": "python3",
      "display_name": "Python 3"
    },
    "language_info": {
      "name": "python"
    },
    "accelerator": "GPU"
  },
  "cells": [
    {
      "cell_type": "markdown",
      "metadata": {
        "id": "view-in-github",
        "colab_type": "text"
      },
      "source": [
        "<a href=\"https://colab.research.google.com/github/naufalahnaf17/tensorflow_01_regression/blob/main/00_tensorflow_regression_model.ipynb\" target=\"_parent\"><img src=\"https://colab.research.google.com/assets/colab-badge.svg\" alt=\"Open In Colab\"/></a>"
      ]
    },
    {
      "cell_type": "markdown",
      "source": [
        "# Pengenalan awal tentang Tensorflow\n",
        "\n",
        "### Ada beberapa yang bakal kita lakukan disini yaitu :\n",
        "- kita akan menggunakan tensorflow -> untuk membuat model\n",
        "- lalu kita juga akan menggunakan matplotlib -> untuk memvisualisasikan data yang kita gunakan\n",
        "- setelah itu kita juga akan membuat model pertama kita menggunakan tensorflow\n",
        "- lalu kita juga akan mengevaluasi model yang telah dibuat dengan tuning yang berbeda\n",
        "\n",
        "### Algoritma yang kita akan gunakan yaitu Regression dan Evaluasi yang akan kita gunakan adalah MAE (Mean Absolute Error)"
      ],
      "metadata": {
        "id": "Flk-UpyJjXWv"
      }
    },
    {
      "cell_type": "markdown",
      "source": [
        "### Pertama tama kita akan melakukan import tensorflow dan matplotlib terlebih dahulu"
      ],
      "metadata": {
        "id": "iWiS5Wn6kXJO"
      }
    },
    {
      "cell_type": "code",
      "source": [
        "# Import Tensorflow\n",
        "import tensorflow as tf\n",
        "# Import Matplotlib\n",
        "import matplotlib.pyplot as plt"
      ],
      "metadata": {
        "id": "3EyejOJTjd5I"
      },
      "execution_count": 29,
      "outputs": []
    },
    {
      "cell_type": "code",
      "source": [
        "# Kita akan mengecek versi tensorflow terlebih dahulu, dengan begitu kita bisa tau versi tensorflow yang digunakan\n",
        "print(\"Tensorflow Version\",tf.__version__)"
      ],
      "metadata": {
        "colab": {
          "base_uri": "https://localhost:8080/"
        },
        "id": "PAy03cDtkpzP",
        "outputId": "cc5078e7-1168-45a2-efa9-bce493aca6bd"
      },
      "execution_count": 30,
      "outputs": [
        {
          "output_type": "stream",
          "name": "stdout",
          "text": [
            "Tensorflow Version 2.15.0\n"
          ]
        }
      ]
    },
    {
      "cell_type": "markdown",
      "source": [],
      "metadata": {
        "id": "nE6YtYNDk22T"
      }
    },
    {
      "cell_type": "markdown",
      "source": [
        "### Selanjutnya kita akan membuat data yang akan kita training, kali ini kita akan melakukan dengan data sederhana terlebih dahulu"
      ],
      "metadata": {
        "id": "bljSMfxik4K_"
      }
    },
    {
      "cell_type": "code",
      "source": [
        "# Kita akan membuat data X dan y\n",
        "# Data X adalah data dari -100 hingga 100 dengan jarak masing masing adalah 4\n",
        "\n",
        "X = tf.range(-100,100,4)\n",
        "X"
      ],
      "metadata": {
        "colab": {
          "base_uri": "https://localhost:8080/"
        },
        "id": "QdPgKXB0lF3_",
        "outputId": "8b240546-5269-4503-89cb-6aaaaafb4f6a"
      },
      "execution_count": 31,
      "outputs": [
        {
          "output_type": "execute_result",
          "data": {
            "text/plain": [
              "<tf.Tensor: shape=(50,), dtype=int32, numpy=\n",
              "array([-100,  -96,  -92,  -88,  -84,  -80,  -76,  -72,  -68,  -64,  -60,\n",
              "        -56,  -52,  -48,  -44,  -40,  -36,  -32,  -28,  -24,  -20,  -16,\n",
              "        -12,   -8,   -4,    0,    4,    8,   12,   16,   20,   24,   28,\n",
              "         32,   36,   40,   44,   48,   52,   56,   60,   64,   68,   72,\n",
              "         76,   80,   84,   88,   92,   96], dtype=int32)>"
            ]
          },
          "metadata": {},
          "execution_count": 31
        }
      ]
    },
    {
      "cell_type": "code",
      "source": [
        "# Selanjutnya kita akan membuat data y\n",
        "# Data y adalah data dari range X namun kita tambahkan 10\n",
        "y = X + 10\n",
        "y"
      ],
      "metadata": {
        "colab": {
          "base_uri": "https://localhost:8080/"
        },
        "id": "wbhNHe0olRCz",
        "outputId": "a15c4769-1dce-4415-bdd0-67a0d5ee5c1b"
      },
      "execution_count": 32,
      "outputs": [
        {
          "output_type": "execute_result",
          "data": {
            "text/plain": [
              "<tf.Tensor: shape=(50,), dtype=int32, numpy=\n",
              "array([-90, -86, -82, -78, -74, -70, -66, -62, -58, -54, -50, -46, -42,\n",
              "       -38, -34, -30, -26, -22, -18, -14, -10,  -6,  -2,   2,   6,  10,\n",
              "        14,  18,  22,  26,  30,  34,  38,  42,  46,  50,  54,  58,  62,\n",
              "        66,  70,  74,  78,  82,  86,  90,  94,  98, 102, 106], dtype=int32)>"
            ]
          },
          "metadata": {},
          "execution_count": 32
        }
      ]
    },
    {
      "cell_type": "code",
      "source": [
        "# Mari kita visualisasikan data X dan y secara sederhana terlebih dahulu\n",
        "plt.scatter(X,y)"
      ],
      "metadata": {
        "colab": {
          "base_uri": "https://localhost:8080/",
          "height": 448
        },
        "id": "CrnQ6l4WlpmA",
        "outputId": "d29fce5c-fca9-448e-d60e-325596024be8"
      },
      "execution_count": 33,
      "outputs": [
        {
          "output_type": "execute_result",
          "data": {
            "text/plain": [
              "<matplotlib.collections.PathCollection at 0x7a3e3db27fa0>"
            ]
          },
          "metadata": {},
          "execution_count": 33
        },
        {
          "output_type": "display_data",
          "data": {
            "text/plain": [
              "<Figure size 640x480 with 1 Axes>"
            ],
            "image/png": "[encoded data removed]"
          },
          "metadata": {}
        }
      ]
    },
    {
      "cell_type": "markdown",
      "source": [
        "### Selanjutnya mari kita membuat model sederhana dengan tensorflow\n",
        "\n",
        "Step by step untuk membuat model sederhana dengan tensorflow\n",
        "\n",
        "1. Create Model -> define input dan output\n",
        "2. Compile Model -> define loss function (loss dalam artian kita harus tau untuk evaluasi model yang telah kita buat seberapa bagus, dan juga kita bisa membuat evaluasi tentang model yang dibuat)\n",
        "3. Fitting Model -> letting model find pattern dari X dan y (features dan labels)"
      ],
      "metadata": {
        "id": "nVxRaFCxm1Hl"
      }
    },
    {
      "cell_type": "code",
      "source": [
        "X.ndim,y.ndim"
      ],
      "metadata": {
        "colab": {
          "base_uri": "https://localhost:8080/"
        },
        "id": "mQYBbXgJpOEo",
        "outputId": "e1594a75-399f-46c6-a8c1-80c9ac1ec9d8"
      },
      "execution_count": 34,
      "outputs": [
        {
          "output_type": "execute_result",
          "data": {
            "text/plain": [
              "(1, 1)"
            ]
          },
          "metadata": {},
          "execution_count": 34
        }
      ]
    },
    {
      "cell_type": "code",
      "source": [
        "# Step 1 Create Model\n",
        "# Untuk saat ini kita akan membuat model sederhana dengan 1 hidden layer tanpa activation\n",
        "# Untuk model yang akan kita buat untuk saat ini adalah tf.keras.Sequential\n",
        "\n",
        "# Untuk saat ini kita akan menggunakan set seed agar pelatihan model dan pengulangan terjadi secara sama\n",
        "tf.random.set_seed(42)\n",
        "\n",
        "model = tf.keras.Sequential([\n",
        "    tf.keras.layers.Dense(1)\n",
        "])\n",
        "\n",
        "# Step 2 Compile Model\n",
        "# Kita akan compile model sederhana yang kita buat dengan Loss dan Metrics MAE dan untuk optimizer kita akan menggunakan SGD (stochastic gradient descent)\n",
        "model.compile(loss=\"mae\",optimizer=tf.keras.optimizers.SGD(),metrics=\"mae\")\n",
        "\n",
        "# Step 3 Fitting Model\n",
        "# Pada saat kita fit model seharusnya syntax nya seperti ini\n",
        "# model.fit(X,y,epochs=5)\n",
        "# Namun kita harus sedikit memodifikasi karna ndim x dan y hanya 1 sedangkan minimal ndim seharusnya ada 2\n",
        "# Epochs adalah lap seperti dalam balapan -> jadi model yang kita buat ini akan melakukan 5 putaran untuk mempelajari data yang ada\n",
        "model.fit(tf.expand_dims(X, axis=-1), y, epochs=5)"
      ],
      "metadata": {
        "colab": {
          "base_uri": "https://localhost:8080/"
        },
        "id": "4Nrh4ix5m35W",
        "outputId": "cc9bfc10-e6fb-45b4-e0dc-b17d2fb10e98"
      },
      "execution_count": 35,
      "outputs": [
        {
          "output_type": "stream",
          "name": "stdout",
          "text": [
            "Epoch 1/5\n",
            "2/2 [==============================] - 1s 17ms/step - loss: 89.5995 - mae: 89.5995\n",
            "Epoch 2/5\n",
            "2/2 [==============================] - 0s 12ms/step - loss: 39.9558 - mae: 39.9558\n",
            "Epoch 3/5\n",
            "2/2 [==============================] - 0s 10ms/step - loss: 10.2509 - mae: 10.2509\n",
            "Epoch 4/5\n",
            "2/2 [==============================] - 0s 12ms/step - loss: 10.2497 - mae: 10.2497\n",
            "Epoch 5/5\n",
            "2/2 [==============================] - 0s 23ms/step - loss: 12.3078 - mae: 12.3078\n"
          ]
        },
        {
          "output_type": "execute_result",
          "data": {
            "text/plain": [
              "<keras.src.callbacks.History at 0x7a3e400cbfd0>"
            ]
          },
          "metadata": {},
          "execution_count": 35
        }
      ]
    },
    {
      "cell_type": "code",
      "source": [
        "# Melakukan predict\n",
        "# Sebelum itu mari kita lihat data X dan y terlebih dahulu\n",
        "X,y"
      ],
      "metadata": {
        "colab": {
          "base_uri": "https://localhost:8080/"
        },
        "id": "jtuv4jqgn4cx",
        "outputId": "37b2b58b-26d2-41f1-fa66-040e191c06bc"
      },
      "execution_count": 36,
      "outputs": [
        {
          "output_type": "execute_result",
          "data": {
            "text/plain": [
              "(<tf.Tensor: shape=(50,), dtype=int32, numpy=\n",
              " array([-100,  -96,  -92,  -88,  -84,  -80,  -76,  -72,  -68,  -64,  -60,\n",
              "         -56,  -52,  -48,  -44,  -40,  -36,  -32,  -28,  -24,  -20,  -16,\n",
              "         -12,   -8,   -4,    0,    4,    8,   12,   16,   20,   24,   28,\n",
              "          32,   36,   40,   44,   48,   52,   56,   60,   64,   68,   72,\n",
              "          76,   80,   84,   88,   92,   96], dtype=int32)>,\n",
              " <tf.Tensor: shape=(50,), dtype=int32, numpy=\n",
              " array([-90, -86, -82, -78, -74, -70, -66, -62, -58, -54, -50, -46, -42,\n",
              "        -38, -34, -30, -26, -22, -18, -14, -10,  -6,  -2,   2,   6,  10,\n",
              "         14,  18,  22,  26,  30,  34,  38,  42,  46,  50,  54,  58,  62,\n",
              "         66,  70,  74,  78,  82,  86,  90,  94,  98, 102, 106], dtype=int32)>)"
            ]
          },
          "metadata": {},
          "execution_count": 36
        }
      ]
    },
    {
      "cell_type": "code",
      "source": [
        "# Bisa dilihat dari data diatas masing masing kita bisa langsung tahu bahwa dari angka n ke angka ke depan adalah 4\n",
        "# Jadi kalau kita melakukan prediksi angka 100, maka harusnya y nya adalah 110\n",
        "model.predict([100])"
      ],
      "metadata": {
        "colab": {
          "base_uri": "https://localhost:8080/"
        },
        "id": "qAEgYdgcpx0v",
        "outputId": "42b94622-12c2-40ba-f09b-0813de167ad4"
      },
      "execution_count": 37,
      "outputs": [
        {
          "output_type": "stream",
          "name": "stdout",
          "text": [
            "1/1 [==============================] - 0s 86ms/step\n"
          ]
        },
        {
          "output_type": "execute_result",
          "data": {
            "text/plain": [
              "array([[67.70777]], dtype=float32)"
            ]
          },
          "metadata": {},
          "execution_count": 37
        }
      ]
    },
    {
      "cell_type": "code",
      "source": [
        "# Ternyata model nya masih terlalu buruk karna seharusnya pada saat kita memasukan angka 100 jawaban yang seharusnya adalah 110"
      ],
      "metadata": {
        "id": "YFcATm4gqLAJ"
      },
      "execution_count": 38,
      "outputs": []
    },
    {
      "cell_type": "markdown",
      "source": [
        "### Model pertama sudah berhasil dibuat, namun hasilnya sedikit mengecewakan karna jauh dari jawaban yang seharusnya\n",
        "\n",
        "pada section kali ini mari kita sedikit evaluasi model yang telah kita buat, ada beberapa cara untuk mengevaluasi model yang telah kita buat\n",
        "\n",
        "Creating Model (Step 1) :\n",
        "- Kita bisa menambahkan layer dan menaikan number dari layer itu sendiri (neuron) contoh -> **tf.keras.layers.Dense(100,activation=\"relu\")**\n",
        "\n",
        "Compile Model (Step 2) :\n",
        "- Kita juga bisa menggunakan optimizer berbeda dan menambahkan learning rate dari optimizer function contoh : -> model.compile(loss=\"mae\",optimizer=tf.keras.optimizers.Adam(learning_rate=0.001),metrics=\"mae\")\n",
        "\n",
        "Fitting Model (Step 3) :\n",
        "- Kita juga bisa menambahkan lap (epochs) pada model yang kita buat, walaupun lebih lama dalam melakukan training bisa jadi memungkinkan bahwa dengan menaikan epochs kita bisa mendapatkan hasil yang lebih maksimal\n",
        "- Atau bisa juga dengan menambahkan data X dan y"
      ],
      "metadata": {
        "id": "nxgrvWAkqeyu"
      }
    },
    {
      "cell_type": "code",
      "source": [
        "# Mari kita buat ulang model seperti diatas\n",
        "# Pada percobaan pertama kita akan menambahkan Epochs terlebih dahulu menjadi 100\n",
        "\n",
        "tf.random.set_seed(42)\n",
        "\n",
        "model = tf.keras.Sequential([\n",
        "    tf.keras.layers.Dense(1)\n",
        "])\n",
        "\n",
        "model.compile(loss=\"mae\",optimizer=tf.keras.optimizers.SGD(),metrics=\"mae\")\n",
        "\n",
        "model.fit(tf.expand_dims(X, axis=-1), y, epochs=100)"
      ],
      "metadata": {
        "colab": {
          "base_uri": "https://localhost:8080/"
        },
        "id": "0P33itSkqsvL",
        "outputId": "df935629-2001-4538-d0ba-0e634c498a80"
      },
      "execution_count": 39,
      "outputs": [
        {
          "output_type": "stream",
          "name": "stdout",
          "text": [
            "Epoch 1/100\n",
            "2/2 [==============================] - 1s 15ms/step - loss: 11.1302 - mae: 11.1302\n",
            "Epoch 2/100\n",
            "2/2 [==============================] - 0s 11ms/step - loss: 11.5814 - mae: 11.5814\n",
            "Epoch 3/100\n",
            "2/2 [==============================] - 0s 9ms/step - loss: 11.0470 - mae: 11.0470\n",
            "Epoch 4/100\n",
            "2/2 [==============================] - 0s 14ms/step - loss: 10.1041 - mae: 10.1041\n",
            "Epoch 5/100\n",
            "2/2 [==============================] - 0s 21ms/step - loss: 15.4462 - mae: 15.4462\n",
            "Epoch 6/100\n",
            "2/2 [==============================] - 0s 10ms/step - loss: 11.7407 - mae: 11.7407\n",
            "Epoch 7/100\n",
            "2/2 [==============================] - 0s 11ms/step - loss: 9.2311 - mae: 9.2311\n",
            "Epoch 8/100\n",
            "2/2 [==============================] - 0s 8ms/step - loss: 11.9866 - mae: 11.9866\n",
            "Epoch 9/100\n",
            "2/2 [==============================] - 0s 8ms/step - loss: 10.0324 - mae: 10.0324\n",
            "Epoch 10/100\n",
            "2/2 [==============================] - 0s 12ms/step - loss: 10.0788 - mae: 10.0788\n",
            "Epoch 11/100\n",
            "2/2 [==============================] - 0s 11ms/step - loss: 10.0508 - mae: 10.0508\n",
            "Epoch 12/100\n",
            "2/2 [==============================] - 0s 12ms/step - loss: 9.9919 - mae: 9.9919\n",
            "Epoch 13/100\n",
            "2/2 [==============================] - 0s 7ms/step - loss: 9.8301 - mae: 9.8301\n",
            "Epoch 14/100\n",
            "2/2 [==============================] - 0s 11ms/step - loss: 10.6307 - mae: 10.6307\n",
            "Epoch 15/100\n",
            "2/2 [==============================] - 0s 11ms/step - loss: 13.4120 - mae: 13.4120\n",
            "Epoch 16/100\n",
            "2/2 [==============================] - 0s 14ms/step - loss: 12.8594 - mae: 12.8594\n",
            "Epoch 17/100\n",
            "2/2 [==============================] - 0s 9ms/step - loss: 10.1680 - mae: 10.1680\n",
            "Epoch 18/100\n",
            "2/2 [==============================] - 0s 14ms/step - loss: 10.4038 - mae: 10.4038\n",
            "Epoch 19/100\n",
            "2/2 [==============================] - 0s 10ms/step - loss: 9.9711 - mae: 9.9711\n",
            "Epoch 20/100\n",
            "2/2 [==============================] - 0s 9ms/step - loss: 11.9365 - mae: 11.9365\n",
            "Epoch 21/100\n",
            "2/2 [==============================] - 0s 10ms/step - loss: 13.0567 - mae: 13.0567\n",
            "Epoch 22/100\n",
            "2/2 [==============================] - 0s 8ms/step - loss: 9.5318 - mae: 9.5318\n",
            "Epoch 23/100\n",
            "2/2 [==============================] - 0s 8ms/step - loss: 9.7436 - mae: 9.7436\n",
            "Epoch 24/100\n",
            "2/2 [==============================] - 0s 9ms/step - loss: 9.7616 - mae: 9.7616\n",
            "Epoch 25/100\n",
            "2/2 [==============================] - 0s 9ms/step - loss: 9.6581 - mae: 9.6581\n",
            "Epoch 26/100\n",
            "2/2 [==============================] - 0s 15ms/step - loss: 9.8412 - mae: 9.8412\n",
            "Epoch 27/100\n",
            "2/2 [==============================] - 0s 14ms/step - loss: 9.6671 - mae: 9.6671\n",
            "Epoch 28/100\n",
            "2/2 [==============================] - 0s 15ms/step - loss: 9.5135 - mae: 9.5135\n",
            "Epoch 29/100\n",
            "2/2 [==============================] - 0s 14ms/step - loss: 9.3734 - mae: 9.3734\n",
            "Epoch 30/100\n",
            "2/2 [==============================] - 0s 10ms/step - loss: 9.2417 - mae: 9.2417\n",
            "Epoch 31/100\n",
            "2/2 [==============================] - 0s 8ms/step - loss: 10.6282 - mae: 10.6282\n",
            "Epoch 32/100\n",
            "2/2 [==============================] - 0s 9ms/step - loss: 9.7104 - mae: 9.7104\n",
            "Epoch 33/100\n",
            "2/2 [==============================] - 0s 8ms/step - loss: 9.6535 - mae: 9.6535\n",
            "Epoch 34/100\n",
            "2/2 [==============================] - 0s 9ms/step - loss: 10.0031 - mae: 10.0031\n",
            "Epoch 35/100\n",
            "2/2 [==============================] - 0s 9ms/step - loss: 11.4103 - mae: 11.4103\n",
            "Epoch 36/100\n",
            "2/2 [==============================] - 0s 10ms/step - loss: 9.9931 - mae: 9.9931\n",
            "Epoch 37/100\n",
            "2/2 [==============================] - 0s 9ms/step - loss: 9.3404 - mae: 9.3404\n",
            "Epoch 38/100\n",
            "2/2 [==============================] - 0s 10ms/step - loss: 12.7314 - mae: 12.7314\n",
            "Epoch 39/100\n",
            "2/2 [==============================] - 0s 10ms/step - loss: 8.9981 - mae: 8.9981\n",
            "Epoch 40/100\n",
            "2/2 [==============================] - 0s 10ms/step - loss: 10.3750 - mae: 10.3750\n",
            "Epoch 41/100\n",
            "2/2 [==============================] - 0s 8ms/step - loss: 14.8488 - mae: 14.8488\n",
            "Epoch 42/100\n",
            "2/2 [==============================] - 0s 12ms/step - loss: 9.8156 - mae: 9.8156\n",
            "Epoch 43/100\n",
            "2/2 [==============================] - 0s 9ms/step - loss: 9.4883 - mae: 9.4883\n",
            "Epoch 44/100\n",
            "2/2 [==============================] - 0s 9ms/step - loss: 9.5177 - mae: 9.5177\n",
            "Epoch 45/100\n",
            "2/2 [==============================] - 0s 9ms/step - loss: 9.6512 - mae: 9.6512\n",
            "Epoch 46/100\n",
            "2/2 [==============================] - 0s 10ms/step - loss: 9.1441 - mae: 9.1441\n",
            "Epoch 47/100\n",
            "2/2 [==============================] - 0s 10ms/step - loss: 9.0502 - mae: 9.0502\n",
            "Epoch 48/100\n",
            "2/2 [==============================] - 0s 10ms/step - loss: 8.8689 - mae: 8.8689\n",
            "Epoch 49/100\n",
            "2/2 [==============================] - 0s 14ms/step - loss: 10.2957 - mae: 10.2957\n",
            "Epoch 50/100\n",
            "2/2 [==============================] - 0s 10ms/step - loss: 8.8059 - mae: 8.8059\n",
            "Epoch 51/100\n",
            "2/2 [==============================] - 0s 11ms/step - loss: 9.6312 - mae: 9.6312\n",
            "Epoch 52/100\n",
            "2/2 [==============================] - 0s 10ms/step - loss: 9.2105 - mae: 9.2105\n",
            "Epoch 53/100\n",
            "2/2 [==============================] - 0s 11ms/step - loss: 9.3678 - mae: 9.3678\n",
            "Epoch 54/100\n",
            "2/2 [==============================] - 0s 9ms/step - loss: 9.2448 - mae: 9.2448\n",
            "Epoch 55/100\n",
            "2/2 [==============================] - 0s 17ms/step - loss: 9.4009 - mae: 9.4009\n",
            "Epoch 56/100\n",
            "2/2 [==============================] - 0s 30ms/step - loss: 8.8822 - mae: 8.8822\n",
            "Epoch 57/100\n",
            "2/2 [==============================] - 0s 10ms/step - loss: 9.7975 - mae: 9.7975\n",
            "Epoch 58/100\n",
            "2/2 [==============================] - 0s 10ms/step - loss: 13.1802 - mae: 13.1802\n",
            "Epoch 59/100\n",
            "2/2 [==============================] - 0s 14ms/step - loss: 14.0790 - mae: 14.0790\n",
            "Epoch 60/100\n",
            "2/2 [==============================] - 0s 16ms/step - loss: 13.6722 - mae: 13.6722\n",
            "Epoch 61/100\n",
            "2/2 [==============================] - 0s 25ms/step - loss: 13.2499 - mae: 13.2499\n",
            "Epoch 62/100\n",
            "2/2 [==============================] - 0s 8ms/step - loss: 8.5601 - mae: 8.5601\n",
            "Epoch 63/100\n",
            "2/2 [==============================] - 0s 11ms/step - loss: 11.1022 - mae: 11.1022\n",
            "Epoch 64/100\n",
            "2/2 [==============================] - 0s 8ms/step - loss: 9.5563 - mae: 9.5563\n",
            "Epoch 65/100\n",
            "2/2 [==============================] - 0s 8ms/step - loss: 8.8503 - mae: 8.8503\n",
            "Epoch 66/100\n",
            "2/2 [==============================] - 0s 8ms/step - loss: 8.8165 - mae: 8.8165\n",
            "Epoch 67/100\n",
            "2/2 [==============================] - 0s 9ms/step - loss: 9.6929 - mae: 9.6929\n",
            "Epoch 68/100\n",
            "2/2 [==============================] - 0s 16ms/step - loss: 9.6984 - mae: 9.6984\n",
            "Epoch 69/100\n",
            "2/2 [==============================] - 0s 8ms/step - loss: 15.3888 - mae: 15.3888\n",
            "Epoch 70/100\n",
            "2/2 [==============================] - 0s 10ms/step - loss: 7.9280 - mae: 7.9280\n",
            "Epoch 71/100\n",
            "2/2 [==============================] - 0s 8ms/step - loss: 10.1854 - mae: 10.1854\n",
            "Epoch 72/100\n",
            "2/2 [==============================] - 0s 14ms/step - loss: 11.1340 - mae: 11.1340\n",
            "Epoch 73/100\n",
            "2/2 [==============================] - 0s 11ms/step - loss: 11.6220 - mae: 11.6220\n",
            "Epoch 74/100\n",
            "2/2 [==============================] - 0s 10ms/step - loss: 8.5723 - mae: 8.5723\n",
            "Epoch 75/100\n",
            "2/2 [==============================] - 0s 9ms/step - loss: 8.9283 - mae: 8.9283\n",
            "Epoch 76/100\n",
            "2/2 [==============================] - 0s 11ms/step - loss: 8.8031 - mae: 8.8031\n",
            "Epoch 77/100\n",
            "2/2 [==============================] - 0s 9ms/step - loss: 8.2802 - mae: 8.2802\n",
            "Epoch 78/100\n",
            "2/2 [==============================] - 0s 10ms/step - loss: 11.1393 - mae: 11.1393\n",
            "Epoch 79/100\n",
            "2/2 [==============================] - 0s 8ms/step - loss: 9.4956 - mae: 9.4956\n",
            "Epoch 80/100\n",
            "2/2 [==============================] - 0s 8ms/step - loss: 13.5277 - mae: 13.5277\n",
            "Epoch 81/100\n",
            "2/2 [==============================] - 0s 9ms/step - loss: 13.7420 - mae: 13.7420\n",
            "Epoch 82/100\n",
            "2/2 [==============================] - 0s 30ms/step - loss: 16.6910 - mae: 16.6910\n",
            "Epoch 83/100\n",
            "2/2 [==============================] - 0s 8ms/step - loss: 9.0148 - mae: 9.0148\n",
            "Epoch 84/100\n",
            "2/2 [==============================] - 0s 8ms/step - loss: 9.7069 - mae: 9.7069\n",
            "Epoch 85/100\n",
            "2/2 [==============================] - 0s 12ms/step - loss: 10.5991 - mae: 10.5991\n",
            "Epoch 86/100\n",
            "2/2 [==============================] - 0s 8ms/step - loss: 12.3763 - mae: 12.3763\n",
            "Epoch 87/100\n",
            "2/2 [==============================] - 0s 14ms/step - loss: 9.4666 - mae: 9.4666\n",
            "Epoch 88/100\n",
            "2/2 [==============================] - 0s 10ms/step - loss: 10.1511 - mae: 10.1511\n",
            "Epoch 89/100\n",
            "2/2 [==============================] - 0s 17ms/step - loss: 10.0895 - mae: 10.0895\n",
            "Epoch 90/100\n",
            "2/2 [==============================] - 0s 12ms/step - loss: 14.4983 - mae: 14.4983\n",
            "Epoch 91/100\n",
            "2/2 [==============================] - 0s 11ms/step - loss: 10.5074 - mae: 10.5074\n",
            "Epoch 92/100\n",
            "2/2 [==============================] - 0s 16ms/step - loss: 9.6577 - mae: 9.6577\n",
            "Epoch 93/100\n",
            "2/2 [==============================] - 0s 11ms/step - loss: 15.4418 - mae: 15.4418\n",
            "Epoch 94/100\n",
            "2/2 [==============================] - 0s 14ms/step - loss: 12.7217 - mae: 12.7217\n",
            "Epoch 95/100\n",
            "2/2 [==============================] - 0s 9ms/step - loss: 12.8832 - mae: 12.8832\n",
            "Epoch 96/100\n",
            "2/2 [==============================] - 0s 9ms/step - loss: 9.2436 - mae: 9.2436\n",
            "Epoch 97/100\n",
            "2/2 [==============================] - 0s 17ms/step - loss: 10.5872 - mae: 10.5872\n",
            "Epoch 98/100\n",
            "2/2 [==============================] - 0s 9ms/step - loss: 14.4631 - mae: 14.4631\n",
            "Epoch 99/100\n",
            "2/2 [==============================] - 0s 9ms/step - loss: 11.5462 - mae: 11.5462\n",
            "Epoch 100/100\n",
            "2/2 [==============================] - 0s 9ms/step - loss: 14.7842 - mae: 14.7842\n"
          ]
        },
        {
          "output_type": "execute_result",
          "data": {
            "text/plain": [
              "<keras.src.callbacks.History at 0x7a3e3d9593c0>"
            ]
          },
          "metadata": {},
          "execution_count": 39
        }
      ]
    },
    {
      "cell_type": "code",
      "source": [
        "# Mari kita lihat terlebih dahulu X dan y\n",
        "X,y"
      ],
      "metadata": {
        "colab": {
          "base_uri": "https://localhost:8080/"
        },
        "id": "8lPktl3itHka",
        "outputId": "7b2767a8-1378-4fb1-fe9f-e98970dc37bf"
      },
      "execution_count": 40,
      "outputs": [
        {
          "output_type": "execute_result",
          "data": {
            "text/plain": [
              "(<tf.Tensor: shape=(50,), dtype=int32, numpy=\n",
              " array([-100,  -96,  -92,  -88,  -84,  -80,  -76,  -72,  -68,  -64,  -60,\n",
              "         -56,  -52,  -48,  -44,  -40,  -36,  -32,  -28,  -24,  -20,  -16,\n",
              "         -12,   -8,   -4,    0,    4,    8,   12,   16,   20,   24,   28,\n",
              "          32,   36,   40,   44,   48,   52,   56,   60,   64,   68,   72,\n",
              "          76,   80,   84,   88,   92,   96], dtype=int32)>,\n",
              " <tf.Tensor: shape=(50,), dtype=int32, numpy=\n",
              " array([-90, -86, -82, -78, -74, -70, -66, -62, -58, -54, -50, -46, -42,\n",
              "        -38, -34, -30, -26, -22, -18, -14, -10,  -6,  -2,   2,   6,  10,\n",
              "         14,  18,  22,  26,  30,  34,  38,  42,  46,  50,  54,  58,  62,\n",
              "         66,  70,  74,  78,  82,  86,  90,  94,  98, 102, 106], dtype=int32)>)"
            ]
          },
          "metadata": {},
          "execution_count": 40
        }
      ]
    },
    {
      "cell_type": "code",
      "source": [
        "# Seharusnya saat kita memasukan angka 100, jawaban yang benar adalah 110, mari kita coba\n",
        "model.predict([100])"
      ],
      "metadata": {
        "colab": {
          "base_uri": "https://localhost:8080/"
        },
        "id": "rvxQ-81xtSCq",
        "outputId": "5d7dbb28-7d7a-4e6d-af7f-944d511b32b3"
      },
      "execution_count": 41,
      "outputs": [
        {
          "output_type": "stream",
          "name": "stdout",
          "text": [
            "1/1 [==============================] - 0s 230ms/step\n"
          ]
        },
        {
          "output_type": "execute_result",
          "data": {
            "text/plain": [
              "array([[90.79854]], dtype=float32)"
            ]
          },
          "metadata": {},
          "execution_count": 41
        }
      ]
    },
    {
      "cell_type": "code",
      "source": [
        "# Masih jauh dari harapan, namun setidaknya membaik, maka dari itu mari kita coba membuat model dengan hidden layer yang lebih banyak dan kita buat juga dengan activation='relu'\n",
        "tf.random.set_seed(42)\n",
        "\n",
        "model = tf.keras.Sequential([\n",
        "    tf.keras.layers.Dense(50,activation=\"relu\"),\n",
        "    tf.keras.layers.Dense(1)\n",
        "])\n",
        "\n",
        "model.compile(loss=\"mae\",optimizer=tf.keras.optimizers.SGD(),metrics=\"mae\")\n",
        "\n",
        "model.fit(tf.expand_dims(X, axis=-1), y, epochs=100)"
      ],
      "metadata": {
        "colab": {
          "base_uri": "https://localhost:8080/"
        },
        "id": "daKFL42wtXsS",
        "outputId": "f0ab9c1a-2ee6-4e46-b241-468b3a96b485"
      },
      "execution_count": 42,
      "outputs": [
        {
          "output_type": "stream",
          "name": "stdout",
          "text": [
            "Epoch 1/100\n",
            "2/2 [==============================] - 1s 21ms/step - loss: 32.0047 - mae: 32.0047\n",
            "Epoch 2/100\n",
            "2/2 [==============================] - 0s 9ms/step - loss: 13.8329 - mae: 13.8329\n",
            "Epoch 3/100\n",
            "2/2 [==============================] - 0s 11ms/step - loss: 21.0424 - mae: 21.0424\n",
            "Epoch 4/100\n",
            "2/2 [==============================] - 0s 12ms/step - loss: 12.1666 - mae: 12.1666\n",
            "Epoch 5/100\n",
            "2/2 [==============================] - 0s 10ms/step - loss: 13.2446 - mae: 13.2446\n",
            "Epoch 6/100\n",
            "2/2 [==============================] - 0s 9ms/step - loss: 20.0468 - mae: 20.0468\n",
            "Epoch 7/100\n",
            "2/2 [==============================] - 0s 10ms/step - loss: 9.9628 - mae: 9.9628\n",
            "Epoch 8/100\n",
            "2/2 [==============================] - 0s 14ms/step - loss: 14.6997 - mae: 14.6997\n",
            "Epoch 9/100\n",
            "2/2 [==============================] - 0s 12ms/step - loss: 18.6103 - mae: 18.6103\n",
            "Epoch 10/100\n",
            "2/2 [==============================] - 0s 12ms/step - loss: 10.9734 - mae: 10.9734\n",
            "Epoch 11/100\n",
            "2/2 [==============================] - 0s 15ms/step - loss: 12.9209 - mae: 12.9209\n",
            "Epoch 12/100\n",
            "2/2 [==============================] - 0s 10ms/step - loss: 12.9891 - mae: 12.9891\n",
            "Epoch 13/100\n",
            "2/2 [==============================] - 0s 11ms/step - loss: 13.5934 - mae: 13.5934\n",
            "Epoch 14/100\n",
            "2/2 [==============================] - 0s 8ms/step - loss: 16.6214 - mae: 16.6214\n",
            "Epoch 15/100\n",
            "2/2 [==============================] - 0s 20ms/step - loss: 14.5300 - mae: 14.5300\n",
            "Epoch 16/100\n",
            "2/2 [==============================] - 0s 10ms/step - loss: 14.0529 - mae: 14.0529\n",
            "Epoch 17/100\n",
            "2/2 [==============================] - 0s 16ms/step - loss: 11.2557 - mae: 11.2557\n",
            "Epoch 18/100\n",
            "2/2 [==============================] - 0s 15ms/step - loss: 16.6703 - mae: 16.6703\n",
            "Epoch 19/100\n",
            "2/2 [==============================] - 0s 14ms/step - loss: 7.0300 - mae: 7.0300\n",
            "Epoch 20/100\n",
            "2/2 [==============================] - 0s 12ms/step - loss: 9.9996 - mae: 9.9996\n",
            "Epoch 21/100\n",
            "2/2 [==============================] - 0s 10ms/step - loss: 18.4489 - mae: 18.4489\n",
            "Epoch 22/100\n",
            "2/2 [==============================] - 0s 9ms/step - loss: 13.1065 - mae: 13.1065\n",
            "Epoch 23/100\n",
            "2/2 [==============================] - 0s 8ms/step - loss: 11.0574 - mae: 11.0574\n",
            "Epoch 24/100\n",
            "2/2 [==============================] - 0s 8ms/step - loss: 11.2180 - mae: 11.2180\n",
            "Epoch 25/100\n",
            "2/2 [==============================] - 0s 7ms/step - loss: 12.8864 - mae: 12.8864\n",
            "Epoch 26/100\n",
            "2/2 [==============================] - 0s 8ms/step - loss: 12.5127 - mae: 12.5127\n",
            "Epoch 27/100\n",
            "2/2 [==============================] - 0s 7ms/step - loss: 13.1497 - mae: 13.1497\n",
            "Epoch 28/100\n",
            "2/2 [==============================] - 0s 8ms/step - loss: 10.0314 - mae: 10.0314\n",
            "Epoch 29/100\n",
            "2/2 [==============================] - 0s 13ms/step - loss: 15.0766 - mae: 15.0766\n",
            "Epoch 30/100\n",
            "2/2 [==============================] - 0s 8ms/step - loss: 12.5156 - mae: 12.5156\n",
            "Epoch 31/100\n",
            "2/2 [==============================] - 0s 15ms/step - loss: 13.6927 - mae: 13.6927\n",
            "Epoch 32/100\n",
            "2/2 [==============================] - 0s 9ms/step - loss: 14.2124 - mae: 14.2124\n",
            "Epoch 33/100\n",
            "2/2 [==============================] - 0s 11ms/step - loss: 8.8029 - mae: 8.8029\n",
            "Epoch 34/100\n",
            "2/2 [==============================] - 0s 8ms/step - loss: 10.0297 - mae: 10.0297\n",
            "Epoch 35/100\n",
            "2/2 [==============================] - 0s 8ms/step - loss: 12.8271 - mae: 12.8271\n",
            "Epoch 36/100\n",
            "2/2 [==============================] - 0s 17ms/step - loss: 12.0138 - mae: 12.0138\n",
            "Epoch 37/100\n",
            "2/2 [==============================] - 0s 10ms/step - loss: 12.9058 - mae: 12.9058\n",
            "Epoch 38/100\n",
            "2/2 [==============================] - 0s 13ms/step - loss: 9.4127 - mae: 9.4127\n",
            "Epoch 39/100\n",
            "2/2 [==============================] - 0s 12ms/step - loss: 9.1508 - mae: 9.1508\n",
            "Epoch 40/100\n",
            "2/2 [==============================] - 0s 10ms/step - loss: 13.2240 - mae: 13.2240\n",
            "Epoch 41/100\n",
            "2/2 [==============================] - 0s 10ms/step - loss: 10.8936 - mae: 10.8936\n",
            "Epoch 42/100\n",
            "2/2 [==============================] - 0s 9ms/step - loss: 5.2713 - mae: 5.2713\n",
            "Epoch 43/100\n",
            "2/2 [==============================] - 0s 18ms/step - loss: 12.8361 - mae: 12.8361\n",
            "Epoch 44/100\n",
            "2/2 [==============================] - 0s 16ms/step - loss: 12.9704 - mae: 12.9704\n",
            "Epoch 45/100\n",
            "2/2 [==============================] - 0s 13ms/step - loss: 12.5320 - mae: 12.5320\n",
            "Epoch 46/100\n",
            "2/2 [==============================] - 0s 18ms/step - loss: 14.1147 - mae: 14.1147\n",
            "Epoch 47/100\n",
            "2/2 [==============================] - 0s 19ms/step - loss: 12.4382 - mae: 12.4382\n",
            "Epoch 48/100\n",
            "2/2 [==============================] - 0s 28ms/step - loss: 9.5279 - mae: 9.5279\n",
            "Epoch 49/100\n",
            "2/2 [==============================] - 0s 18ms/step - loss: 7.9484 - mae: 7.9484\n",
            "Epoch 50/100\n",
            "2/2 [==============================] - 0s 39ms/step - loss: 12.6824 - mae: 12.6824\n",
            "Epoch 51/100\n",
            "2/2 [==============================] - 0s 24ms/step - loss: 13.8720 - mae: 13.8720\n",
            "Epoch 52/100\n",
            "2/2 [==============================] - 0s 17ms/step - loss: 15.3395 - mae: 15.3395\n",
            "Epoch 53/100\n",
            "2/2 [==============================] - 0s 23ms/step - loss: 7.6039 - mae: 7.6039\n",
            "Epoch 54/100\n",
            "2/2 [==============================] - 0s 20ms/step - loss: 13.7472 - mae: 13.7472\n",
            "Epoch 55/100\n",
            "2/2 [==============================] - 0s 23ms/step - loss: 13.5519 - mae: 13.5519\n",
            "Epoch 56/100\n",
            "2/2 [==============================] - 0s 33ms/step - loss: 10.5155 - mae: 10.5155\n",
            "Epoch 57/100\n",
            "2/2 [==============================] - 0s 17ms/step - loss: 12.1905 - mae: 12.1905\n",
            "Epoch 58/100\n",
            "2/2 [==============================] - 0s 20ms/step - loss: 13.8318 - mae: 13.8318\n",
            "Epoch 59/100\n",
            "2/2 [==============================] - 0s 22ms/step - loss: 12.9124 - mae: 12.9124\n",
            "Epoch 60/100\n",
            "2/2 [==============================] - 0s 13ms/step - loss: 12.7419 - mae: 12.7419\n",
            "Epoch 61/100\n",
            "2/2 [==============================] - 0s 11ms/step - loss: 12.7555 - mae: 12.7555\n",
            "Epoch 62/100\n",
            "2/2 [==============================] - 0s 20ms/step - loss: 10.8884 - mae: 10.8884\n",
            "Epoch 63/100\n",
            "2/2 [==============================] - 0s 14ms/step - loss: 9.8738 - mae: 9.8738\n",
            "Epoch 64/100\n",
            "2/2 [==============================] - 0s 23ms/step - loss: 9.8139 - mae: 9.8139\n",
            "Epoch 65/100\n",
            "2/2 [==============================] - 0s 19ms/step - loss: 16.1739 - mae: 16.1739\n",
            "Epoch 66/100\n",
            "2/2 [==============================] - 0s 11ms/step - loss: 9.4674 - mae: 9.4674\n",
            "Epoch 67/100\n",
            "2/2 [==============================] - 0s 14ms/step - loss: 14.3043 - mae: 14.3043\n",
            "Epoch 68/100\n",
            "2/2 [==============================] - 0s 19ms/step - loss: 9.6659 - mae: 9.6659\n",
            "Epoch 69/100\n",
            "2/2 [==============================] - 0s 17ms/step - loss: 14.6781 - mae: 14.6781\n",
            "Epoch 70/100\n",
            "2/2 [==============================] - 0s 13ms/step - loss: 18.1035 - mae: 18.1035\n",
            "Epoch 71/100\n",
            "2/2 [==============================] - 0s 9ms/step - loss: 13.5410 - mae: 13.5410\n",
            "Epoch 72/100\n",
            "2/2 [==============================] - 0s 22ms/step - loss: 13.7381 - mae: 13.7381\n",
            "Epoch 73/100\n",
            "2/2 [==============================] - 0s 10ms/step - loss: 9.9226 - mae: 9.9226\n",
            "Epoch 74/100\n",
            "2/2 [==============================] - 0s 12ms/step - loss: 10.3343 - mae: 10.3343\n",
            "Epoch 75/100\n",
            "2/2 [==============================] - 0s 20ms/step - loss: 13.2799 - mae: 13.2799\n",
            "Epoch 76/100\n",
            "2/2 [==============================] - 0s 15ms/step - loss: 11.6269 - mae: 11.6269\n",
            "Epoch 77/100\n",
            "2/2 [==============================] - 0s 46ms/step - loss: 9.0149 - mae: 9.0149\n",
            "Epoch 78/100\n",
            "2/2 [==============================] - 0s 19ms/step - loss: 15.8155 - mae: 15.8155\n",
            "Epoch 79/100\n",
            "2/2 [==============================] - 0s 12ms/step - loss: 9.4374 - mae: 9.4374\n",
            "Epoch 80/100\n",
            "2/2 [==============================] - 0s 12ms/step - loss: 12.1619 - mae: 12.1619\n",
            "Epoch 81/100\n",
            "2/2 [==============================] - 0s 10ms/step - loss: 15.0557 - mae: 15.0557\n",
            "Epoch 82/100\n",
            "2/2 [==============================] - 0s 12ms/step - loss: 10.1526 - mae: 10.1526\n",
            "Epoch 83/100\n",
            "2/2 [==============================] - 0s 10ms/step - loss: 10.4124 - mae: 10.4124\n",
            "Epoch 84/100\n",
            "2/2 [==============================] - 0s 31ms/step - loss: 7.9208 - mae: 7.9208\n",
            "Epoch 85/100\n",
            "2/2 [==============================] - 0s 11ms/step - loss: 11.1607 - mae: 11.1607\n",
            "Epoch 86/100\n",
            "2/2 [==============================] - 0s 11ms/step - loss: 11.9851 - mae: 11.9851\n",
            "Epoch 87/100\n",
            "2/2 [==============================] - 0s 12ms/step - loss: 13.4602 - mae: 13.4602\n",
            "Epoch 88/100\n",
            "2/2 [==============================] - 0s 14ms/step - loss: 13.2183 - mae: 13.2183\n",
            "Epoch 89/100\n",
            "2/2 [==============================] - 0s 16ms/step - loss: 10.1619 - mae: 10.1619\n",
            "Epoch 90/100\n",
            "2/2 [==============================] - 0s 13ms/step - loss: 17.6987 - mae: 17.6987\n",
            "Epoch 91/100\n",
            "2/2 [==============================] - 0s 16ms/step - loss: 13.7602 - mae: 13.7602\n",
            "Epoch 92/100\n",
            "2/2 [==============================] - 0s 15ms/step - loss: 12.5965 - mae: 12.5965\n",
            "Epoch 93/100\n",
            "2/2 [==============================] - 0s 16ms/step - loss: 12.5928 - mae: 12.5928\n",
            "Epoch 94/100\n",
            "2/2 [==============================] - 0s 17ms/step - loss: 13.5364 - mae: 13.5364\n",
            "Epoch 95/100\n",
            "2/2 [==============================] - 0s 17ms/step - loss: 11.9727 - mae: 11.9727\n",
            "Epoch 96/100\n",
            "2/2 [==============================] - 0s 22ms/step - loss: 10.7311 - mae: 10.7311\n",
            "Epoch 97/100\n",
            "2/2 [==============================] - 0s 13ms/step - loss: 10.2242 - mae: 10.2242\n",
            "Epoch 98/100\n",
            "2/2 [==============================] - 0s 12ms/step - loss: 13.3595 - mae: 13.3595\n",
            "Epoch 99/100\n",
            "2/2 [==============================] - 0s 14ms/step - loss: 13.9072 - mae: 13.9072\n",
            "Epoch 100/100\n",
            "2/2 [==============================] - 0s 15ms/step - loss: 14.7818 - mae: 14.7818\n"
          ]
        },
        {
          "output_type": "execute_result",
          "data": {
            "text/plain": [
              "<keras.src.callbacks.History at 0x7a3e3d43dc90>"
            ]
          },
          "metadata": {},
          "execution_count": 42
        }
      ]
    },
    {
      "cell_type": "code",
      "source": [
        "# Mari kita coba predict\n",
        "model.predict([100])\n",
        "\n",
        "# Ternyata hasilnya malah lebih buruk, mari kita coba gunakan activation=None"
      ],
      "metadata": {
        "colab": {
          "base_uri": "https://localhost:8080/"
        },
        "id": "RFx8MmWitnIL",
        "outputId": "4c497496-8525-4cba-9a1c-0ab499497609"
      },
      "execution_count": 43,
      "outputs": [
        {
          "output_type": "stream",
          "name": "stdout",
          "text": [
            "1/1 [==============================] - 0s 293ms/step\n"
          ]
        },
        {
          "output_type": "execute_result",
          "data": {
            "text/plain": [
              "array([[74.6853]], dtype=float32)"
            ]
          },
          "metadata": {},
          "execution_count": 43
        }
      ]
    },
    {
      "cell_type": "code",
      "source": [
        "tf.random.set_seed(42)\n",
        "\n",
        "model = tf.keras.Sequential([\n",
        "    tf.keras.layers.Dense(50,activation=None),\n",
        "    tf.keras.layers.Dense(1)\n",
        "])\n",
        "\n",
        "model.compile(loss=\"mae\",optimizer=tf.keras.optimizers.SGD(),metrics=\"mae\")\n",
        "\n",
        "model.fit(tf.expand_dims(X, axis=-1), y, epochs=100)"
      ],
      "metadata": {
        "colab": {
          "base_uri": "https://localhost:8080/"
        },
        "id": "i2GROWKItxv7",
        "outputId": "156a627a-3ef5-4e74-8605-fe32a7927e4b"
      },
      "execution_count": 44,
      "outputs": [
        {
          "output_type": "stream",
          "name": "stdout",
          "text": [
            "Epoch 1/100\n",
            "2/2 [==============================] - 2s 34ms/step - loss: 50.5773 - mae: 50.5773\n",
            "Epoch 2/100\n",
            "2/2 [==============================] - 0s 11ms/step - loss: 29.8689 - mae: 29.8689\n",
            "Epoch 3/100\n",
            "2/2 [==============================] - 0s 10ms/step - loss: 28.5057 - mae: 28.5057\n",
            "Epoch 4/100\n",
            "2/2 [==============================] - 0s 13ms/step - loss: 25.5427 - mae: 25.5427\n",
            "Epoch 5/100\n",
            "2/2 [==============================] - 0s 12ms/step - loss: 24.5440 - mae: 24.5440\n",
            "Epoch 6/100\n",
            "2/2 [==============================] - 0s 12ms/step - loss: 20.1249 - mae: 20.1249\n",
            "Epoch 7/100\n",
            "2/2 [==============================] - 0s 10ms/step - loss: 20.4480 - mae: 20.4480\n",
            "Epoch 8/100\n",
            "2/2 [==============================] - 0s 11ms/step - loss: 19.6785 - mae: 19.6785\n",
            "Epoch 9/100\n",
            "2/2 [==============================] - 0s 10ms/step - loss: 17.9998 - mae: 17.9998\n",
            "Epoch 10/100\n",
            "2/2 [==============================] - 0s 15ms/step - loss: 21.0774 - mae: 21.0774\n",
            "Epoch 11/100\n",
            "2/2 [==============================] - 0s 13ms/step - loss: 19.2719 - mae: 19.2719\n",
            "Epoch 12/100\n",
            "2/2 [==============================] - 0s 20ms/step - loss: 10.3721 - mae: 10.3721\n",
            "Epoch 13/100\n",
            "2/2 [==============================] - 0s 10ms/step - loss: 26.6293 - mae: 26.6293\n",
            "Epoch 14/100\n",
            "2/2 [==============================] - 0s 8ms/step - loss: 12.2402 - mae: 12.2402\n",
            "Epoch 15/100\n",
            "2/2 [==============================] - 0s 30ms/step - loss: 22.3443 - mae: 22.3443\n",
            "Epoch 16/100\n",
            "2/2 [==============================] - 0s 14ms/step - loss: 17.4951 - mae: 17.4951\n",
            "Epoch 17/100\n",
            "2/2 [==============================] - 0s 21ms/step - loss: 20.6301 - mae: 20.6301\n",
            "Epoch 18/100\n",
            "2/2 [==============================] - 0s 22ms/step - loss: 31.2435 - mae: 31.2435\n",
            "Epoch 19/100\n",
            "2/2 [==============================] - 0s 10ms/step - loss: 20.6810 - mae: 20.6810\n",
            "Epoch 20/100\n",
            "2/2 [==============================] - 0s 20ms/step - loss: 18.6898 - mae: 18.6898\n",
            "Epoch 21/100\n",
            "2/2 [==============================] - 0s 19ms/step - loss: 36.1507 - mae: 36.1507\n",
            "Epoch 22/100\n",
            "2/2 [==============================] - 0s 13ms/step - loss: 9.5722 - mae: 9.5722\n",
            "Epoch 23/100\n",
            "2/2 [==============================] - 0s 12ms/step - loss: 16.3395 - mae: 16.3395\n",
            "Epoch 24/100\n",
            "2/2 [==============================] - 0s 15ms/step - loss: 17.9785 - mae: 17.9785\n",
            "Epoch 25/100\n",
            "2/2 [==============================] - 0s 10ms/step - loss: 21.7819 - mae: 21.7819\n",
            "Epoch 26/100\n",
            "2/2 [==============================] - 0s 9ms/step - loss: 10.6750 - mae: 10.6750\n",
            "Epoch 27/100\n",
            "2/2 [==============================] - 0s 20ms/step - loss: 30.8934 - mae: 30.8934\n",
            "Epoch 28/100\n",
            "2/2 [==============================] - 0s 19ms/step - loss: 16.5789 - mae: 16.5789\n",
            "Epoch 29/100\n",
            "2/2 [==============================] - 0s 33ms/step - loss: 33.0031 - mae: 33.0031\n",
            "Epoch 30/100\n",
            "2/2 [==============================] - 0s 20ms/step - loss: 19.5895 - mae: 19.5895\n",
            "Epoch 31/100\n",
            "2/2 [==============================] - 0s 23ms/step - loss: 12.5363 - mae: 12.5363\n",
            "Epoch 32/100\n",
            "2/2 [==============================] - 0s 10ms/step - loss: 20.7090 - mae: 20.7090\n",
            "Epoch 33/100\n",
            "2/2 [==============================] - 0s 17ms/step - loss: 20.6355 - mae: 20.6355\n",
            "Epoch 34/100\n",
            "2/2 [==============================] - 0s 30ms/step - loss: 21.1999 - mae: 21.1999\n",
            "Epoch 35/100\n",
            "2/2 [==============================] - 0s 21ms/step - loss: 21.2860 - mae: 21.2860\n",
            "Epoch 36/100\n",
            "2/2 [==============================] - 0s 16ms/step - loss: 18.8146 - mae: 18.8146\n",
            "Epoch 37/100\n",
            "2/2 [==============================] - 0s 11ms/step - loss: 27.4204 - mae: 27.4204\n",
            "Epoch 38/100\n",
            "2/2 [==============================] - 0s 10ms/step - loss: 29.1579 - mae: 29.1579\n",
            "Epoch 39/100\n",
            "2/2 [==============================] - 0s 21ms/step - loss: 20.5549 - mae: 20.5549\n",
            "Epoch 40/100\n",
            "2/2 [==============================] - 0s 13ms/step - loss: 20.6087 - mae: 20.6087\n",
            "Epoch 41/100\n",
            "2/2 [==============================] - 0s 11ms/step - loss: 25.0095 - mae: 25.0095\n",
            "Epoch 42/100\n",
            "2/2 [==============================] - 0s 16ms/step - loss: 20.5646 - mae: 20.5646\n",
            "Epoch 43/100\n",
            "2/2 [==============================] - 0s 16ms/step - loss: 23.1041 - mae: 23.1041\n",
            "Epoch 44/100\n",
            "2/2 [==============================] - 0s 15ms/step - loss: 9.7925 - mae: 9.7925\n",
            "Epoch 45/100\n",
            "2/2 [==============================] - 0s 10ms/step - loss: 22.5859 - mae: 22.5859\n",
            "Epoch 46/100\n",
            "2/2 [==============================] - 0s 11ms/step - loss: 9.1980 - mae: 9.1980\n",
            "Epoch 47/100\n",
            "2/2 [==============================] - 0s 9ms/step - loss: 20.3995 - mae: 20.3995\n",
            "Epoch 48/100\n",
            "2/2 [==============================] - 0s 9ms/step - loss: 8.4199 - mae: 8.4199\n",
            "Epoch 49/100\n",
            "2/2 [==============================] - 0s 10ms/step - loss: 12.6530 - mae: 12.6530\n",
            "Epoch 50/100\n",
            "2/2 [==============================] - 0s 16ms/step - loss: 32.2404 - mae: 32.2404\n",
            "Epoch 51/100\n",
            "2/2 [==============================] - 0s 11ms/step - loss: 16.5319 - mae: 16.5319\n",
            "Epoch 52/100\n",
            "2/2 [==============================] - 0s 12ms/step - loss: 33.7399 - mae: 33.7399\n",
            "Epoch 53/100\n",
            "2/2 [==============================] - 0s 13ms/step - loss: 9.7736 - mae: 9.7736\n",
            "Epoch 54/100\n",
            "2/2 [==============================] - 0s 9ms/step - loss: 11.4403 - mae: 11.4403\n",
            "Epoch 55/100\n",
            "2/2 [==============================] - 0s 16ms/step - loss: 24.6460 - mae: 24.6460\n",
            "Epoch 56/100\n",
            "2/2 [==============================] - 0s 22ms/step - loss: 9.1371 - mae: 9.1371\n",
            "Epoch 57/100\n",
            "2/2 [==============================] - 0s 24ms/step - loss: 11.6394 - mae: 11.6394\n",
            "Epoch 58/100\n",
            "2/2 [==============================] - 0s 22ms/step - loss: 27.3218 - mae: 27.3218\n",
            "Epoch 59/100\n",
            "2/2 [==============================] - 0s 14ms/step - loss: 25.2210 - mae: 25.2210\n",
            "Epoch 60/100\n",
            "2/2 [==============================] - 0s 21ms/step - loss: 11.4609 - mae: 11.4609\n",
            "Epoch 61/100\n",
            "2/2 [==============================] - 0s 10ms/step - loss: 31.4789 - mae: 31.4789\n",
            "Epoch 62/100\n",
            "2/2 [==============================] - 0s 15ms/step - loss: 21.6458 - mae: 21.6458\n",
            "Epoch 63/100\n",
            "2/2 [==============================] - 0s 15ms/step - loss: 9.3973 - mae: 9.3973\n",
            "Epoch 64/100\n",
            "2/2 [==============================] - 0s 11ms/step - loss: 27.3361 - mae: 27.3361\n",
            "Epoch 65/100\n",
            "2/2 [==============================] - 0s 13ms/step - loss: 8.9766 - mae: 8.9766\n",
            "Epoch 66/100\n",
            "2/2 [==============================] - 0s 10ms/step - loss: 9.2213 - mae: 9.2213\n",
            "Epoch 67/100\n",
            "2/2 [==============================] - 0s 11ms/step - loss: 25.9457 - mae: 25.9457\n",
            "Epoch 68/100\n",
            "2/2 [==============================] - 0s 13ms/step - loss: 16.4858 - mae: 16.4858\n",
            "Epoch 69/100\n",
            "2/2 [==============================] - 0s 15ms/step - loss: 24.9909 - mae: 24.9909\n",
            "Epoch 70/100\n",
            "2/2 [==============================] - 0s 9ms/step - loss: 26.1454 - mae: 26.1454\n",
            "Epoch 71/100\n",
            "2/2 [==============================] - 0s 10ms/step - loss: 19.4433 - mae: 19.4433\n",
            "Epoch 72/100\n",
            "2/2 [==============================] - 0s 9ms/step - loss: 25.3187 - mae: 25.3187\n",
            "Epoch 73/100\n",
            "2/2 [==============================] - 0s 10ms/step - loss: 35.7811 - mae: 35.7811\n",
            "Epoch 74/100\n",
            "2/2 [==============================] - 0s 12ms/step - loss: 16.4297 - mae: 16.4297\n",
            "Epoch 75/100\n",
            "2/2 [==============================] - 0s 14ms/step - loss: 30.0299 - mae: 30.0299\n",
            "Epoch 76/100\n",
            "2/2 [==============================] - 0s 19ms/step - loss: 24.7528 - mae: 24.7528\n",
            "Epoch 77/100\n",
            "2/2 [==============================] - 0s 22ms/step - loss: 17.8598 - mae: 17.8598\n",
            "Epoch 78/100\n",
            "2/2 [==============================] - 0s 23ms/step - loss: 23.0680 - mae: 23.0680\n",
            "Epoch 79/100\n",
            "2/2 [==============================] - 0s 8ms/step - loss: 10.0887 - mae: 10.0887\n",
            "Epoch 80/100\n",
            "2/2 [==============================] - 0s 9ms/step - loss: 22.9223 - mae: 22.9223\n",
            "Epoch 81/100\n",
            "2/2 [==============================] - 0s 14ms/step - loss: 26.6699 - mae: 26.6699\n",
            "Epoch 82/100\n",
            "2/2 [==============================] - 0s 9ms/step - loss: 8.7120 - mae: 8.7120\n",
            "Epoch 83/100\n",
            "2/2 [==============================] - 0s 20ms/step - loss: 17.7206 - mae: 17.7206\n",
            "Epoch 84/100\n",
            "2/2 [==============================] - 0s 10ms/step - loss: 21.7601 - mae: 21.7601\n",
            "Epoch 85/100\n",
            "2/2 [==============================] - 0s 11ms/step - loss: 8.5612 - mae: 8.5612\n",
            "Epoch 86/100\n",
            "2/2 [==============================] - 0s 10ms/step - loss: 10.1101 - mae: 10.1101\n",
            "Epoch 87/100\n",
            "2/2 [==============================] - 0s 15ms/step - loss: 33.5274 - mae: 33.5274\n",
            "Epoch 88/100\n",
            "2/2 [==============================] - 0s 29ms/step - loss: 20.4636 - mae: 20.4636\n",
            "Epoch 89/100\n",
            "2/2 [==============================] - 0s 15ms/step - loss: 21.3932 - mae: 21.3932\n",
            "Epoch 90/100\n",
            "2/2 [==============================] - 0s 10ms/step - loss: 40.8742 - mae: 40.8742\n",
            "Epoch 91/100\n",
            "2/2 [==============================] - 0s 10ms/step - loss: 16.7971 - mae: 16.7971\n",
            "Epoch 92/100\n",
            "2/2 [==============================] - 0s 10ms/step - loss: 19.9693 - mae: 19.9693\n",
            "Epoch 93/100\n",
            "2/2 [==============================] - 0s 10ms/step - loss: 20.7675 - mae: 20.7675\n",
            "Epoch 94/100\n",
            "2/2 [==============================] - 0s 11ms/step - loss: 26.1082 - mae: 26.1082\n",
            "Epoch 95/100\n",
            "2/2 [==============================] - 0s 11ms/step - loss: 29.2011 - mae: 29.2011\n",
            "Epoch 96/100\n",
            "2/2 [==============================] - 0s 12ms/step - loss: 20.5437 - mae: 20.5437\n",
            "Epoch 97/100\n",
            "2/2 [==============================] - 0s 11ms/step - loss: 21.5040 - mae: 21.5040\n",
            "Epoch 98/100\n",
            "2/2 [==============================] - 0s 13ms/step - loss: 12.7986 - mae: 12.7986\n",
            "Epoch 99/100\n",
            "2/2 [==============================] - 0s 15ms/step - loss: 16.1241 - mae: 16.1241\n",
            "Epoch 100/100\n",
            "2/2 [==============================] - 0s 13ms/step - loss: 20.3909 - mae: 20.3909\n"
          ]
        },
        {
          "output_type": "execute_result",
          "data": {
            "text/plain": [
              "<keras.src.callbacks.History at 0x7a3e3d6e1bd0>"
            ]
          },
          "metadata": {},
          "execution_count": 44
        }
      ]
    },
    {
      "cell_type": "code",
      "source": [
        "# Mari kita coba predict (saat input 100 output seharusnya adalah 110)\n",
        "model.predict([100])"
      ],
      "metadata": {
        "colab": {
          "base_uri": "https://localhost:8080/"
        },
        "id": "ImLVqGXnt_H8",
        "outputId": "375a4a75-6c09-436f-cfeb-95c8ca9eab21"
      },
      "execution_count": 45,
      "outputs": [
        {
          "output_type": "stream",
          "name": "stdout",
          "text": [
            "1/1 [==============================] - 0s 155ms/step\n"
          ]
        },
        {
          "output_type": "execute_result",
          "data": {
            "text/plain": [
              "array([[69.12443]], dtype=float32)"
            ]
          },
          "metadata": {},
          "execution_count": 45
        }
      ]
    },
    {
      "cell_type": "code",
      "source": [
        "# Sekarang mari kita coba menggunakan optimizer yang berbeda, kali ini kita akan menggunakan optimizer adam\n",
        "tf.random.set_seed(42)\n",
        "\n",
        "model = tf.keras.Sequential([\n",
        "    tf.keras.layers.Dense(50,activation=None),\n",
        "    tf.keras.layers.Dense(1)\n",
        "])\n",
        "\n",
        "model.compile(loss=\"mae\",optimizer=tf.keras.optimizers.Adam(),metrics=\"mae\")\n",
        "\n",
        "model.fit(tf.expand_dims(X, axis=-1), y, epochs=100)"
      ],
      "metadata": {
        "colab": {
          "base_uri": "https://localhost:8080/"
        },
        "id": "1nlkuw3quSBt",
        "outputId": "e65d6cb8-79d9-44ae-ac0b-b7679af4ba4d"
      },
      "execution_count": 46,
      "outputs": [
        {
          "output_type": "stream",
          "name": "stdout",
          "text": [
            "Epoch 1/100\n",
            "2/2 [==============================] - 1s 24ms/step - loss: 54.5962 - mae: 54.5962\n",
            "Epoch 2/100\n",
            "2/2 [==============================] - 0s 22ms/step - loss: 52.9965 - mae: 52.9965\n",
            "Epoch 3/100\n",
            "2/2 [==============================] - 0s 14ms/step - loss: 51.5999 - mae: 51.5999\n",
            "Epoch 4/100\n",
            "2/2 [==============================] - 0s 11ms/step - loss: 50.0853 - mae: 50.0853\n",
            "Epoch 5/100\n",
            "2/2 [==============================] - 0s 11ms/step - loss: 48.5840 - mae: 48.5840\n",
            "Epoch 6/100\n",
            "2/2 [==============================] - 0s 15ms/step - loss: 47.1176 - mae: 47.1176\n",
            "Epoch 7/100\n",
            "2/2 [==============================] - 0s 11ms/step - loss: 45.5873 - mae: 45.5873\n",
            "Epoch 8/100\n",
            "2/2 [==============================] - 0s 11ms/step - loss: 44.1104 - mae: 44.1104\n",
            "Epoch 9/100\n",
            "2/2 [==============================] - 0s 11ms/step - loss: 42.7300 - mae: 42.7300\n",
            "Epoch 10/100\n",
            "2/2 [==============================] - 0s 10ms/step - loss: 41.2090 - mae: 41.2090\n",
            "Epoch 11/100\n",
            "2/2 [==============================] - 0s 10ms/step - loss: 39.7459 - mae: 39.7459\n",
            "Epoch 12/100\n",
            "2/2 [==============================] - 0s 13ms/step - loss: 38.2939 - mae: 38.2939\n",
            "Epoch 13/100\n",
            "2/2 [==============================] - 0s 11ms/step - loss: 36.8127 - mae: 36.8127\n",
            "Epoch 14/100\n",
            "2/2 [==============================] - 0s 15ms/step - loss: 35.3838 - mae: 35.3838\n",
            "Epoch 15/100\n",
            "2/2 [==============================] - 0s 11ms/step - loss: 33.9157 - mae: 33.9157\n",
            "Epoch 16/100\n",
            "2/2 [==============================] - 0s 22ms/step - loss: 32.4917 - mae: 32.4917\n",
            "Epoch 17/100\n",
            "2/2 [==============================] - 0s 13ms/step - loss: 30.9611 - mae: 30.9611\n",
            "Epoch 18/100\n",
            "2/2 [==============================] - 0s 11ms/step - loss: 29.5620 - mae: 29.5620\n",
            "Epoch 19/100\n",
            "2/2 [==============================] - 0s 20ms/step - loss: 28.1069 - mae: 28.1069\n",
            "Epoch 20/100\n",
            "2/2 [==============================] - 0s 10ms/step - loss: 26.5452 - mae: 26.5452\n",
            "Epoch 21/100\n",
            "2/2 [==============================] - 0s 12ms/step - loss: 25.2050 - mae: 25.2050\n",
            "Epoch 22/100\n",
            "2/2 [==============================] - 0s 16ms/step - loss: 23.7020 - mae: 23.7020\n",
            "Epoch 23/100\n",
            "2/2 [==============================] - 0s 18ms/step - loss: 22.3177 - mae: 22.3177\n",
            "Epoch 24/100\n",
            "2/2 [==============================] - 0s 14ms/step - loss: 20.7999 - mae: 20.7999\n",
            "Epoch 25/100\n",
            "2/2 [==============================] - 0s 12ms/step - loss: 19.4062 - mae: 19.4062\n",
            "Epoch 26/100\n",
            "2/2 [==============================] - 0s 9ms/step - loss: 17.9205 - mae: 17.9205\n",
            "Epoch 27/100\n",
            "2/2 [==============================] - 0s 10ms/step - loss: 16.6108 - mae: 16.6108\n",
            "Epoch 28/100\n",
            "2/2 [==============================] - 0s 16ms/step - loss: 15.1309 - mae: 15.1309\n",
            "Epoch 29/100\n",
            "2/2 [==============================] - 0s 10ms/step - loss: 13.8425 - mae: 13.8425\n",
            "Epoch 30/100\n",
            "2/2 [==============================] - 0s 10ms/step - loss: 12.5564 - mae: 12.5564\n",
            "Epoch 31/100\n",
            "2/2 [==============================] - 0s 15ms/step - loss: 11.4618 - mae: 11.4618\n",
            "Epoch 32/100\n",
            "2/2 [==============================] - 0s 19ms/step - loss: 10.4290 - mae: 10.4290\n",
            "Epoch 33/100\n",
            "2/2 [==============================] - 0s 11ms/step - loss: 9.7872 - mae: 9.7872\n",
            "Epoch 34/100\n",
            "2/2 [==============================] - 0s 10ms/step - loss: 9.5170 - mae: 9.5170\n",
            "Epoch 35/100\n",
            "2/2 [==============================] - 0s 19ms/step - loss: 9.4808 - mae: 9.4808\n",
            "Epoch 36/100\n",
            "2/2 [==============================] - 0s 20ms/step - loss: 9.4882 - mae: 9.4882\n",
            "Epoch 37/100\n",
            "2/2 [==============================] - 0s 31ms/step - loss: 9.4499 - mae: 9.4499\n",
            "Epoch 38/100\n",
            "2/2 [==============================] - 0s 11ms/step - loss: 9.4341 - mae: 9.4341\n",
            "Epoch 39/100\n",
            "2/2 [==============================] - 0s 13ms/step - loss: 9.4574 - mae: 9.4574\n",
            "Epoch 40/100\n",
            "2/2 [==============================] - 0s 17ms/step - loss: 9.4048 - mae: 9.4048\n",
            "Epoch 41/100\n",
            "2/2 [==============================] - 0s 10ms/step - loss: 9.3740 - mae: 9.3740\n",
            "Epoch 42/100\n",
            "2/2 [==============================] - 0s 10ms/step - loss: 9.3653 - mae: 9.3653\n",
            "Epoch 43/100\n",
            "2/2 [==============================] - 0s 8ms/step - loss: 9.3342 - mae: 9.3342\n",
            "Epoch 44/100\n",
            "2/2 [==============================] - 0s 8ms/step - loss: 9.3069 - mae: 9.3069\n",
            "Epoch 45/100\n",
            "2/2 [==============================] - 0s 26ms/step - loss: 9.2872 - mae: 9.2872\n",
            "Epoch 46/100\n",
            "2/2 [==============================] - 0s 8ms/step - loss: 9.2533 - mae: 9.2533\n",
            "Epoch 47/100\n",
            "2/2 [==============================] - 0s 20ms/step - loss: 9.2238 - mae: 9.2238\n",
            "Epoch 48/100\n",
            "2/2 [==============================] - 0s 15ms/step - loss: 9.1956 - mae: 9.1956\n",
            "Epoch 49/100\n",
            "2/2 [==============================] - 0s 15ms/step - loss: 9.1680 - mae: 9.1680\n",
            "Epoch 50/100\n",
            "2/2 [==============================] - 0s 12ms/step - loss: 9.1371 - mae: 9.1371\n",
            "Epoch 51/100\n",
            "2/2 [==============================] - 0s 11ms/step - loss: 9.1063 - mae: 9.1063\n",
            "Epoch 52/100\n",
            "2/2 [==============================] - 0s 21ms/step - loss: 9.0772 - mae: 9.0772\n",
            "Epoch 53/100\n",
            "2/2 [==============================] - 0s 9ms/step - loss: 9.0498 - mae: 9.0498\n",
            "Epoch 54/100\n",
            "2/2 [==============================] - 0s 13ms/step - loss: 9.0188 - mae: 9.0188\n",
            "Epoch 55/100\n",
            "2/2 [==============================] - 0s 13ms/step - loss: 8.9895 - mae: 8.9895\n",
            "Epoch 56/100\n",
            "2/2 [==============================] - 0s 8ms/step - loss: 8.9607 - mae: 8.9607\n",
            "Epoch 57/100\n",
            "2/2 [==============================] - 0s 8ms/step - loss: 8.9302 - mae: 8.9302\n",
            "Epoch 58/100\n",
            "2/2 [==============================] - 0s 41ms/step - loss: 8.8973 - mae: 8.8973\n",
            "Epoch 59/100\n",
            "2/2 [==============================] - 0s 16ms/step - loss: 8.8655 - mae: 8.8655\n",
            "Epoch 60/100\n",
            "2/2 [==============================] - 0s 17ms/step - loss: 8.8334 - mae: 8.8334\n",
            "Epoch 61/100\n",
            "2/2 [==============================] - 0s 10ms/step - loss: 8.8105 - mae: 8.8105\n",
            "Epoch 62/100\n",
            "2/2 [==============================] - 0s 20ms/step - loss: 8.7875 - mae: 8.7875\n",
            "Epoch 63/100\n",
            "2/2 [==============================] - 0s 10ms/step - loss: 8.7453 - mae: 8.7453\n",
            "Epoch 64/100\n",
            "2/2 [==============================] - 0s 8ms/step - loss: 8.7160 - mae: 8.7160\n",
            "Epoch 65/100\n",
            "2/2 [==============================] - 0s 17ms/step - loss: 8.6854 - mae: 8.6854\n",
            "Epoch 66/100\n",
            "2/2 [==============================] - 0s 34ms/step - loss: 8.6598 - mae: 8.6598\n",
            "Epoch 67/100\n",
            "2/2 [==============================] - 0s 15ms/step - loss: 8.6322 - mae: 8.6322\n",
            "Epoch 68/100\n",
            "2/2 [==============================] - 0s 14ms/step - loss: 8.6054 - mae: 8.6054\n",
            "Epoch 69/100\n",
            "2/2 [==============================] - 0s 48ms/step - loss: 8.5773 - mae: 8.5773\n",
            "Epoch 70/100\n",
            "2/2 [==============================] - 0s 24ms/step - loss: 8.5501 - mae: 8.5501\n",
            "Epoch 71/100\n",
            "2/2 [==============================] - 0s 16ms/step - loss: 8.5199 - mae: 8.5199\n",
            "Epoch 72/100\n",
            "2/2 [==============================] - 0s 26ms/step - loss: 8.4978 - mae: 8.4978\n",
            "Epoch 73/100\n",
            "2/2 [==============================] - 0s 21ms/step - loss: 8.4689 - mae: 8.4689\n",
            "Epoch 74/100\n",
            "2/2 [==============================] - 0s 15ms/step - loss: 8.4392 - mae: 8.4392\n",
            "Epoch 75/100\n",
            "2/2 [==============================] - 0s 17ms/step - loss: 8.4098 - mae: 8.4098\n",
            "Epoch 76/100\n",
            "2/2 [==============================] - 0s 24ms/step - loss: 8.3821 - mae: 8.3821\n",
            "Epoch 77/100\n",
            "2/2 [==============================] - 0s 23ms/step - loss: 8.3611 - mae: 8.3611\n",
            "Epoch 78/100\n",
            "2/2 [==============================] - 0s 46ms/step - loss: 8.3276 - mae: 8.3276\n",
            "Epoch 79/100\n",
            "2/2 [==============================] - 0s 12ms/step - loss: 8.2996 - mae: 8.2996\n",
            "Epoch 80/100\n",
            "2/2 [==============================] - 0s 21ms/step - loss: 8.2728 - mae: 8.2728\n",
            "Epoch 81/100\n",
            "2/2 [==============================] - 0s 16ms/step - loss: 8.2411 - mae: 8.2411\n",
            "Epoch 82/100\n",
            "2/2 [==============================] - 0s 17ms/step - loss: 8.2128 - mae: 8.2128\n",
            "Epoch 83/100\n",
            "2/2 [==============================] - 0s 16ms/step - loss: 8.1809 - mae: 8.1809\n",
            "Epoch 84/100\n",
            "2/2 [==============================] - 0s 21ms/step - loss: 8.1600 - mae: 8.1600\n",
            "Epoch 85/100\n",
            "2/2 [==============================] - 0s 15ms/step - loss: 8.1263 - mae: 8.1263\n",
            "Epoch 86/100\n",
            "2/2 [==============================] - 0s 15ms/step - loss: 8.1050 - mae: 8.1050\n",
            "Epoch 87/100\n",
            "2/2 [==============================] - 0s 10ms/step - loss: 8.0758 - mae: 8.0758\n",
            "Epoch 88/100\n",
            "2/2 [==============================] - 0s 17ms/step - loss: 8.0404 - mae: 8.0404\n",
            "Epoch 89/100\n",
            "2/2 [==============================] - 0s 14ms/step - loss: 8.0168 - mae: 8.0168\n",
            "Epoch 90/100\n",
            "2/2 [==============================] - 0s 13ms/step - loss: 7.9880 - mae: 7.9880\n",
            "Epoch 91/100\n",
            "2/2 [==============================] - 0s 8ms/step - loss: 7.9633 - mae: 7.9633\n",
            "Epoch 92/100\n",
            "2/2 [==============================] - 0s 11ms/step - loss: 7.9364 - mae: 7.9364\n",
            "Epoch 93/100\n",
            "2/2 [==============================] - 0s 12ms/step - loss: 7.9136 - mae: 7.9136\n",
            "Epoch 94/100\n",
            "2/2 [==============================] - 0s 12ms/step - loss: 7.8849 - mae: 7.8849\n",
            "Epoch 95/100\n",
            "2/2 [==============================] - 0s 13ms/step - loss: 7.8556 - mae: 7.8556\n",
            "Epoch 96/100\n",
            "2/2 [==============================] - 0s 13ms/step - loss: 7.8314 - mae: 7.8314\n",
            "Epoch 97/100\n",
            "2/2 [==============================] - 0s 13ms/step - loss: 7.8128 - mae: 7.8128\n",
            "Epoch 98/100\n",
            "2/2 [==============================] - 0s 17ms/step - loss: 7.7928 - mae: 7.7928\n",
            "Epoch 99/100\n",
            "2/2 [==============================] - 0s 12ms/step - loss: 7.7664 - mae: 7.7664\n",
            "Epoch 100/100\n",
            "2/2 [==============================] - 0s 31ms/step - loss: 7.7419 - mae: 7.7419\n"
          ]
        },
        {
          "output_type": "execute_result",
          "data": {
            "text/plain": [
              "<keras.src.callbacks.History at 0x7a3e3d72e1a0>"
            ]
          },
          "metadata": {},
          "execution_count": 46
        }
      ]
    },
    {
      "cell_type": "code",
      "source": [
        "# Mae terlihat bagus, namun mari kita coba predict\n",
        "model.predict([100])"
      ],
      "metadata": {
        "colab": {
          "base_uri": "https://localhost:8080/"
        },
        "id": "QIar8P15ug42",
        "outputId": "e0d80a96-d30d-465f-d178-ff9d3bc92738"
      },
      "execution_count": 47,
      "outputs": [
        {
          "output_type": "stream",
          "name": "stdout",
          "text": [
            "1/1 [==============================] - 0s 227ms/step\n"
          ]
        },
        {
          "output_type": "execute_result",
          "data": {
            "text/plain": [
              "array([[94.0594]], dtype=float32)"
            ]
          },
          "metadata": {},
          "execution_count": 47
        }
      ]
    },
    {
      "cell_type": "code",
      "source": [
        "# Sudah hampir medekati, mari kita tingkatkan learning rate dengan optimizer Adam\n",
        "tf.random.set_seed(42)\n",
        "\n",
        "model = tf.keras.Sequential([\n",
        "    tf.keras.layers.Dense(50,activation=None),\n",
        "    tf.keras.layers.Dense(1)\n",
        "])\n",
        "\n",
        "model.compile(loss=\"mae\",optimizer=tf.keras.optimizers.Adam(learning_rate=0.01),metrics=\"mae\")\n",
        "\n",
        "model.fit(tf.expand_dims(X, axis=-1), y, epochs=100)"
      ],
      "metadata": {
        "colab": {
          "base_uri": "https://localhost:8080/"
        },
        "id": "2fKnJRo9uliE",
        "outputId": "8f2e8e67-254d-492b-f83e-66c85e4c5b02"
      },
      "execution_count": 48,
      "outputs": [
        {
          "output_type": "stream",
          "name": "stdout",
          "text": [
            "Epoch 1/100\n",
            "2/2 [==============================] - 2s 12ms/step - loss: 52.9214 - mae: 52.9214\n",
            "Epoch 2/100\n",
            "2/2 [==============================] - 0s 7ms/step - loss: 35.3133 - mae: 35.3133\n",
            "Epoch 3/100\n",
            "2/2 [==============================] - 0s 6ms/step - loss: 20.1463 - mae: 20.1463\n",
            "Epoch 4/100\n",
            "2/2 [==============================] - 0s 6ms/step - loss: 10.3703 - mae: 10.3703\n",
            "Epoch 5/100\n",
            "2/2 [==============================] - 0s 7ms/step - loss: 13.5323 - mae: 13.5323\n",
            "Epoch 6/100\n",
            "2/2 [==============================] - 0s 6ms/step - loss: 16.5677 - mae: 16.5677\n",
            "Epoch 7/100\n",
            "2/2 [==============================] - 0s 7ms/step - loss: 13.8773 - mae: 13.8773\n",
            "Epoch 8/100\n",
            "2/2 [==============================] - 0s 6ms/step - loss: 9.9895 - mae: 9.9895\n",
            "Epoch 9/100\n",
            "2/2 [==============================] - 0s 6ms/step - loss: 8.9273 - mae: 8.9273\n",
            "Epoch 10/100\n",
            "2/2 [==============================] - 0s 7ms/step - loss: 9.1534 - mae: 9.1534\n",
            "Epoch 11/100\n",
            "2/2 [==============================] - 0s 6ms/step - loss: 10.4474 - mae: 10.4474\n",
            "Epoch 12/100\n",
            "2/2 [==============================] - 0s 6ms/step - loss: 9.6393 - mae: 9.6393\n",
            "Epoch 13/100\n",
            "2/2 [==============================] - 0s 6ms/step - loss: 8.2513 - mae: 8.2513\n",
            "Epoch 14/100\n",
            "2/2 [==============================] - 0s 6ms/step - loss: 8.3979 - mae: 8.3979\n",
            "Epoch 15/100\n",
            "2/2 [==============================] - 0s 7ms/step - loss: 8.1191 - mae: 8.1191\n",
            "Epoch 16/100\n",
            "2/2 [==============================] - 0s 6ms/step - loss: 7.8559 - mae: 7.8559\n",
            "Epoch 17/100\n",
            "2/2 [==============================] - 0s 7ms/step - loss: 7.7801 - mae: 7.7801\n",
            "Epoch 18/100\n",
            "2/2 [==============================] - 0s 7ms/step - loss: 7.4987 - mae: 7.4987\n",
            "Epoch 19/100\n",
            "2/2 [==============================] - 0s 9ms/step - loss: 7.2665 - mae: 7.2665\n",
            "Epoch 20/100\n",
            "2/2 [==============================] - 0s 6ms/step - loss: 7.0206 - mae: 7.0206\n",
            "Epoch 21/100\n",
            "2/2 [==============================] - 0s 8ms/step - loss: 6.9669 - mae: 6.9669\n",
            "Epoch 22/100\n",
            "2/2 [==============================] - 0s 7ms/step - loss: 6.4982 - mae: 6.4982\n",
            "Epoch 23/100\n",
            "2/2 [==============================] - 0s 6ms/step - loss: 6.3182 - mae: 6.3182\n",
            "Epoch 24/100\n",
            "2/2 [==============================] - 0s 7ms/step - loss: 6.0084 - mae: 6.0084\n",
            "Epoch 25/100\n",
            "2/2 [==============================] - 0s 6ms/step - loss: 5.7116 - mae: 5.7116\n",
            "Epoch 26/100\n",
            "2/2 [==============================] - 0s 6ms/step - loss: 5.6079 - mae: 5.6079\n",
            "Epoch 27/100\n",
            "2/2 [==============================] - 0s 7ms/step - loss: 5.2394 - mae: 5.2394\n",
            "Epoch 28/100\n",
            "2/2 [==============================] - 0s 8ms/step - loss: 4.9954 - mae: 4.9954\n",
            "Epoch 29/100\n",
            "2/2 [==============================] - 0s 6ms/step - loss: 4.7297 - mae: 4.7297\n",
            "Epoch 30/100\n",
            "2/2 [==============================] - 0s 7ms/step - loss: 4.4542 - mae: 4.4542\n",
            "Epoch 31/100\n",
            "2/2 [==============================] - 0s 7ms/step - loss: 4.2536 - mae: 4.2536\n",
            "Epoch 32/100\n",
            "2/2 [==============================] - 0s 6ms/step - loss: 3.8309 - mae: 3.8309\n",
            "Epoch 33/100\n",
            "2/2 [==============================] - 0s 6ms/step - loss: 3.4629 - mae: 3.4629\n",
            "Epoch 34/100\n",
            "2/2 [==============================] - 0s 6ms/step - loss: 3.2744 - mae: 3.2744\n",
            "Epoch 35/100\n",
            "2/2 [==============================] - 0s 8ms/step - loss: 2.8324 - mae: 2.8324\n",
            "Epoch 36/100\n",
            "2/2 [==============================] - 0s 6ms/step - loss: 2.4875 - mae: 2.4875\n",
            "Epoch 37/100\n",
            "2/2 [==============================] - 0s 6ms/step - loss: 2.0642 - mae: 2.0642\n",
            "Epoch 38/100\n",
            "2/2 [==============================] - 0s 7ms/step - loss: 1.6467 - mae: 1.6467\n",
            "Epoch 39/100\n",
            "2/2 [==============================] - 0s 7ms/step - loss: 1.2414 - mae: 1.2414\n",
            "Epoch 40/100\n",
            "2/2 [==============================] - 0s 7ms/step - loss: 0.8831 - mae: 0.8831\n",
            "Epoch 41/100\n",
            "2/2 [==============================] - 0s 9ms/step - loss: 0.7343 - mae: 0.7343\n",
            "Epoch 42/100\n",
            "2/2 [==============================] - 0s 7ms/step - loss: 0.9910 - mae: 0.9910\n",
            "Epoch 43/100\n",
            "2/2 [==============================] - 0s 6ms/step - loss: 2.0965 - mae: 2.0965\n",
            "Epoch 44/100\n",
            "2/2 [==============================] - 0s 6ms/step - loss: 1.1713 - mae: 1.1713\n",
            "Epoch 45/100\n",
            "2/2 [==============================] - 0s 6ms/step - loss: 1.2429 - mae: 1.2429\n",
            "Epoch 46/100\n",
            "2/2 [==============================] - 0s 7ms/step - loss: 1.3693 - mae: 1.3693\n",
            "Epoch 47/100\n",
            "2/2 [==============================] - 0s 7ms/step - loss: 1.0252 - mae: 1.0252\n",
            "Epoch 48/100\n",
            "2/2 [==============================] - 0s 7ms/step - loss: 0.9598 - mae: 0.9598\n",
            "Epoch 49/100\n",
            "2/2 [==============================] - 0s 7ms/step - loss: 0.8090 - mae: 0.8090\n",
            "Epoch 50/100\n",
            "2/2 [==============================] - 0s 7ms/step - loss: 0.6819 - mae: 0.6819\n",
            "Epoch 51/100\n",
            "2/2 [==============================] - 0s 7ms/step - loss: 1.3097 - mae: 1.3097\n",
            "Epoch 52/100\n",
            "2/2 [==============================] - 0s 9ms/step - loss: 0.9142 - mae: 0.9142\n",
            "Epoch 53/100\n",
            "2/2 [==============================] - 0s 7ms/step - loss: 0.4421 - mae: 0.4421\n",
            "Epoch 54/100\n",
            "2/2 [==============================] - 0s 7ms/step - loss: 1.7217 - mae: 1.7217\n",
            "Epoch 55/100\n",
            "2/2 [==============================] - 0s 7ms/step - loss: 1.0259 - mae: 1.0259\n",
            "Epoch 56/100\n",
            "2/2 [==============================] - 0s 7ms/step - loss: 2.1710 - mae: 2.1710\n",
            "Epoch 57/100\n",
            "2/2 [==============================] - 0s 6ms/step - loss: 1.3678 - mae: 1.3678\n",
            "Epoch 58/100\n",
            "2/2 [==============================] - 0s 6ms/step - loss: 1.0258 - mae: 1.0258\n",
            "Epoch 59/100\n",
            "2/2 [==============================] - 0s 7ms/step - loss: 1.3632 - mae: 1.3632\n",
            "Epoch 60/100\n",
            "2/2 [==============================] - 0s 6ms/step - loss: 1.6922 - mae: 1.6922\n",
            "Epoch 61/100\n",
            "2/2 [==============================] - 0s 6ms/step - loss: 1.1429 - mae: 1.1429\n",
            "Epoch 62/100\n",
            "2/2 [==============================] - 0s 7ms/step - loss: 1.8166 - mae: 1.8166\n",
            "Epoch 63/100\n",
            "2/2 [==============================] - 0s 6ms/step - loss: 0.9956 - mae: 0.9956\n",
            "Epoch 64/100\n",
            "2/2 [==============================] - 0s 6ms/step - loss: 0.8870 - mae: 0.8870\n",
            "Epoch 65/100\n",
            "2/2 [==============================] - 0s 6ms/step - loss: 1.3174 - mae: 1.3174\n",
            "Epoch 66/100\n",
            "2/2 [==============================] - 0s 7ms/step - loss: 2.0056 - mae: 2.0056\n",
            "Epoch 67/100\n",
            "2/2 [==============================] - 0s 11ms/step - loss: 1.3014 - mae: 1.3014\n",
            "Epoch 68/100\n",
            "2/2 [==============================] - 0s 7ms/step - loss: 1.1691 - mae: 1.1691\n",
            "Epoch 69/100\n",
            "2/2 [==============================] - 0s 7ms/step - loss: 1.2092 - mae: 1.2092\n",
            "Epoch 70/100\n",
            "2/2 [==============================] - 0s 7ms/step - loss: 0.8908 - mae: 0.8908\n",
            "Epoch 71/100\n",
            "2/2 [==============================] - 0s 6ms/step - loss: 2.8080 - mae: 2.8080\n",
            "Epoch 72/100\n",
            "2/2 [==============================] - 0s 7ms/step - loss: 1.2743 - mae: 1.2743\n",
            "Epoch 73/100\n",
            "2/2 [==============================] - 0s 6ms/step - loss: 2.4335 - mae: 2.4335\n",
            "Epoch 74/100\n",
            "2/2 [==============================] - 0s 6ms/step - loss: 1.1659 - mae: 1.1659\n",
            "Epoch 75/100\n",
            "2/2 [==============================] - 0s 6ms/step - loss: 2.7613 - mae: 2.7613\n",
            "Epoch 76/100\n",
            "2/2 [==============================] - 0s 7ms/step - loss: 1.2203 - mae: 1.2203\n",
            "Epoch 77/100\n",
            "2/2 [==============================] - 0s 6ms/step - loss: 3.4110 - mae: 3.4110\n",
            "Epoch 78/100\n",
            "2/2 [==============================] - 0s 6ms/step - loss: 1.5698 - mae: 1.5698\n",
            "Epoch 79/100\n",
            "2/2 [==============================] - 0s 8ms/step - loss: 1.4302 - mae: 1.4302\n",
            "Epoch 80/100\n",
            "2/2 [==============================] - 0s 7ms/step - loss: 0.5232 - mae: 0.5232\n",
            "Epoch 81/100\n",
            "2/2 [==============================] - 0s 7ms/step - loss: 0.7500 - mae: 0.7500\n",
            "Epoch 82/100\n",
            "2/2 [==============================] - 0s 6ms/step - loss: 0.4402 - mae: 0.4402\n",
            "Epoch 83/100\n",
            "2/2 [==============================] - 0s 6ms/step - loss: 1.2042 - mae: 1.2042\n",
            "Epoch 84/100\n",
            "2/2 [==============================] - 0s 7ms/step - loss: 1.6573 - mae: 1.6573\n",
            "Epoch 85/100\n",
            "2/2 [==============================] - 0s 7ms/step - loss: 0.9880 - mae: 0.9880\n",
            "Epoch 86/100\n",
            "2/2 [==============================] - 0s 8ms/step - loss: 0.4469 - mae: 0.4469\n",
            "Epoch 87/100\n",
            "2/2 [==============================] - 0s 7ms/step - loss: 0.5731 - mae: 0.5731\n",
            "Epoch 88/100\n",
            "2/2 [==============================] - 0s 7ms/step - loss: 1.2245 - mae: 1.2245\n",
            "Epoch 89/100\n",
            "2/2 [==============================] - 0s 6ms/step - loss: 1.5516 - mae: 1.5516\n",
            "Epoch 90/100\n",
            "2/2 [==============================] - 0s 7ms/step - loss: 1.0392 - mae: 1.0392\n",
            "Epoch 91/100\n",
            "2/2 [==============================] - 0s 6ms/step - loss: 1.0259 - mae: 1.0259\n",
            "Epoch 92/100\n",
            "2/2 [==============================] - 0s 6ms/step - loss: 1.0179 - mae: 1.0179\n",
            "Epoch 93/100\n",
            "2/2 [==============================] - 0s 7ms/step - loss: 0.7875 - mae: 0.7875\n",
            "Epoch 94/100\n",
            "2/2 [==============================] - 0s 7ms/step - loss: 1.6711 - mae: 1.6711\n",
            "Epoch 95/100\n",
            "2/2 [==============================] - 0s 7ms/step - loss: 0.6131 - mae: 0.6131\n",
            "Epoch 96/100\n",
            "2/2 [==============================] - 0s 7ms/step - loss: 0.6709 - mae: 0.6709\n",
            "Epoch 97/100\n",
            "2/2 [==============================] - 0s 8ms/step - loss: 1.5669 - mae: 1.5669\n",
            "Epoch 98/100\n",
            "2/2 [==============================] - 0s 8ms/step - loss: 0.8366 - mae: 0.8366\n",
            "Epoch 99/100\n",
            "2/2 [==============================] - 0s 6ms/step - loss: 0.7336 - mae: 0.7336\n",
            "Epoch 100/100\n",
            "2/2 [==============================] - 0s 7ms/step - loss: 0.9484 - mae: 0.9484\n"
          ]
        },
        {
          "output_type": "execute_result",
          "data": {
            "text/plain": [
              "<keras.src.callbacks.History at 0x7a3e3d9eb0d0>"
            ]
          },
          "metadata": {},
          "execution_count": 48
        }
      ]
    },
    {
      "cell_type": "code",
      "source": [
        "# MAE nya sangat baik, tapi mari kita lihat hasil prediksi dari model yang sudah di training\n",
        "model.predict([100])"
      ],
      "metadata": {
        "colab": {
          "base_uri": "https://localhost:8080/"
        },
        "id": "sWs2qAuCuu62",
        "outputId": "d4e88aaa-d626-40a8-c712-3442f1e0e640"
      },
      "execution_count": 49,
      "outputs": [
        {
          "output_type": "stream",
          "name": "stdout",
          "text": [
            "1/1 [==============================] - 0s 69ms/step\n"
          ]
        },
        {
          "output_type": "execute_result",
          "data": {
            "text/plain": [
              "array([[107.017044]], dtype=float32)"
            ]
          },
          "metadata": {},
          "execution_count": 49
        }
      ]
    },
    {
      "cell_type": "code",
      "source": [
        "# Model sudah lebih baik, mari kita tuning sedikit lagi learning rate nya\n",
        "# Sudah hampir medekati, mari kita tingkatkan learning rate dengan optimizer Adam\n",
        "tf.random.set_seed(42)\n",
        "\n",
        "model = tf.keras.Sequential([\n",
        "    tf.keras.layers.Dense(50,activation=None),\n",
        "    tf.keras.layers.Dense(1)\n",
        "])\n",
        "\n",
        "model.compile(loss=\"mae\",optimizer=tf.keras.optimizers.Adam(learning_rate=0.01),metrics=\"mae\")\n",
        "\n",
        "model.fit(tf.expand_dims(X, axis=-1), y, epochs=100)"
      ],
      "metadata": {
        "colab": {
          "base_uri": "https://localhost:8080/"
        },
        "id": "cdOr1aCBu1sl",
        "outputId": "265933cc-5fe8-41a6-c672-1d46f60ac7e9"
      },
      "execution_count": 50,
      "outputs": [
        {
          "output_type": "stream",
          "name": "stdout",
          "text": [
            "Epoch 1/100\n",
            "2/2 [==============================] - 1s 12ms/step - loss: 35.9796 - mae: 35.9796\n",
            "Epoch 2/100\n",
            "2/2 [==============================] - 0s 7ms/step - loss: 18.0854 - mae: 18.0854\n",
            "Epoch 3/100\n",
            "2/2 [==============================] - 0s 7ms/step - loss: 10.1296 - mae: 10.1296\n",
            "Epoch 4/100\n",
            "2/2 [==============================] - 0s 8ms/step - loss: 13.8283 - mae: 13.8283\n",
            "Epoch 5/100\n",
            "2/2 [==============================] - 0s 6ms/step - loss: 15.6189 - mae: 15.6189\n",
            "Epoch 6/100\n",
            "2/2 [==============================] - 0s 6ms/step - loss: 12.1275 - mae: 12.1275\n",
            "Epoch 7/100\n",
            "2/2 [==============================] - 0s 7ms/step - loss: 9.4800 - mae: 9.4800\n",
            "Epoch 8/100\n",
            "2/2 [==============================] - 0s 8ms/step - loss: 9.0137 - mae: 9.0137\n",
            "Epoch 9/100\n",
            "2/2 [==============================] - 0s 7ms/step - loss: 9.4470 - mae: 9.4470\n",
            "Epoch 10/100\n",
            "2/2 [==============================] - 0s 6ms/step - loss: 9.0318 - mae: 9.0318\n",
            "Epoch 11/100\n",
            "2/2 [==============================] - 0s 6ms/step - loss: 8.1277 - mae: 8.1277\n",
            "Epoch 12/100\n",
            "2/2 [==============================] - 0s 6ms/step - loss: 8.0632 - mae: 8.0632\n",
            "Epoch 13/100\n",
            "2/2 [==============================] - 0s 8ms/step - loss: 8.0281 - mae: 8.0281\n",
            "Epoch 14/100\n",
            "2/2 [==============================] - 0s 7ms/step - loss: 8.0391 - mae: 8.0391\n",
            "Epoch 15/100\n",
            "2/2 [==============================] - 0s 8ms/step - loss: 7.7473 - mae: 7.7473\n",
            "Epoch 16/100\n",
            "2/2 [==============================] - 0s 7ms/step - loss: 7.5541 - mae: 7.5541\n",
            "Epoch 17/100\n",
            "2/2 [==============================] - 0s 7ms/step - loss: 7.2157 - mae: 7.2157\n",
            "Epoch 18/100\n",
            "2/2 [==============================] - 0s 7ms/step - loss: 6.9472 - mae: 6.9472\n",
            "Epoch 19/100\n",
            "2/2 [==============================] - 0s 7ms/step - loss: 6.6514 - mae: 6.6514\n",
            "Epoch 20/100\n",
            "2/2 [==============================] - 0s 7ms/step - loss: 6.3314 - mae: 6.3314\n",
            "Epoch 21/100\n",
            "2/2 [==============================] - 0s 8ms/step - loss: 6.4132 - mae: 6.4132\n",
            "Epoch 22/100\n",
            "2/2 [==============================] - 0s 6ms/step - loss: 6.2563 - mae: 6.2563\n",
            "Epoch 23/100\n",
            "2/2 [==============================] - 0s 6ms/step - loss: 5.5594 - mae: 5.5594\n",
            "Epoch 24/100\n",
            "2/2 [==============================] - 0s 7ms/step - loss: 5.3658 - mae: 5.3658\n",
            "Epoch 25/100\n",
            "2/2 [==============================] - 0s 6ms/step - loss: 5.2175 - mae: 5.2175\n",
            "Epoch 26/100\n",
            "2/2 [==============================] - 0s 7ms/step - loss: 4.9150 - mae: 4.9150\n",
            "Epoch 27/100\n",
            "2/2 [==============================] - 0s 7ms/step - loss: 4.6837 - mae: 4.6837\n",
            "Epoch 28/100\n",
            "2/2 [==============================] - 0s 7ms/step - loss: 4.3117 - mae: 4.3117\n",
            "Epoch 29/100\n",
            "2/2 [==============================] - 0s 7ms/step - loss: 3.9471 - mae: 3.9471\n",
            "Epoch 30/100\n",
            "2/2 [==============================] - 0s 6ms/step - loss: 3.6113 - mae: 3.6113\n",
            "Epoch 31/100\n",
            "2/2 [==============================] - 0s 6ms/step - loss: 3.1604 - mae: 3.1604\n",
            "Epoch 32/100\n",
            "2/2 [==============================] - 0s 7ms/step - loss: 3.0953 - mae: 3.0953\n",
            "Epoch 33/100\n",
            "2/2 [==============================] - 0s 6ms/step - loss: 2.5221 - mae: 2.5221\n",
            "Epoch 34/100\n",
            "2/2 [==============================] - 0s 11ms/step - loss: 2.2162 - mae: 2.2162\n",
            "Epoch 35/100\n",
            "2/2 [==============================] - 0s 9ms/step - loss: 1.9406 - mae: 1.9406\n",
            "Epoch 36/100\n",
            "2/2 [==============================] - 0s 6ms/step - loss: 1.3123 - mae: 1.3123\n",
            "Epoch 37/100\n",
            "2/2 [==============================] - 0s 6ms/step - loss: 0.8395 - mae: 0.8395\n",
            "Epoch 38/100\n",
            "2/2 [==============================] - 0s 7ms/step - loss: 0.3400 - mae: 0.3400\n",
            "Epoch 39/100\n",
            "2/2 [==============================] - 0s 7ms/step - loss: 0.8930 - mae: 0.8930\n",
            "Epoch 40/100\n",
            "2/2 [==============================] - 0s 7ms/step - loss: 1.2546 - mae: 1.2546\n",
            "Epoch 41/100\n",
            "2/2 [==============================] - 0s 6ms/step - loss: 1.0232 - mae: 1.0232\n",
            "Epoch 42/100\n",
            "2/2 [==============================] - 0s 6ms/step - loss: 1.5731 - mae: 1.5731\n",
            "Epoch 43/100\n",
            "2/2 [==============================] - 0s 7ms/step - loss: 1.6052 - mae: 1.6052\n",
            "Epoch 44/100\n",
            "2/2 [==============================] - 0s 7ms/step - loss: 1.3599 - mae: 1.3599\n",
            "Epoch 45/100\n",
            "2/2 [==============================] - 0s 6ms/step - loss: 0.8876 - mae: 0.8876\n",
            "Epoch 46/100\n",
            "2/2 [==============================] - 0s 6ms/step - loss: 1.1900 - mae: 1.1900\n",
            "Epoch 47/100\n",
            "2/2 [==============================] - 0s 6ms/step - loss: 0.6411 - mae: 0.6411\n",
            "Epoch 48/100\n",
            "2/2 [==============================] - 0s 6ms/step - loss: 0.5761 - mae: 0.5761\n",
            "Epoch 49/100\n",
            "2/2 [==============================] - 0s 9ms/step - loss: 0.4147 - mae: 0.4147\n",
            "Epoch 50/100\n",
            "2/2 [==============================] - 0s 7ms/step - loss: 0.5747 - mae: 0.5747\n",
            "Epoch 51/100\n",
            "2/2 [==============================] - 0s 6ms/step - loss: 0.8763 - mae: 0.8763\n",
            "Epoch 52/100\n",
            "2/2 [==============================] - 0s 9ms/step - loss: 0.8348 - mae: 0.8348\n",
            "Epoch 53/100\n",
            "2/2 [==============================] - 0s 6ms/step - loss: 1.3552 - mae: 1.3552\n",
            "Epoch 54/100\n",
            "2/2 [==============================] - 0s 7ms/step - loss: 2.5965 - mae: 2.5965\n",
            "Epoch 55/100\n",
            "2/2 [==============================] - 0s 9ms/step - loss: 1.7196 - mae: 1.7196\n",
            "Epoch 56/100\n",
            "2/2 [==============================] - 0s 7ms/step - loss: 3.5107 - mae: 3.5107\n",
            "Epoch 57/100\n",
            "2/2 [==============================] - 0s 6ms/step - loss: 3.5558 - mae: 3.5558\n",
            "Epoch 58/100\n",
            "2/2 [==============================] - 0s 7ms/step - loss: 1.1489 - mae: 1.1489\n",
            "Epoch 59/100\n",
            "2/2 [==============================] - 0s 7ms/step - loss: 1.1744 - mae: 1.1744\n",
            "Epoch 60/100\n",
            "2/2 [==============================] - 0s 7ms/step - loss: 1.9174 - mae: 1.9174\n",
            "Epoch 61/100\n",
            "2/2 [==============================] - 0s 7ms/step - loss: 1.1523 - mae: 1.1523\n",
            "Epoch 62/100\n",
            "2/2 [==============================] - 0s 7ms/step - loss: 2.6555 - mae: 2.6555\n",
            "Epoch 63/100\n",
            "2/2 [==============================] - 0s 6ms/step - loss: 1.1869 - mae: 1.1869\n",
            "Epoch 64/100\n",
            "2/2 [==============================] - 0s 14ms/step - loss: 4.5842 - mae: 4.5842\n",
            "Epoch 65/100\n",
            "2/2 [==============================] - 0s 7ms/step - loss: 2.4702 - mae: 2.4702\n",
            "Epoch 66/100\n",
            "2/2 [==============================] - 0s 7ms/step - loss: 3.5670 - mae: 3.5670\n",
            "Epoch 67/100\n",
            "2/2 [==============================] - 0s 7ms/step - loss: 4.8070 - mae: 4.8070\n",
            "Epoch 68/100\n",
            "2/2 [==============================] - 0s 6ms/step - loss: 1.6569 - mae: 1.6569\n",
            "Epoch 69/100\n",
            "2/2 [==============================] - 0s 6ms/step - loss: 2.6261 - mae: 2.6261\n",
            "Epoch 70/100\n",
            "2/2 [==============================] - 0s 7ms/step - loss: 1.3107 - mae: 1.3107\n",
            "Epoch 71/100\n",
            "2/2 [==============================] - 0s 6ms/step - loss: 2.6471 - mae: 2.6471\n",
            "Epoch 72/100\n",
            "2/2 [==============================] - 0s 7ms/step - loss: 1.2135 - mae: 1.2135\n",
            "Epoch 73/100\n",
            "2/2 [==============================] - 0s 7ms/step - loss: 1.6750 - mae: 1.6750\n",
            "Epoch 74/100\n",
            "2/2 [==============================] - 0s 7ms/step - loss: 0.5851 - mae: 0.5851\n",
            "Epoch 75/100\n",
            "2/2 [==============================] - 0s 7ms/step - loss: 0.2285 - mae: 0.2285\n",
            "Epoch 76/100\n",
            "2/2 [==============================] - 0s 7ms/step - loss: 1.3141 - mae: 1.3141\n",
            "Epoch 77/100\n",
            "2/2 [==============================] - 0s 7ms/step - loss: 0.8420 - mae: 0.8420\n",
            "Epoch 78/100\n",
            "2/2 [==============================] - 0s 10ms/step - loss: 2.6070 - mae: 2.6070\n",
            "Epoch 79/100\n",
            "2/2 [==============================] - 0s 8ms/step - loss: 1.1198 - mae: 1.1198\n",
            "Epoch 80/100\n",
            "2/2 [==============================] - 0s 7ms/step - loss: 2.6098 - mae: 2.6098\n",
            "Epoch 81/100\n",
            "2/2 [==============================] - 0s 7ms/step - loss: 1.1664 - mae: 1.1664\n",
            "Epoch 82/100\n",
            "2/2 [==============================] - 0s 7ms/step - loss: 2.4278 - mae: 2.4278\n",
            "Epoch 83/100\n",
            "2/2 [==============================] - 0s 7ms/step - loss: 1.0727 - mae: 1.0727\n",
            "Epoch 84/100\n",
            "2/2 [==============================] - 0s 7ms/step - loss: 2.1210 - mae: 2.1210\n",
            "Epoch 85/100\n",
            "2/2 [==============================] - 0s 7ms/step - loss: 1.0190 - mae: 1.0190\n",
            "Epoch 86/100\n",
            "2/2 [==============================] - 0s 7ms/step - loss: 2.7403 - mae: 2.7403\n",
            "Epoch 87/100\n",
            "2/2 [==============================] - 0s 8ms/step - loss: 1.1818 - mae: 1.1818\n",
            "Epoch 88/100\n",
            "2/2 [==============================] - 0s 7ms/step - loss: 2.2342 - mae: 2.2342\n",
            "Epoch 89/100\n",
            "2/2 [==============================] - 0s 7ms/step - loss: 1.0459 - mae: 1.0459\n",
            "Epoch 90/100\n",
            "2/2 [==============================] - 0s 7ms/step - loss: 1.3066 - mae: 1.3066\n",
            "Epoch 91/100\n",
            "2/2 [==============================] - 0s 7ms/step - loss: 0.7412 - mae: 0.7412\n",
            "Epoch 92/100\n",
            "2/2 [==============================] - 0s 7ms/step - loss: 0.5502 - mae: 0.5502\n",
            "Epoch 93/100\n",
            "2/2 [==============================] - 0s 7ms/step - loss: 1.2833 - mae: 1.2833\n",
            "Epoch 94/100\n",
            "2/2 [==============================] - 0s 7ms/step - loss: 1.2662 - mae: 1.2662\n",
            "Epoch 95/100\n",
            "2/2 [==============================] - 0s 7ms/step - loss: 0.8968 - mae: 0.8968\n",
            "Epoch 96/100\n",
            "2/2 [==============================] - 0s 8ms/step - loss: 0.7390 - mae: 0.7390\n",
            "Epoch 97/100\n",
            "2/2 [==============================] - 0s 7ms/step - loss: 1.4572 - mae: 1.4572\n",
            "Epoch 98/100\n",
            "2/2 [==============================] - 0s 7ms/step - loss: 0.9064 - mae: 0.9064\n",
            "Epoch 99/100\n",
            "2/2 [==============================] - 0s 6ms/step - loss: 0.9452 - mae: 0.9452\n",
            "Epoch 100/100\n",
            "2/2 [==============================] - 0s 7ms/step - loss: 1.0941 - mae: 1.0941\n"
          ]
        },
        {
          "output_type": "execute_result",
          "data": {
            "text/plain": [
              "<keras.src.callbacks.History at 0x7a3e3d2d1a20>"
            ]
          },
          "metadata": {},
          "execution_count": 50
        }
      ]
    },
    {
      "cell_type": "code",
      "source": [
        "model.predict([100])\n",
        "\n",
        "# Sofar hasil nya cukup memuaskan"
      ],
      "metadata": {
        "colab": {
          "base_uri": "https://localhost:8080/"
        },
        "id": "AyjgZKN1vC3V",
        "outputId": "4b3dcbf7-782e-498d-c497-9db8608c1b84"
      },
      "execution_count": 51,
      "outputs": [
        {
          "output_type": "stream",
          "name": "stdout",
          "text": [
            "1/1 [==============================] - 0s 59ms/step\n"
          ]
        },
        {
          "output_type": "execute_result",
          "data": {
            "text/plain": [
              "array([[111.39394]], dtype=float32)"
            ]
          },
          "metadata": {},
          "execution_count": 51
        }
      ]
    },
    {
      "cell_type": "markdown",
      "source": [
        "### Sekarang Waktunya Visulize Model yang telah kita buat\n",
        "\n",
        "- buat data menjadi split (X_train,y_train,X_test,y_test)\n",
        "- buat prediksi menjadi variable y_preds\n",
        "- format yang akan digunakan dalam split (80% train, 20% test)"
      ],
      "metadata": {
        "id": "Gogf-klxzq63"
      }
    },
    {
      "cell_type": "code",
      "source": [
        "len(X),len(y)"
      ],
      "metadata": {
        "colab": {
          "base_uri": "https://localhost:8080/"
        },
        "id": "UKnZTPEZ0Wu_",
        "outputId": "64380d9b-1df1-45c9-c862-f1db76509803"
      },
      "execution_count": 52,
      "outputs": [
        {
          "output_type": "execute_result",
          "data": {
            "text/plain": [
              "(50, 50)"
            ]
          },
          "metadata": {},
          "execution_count": 52
        }
      ]
    },
    {
      "cell_type": "code",
      "source": [
        "# Buat Train dan Test\n",
        "X_train = X[:40]\n",
        "y_train = y[:40]\n",
        "\n",
        "X_test = X[40:]\n",
        "y_test = y[40:]"
      ],
      "metadata": {
        "id": "9WbrP1aSzobC"
      },
      "execution_count": 53,
      "outputs": []
    },
    {
      "cell_type": "code",
      "source": [
        "# Visualisasikan dengan matplotlib data train dan data test\n",
        "plt.figure(figsize=(10,10))\n",
        "plt.scatter(X_train,y_train,c='g')\n",
        "plt.scatter(X_test,y_test,c='r')\n",
        "plt.legend([\"Train Data\",\"Test Data\"])"
      ],
      "metadata": {
        "colab": {
          "base_uri": "https://localhost:8080/",
          "height": 848
        },
        "id": "ayjrgkV10KmQ",
        "outputId": "b45da5f7-5a02-4bae-db33-354875050281"
      },
      "execution_count": 55,
      "outputs": [
        {
          "output_type": "execute_result",
          "data": {
            "text/plain": [
              "<matplotlib.legend.Legend at 0x7a3e4f611480>"
            ]
          },
          "metadata": {},
          "execution_count": 55
        },
        {
          "output_type": "display_data",
          "data": {
            "text/plain": [
              "<Figure size 1000x1000 with 1 Axes>"
            ],
            "image/png": "[encoded data removed]"
          },
          "metadata": {}
        }
      ]
    },
    {
      "cell_type": "code",
      "source": [
        "# Membuat Model dengan data yang sudah di split\n",
        "tf.random.set_seed(42)\n",
        "\n",
        "model = tf.keras.Sequential([\n",
        "    tf.keras.layers.Dense(50,activation=\"relu\"),\n",
        "    tf.keras.layers.Dense(50,activation=\"relu\"),\n",
        "    tf.keras.layers.Dense(1)\n",
        "])\n",
        "\n",
        "model.compile(loss=\"mae\",optimizer=tf.keras.optimizers.Adam(learning_rate=0.03),metrics=\"mae\")\n",
        "model.fit(tf.expand_dims(X_train, axis=-1), y_train, epochs=100)"
      ],
      "metadata": {
        "colab": {
          "base_uri": "https://localhost:8080/"
        },
        "id": "Mh3jQU3W00pu",
        "outputId": "65c5f1e7-a384-4cbd-c4fd-9052f832836d"
      },
      "execution_count": 70,
      "outputs": [
        {
          "output_type": "stream",
          "name": "stdout",
          "text": [
            "Epoch 1/100\n",
            "2/2 [==============================] - 1s 13ms/step - loss: 38.0203 - mae: 38.0203\n",
            "Epoch 2/100\n",
            "2/2 [==============================] - 0s 7ms/step - loss: 15.9855 - mae: 15.9855\n",
            "Epoch 3/100\n",
            "2/2 [==============================] - 0s 7ms/step - loss: 6.7910 - mae: 6.7910\n",
            "Epoch 4/100\n",
            "2/2 [==============================] - 0s 8ms/step - loss: 8.5176 - mae: 8.5176\n",
            "Epoch 5/100\n",
            "2/2 [==============================] - 0s 7ms/step - loss: 6.7034 - mae: 6.7034\n",
            "Epoch 6/100\n",
            "2/2 [==============================] - 0s 7ms/step - loss: 10.3230 - mae: 10.3230\n",
            "Epoch 7/100\n",
            "2/2 [==============================] - 0s 10ms/step - loss: 4.4367 - mae: 4.4367\n",
            "Epoch 8/100\n",
            "2/2 [==============================] - 0s 7ms/step - loss: 6.3628 - mae: 6.3628\n",
            "Epoch 9/100\n",
            "2/2 [==============================] - 0s 7ms/step - loss: 6.1094 - mae: 6.1094\n",
            "Epoch 10/100\n",
            "2/2 [==============================] - 0s 7ms/step - loss: 4.8846 - mae: 4.8846\n",
            "Epoch 11/100\n",
            "2/2 [==============================] - 0s 7ms/step - loss: 7.3257 - mae: 7.3257\n",
            "Epoch 12/100\n",
            "2/2 [==============================] - 0s 7ms/step - loss: 5.3813 - mae: 5.3813\n",
            "Epoch 13/100\n",
            "2/2 [==============================] - 0s 7ms/step - loss: 5.6961 - mae: 5.6961\n",
            "Epoch 14/100\n",
            "2/2 [==============================] - 0s 7ms/step - loss: 4.7353 - mae: 4.7353\n",
            "Epoch 15/100\n",
            "2/2 [==============================] - 0s 9ms/step - loss: 5.1047 - mae: 5.1047\n",
            "Epoch 16/100\n",
            "2/2 [==============================] - 0s 7ms/step - loss: 5.0351 - mae: 5.0351\n",
            "Epoch 17/100\n",
            "2/2 [==============================] - 0s 7ms/step - loss: 4.6028 - mae: 4.6028\n",
            "Epoch 18/100\n",
            "2/2 [==============================] - 0s 7ms/step - loss: 4.1546 - mae: 4.1546\n",
            "Epoch 19/100\n",
            "2/2 [==============================] - 0s 7ms/step - loss: 3.6683 - mae: 3.6683\n",
            "Epoch 20/100\n",
            "2/2 [==============================] - 0s 8ms/step - loss: 3.1352 - mae: 3.1352\n",
            "Epoch 21/100\n",
            "2/2 [==============================] - 0s 8ms/step - loss: 3.6140 - mae: 3.6140\n",
            "Epoch 22/100\n",
            "2/2 [==============================] - 0s 8ms/step - loss: 3.4404 - mae: 3.4404\n",
            "Epoch 23/100\n",
            "2/2 [==============================] - 0s 8ms/step - loss: 4.2055 - mae: 4.2055\n",
            "Epoch 24/100\n",
            "2/2 [==============================] - 0s 7ms/step - loss: 2.7985 - mae: 2.7985\n",
            "Epoch 25/100\n",
            "2/2 [==============================] - 0s 7ms/step - loss: 2.9751 - mae: 2.9751\n",
            "Epoch 26/100\n",
            "2/2 [==============================] - 0s 6ms/step - loss: 3.1476 - mae: 3.1476\n",
            "Epoch 27/100\n",
            "2/2 [==============================] - 0s 6ms/step - loss: 3.2455 - mae: 3.2455\n",
            "Epoch 28/100\n",
            "2/2 [==============================] - 0s 7ms/step - loss: 1.9992 - mae: 1.9992\n",
            "Epoch 29/100\n",
            "2/2 [==============================] - 0s 7ms/step - loss: 2.6554 - mae: 2.6554\n",
            "Epoch 30/100\n",
            "2/2 [==============================] - 0s 7ms/step - loss: 2.2257 - mae: 2.2257\n",
            "Epoch 31/100\n",
            "2/2 [==============================] - 0s 9ms/step - loss: 6.4446 - mae: 6.4446\n",
            "Epoch 32/100\n",
            "2/2 [==============================] - 0s 7ms/step - loss: 5.2613 - mae: 5.2613\n",
            "Epoch 33/100\n",
            "2/2 [==============================] - 0s 7ms/step - loss: 9.0163 - mae: 9.0163\n",
            "Epoch 34/100\n",
            "2/2 [==============================] - 0s 7ms/step - loss: 9.5707 - mae: 9.5707\n",
            "Epoch 35/100\n",
            "2/2 [==============================] - 0s 9ms/step - loss: 4.3592 - mae: 4.3592\n",
            "Epoch 36/100\n",
            "2/2 [==============================] - 0s 7ms/step - loss: 4.8226 - mae: 4.8226\n",
            "Epoch 37/100\n",
            "2/2 [==============================] - 0s 7ms/step - loss: 2.8669 - mae: 2.8669\n",
            "Epoch 38/100\n",
            "2/2 [==============================] - 0s 8ms/step - loss: 2.2852 - mae: 2.2852\n",
            "Epoch 39/100\n",
            "2/2 [==============================] - 0s 7ms/step - loss: 2.2481 - mae: 2.2481\n",
            "Epoch 40/100\n",
            "2/2 [==============================] - 0s 7ms/step - loss: 4.2918 - mae: 4.2918\n",
            "Epoch 41/100\n",
            "2/2 [==============================] - 0s 8ms/step - loss: 4.5697 - mae: 4.5697\n",
            "Epoch 42/100\n",
            "2/2 [==============================] - 0s 8ms/step - loss: 1.5311 - mae: 1.5311\n",
            "Epoch 43/100\n",
            "2/2 [==============================] - 0s 11ms/step - loss: 2.6616 - mae: 2.6616\n",
            "Epoch 44/100\n",
            "2/2 [==============================] - 0s 12ms/step - loss: 5.6959 - mae: 5.6959\n",
            "Epoch 45/100\n",
            "2/2 [==============================] - 0s 10ms/step - loss: 5.7291 - mae: 5.7291\n",
            "Epoch 46/100\n",
            "2/2 [==============================] - 0s 7ms/step - loss: 2.2507 - mae: 2.2507\n",
            "Epoch 47/100\n",
            "2/2 [==============================] - 0s 7ms/step - loss: 5.8098 - mae: 5.8098\n",
            "Epoch 48/100\n",
            "2/2 [==============================] - 0s 7ms/step - loss: 5.1507 - mae: 5.1507\n",
            "Epoch 49/100\n",
            "2/2 [==============================] - 0s 8ms/step - loss: 2.2409 - mae: 2.2409\n",
            "Epoch 50/100\n",
            "2/2 [==============================] - 0s 7ms/step - loss: 5.5612 - mae: 5.5612\n",
            "Epoch 51/100\n",
            "2/2 [==============================] - 0s 8ms/step - loss: 2.8088 - mae: 2.8088\n",
            "Epoch 52/100\n",
            "2/2 [==============================] - 0s 7ms/step - loss: 2.3407 - mae: 2.3407\n",
            "Epoch 53/100\n",
            "2/2 [==============================] - 0s 7ms/step - loss: 4.4207 - mae: 4.4207\n",
            "Epoch 54/100\n",
            "2/2 [==============================] - 0s 7ms/step - loss: 2.2752 - mae: 2.2752\n",
            "Epoch 55/100\n",
            "2/2 [==============================] - 0s 7ms/step - loss: 3.7513 - mae: 3.7513\n",
            "Epoch 56/100\n",
            "2/2 [==============================] - 0s 7ms/step - loss: 2.7599 - mae: 2.7599\n",
            "Epoch 57/100\n",
            "2/2 [==============================] - 0s 7ms/step - loss: 1.3752 - mae: 1.3752\n",
            "Epoch 58/100\n",
            "2/2 [==============================] - 0s 8ms/step - loss: 0.6231 - mae: 0.6231\n",
            "Epoch 59/100\n",
            "2/2 [==============================] - 0s 7ms/step - loss: 1.0709 - mae: 1.0709\n",
            "Epoch 60/100\n",
            "2/2 [==============================] - 0s 8ms/step - loss: 2.0458 - mae: 2.0458\n",
            "Epoch 61/100\n",
            "2/2 [==============================] - 0s 7ms/step - loss: 3.1049 - mae: 3.1049\n",
            "Epoch 62/100\n",
            "2/2 [==============================] - 0s 7ms/step - loss: 2.3061 - mae: 2.3061\n",
            "Epoch 63/100\n",
            "2/2 [==============================] - 0s 9ms/step - loss: 5.0746 - mae: 5.0746\n",
            "Epoch 64/100\n",
            "2/2 [==============================] - 0s 7ms/step - loss: 1.6244 - mae: 1.6244\n",
            "Epoch 65/100\n",
            "2/2 [==============================] - 0s 7ms/step - loss: 5.1270 - mae: 5.1270\n",
            "Epoch 66/100\n",
            "2/2 [==============================] - 0s 7ms/step - loss: 1.6105 - mae: 1.6105\n",
            "Epoch 67/100\n",
            "2/2 [==============================] - 0s 7ms/step - loss: 5.5804 - mae: 5.5804\n",
            "Epoch 68/100\n",
            "2/2 [==============================] - 0s 7ms/step - loss: 4.6258 - mae: 4.6258\n",
            "Epoch 69/100\n",
            "2/2 [==============================] - 0s 10ms/step - loss: 1.5373 - mae: 1.5373\n",
            "Epoch 70/100\n",
            "2/2 [==============================] - 0s 7ms/step - loss: 5.8842 - mae: 5.8842\n",
            "Epoch 71/100\n",
            "2/2 [==============================] - 0s 8ms/step - loss: 4.5269 - mae: 4.5269\n",
            "Epoch 72/100\n",
            "2/2 [==============================] - 0s 7ms/step - loss: 2.7823 - mae: 2.7823\n",
            "Epoch 73/100\n",
            "2/2 [==============================] - 0s 8ms/step - loss: 4.4558 - mae: 4.4558\n",
            "Epoch 74/100\n",
            "2/2 [==============================] - 0s 8ms/step - loss: 3.3060 - mae: 3.3060\n",
            "Epoch 75/100\n",
            "2/2 [==============================] - 0s 8ms/step - loss: 4.9068 - mae: 4.9068\n",
            "Epoch 76/100\n",
            "2/2 [==============================] - 0s 8ms/step - loss: 1.8717 - mae: 1.8717\n",
            "Epoch 77/100\n",
            "2/2 [==============================] - 0s 8ms/step - loss: 2.8092 - mae: 2.8092\n",
            "Epoch 78/100\n",
            "2/2 [==============================] - 0s 8ms/step - loss: 3.8093 - mae: 3.8093\n",
            "Epoch 79/100\n",
            "2/2 [==============================] - 0s 8ms/step - loss: 4.0188 - mae: 4.0188\n",
            "Epoch 80/100\n",
            "2/2 [==============================] - 0s 8ms/step - loss: 2.1253 - mae: 2.1253\n",
            "Epoch 81/100\n",
            "2/2 [==============================] - 0s 8ms/step - loss: 4.9322 - mae: 4.9322\n",
            "Epoch 82/100\n",
            "2/2 [==============================] - 0s 7ms/step - loss: 2.1646 - mae: 2.1646\n",
            "Epoch 83/100\n",
            "2/2 [==============================] - 0s 7ms/step - loss: 2.0945 - mae: 2.0945\n",
            "Epoch 84/100\n",
            "2/2 [==============================] - 0s 9ms/step - loss: 1.9996 - mae: 1.9996\n",
            "Epoch 85/100\n",
            "2/2 [==============================] - 0s 7ms/step - loss: 1.4866 - mae: 1.4866\n",
            "Epoch 86/100\n",
            "2/2 [==============================] - 0s 7ms/step - loss: 1.8953 - mae: 1.8953\n",
            "Epoch 87/100\n",
            "2/2 [==============================] - 0s 7ms/step - loss: 2.7896 - mae: 2.7896\n",
            "Epoch 88/100\n",
            "2/2 [==============================] - 0s 7ms/step - loss: 2.4484 - mae: 2.4484\n",
            "Epoch 89/100\n",
            "2/2 [==============================] - 0s 7ms/step - loss: 4.6318 - mae: 4.6318\n",
            "Epoch 90/100\n",
            "2/2 [==============================] - 0s 7ms/step - loss: 2.1521 - mae: 2.1521\n",
            "Epoch 91/100\n",
            "2/2 [==============================] - 0s 7ms/step - loss: 4.3328 - mae: 4.3328\n",
            "Epoch 92/100\n",
            "2/2 [==============================] - 0s 8ms/step - loss: 2.7520 - mae: 2.7520\n",
            "Epoch 93/100\n",
            "2/2 [==============================] - 0s 7ms/step - loss: 3.6799 - mae: 3.6799\n",
            "Epoch 94/100\n",
            "2/2 [==============================] - 0s 7ms/step - loss: 3.8946 - mae: 3.8946\n",
            "Epoch 95/100\n",
            "2/2 [==============================] - 0s 7ms/step - loss: 3.3579 - mae: 3.3579\n",
            "Epoch 96/100\n",
            "2/2 [==============================] - 0s 7ms/step - loss: 5.0040 - mae: 5.0040\n",
            "Epoch 97/100\n",
            "2/2 [==============================] - 0s 7ms/step - loss: 1.9514 - mae: 1.9514\n",
            "Epoch 98/100\n",
            "2/2 [==============================] - 0s 7ms/step - loss: 3.4624 - mae: 3.4624\n",
            "Epoch 99/100\n",
            "2/2 [==============================] - 0s 7ms/step - loss: 2.5393 - mae: 2.5393\n",
            "Epoch 100/100\n",
            "2/2 [==============================] - 0s 8ms/step - loss: 2.6719 - mae: 2.6719\n"
          ]
        },
        {
          "output_type": "execute_result",
          "data": {
            "text/plain": [
              "<keras.src.callbacks.History at 0x7a3e486c7f70>"
            ]
          },
          "metadata": {},
          "execution_count": 70
        }
      ]
    },
    {
      "cell_type": "code",
      "source": [
        "model.predict([100])"
      ],
      "metadata": {
        "colab": {
          "base_uri": "https://localhost:8080/"
        },
        "id": "cpSt8cKp8v4h",
        "outputId": "3823e8d5-11f3-4a5e-8aa4-7a91f9996633"
      },
      "execution_count": 71,
      "outputs": [
        {
          "output_type": "stream",
          "name": "stdout",
          "text": [
            "1/1 [==============================] - 0s 70ms/step\n"
          ]
        },
        {
          "output_type": "execute_result",
          "data": {
            "text/plain": [
              "array([[112.81613]], dtype=float32)"
            ]
          },
          "metadata": {},
          "execution_count": 71
        }
      ]
    },
    {
      "cell_type": "code",
      "source": [
        "# Mari kita visualisasikan hasil prediksi model yang telah di buat dengan membandingkan data train dan test\n",
        "\n",
        "y_pred = model.predict(X_test)\n",
        "y_pred"
      ],
      "metadata": {
        "colab": {
          "base_uri": "https://localhost:8080/"
        },
        "id": "YVaLpAyr8yjH",
        "outputId": "084dd617-a2e4-4758-d9c3-f3ea6dc0dfb2"
      },
      "execution_count": 73,
      "outputs": [
        {
          "output_type": "stream",
          "name": "stdout",
          "text": [
            "1/1 [==============================] - 0s 61ms/step\n"
          ]
        },
        {
          "output_type": "execute_result",
          "data": {
            "text/plain": [
              "array([[ 71.66569],\n",
              "       [ 75.78067],\n",
              "       [ 79.89565],\n",
              "       [ 84.01063],\n",
              "       [ 88.12557],\n",
              "       [ 92.24057],\n",
              "       [ 96.35568],\n",
              "       [100.47079],\n",
              "       [104.5859 ],\n",
              "       [108.70101]], dtype=float32)"
            ]
          },
          "metadata": {},
          "execution_count": 73
        }
      ]
    },
    {
      "cell_type": "code",
      "source": [
        "plt.figure(figsize=(10,10))\n",
        "plt.scatter(X_train,y_train,c='g',label=\"Train Data\")\n",
        "plt.scatter(X_test,y_test,c='b',label=\"Test Data\")\n",
        "plt.scatter(y_test,y_pred,c='r',label=\"Predictions\")\n",
        "plt.legend()"
      ],
      "metadata": {
        "colab": {
          "base_uri": "https://localhost:8080/",
          "height": 848
        },
        "id": "ZrBnkMxm9VuE",
        "outputId": "96a4144f-413d-4a3a-87a5-837b308dac6c"
      },
      "execution_count": 75,
      "outputs": [
        {
          "output_type": "execute_result",
          "data": {
            "text/plain": [
              "<matplotlib.legend.Legend at 0x7a3e4ebe39a0>"
            ]
          },
          "metadata": {},
          "execution_count": 75
        },
        {
          "output_type": "display_data",
          "data": {
            "text/plain": [
              "<Figure size 1000x1000 with 1 Axes>"
            ],
            "image/png": "[encoded data removed]"
          },
          "metadata": {}
        }
      ]
    },
    {
      "cell_type": "code",
      "source": [
        "# Sejauh ini model yang telah di buat sepertinya masih belum terlalu akurat"
      ],
      "metadata": {
        "id": "I_cVfQct92o2"
      },
      "execution_count": null,
      "outputs": []
    }
  ]
}