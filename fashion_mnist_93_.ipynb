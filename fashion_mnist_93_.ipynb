{
  "metadata": {
    "kernelspec": {
      "display_name": "Python 3",
      "name": "python3"
    },
    "language_info": {
      "name": "python",
      "version": "3.10.13",
      "mimetype": "text/x-python",
      "codemirror_mode": {
        "name": "ipython",
        "version": 3
      },
      "pygments_lexer": "ipython3",
      "nbconvert_exporter": "python",
      "file_extension": ".py"
    },
    "kaggle": {
      "accelerator": "gpu",
      "dataSources": [],
      "dockerImageVersionId": 30733,
      "isInternetEnabled": true,
      "language": "python",
      "sourceType": "notebook",
      "isGpuEnabled": true
    },
    "colab": {
      "name": "fashion-mnist-93%",
      "provenance": [],
      "gpuType": "T4",
      "include_colab_link": true
    },
    "accelerator": "GPU"
  },
  "nbformat_minor": 0,
  "nbformat": 4,
  "cells": [
    {
      "cell_type": "markdown",
      "metadata": {
        "id": "view-in-github",
        "colab_type": "text"
      },
      "source": [
        "<a href=\"https://colab.research.google.com/github/naufalahnaf17/tensorflow_learning/blob/main/fashion_mnist_93_.ipynb\" target=\"_parent\"><img src=\"https://colab.research.google.com/assets/colab-badge.svg\" alt=\"Open In Colab\"/></a>"
      ]
    },
    {
      "cell_type": "code",
      "source": [
        "import tensorflow as tf\n",
        "import pandas as pd\n",
        "import numpy as np\n",
        "import matplotlib.pyplot as plt"
      ],
      "metadata": {
        "_uuid": "8f2839f25d086af736a60e9eeb907d3b93b6e0e5",
        "_cell_guid": "b1076dfc-b9ad-4769-8c92-a6c4dae69d19",
        "execution": {
          "iopub.status.busy": "2024-06-12T12:01:40.188057Z",
          "iopub.execute_input": "2024-06-12T12:01:40.188419Z",
          "iopub.status.idle": "2024-06-12T12:01:52.910827Z",
          "shell.execute_reply.started": "2024-06-12T12:01:40.188389Z",
          "shell.execute_reply": "2024-06-12T12:01:52.910043Z"
        },
        "trusted": true,
        "id": "FDKRMa_JSa9U"
      },
      "execution_count": 1,
      "outputs": []
    },
    {
      "cell_type": "code",
      "source": [
        "from tensorflow.keras import models\n",
        "from tensorflow.keras.layers import Flatten,Dense,Conv2D,MaxPooling2D,BatchNormalization,Dropout\n",
        "from tensorflow.keras.optimizers import Adam\n",
        "from tensorflow.keras.losses import CategoricalCrossentropy\n",
        "from tensorflow.keras.preprocessing.image import ImageDataGenerator\n",
        "from tensorflow.keras.utils import to_categorical"
      ],
      "metadata": {
        "execution": {
          "iopub.status.busy": "2024-06-12T12:07:32.000406Z",
          "iopub.execute_input": "2024-06-12T12:07:32.000761Z",
          "iopub.status.idle": "2024-06-12T12:07:32.01023Z",
          "shell.execute_reply.started": "2024-06-12T12:07:32.000733Z",
          "shell.execute_reply": "2024-06-12T12:07:32.009443Z"
        },
        "trusted": true,
        "id": "ZuZ_42MPSa9V"
      },
      "execution_count": 2,
      "outputs": []
    },
    {
      "cell_type": "code",
      "source": [
        "import warnings\n",
        "warnings.filterwarnings('ignore')"
      ],
      "metadata": {
        "execution": {
          "iopub.status.busy": "2024-06-12T12:17:50.376885Z",
          "iopub.execute_input": "2024-06-12T12:17:50.377261Z",
          "iopub.status.idle": "2024-06-12T12:17:50.381944Z",
          "shell.execute_reply.started": "2024-06-12T12:17:50.377232Z",
          "shell.execute_reply": "2024-06-12T12:17:50.380745Z"
        },
        "trusted": true,
        "id": "j2d7r-mkSa9V"
      },
      "execution_count": 3,
      "outputs": []
    },
    {
      "cell_type": "code",
      "source": [
        "fashion_mnist = tf.keras.datasets.fashion_mnist\n",
        "\n",
        "(train_images,train_labels) , (test_images,test_labels) = fashion_mnist.load_data()"
      ],
      "metadata": {
        "execution": {
          "iopub.status.busy": "2024-06-12T12:04:55.151134Z",
          "iopub.execute_input": "2024-06-12T12:04:55.152051Z",
          "iopub.status.idle": "2024-06-12T12:04:55.946635Z",
          "shell.execute_reply.started": "2024-06-12T12:04:55.152018Z",
          "shell.execute_reply": "2024-06-12T12:04:55.945662Z"
        },
        "trusted": true,
        "id": "nHOcLriuSa9W",
        "outputId": "443694e2-2c5d-4deb-8897-680a1b7a6ec9",
        "colab": {
          "base_uri": "https://localhost:8080/"
        }
      },
      "execution_count": 4,
      "outputs": [
        {
          "output_type": "stream",
          "name": "stdout",
          "text": [
            "Downloading data from https://storage.googleapis.com/tensorflow/tf-keras-datasets/train-labels-idx1-ubyte.gz\n",
            "29515/29515 [==============================] - 0s 0us/step\n",
            "Downloading data from https://storage.googleapis.com/tensorflow/tf-keras-datasets/train-images-idx3-ubyte.gz\n",
            "26421880/26421880 [==============================] - 2s 0us/step\n",
            "Downloading data from https://storage.googleapis.com/tensorflow/tf-keras-datasets/t10k-labels-idx1-ubyte.gz\n",
            "5148/5148 [==============================] - 0s 0us/step\n",
            "Downloading data from https://storage.googleapis.com/tensorflow/tf-keras-datasets/t10k-images-idx3-ubyte.gz\n",
            "4422102/4422102 [==============================] - 1s 0us/step\n"
          ]
        }
      ]
    },
    {
      "cell_type": "code",
      "source": [
        "train_images.shape , test_images.shape"
      ],
      "metadata": {
        "execution": {
          "iopub.status.busy": "2024-06-12T12:05:17.982468Z",
          "iopub.execute_input": "2024-06-12T12:05:17.983295Z",
          "iopub.status.idle": "2024-06-12T12:05:17.989153Z",
          "shell.execute_reply.started": "2024-06-12T12:05:17.983264Z",
          "shell.execute_reply": "2024-06-12T12:05:17.988278Z"
        },
        "trusted": true,
        "id": "Xrv94Z9TSa9W",
        "outputId": "efd42e13-9335-4f15-fe94-b3d6f0bb2dd6",
        "colab": {
          "base_uri": "https://localhost:8080/"
        }
      },
      "execution_count": 5,
      "outputs": [
        {
          "output_type": "execute_result",
          "data": {
            "text/plain": [
              "((60000, 28, 28), (10000, 28, 28))"
            ]
          },
          "metadata": {},
          "execution_count": 5
        }
      ]
    },
    {
      "cell_type": "code",
      "source": [
        "train_labels.shape, test_labels.shape"
      ],
      "metadata": {
        "execution": {
          "iopub.status.busy": "2024-06-12T12:05:31.418789Z",
          "iopub.execute_input": "2024-06-12T12:05:31.419464Z",
          "iopub.status.idle": "2024-06-12T12:05:31.425317Z",
          "shell.execute_reply.started": "2024-06-12T12:05:31.419433Z",
          "shell.execute_reply": "2024-06-12T12:05:31.424285Z"
        },
        "trusted": true,
        "id": "z1PMJowCSa9X",
        "outputId": "1d5eb2a1-260b-47f3-adc6-3cf0853b33d1",
        "colab": {
          "base_uri": "https://localhost:8080/"
        }
      },
      "execution_count": 6,
      "outputs": [
        {
          "output_type": "execute_result",
          "data": {
            "text/plain": [
              "((60000,), (10000,))"
            ]
          },
          "metadata": {},
          "execution_count": 6
        }
      ]
    },
    {
      "cell_type": "code",
      "source": [
        "class_names = [\n",
        "    'T-shirt/top',\n",
        "    'Trouser',\n",
        "    'Pullover',\n",
        "    'Dress',\n",
        "    'Coat',\n",
        "    'Sandal',\n",
        "    'Shirt',\n",
        "    'Sneaker',\n",
        "    'Bag',\n",
        "    'Ankle boot'\n",
        "]"
      ],
      "metadata": {
        "execution": {
          "iopub.status.busy": "2024-06-12T12:05:51.069193Z",
          "iopub.execute_input": "2024-06-12T12:05:51.069566Z",
          "iopub.status.idle": "2024-06-12T12:05:51.074312Z",
          "shell.execute_reply.started": "2024-06-12T12:05:51.069538Z",
          "shell.execute_reply": "2024-06-12T12:05:51.073382Z"
        },
        "trusted": true,
        "id": "YKLXOq7nSa9X"
      },
      "execution_count": 7,
      "outputs": []
    },
    {
      "cell_type": "code",
      "source": [
        "train_images = train_images / 255.\n",
        "test_images = test_images / 255."
      ],
      "metadata": {
        "execution": {
          "iopub.status.busy": "2024-06-12T12:06:16.595721Z",
          "iopub.execute_input": "2024-06-12T12:06:16.596361Z",
          "iopub.status.idle": "2024-06-12T12:06:16.738467Z",
          "shell.execute_reply.started": "2024-06-12T12:06:16.596329Z",
          "shell.execute_reply": "2024-06-12T12:06:16.737494Z"
        },
        "trusted": true,
        "id": "lbdOKyTxSa9Y"
      },
      "execution_count": 8,
      "outputs": []
    },
    {
      "cell_type": "code",
      "source": [
        "train_labels = to_categorical(train_labels,num_classes=10)\n",
        "test_labels = to_categorical(test_labels,num_classes=10)"
      ],
      "metadata": {
        "execution": {
          "iopub.status.busy": "2024-06-12T12:08:22.000897Z",
          "iopub.execute_input": "2024-06-12T12:08:22.001755Z",
          "iopub.status.idle": "2024-06-12T12:08:22.00948Z",
          "shell.execute_reply.started": "2024-06-12T12:08:22.001721Z",
          "shell.execute_reply": "2024-06-12T12:08:22.008661Z"
        },
        "trusted": true,
        "id": "l_fWu5XUSa9Y"
      },
      "execution_count": 9,
      "outputs": []
    },
    {
      "cell_type": "code",
      "source": [
        "train_labels"
      ],
      "metadata": {
        "execution": {
          "iopub.status.busy": "2024-06-12T12:08:26.690428Z",
          "iopub.execute_input": "2024-06-12T12:08:26.690787Z",
          "iopub.status.idle": "2024-06-12T12:08:26.697436Z",
          "shell.execute_reply.started": "2024-06-12T12:08:26.690759Z",
          "shell.execute_reply": "2024-06-12T12:08:26.696618Z"
        },
        "trusted": true,
        "id": "8d_Z97RzSa9Y",
        "outputId": "c0b4916f-830c-4c5e-cfea-135ded7ce011",
        "colab": {
          "base_uri": "https://localhost:8080/"
        }
      },
      "execution_count": 10,
      "outputs": [
        {
          "output_type": "execute_result",
          "data": {
            "text/plain": [
              "array([[0., 0., 0., ..., 0., 0., 1.],\n",
              "       [1., 0., 0., ..., 0., 0., 0.],\n",
              "       [1., 0., 0., ..., 0., 0., 0.],\n",
              "       ...,\n",
              "       [0., 0., 0., ..., 0., 0., 0.],\n",
              "       [1., 0., 0., ..., 0., 0., 0.],\n",
              "       [0., 0., 0., ..., 0., 0., 0.]], dtype=float32)"
            ]
          },
          "metadata": {},
          "execution_count": 10
        }
      ]
    },
    {
      "cell_type": "code",
      "source": [
        "test_labels"
      ],
      "metadata": {
        "execution": {
          "iopub.status.busy": "2024-06-12T12:08:30.668837Z",
          "iopub.execute_input": "2024-06-12T12:08:30.669692Z",
          "iopub.status.idle": "2024-06-12T12:08:30.676074Z",
          "shell.execute_reply.started": "2024-06-12T12:08:30.669663Z",
          "shell.execute_reply": "2024-06-12T12:08:30.675071Z"
        },
        "trusted": true,
        "id": "K15sRR5JSa9Z",
        "outputId": "bc2ba511-bea8-4186-b695-b27d73184513",
        "colab": {
          "base_uri": "https://localhost:8080/"
        }
      },
      "execution_count": 11,
      "outputs": [
        {
          "output_type": "execute_result",
          "data": {
            "text/plain": [
              "array([[0., 0., 0., ..., 0., 0., 1.],\n",
              "       [0., 0., 1., ..., 0., 0., 0.],\n",
              "       [0., 1., 0., ..., 0., 0., 0.],\n",
              "       ...,\n",
              "       [0., 0., 0., ..., 0., 1., 0.],\n",
              "       [0., 1., 0., ..., 0., 0., 0.],\n",
              "       [0., 0., 0., ..., 0., 0., 0.]], dtype=float32)"
            ]
          },
          "metadata": {},
          "execution_count": 11
        }
      ]
    },
    {
      "cell_type": "code",
      "source": [
        "train_images = train_images.reshape((train_images.shape[0], 28, 28, 1))\n",
        "test_images = test_images.reshape((test_images.shape[0], 28, 28, 1))"
      ],
      "metadata": {
        "execution": {
          "iopub.status.busy": "2024-06-12T12:10:49.471386Z",
          "iopub.execute_input": "2024-06-12T12:10:49.472087Z",
          "iopub.status.idle": "2024-06-12T12:10:49.476666Z",
          "shell.execute_reply.started": "2024-06-12T12:10:49.472055Z",
          "shell.execute_reply": "2024-06-12T12:10:49.475679Z"
        },
        "trusted": true,
        "id": "eOvRTyWSSa9Z"
      },
      "execution_count": 12,
      "outputs": []
    },
    {
      "cell_type": "code",
      "source": [
        "train_datagen = ImageDataGenerator()\n",
        "test_datagen = ImageDataGenerator()\n",
        "\n",
        "train_data = train_datagen.flow(\n",
        "    train_images,train_labels,\n",
        "    batch_size=32\n",
        ")\n",
        "\n",
        "test_data = test_datagen.flow(\n",
        "    test_images,test_labels,\n",
        "    batch_size=32\n",
        ")"
      ],
      "metadata": {
        "execution": {
          "iopub.status.busy": "2024-06-12T12:10:50.988634Z",
          "iopub.execute_input": "2024-06-12T12:10:50.989688Z",
          "iopub.status.idle": "2024-06-12T12:10:51.079337Z",
          "shell.execute_reply.started": "2024-06-12T12:10:50.989654Z",
          "shell.execute_reply": "2024-06-12T12:10:51.078309Z"
        },
        "trusted": true,
        "id": "JHBmQQdjSa9Z"
      },
      "execution_count": 13,
      "outputs": []
    },
    {
      "cell_type": "code",
      "source": [
        "tf.random.set_seed(42)\n",
        "\n",
        "model_1 = models.Sequential()\n",
        "model_1.add(Conv2D(32 , (3,3) , activation=\"relu\" , input_shape=(28,28,1)))\n",
        "model_1.add(Conv2D(32 , (3,3) , activation=\"relu\"))\n",
        "model_1.add(MaxPooling2D(2,2))\n",
        "model_1.add(BatchNormalization())\n",
        "model_1.add(Dropout(0.2))\n",
        "\n",
        "model_1.add(Conv2D(64 , (3,3) , activation=\"relu\"))\n",
        "model_1.add(Conv2D(64 , (3,3) , activation=\"relu\"))\n",
        "model_1.add(MaxPooling2D(2,2))\n",
        "model_1.add(BatchNormalization())\n",
        "model_1.add(Dropout(0.3))\n",
        "\n",
        "model_1.add(Flatten())\n",
        "model_1.add(Dense(64,activation=\"relu\"))\n",
        "model_1.add(Dense(10,activation=\"sigmoid\"))\n",
        "\n",
        "model_1.compile(\n",
        "    loss=CategoricalCrossentropy(),\n",
        "    optimizer=Adam(),\n",
        "    metrics=[\"accuracy\"]\n",
        ")\n",
        "\n",
        "model_1.fit(train_data,epochs=50,validation_data=test_data)"
      ],
      "metadata": {
        "execution": {
          "iopub.status.busy": "2024-06-12T12:50:24.98833Z",
          "iopub.execute_input": "2024-06-12T12:50:24.988992Z",
          "iopub.status.idle": "2024-06-12T12:55:41.257462Z",
          "shell.execute_reply.started": "2024-06-12T12:50:24.988963Z",
          "shell.execute_reply": "2024-06-12T12:55:41.256601Z"
        },
        "trusted": true,
        "id": "OrWCXxHsSa9a",
        "outputId": "9721c711-a9a6-4714-f83a-4237da763bd7",
        "colab": {
          "base_uri": "https://localhost:8080/"
        }
      },
      "execution_count": 14,
      "outputs": [
        {
          "output_type": "stream",
          "name": "stdout",
          "text": [
            "Epoch 1/50\n",
            "1875/1875 [==============================] - 21s 7ms/step - loss: 0.4491 - accuracy: 0.8347 - val_loss: 0.3152 - val_accuracy: 0.8857\n",
            "Epoch 2/50\n",
            "1875/1875 [==============================] - 13s 7ms/step - loss: 0.2956 - accuracy: 0.8896 - val_loss: 0.2899 - val_accuracy: 0.8938\n",
            "Epoch 3/50\n",
            "1875/1875 [==============================] - 15s 8ms/step - loss: 0.2596 - accuracy: 0.9059 - val_loss: 0.2614 - val_accuracy: 0.9057\n",
            "Epoch 4/50\n",
            "1875/1875 [==============================] - 14s 7ms/step - loss: 0.2405 - accuracy: 0.9111 - val_loss: 0.2646 - val_accuracy: 0.8997\n",
            "Epoch 5/50\n",
            "1875/1875 [==============================] - 14s 7ms/step - loss: 0.2239 - accuracy: 0.9184 - val_loss: 0.2381 - val_accuracy: 0.9127\n",
            "Epoch 6/50\n",
            "1875/1875 [==============================] - 14s 7ms/step - loss: 0.2071 - accuracy: 0.9226 - val_loss: 0.2684 - val_accuracy: 0.9028\n",
            "Epoch 7/50\n",
            "1875/1875 [==============================] - 13s 7ms/step - loss: 0.1971 - accuracy: 0.9261 - val_loss: 0.2407 - val_accuracy: 0.9146\n",
            "Epoch 8/50\n",
            "1875/1875 [==============================] - 13s 7ms/step - loss: 0.1895 - accuracy: 0.9303 - val_loss: 0.2301 - val_accuracy: 0.9187\n",
            "Epoch 9/50\n",
            "1875/1875 [==============================] - 14s 7ms/step - loss: 0.1798 - accuracy: 0.9333 - val_loss: 0.2272 - val_accuracy: 0.9193\n",
            "Epoch 10/50\n",
            "1875/1875 [==============================] - 14s 7ms/step - loss: 0.1708 - accuracy: 0.9369 - val_loss: 0.2292 - val_accuracy: 0.9214\n",
            "Epoch 11/50\n",
            "1875/1875 [==============================] - 14s 7ms/step - loss: 0.1647 - accuracy: 0.9384 - val_loss: 0.2203 - val_accuracy: 0.9210\n",
            "Epoch 12/50\n",
            "1875/1875 [==============================] - 14s 7ms/step - loss: 0.1598 - accuracy: 0.9391 - val_loss: 0.2222 - val_accuracy: 0.9257\n",
            "Epoch 13/50\n",
            "1875/1875 [==============================] - 14s 7ms/step - loss: 0.1532 - accuracy: 0.9435 - val_loss: 0.2239 - val_accuracy: 0.9219\n",
            "Epoch 14/50\n",
            "1875/1875 [==============================] - 14s 7ms/step - loss: 0.1478 - accuracy: 0.9450 - val_loss: 0.2299 - val_accuracy: 0.9194\n",
            "Epoch 15/50\n",
            "1875/1875 [==============================] - 13s 7ms/step - loss: 0.1433 - accuracy: 0.9469 - val_loss: 0.2189 - val_accuracy: 0.9293\n",
            "Epoch 16/50\n",
            "1875/1875 [==============================] - 13s 7ms/step - loss: 0.1388 - accuracy: 0.9484 - val_loss: 0.2335 - val_accuracy: 0.9213\n",
            "Epoch 17/50\n",
            "1875/1875 [==============================] - 14s 7ms/step - loss: 0.1342 - accuracy: 0.9492 - val_loss: 0.2319 - val_accuracy: 0.9215\n",
            "Epoch 18/50\n",
            "1875/1875 [==============================] - 13s 7ms/step - loss: 0.1313 - accuracy: 0.9501 - val_loss: 0.2462 - val_accuracy: 0.9226\n",
            "Epoch 19/50\n",
            "1875/1875 [==============================] - 14s 7ms/step - loss: 0.1272 - accuracy: 0.9523 - val_loss: 0.2348 - val_accuracy: 0.9231\n",
            "Epoch 20/50\n",
            "1875/1875 [==============================] - 13s 7ms/step - loss: 0.1253 - accuracy: 0.9531 - val_loss: 0.2322 - val_accuracy: 0.9257\n",
            "Epoch 21/50\n",
            "1875/1875 [==============================] - 14s 7ms/step - loss: 0.1221 - accuracy: 0.9545 - val_loss: 0.2325 - val_accuracy: 0.9260\n",
            "Epoch 22/50\n",
            "1875/1875 [==============================] - 14s 7ms/step - loss: 0.1156 - accuracy: 0.9563 - val_loss: 0.2399 - val_accuracy: 0.9261\n",
            "Epoch 23/50\n",
            "1875/1875 [==============================] - 14s 8ms/step - loss: 0.1170 - accuracy: 0.9569 - val_loss: 0.2489 - val_accuracy: 0.9237\n",
            "Epoch 24/50\n",
            "1875/1875 [==============================] - 13s 7ms/step - loss: 0.1139 - accuracy: 0.9568 - val_loss: 0.2567 - val_accuracy: 0.9183\n",
            "Epoch 25/50\n",
            "1875/1875 [==============================] - 13s 7ms/step - loss: 0.1107 - accuracy: 0.9587 - val_loss: 0.2373 - val_accuracy: 0.9267\n",
            "Epoch 26/50\n",
            "1875/1875 [==============================] - 13s 7ms/step - loss: 0.1047 - accuracy: 0.9609 - val_loss: 0.2504 - val_accuracy: 0.9248\n",
            "Epoch 27/50\n",
            "1875/1875 [==============================] - 13s 7ms/step - loss: 0.1041 - accuracy: 0.9610 - val_loss: 0.2447 - val_accuracy: 0.9292\n",
            "Epoch 28/50\n",
            "1875/1875 [==============================] - 14s 7ms/step - loss: 0.1031 - accuracy: 0.9610 - val_loss: 0.2469 - val_accuracy: 0.9276\n",
            "Epoch 29/50\n",
            "1875/1875 [==============================] - 13s 7ms/step - loss: 0.1035 - accuracy: 0.9612 - val_loss: 0.2381 - val_accuracy: 0.9278\n",
            "Epoch 30/50\n",
            "1875/1875 [==============================] - 13s 7ms/step - loss: 0.0996 - accuracy: 0.9622 - val_loss: 0.2349 - val_accuracy: 0.9298\n",
            "Epoch 31/50\n",
            "1875/1875 [==============================] - 14s 7ms/step - loss: 0.0985 - accuracy: 0.9618 - val_loss: 0.2419 - val_accuracy: 0.9279\n",
            "Epoch 32/50\n",
            "1875/1875 [==============================] - 13s 7ms/step - loss: 0.0944 - accuracy: 0.9646 - val_loss: 0.2419 - val_accuracy: 0.9296\n",
            "Epoch 33/50\n",
            "1875/1875 [==============================] - 13s 7ms/step - loss: 0.0906 - accuracy: 0.9664 - val_loss: 0.2563 - val_accuracy: 0.9282\n",
            "Epoch 34/50\n",
            "1875/1875 [==============================] - 13s 7ms/step - loss: 0.0920 - accuracy: 0.9663 - val_loss: 0.2430 - val_accuracy: 0.9299\n",
            "Epoch 35/50\n",
            "1875/1875 [==============================] - 13s 7ms/step - loss: 0.0897 - accuracy: 0.9665 - val_loss: 0.2567 - val_accuracy: 0.9262\n",
            "Epoch 36/50\n",
            "1875/1875 [==============================] - 13s 7ms/step - loss: 0.0877 - accuracy: 0.9673 - val_loss: 0.2581 - val_accuracy: 0.9291\n",
            "Epoch 37/50\n",
            "1875/1875 [==============================] - 13s 7ms/step - loss: 0.0858 - accuracy: 0.9682 - val_loss: 0.2674 - val_accuracy: 0.9294\n",
            "Epoch 38/50\n",
            "1875/1875 [==============================] - 14s 7ms/step - loss: 0.0842 - accuracy: 0.9681 - val_loss: 0.2605 - val_accuracy: 0.9286\n",
            "Epoch 39/50\n",
            "1875/1875 [==============================] - 14s 7ms/step - loss: 0.0845 - accuracy: 0.9685 - val_loss: 0.2655 - val_accuracy: 0.9248\n",
            "Epoch 40/50\n",
            "1875/1875 [==============================] - 14s 7ms/step - loss: 0.0799 - accuracy: 0.9706 - val_loss: 0.2767 - val_accuracy: 0.9301\n",
            "Epoch 41/50\n",
            "1875/1875 [==============================] - 14s 7ms/step - loss: 0.0790 - accuracy: 0.9694 - val_loss: 0.2654 - val_accuracy: 0.9277\n",
            "Epoch 42/50\n",
            "1875/1875 [==============================] - 13s 7ms/step - loss: 0.0800 - accuracy: 0.9689 - val_loss: 0.2706 - val_accuracy: 0.9292\n",
            "Epoch 43/50\n",
            "1875/1875 [==============================] - 14s 7ms/step - loss: 0.0806 - accuracy: 0.9696 - val_loss: 0.2546 - val_accuracy: 0.9279\n",
            "Epoch 44/50\n",
            "1875/1875 [==============================] - 14s 7ms/step - loss: 0.0775 - accuracy: 0.9711 - val_loss: 0.2552 - val_accuracy: 0.9304\n",
            "Epoch 45/50\n",
            "1875/1875 [==============================] - 14s 7ms/step - loss: 0.0754 - accuracy: 0.9717 - val_loss: 0.2663 - val_accuracy: 0.9302\n",
            "Epoch 46/50\n",
            "1875/1875 [==============================] - 13s 7ms/step - loss: 0.0764 - accuracy: 0.9715 - val_loss: 0.2629 - val_accuracy: 0.9309\n",
            "Epoch 47/50\n",
            "1875/1875 [==============================] - 13s 7ms/step - loss: 0.0729 - accuracy: 0.9725 - val_loss: 0.2713 - val_accuracy: 0.9276\n",
            "Epoch 48/50\n",
            "1875/1875 [==============================] - 14s 7ms/step - loss: 0.0728 - accuracy: 0.9725 - val_loss: 0.2749 - val_accuracy: 0.9300\n",
            "Epoch 49/50\n",
            "1875/1875 [==============================] - 13s 7ms/step - loss: 0.0724 - accuracy: 0.9726 - val_loss: 0.2747 - val_accuracy: 0.9320\n",
            "Epoch 50/50\n",
            "1875/1875 [==============================] - 13s 7ms/step - loss: 0.0710 - accuracy: 0.9730 - val_loss: 0.2806 - val_accuracy: 0.9314\n"
          ]
        },
        {
          "output_type": "execute_result",
          "data": {
            "text/plain": [
              "<keras.src.callbacks.History at 0x7a12575fe860>"
            ]
          },
          "metadata": {},
          "execution_count": 14
        }
      ]
    },
    {
      "cell_type": "code",
      "source": [
        "model_1.evaluate(test_data)"
      ],
      "metadata": {
        "execution": {
          "iopub.status.busy": "2024-06-12T12:55:44.287929Z",
          "iopub.execute_input": "2024-06-12T12:55:44.288906Z",
          "iopub.status.idle": "2024-06-12T12:55:45.174628Z",
          "shell.execute_reply.started": "2024-06-12T12:55:44.288872Z",
          "shell.execute_reply": "2024-06-12T12:55:45.17366Z"
        },
        "trusted": true,
        "id": "vFyiCcmOSa9a",
        "outputId": "bd12c3d3-1903-426f-96f5-fc02dab75d31",
        "colab": {
          "base_uri": "https://localhost:8080/"
        }
      },
      "execution_count": 15,
      "outputs": [
        {
          "output_type": "stream",
          "name": "stdout",
          "text": [
            "313/313 [==============================] - 1s 4ms/step - loss: 0.2806 - accuracy: 0.9314\n"
          ]
        },
        {
          "output_type": "execute_result",
          "data": {
            "text/plain": [
              "[0.28060561418533325, 0.9314000010490417]"
            ]
          },
          "metadata": {},
          "execution_count": 15
        }
      ]
    },
    {
      "cell_type": "code",
      "source": [
        "preds = model_1.predict(test_data)"
      ],
      "metadata": {
        "execution": {
          "iopub.status.busy": "2024-06-12T12:39:29.359895Z",
          "iopub.execute_input": "2024-06-12T12:39:29.360726Z",
          "iopub.status.idle": "2024-06-12T12:39:30.965272Z",
          "shell.execute_reply.started": "2024-06-12T12:39:29.360693Z",
          "shell.execute_reply": "2024-06-12T12:39:30.964278Z"
        },
        "trusted": true,
        "id": "_7vXNG0TSa9b",
        "outputId": "2ca57480-6613-4ae0-a638-92f739dd16f6",
        "colab": {
          "base_uri": "https://localhost:8080/"
        }
      },
      "execution_count": 16,
      "outputs": [
        {
          "output_type": "stream",
          "name": "stdout",
          "text": [
            "313/313 [==============================] - 1s 3ms/step\n"
          ]
        }
      ]
    },
    {
      "cell_type": "code",
      "source": [
        "sample_image, sample_label = next(iter(test_data))\n",
        "prediction = model_1.predict(sample_image)\n",
        "\n",
        "plt.figure(figsize=(10,10))\n",
        "for i in range(30):\n",
        "    plt.subplot(5,6,i+1)\n",
        "    plt.imshow(sample_image[i],cmap=plt.cm.binary)\n",
        "    plt.xticks([])\n",
        "    plt.yticks([])\n",
        "    plt.grid(False)\n",
        "    plt.title(class_names[np.argmax(prediction[i])])\n",
        "plt.show()"
      ],
      "metadata": {
        "execution": {
          "iopub.status.busy": "2024-06-12T12:56:08.995451Z",
          "iopub.execute_input": "2024-06-12T12:56:08.996149Z",
          "iopub.status.idle": "2024-06-12T12:56:10.364983Z",
          "shell.execute_reply.started": "2024-06-12T12:56:08.996115Z",
          "shell.execute_reply": "2024-06-12T12:56:10.364085Z"
        },
        "trusted": true,
        "id": "66gSAvpNSa9b",
        "outputId": "ea6f0a8e-5736-4a67-d2fe-09133802c04d",
        "colab": {
          "base_uri": "https://localhost:8080/",
          "height": 825
        }
      },
      "execution_count": 17,
      "outputs": [
        {
          "output_type": "stream",
          "name": "stdout",
          "text": [
            "1/1 [==============================] - 0s 95ms/step\n"
          ]
        },
        {
          "output_type": "display_data",
          "data": {
            "text/plain": [
              "<Figure size 1000x1000 with 30 Axes>"
            ],
            "image/png": "[encoded data removed]"
          },
          "metadata": {}
        }
      ]
    },
    {
      "cell_type": "code",
      "source": [],
      "metadata": {
        "id": "ofgFtKLZSa9b"
      },
      "execution_count": 17,
      "outputs": []
    }
  ]
}