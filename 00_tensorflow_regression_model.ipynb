{
  "nbformat": 4,
  "nbformat_minor": 0,
  "metadata": {
    "colab": {
      "provenance": [],
      "authorship_tag": "ABX9TyOd4obpBs7l5Tf71m3YS+9t",
      "include_colab_link": true
    },
    "kernelspec": {
      "name": "python3",
      "display_name": "Python 3"
    },
    "language_info": {
      "name": "python"
    }
  },
  "cells": [
    {
      "cell_type": "markdown",
      "metadata": {
        "id": "view-in-github",
        "colab_type": "text"
      },
      "source": [
        "<a href=\"https://colab.research.google.com/github/naufalahnaf17/tensorflow_01_regression/blob/main/00_tensorflow_regression_model.ipynb\" target=\"_parent\"><img src=\"https://colab.research.google.com/assets/colab-badge.svg\" alt=\"Open In Colab\"/></a>"
      ]
    },
    {
      "cell_type": "markdown",
      "source": [
        "# Pengenalan awal tentang Tensorflow\n",
        "\n",
        "### Ada beberapa yang bakal kita lakukan disini yaitu :\n",
        "- kita akan menggunakan tensorflow -> untuk membuat model\n",
        "- lalu kita juga akan menggunakan matplotlib -> untuk memvisualisasikan data yang kita gunakan\n",
        "- setelah itu kita juga akan membuat model pertama kita menggunakan tensorflow\n",
        "- lalu kita juga akan mengevaluasi model yang telah dibuat dengan tuning yang berbeda\n",
        "\n",
        "### Algoritma yang kita akan gunakan yaitu Regression dan Evaluasi yang akan kita gunakan adalah MAE (Mean Absolute Error)"
      ],
      "metadata": {
        "id": "Flk-UpyJjXWv"
      }
    },
    {
      "cell_type": "markdown",
      "source": [
        "### Pertama tama kita akan melakukan import tensorflow dan matplotlib terlebih dahulu"
      ],
      "metadata": {
        "id": "iWiS5Wn6kXJO"
      }
    },
    {
      "cell_type": "code",
      "source": [
        "# Import Tensorflow\n",
        "import tensorflow as tf\n",
        "# Import Matplotlib\n",
        "import matplotlib.pyplot as plt"
      ],
      "metadata": {
        "id": "3EyejOJTjd5I"
      },
      "execution_count": 2,
      "outputs": []
    },
    {
      "cell_type": "code",
      "source": [
        "# Kita akan mengecek versi tensorflow terlebih dahulu, dengan begitu kita bisa tau versi tensorflow yang digunakan\n",
        "print(\"Tensorflow Version\",tf.__version__)"
      ],
      "metadata": {
        "colab": {
          "base_uri": "https://localhost:8080/"
        },
        "id": "PAy03cDtkpzP",
        "outputId": "e32c597f-9fbe-4d8e-b92c-153825764862"
      },
      "execution_count": 3,
      "outputs": [
        {
          "output_type": "stream",
          "name": "stdout",
          "text": [
            "Tensorflow Version 2.15.0\n"
          ]
        }
      ]
    },
    {
      "cell_type": "markdown",
      "source": [],
      "metadata": {
        "id": "nE6YtYNDk22T"
      }
    },
    {
      "cell_type": "markdown",
      "source": [
        "### Selanjutnya kita akan membuat data yang akan kita training, kali ini kita akan melakukan dengan data sederhana terlebih dahulu"
      ],
      "metadata": {
        "id": "bljSMfxik4K_"
      }
    },
    {
      "cell_type": "code",
      "source": [
        "# Kita akan membuat data X dan y\n",
        "# Data X adalah data dari -100 hingga 100 dengan jarak masing masing adalah 4\n",
        "\n",
        "X = tf.range(-100,100,4)\n",
        "X"
      ],
      "metadata": {
        "colab": {
          "base_uri": "https://localhost:8080/"
        },
        "id": "QdPgKXB0lF3_",
        "outputId": "c878fcb1-144e-47a6-b95d-5e7b6d3a05f6"
      },
      "execution_count": 4,
      "outputs": [
        {
          "output_type": "execute_result",
          "data": {
            "text/plain": [
              "<tf.Tensor: shape=(50,), dtype=int32, numpy=\n",
              "array([-100,  -96,  -92,  -88,  -84,  -80,  -76,  -72,  -68,  -64,  -60,\n",
              "        -56,  -52,  -48,  -44,  -40,  -36,  -32,  -28,  -24,  -20,  -16,\n",
              "        -12,   -8,   -4,    0,    4,    8,   12,   16,   20,   24,   28,\n",
              "         32,   36,   40,   44,   48,   52,   56,   60,   64,   68,   72,\n",
              "         76,   80,   84,   88,   92,   96], dtype=int32)>"
            ]
          },
          "metadata": {},
          "execution_count": 4
        }
      ]
    },
    {
      "cell_type": "code",
      "source": [
        "# Selanjutnya kita akan membuat data y\n",
        "# Data y adalah data dari range X namun kita tambahkan 10\n",
        "y = X + 10\n",
        "y"
      ],
      "metadata": {
        "colab": {
          "base_uri": "https://localhost:8080/"
        },
        "id": "wbhNHe0olRCz",
        "outputId": "8d3a225d-c3d9-4a17-abf1-789529f55fa6"
      },
      "execution_count": 5,
      "outputs": [
        {
          "output_type": "execute_result",
          "data": {
            "text/plain": [
              "<tf.Tensor: shape=(50,), dtype=int32, numpy=\n",
              "array([-90, -86, -82, -78, -74, -70, -66, -62, -58, -54, -50, -46, -42,\n",
              "       -38, -34, -30, -26, -22, -18, -14, -10,  -6,  -2,   2,   6,  10,\n",
              "        14,  18,  22,  26,  30,  34,  38,  42,  46,  50,  54,  58,  62,\n",
              "        66,  70,  74,  78,  82,  86,  90,  94,  98, 102, 106], dtype=int32)>"
            ]
          },
          "metadata": {},
          "execution_count": 5
        }
      ]
    },
    {
      "cell_type": "code",
      "source": [
        "# Mari kita visualisasikan data X dan y secara sederhana terlebih dahulu\n",
        "plt.scatter(X,y)"
      ],
      "metadata": {
        "colab": {
          "base_uri": "https://localhost:8080/",
          "height": 448
        },
        "id": "CrnQ6l4WlpmA",
        "outputId": "441519c5-ffba-4ae3-cb97-f2dc74fc2faa"
      },
      "execution_count": 6,
      "outputs": [
        {
          "output_type": "execute_result",
          "data": {
            "text/plain": [
              "<matplotlib.collections.PathCollection at 0x780795e683a0>"
            ]
          },
          "metadata": {},
          "execution_count": 6
        },
        {
          "output_type": "display_data",
          "data": {
            "text/plain": [
              "<Figure size 640x480 with 1 Axes>"
            ],
            "image/png": "[encoded data removed]"
          },
          "metadata": {}
        }
      ]
    },
    {
      "cell_type": "markdown",
      "source": [
        "### Selanjutnya mari kita membuat model sederhana dengan tensorflow\n",
        "\n",
        "Step by step untuk membuat model sederhana dengan tensorflow\n",
        "\n",
        "1. Create Model -> define input dan output\n",
        "2. Compile Model -> define loss function (loss dalam artian kita harus tau untuk evaluasi model yang telah kita buat seberapa bagus, dan juga kita bisa membuat evaluasi tentang model yang dibuat)\n",
        "3. Fitting Model -> letting model find pattern dari X dan y (features dan labels)"
      ],
      "metadata": {
        "id": "nVxRaFCxm1Hl"
      }
    },
    {
      "cell_type": "code",
      "source": [
        "X.ndim,y.ndim"
      ],
      "metadata": {
        "colab": {
          "base_uri": "https://localhost:8080/"
        },
        "id": "mQYBbXgJpOEo",
        "outputId": "d354e7bb-0fa5-4833-ce3d-dfc587b40e79"
      },
      "execution_count": 7,
      "outputs": [
        {
          "output_type": "execute_result",
          "data": {
            "text/plain": [
              "(1, 1)"
            ]
          },
          "metadata": {},
          "execution_count": 7
        }
      ]
    },
    {
      "cell_type": "code",
      "source": [
        "# Step 1 Create Model\n",
        "# Untuk saat ini kita akan membuat model sederhana dengan 1 hidden layer tanpa activation\n",
        "# Untuk model yang akan kita buat untuk saat ini adalah tf.keras.Sequential\n",
        "\n",
        "# Untuk saat ini kita akan menggunakan set seed agar pelatihan model dan pengulangan terjadi secara sama\n",
        "tf.random.set_seed(42)\n",
        "\n",
        "model = tf.keras.Sequential([\n",
        "    tf.keras.layers.Dense(1)\n",
        "])\n",
        "\n",
        "# Step 2 Compile Model\n",
        "# Kita akan compile model sederhana yang kita buat dengan Loss dan Metrics MAE dan untuk optimizer kita akan menggunakan SGD (stochastic gradient descent)\n",
        "model.compile(loss=\"mae\",optimizer=tf.keras.optimizers.SGD(),metrics=\"mae\")\n",
        "\n",
        "# Step 3 Fitting Model\n",
        "# Pada saat kita fit model seharusnya syntax nya seperti ini\n",
        "# model.fit(X,y,epochs=5)\n",
        "# Namun kita harus sedikit memodifikasi karna ndim x dan y hanya 1 sedangkan minimal ndim seharusnya ada 2\n",
        "# Epochs adalah lap seperti dalam balapan -> jadi model yang kita buat ini akan melakukan 5 putaran untuk mempelajari data yang ada\n",
        "model.fit(tf.expand_dims(X, axis=-1), y, epochs=5)"
      ],
      "metadata": {
        "colab": {
          "base_uri": "https://localhost:8080/"
        },
        "id": "4Nrh4ix5m35W",
        "outputId": "12faf03d-5bb0-4475-c2c8-213f118c9fb7"
      },
      "execution_count": 8,
      "outputs": [
        {
          "output_type": "stream",
          "name": "stdout",
          "text": [
            "Epoch 1/5\n",
            "2/2 [==============================] - 1s 23ms/step - loss: 95.1866 - mae: 95.1866\n",
            "Epoch 2/5\n",
            "2/2 [==============================] - 0s 18ms/step - loss: 45.5070 - mae: 45.5070\n",
            "Epoch 3/5\n",
            "2/2 [==============================] - 0s 13ms/step - loss: 10.0267 - mae: 10.0267\n",
            "Epoch 4/5\n",
            "2/2 [==============================] - 0s 10ms/step - loss: 11.1885 - mae: 11.1885\n",
            "Epoch 5/5\n",
            "2/2 [==============================] - 0s 11ms/step - loss: 10.5847 - mae: 10.5847\n"
          ]
        },
        {
          "output_type": "execute_result",
          "data": {
            "text/plain": [
              "<keras.src.callbacks.History at 0x7807915525f0>"
            ]
          },
          "metadata": {},
          "execution_count": 8
        }
      ]
    },
    {
      "cell_type": "code",
      "source": [
        "# Melakukan predict\n",
        "# Sebelum itu mari kita lihat data X dan y terlebih dahulu\n",
        "X,y"
      ],
      "metadata": {
        "colab": {
          "base_uri": "https://localhost:8080/"
        },
        "id": "jtuv4jqgn4cx",
        "outputId": "4ff33831-9106-4177-da90-0f7c00c42a23"
      },
      "execution_count": 9,
      "outputs": [
        {
          "output_type": "execute_result",
          "data": {
            "text/plain": [
              "(<tf.Tensor: shape=(50,), dtype=int32, numpy=\n",
              " array([-100,  -96,  -92,  -88,  -84,  -80,  -76,  -72,  -68,  -64,  -60,\n",
              "         -56,  -52,  -48,  -44,  -40,  -36,  -32,  -28,  -24,  -20,  -16,\n",
              "         -12,   -8,   -4,    0,    4,    8,   12,   16,   20,   24,   28,\n",
              "          32,   36,   40,   44,   48,   52,   56,   60,   64,   68,   72,\n",
              "          76,   80,   84,   88,   92,   96], dtype=int32)>,\n",
              " <tf.Tensor: shape=(50,), dtype=int32, numpy=\n",
              " array([-90, -86, -82, -78, -74, -70, -66, -62, -58, -54, -50, -46, -42,\n",
              "        -38, -34, -30, -26, -22, -18, -14, -10,  -6,  -2,   2,   6,  10,\n",
              "         14,  18,  22,  26,  30,  34,  38,  42,  46,  50,  54,  58,  62,\n",
              "         66,  70,  74,  78,  82,  86,  90,  94,  98, 102, 106], dtype=int32)>)"
            ]
          },
          "metadata": {},
          "execution_count": 9
        }
      ]
    },
    {
      "cell_type": "code",
      "source": [
        "# Bisa dilihat dari data diatas masing masing kita bisa langsung tahu bahwa dari angka n ke angka ke depan adalah 4\n",
        "# Jadi kalau kita melakukan prediksi angka 100, maka harusnya y nya adalah 110\n",
        "model.predict([100])"
      ],
      "metadata": {
        "colab": {
          "base_uri": "https://localhost:8080/"
        },
        "id": "qAEgYdgcpx0v",
        "outputId": "dba76eb9-23c3-4ef3-a7a4-84e74d56a6be"
      },
      "execution_count": 10,
      "outputs": [
        {
          "output_type": "stream",
          "name": "stdout",
          "text": [
            "1/1 [==============================] - 0s 308ms/step\n"
          ]
        },
        {
          "output_type": "execute_result",
          "data": {
            "text/plain": [
              "array([[81.97326]], dtype=float32)"
            ]
          },
          "metadata": {},
          "execution_count": 10
        }
      ]
    },
    {
      "cell_type": "code",
      "source": [
        "# Ternyata model nya masih terlalu buruk karna seharusnya pada saat kita memasukan angka 100 jawaban yang seharusnya adalah 110"
      ],
      "metadata": {
        "id": "YFcATm4gqLAJ"
      },
      "execution_count": 11,
      "outputs": []
    },
    {
      "cell_type": "markdown",
      "source": [
        "### Model pertama sudah berhasil dibuat, namun hasilnya sedikit mengecewakan karna jauh dari jawaban yang seharusnya\n",
        "\n",
        "pada section kali ini mari kita sedikit evaluasi model yang telah kita buat, ada beberapa cara untuk mengevaluasi model yang telah kita buat\n",
        "\n",
        "Creating Model (Step 1) :\n",
        "- Kita bisa menambahkan layer dan menaikan number dari layer itu sendiri (neuron) contoh -> **tf.keras.layers.Dense(100,activation=\"relu\")**\n",
        "\n",
        "Compile Model (Step 2) :\n",
        "- Kita juga bisa menggunakan optimizer berbeda dan menambahkan learning rate dari optimizer function contoh : -> model.compile(loss=\"mae\",optimizer=tf.keras.optimizers.Adam(learning_rate=0.001),metrics=\"mae\")\n",
        "\n",
        "Fitting Model (Step 3) :\n",
        "- Kita juga bisa menambahkan lap (epochs) pada model yang kita buat, walaupun lebih lama dalam melakukan training bisa jadi memungkinkan bahwa dengan menaikan epochs kita bisa mendapatkan hasil yang lebih maksimal\n",
        "- Atau bisa juga dengan menambahkan data X dan y"
      ],
      "metadata": {
        "id": "nxgrvWAkqeyu"
      }
    },
    {
      "cell_type": "code",
      "source": [
        "# Mari kita buat ulang model seperti diatas\n",
        "# Pada percobaan pertama kita akan menambahkan Epochs terlebih dahulu menjadi 100\n",
        "\n",
        "tf.random.set_seed(42)\n",
        "\n",
        "model = tf.keras.Sequential([\n",
        "    tf.keras.layers.Dense(1)\n",
        "])\n",
        "\n",
        "model.compile(loss=\"mae\",optimizer=tf.keras.optimizers.SGD(),metrics=\"mae\")\n",
        "\n",
        "model.fit(tf.expand_dims(X, axis=-1), y, epochs=100)"
      ],
      "metadata": {
        "colab": {
          "base_uri": "https://localhost:8080/"
        },
        "id": "0P33itSkqsvL",
        "outputId": "2db9f082-045d-4aa4-d577-6b5ee5388a1e"
      },
      "execution_count": 12,
      "outputs": [
        {
          "output_type": "stream",
          "name": "stdout",
          "text": [
            "Epoch 1/100\n",
            "2/2 [==============================] - 1s 42ms/step - loss: 63.1410 - mae: 63.1410\n",
            "Epoch 2/100\n",
            "2/2 [==============================] - 0s 19ms/step - loss: 18.1679 - mae: 18.1679\n",
            "Epoch 3/100\n",
            "2/2 [==============================] - 0s 12ms/step - loss: 16.1293 - mae: 16.1293\n",
            "Epoch 4/100\n",
            "2/2 [==============================] - 0s 14ms/step - loss: 10.1163 - mae: 10.1163\n",
            "Epoch 5/100\n",
            "2/2 [==============================] - 0s 13ms/step - loss: 15.5085 - mae: 15.5085\n",
            "Epoch 6/100\n",
            "2/2 [==============================] - 0s 11ms/step - loss: 11.8153 - mae: 11.8153\n",
            "Epoch 7/100\n",
            "2/2 [==============================] - 0s 19ms/step - loss: 9.3217 - mae: 9.3217\n",
            "Epoch 8/100\n",
            "2/2 [==============================] - 0s 10ms/step - loss: 11.9608 - mae: 11.9608\n",
            "Epoch 9/100\n",
            "2/2 [==============================] - 0s 21ms/step - loss: 12.7217 - mae: 12.7217\n",
            "Epoch 10/100\n",
            "2/2 [==============================] - 0s 18ms/step - loss: 10.0101 - mae: 10.0101\n",
            "Epoch 11/100\n",
            "2/2 [==============================] - 0s 13ms/step - loss: 9.9820 - mae: 9.9820\n",
            "Epoch 12/100\n",
            "2/2 [==============================] - 0s 14ms/step - loss: 9.9232 - mae: 9.9232\n",
            "Epoch 13/100\n",
            "2/2 [==============================] - 0s 20ms/step - loss: 9.7613 - mae: 9.7613\n",
            "Epoch 14/100\n",
            "2/2 [==============================] - 0s 22ms/step - loss: 10.5620 - mae: 10.5620\n",
            "Epoch 15/100\n",
            "2/2 [==============================] - 0s 21ms/step - loss: 13.7788 - mae: 13.7788\n",
            "Epoch 16/100\n",
            "2/2 [==============================] - 0s 11ms/step - loss: 12.3829 - mae: 12.3829\n",
            "Epoch 17/100\n",
            "2/2 [==============================] - 0s 14ms/step - loss: 10.1859 - mae: 10.1859\n",
            "Epoch 18/100\n",
            "2/2 [==============================] - 0s 19ms/step - loss: 10.6619 - mae: 10.6619\n",
            "Epoch 19/100\n",
            "2/2 [==============================] - 0s 30ms/step - loss: 10.0795 - mae: 10.0795\n",
            "Epoch 20/100\n",
            "2/2 [==============================] - 0s 23ms/step - loss: 10.8740 - mae: 10.8740\n",
            "Epoch 21/100\n",
            "2/2 [==============================] - 0s 16ms/step - loss: 12.0930 - mae: 12.0930\n",
            "Epoch 22/100\n",
            "2/2 [==============================] - 0s 24ms/step - loss: 9.5868 - mae: 9.5868\n",
            "Epoch 23/100\n",
            "2/2 [==============================] - 0s 14ms/step - loss: 8.9935 - mae: 8.9935\n",
            "Epoch 24/100\n",
            "2/2 [==============================] - 0s 24ms/step - loss: 9.6741 - mae: 9.6741\n",
            "Epoch 25/100\n",
            "2/2 [==============================] - 0s 20ms/step - loss: 9.7234 - mae: 9.7234\n",
            "Epoch 26/100\n",
            "2/2 [==============================] - 0s 28ms/step - loss: 9.8103 - mae: 9.8103\n",
            "Epoch 27/100\n",
            "2/2 [==============================] - 0s 21ms/step - loss: 9.7094 - mae: 9.7094\n",
            "Epoch 28/100\n",
            "2/2 [==============================] - 0s 18ms/step - loss: 9.5836 - mae: 9.5836\n",
            "Epoch 29/100\n",
            "2/2 [==============================] - 0s 16ms/step - loss: 9.4700 - mae: 9.4700\n",
            "Epoch 30/100\n",
            "2/2 [==============================] - 0s 21ms/step - loss: 10.0950 - mae: 10.0950\n",
            "Epoch 31/100\n",
            "2/2 [==============================] - 0s 18ms/step - loss: 13.2636 - mae: 13.2636\n",
            "Epoch 32/100\n",
            "2/2 [==============================] - 0s 11ms/step - loss: 9.6299 - mae: 9.6299\n",
            "Epoch 33/100\n",
            "2/2 [==============================] - 0s 12ms/step - loss: 9.5630 - mae: 9.5630\n",
            "Epoch 34/100\n",
            "2/2 [==============================] - 0s 12ms/step - loss: 9.8886 - mae: 9.8886\n",
            "Epoch 35/100\n",
            "2/2 [==============================] - 0s 15ms/step - loss: 10.2109 - mae: 10.2109\n",
            "Epoch 36/100\n",
            "2/2 [==============================] - 0s 20ms/step - loss: 9.5034 - mae: 9.5034\n",
            "Epoch 37/100\n",
            "2/2 [==============================] - 0s 11ms/step - loss: 9.4951 - mae: 9.4951\n",
            "Epoch 38/100\n",
            "2/2 [==============================] - 0s 13ms/step - loss: 9.6176 - mae: 9.6176\n",
            "Epoch 39/100\n",
            "2/2 [==============================] - 0s 10ms/step - loss: 10.3241 - mae: 10.3241\n",
            "Epoch 40/100\n",
            "2/2 [==============================] - 0s 21ms/step - loss: 11.6430 - mae: 11.6430\n",
            "Epoch 41/100\n",
            "2/2 [==============================] - 0s 13ms/step - loss: 8.3558 - mae: 8.3558\n",
            "Epoch 42/100\n",
            "2/2 [==============================] - 0s 25ms/step - loss: 12.5854 - mae: 12.5854\n",
            "Epoch 43/100\n",
            "2/2 [==============================] - 0s 25ms/step - loss: 12.1478 - mae: 12.1478\n",
            "Epoch 44/100\n",
            "2/2 [==============================] - 0s 25ms/step - loss: 10.5543 - mae: 10.5543\n",
            "Epoch 45/100\n",
            "2/2 [==============================] - 0s 14ms/step - loss: 9.3693 - mae: 9.3693\n",
            "Epoch 46/100\n",
            "2/2 [==============================] - 0s 8ms/step - loss: 10.3221 - mae: 10.3221\n",
            "Epoch 47/100\n",
            "2/2 [==============================] - 0s 15ms/step - loss: 12.2284 - mae: 12.2284\n",
            "Epoch 48/100\n",
            "2/2 [==============================] - 0s 14ms/step - loss: 11.0046 - mae: 11.0046\n",
            "Epoch 49/100\n",
            "2/2 [==============================] - 0s 12ms/step - loss: 13.5295 - mae: 13.5295\n",
            "Epoch 50/100\n",
            "2/2 [==============================] - 0s 19ms/step - loss: 9.6233 - mae: 9.6233\n",
            "Epoch 51/100\n",
            "2/2 [==============================] - 0s 20ms/step - loss: 9.0661 - mae: 9.0661\n",
            "Epoch 52/100\n",
            "2/2 [==============================] - 0s 18ms/step - loss: 9.3319 - mae: 9.3319\n",
            "Epoch 53/100\n",
            "2/2 [==============================] - 0s 12ms/step - loss: 9.4511 - mae: 9.4511\n",
            "Epoch 54/100\n",
            "2/2 [==============================] - 0s 17ms/step - loss: 9.3281 - mae: 9.3281\n",
            "Epoch 55/100\n",
            "2/2 [==============================] - 0s 16ms/step - loss: 9.4842 - mae: 9.4842\n",
            "Epoch 56/100\n",
            "2/2 [==============================] - 0s 16ms/step - loss: 9.1769 - mae: 9.1769\n",
            "Epoch 57/100\n",
            "2/2 [==============================] - 0s 30ms/step - loss: 8.7366 - mae: 8.7366\n",
            "Epoch 58/100\n",
            "2/2 [==============================] - 0s 21ms/step - loss: 9.2506 - mae: 9.2506\n",
            "Epoch 59/100\n",
            "2/2 [==============================] - 0s 12ms/step - loss: 9.0709 - mae: 9.0709\n",
            "Epoch 60/100\n",
            "2/2 [==============================] - 0s 10ms/step - loss: 10.2056 - mae: 10.2056\n",
            "Epoch 61/100\n",
            "2/2 [==============================] - 0s 11ms/step - loss: 9.0571 - mae: 9.0571\n",
            "Epoch 62/100\n",
            "2/2 [==============================] - 0s 12ms/step - loss: 10.0494 - mae: 10.0494\n",
            "Epoch 63/100\n",
            "2/2 [==============================] - 0s 24ms/step - loss: 12.8008 - mae: 12.8008\n",
            "Epoch 64/100\n",
            "2/2 [==============================] - 0s 10ms/step - loss: 9.4977 - mae: 9.4977\n",
            "Epoch 65/100\n",
            "2/2 [==============================] - 0s 10ms/step - loss: 8.9783 - mae: 8.9783\n",
            "Epoch 66/100\n",
            "2/2 [==============================] - 0s 11ms/step - loss: 8.9712 - mae: 8.9712\n",
            "Epoch 67/100\n",
            "2/2 [==============================] - 0s 14ms/step - loss: 9.0877 - mae: 9.0877\n",
            "Epoch 68/100\n",
            "2/2 [==============================] - 0s 15ms/step - loss: 9.1995 - mae: 9.1995\n",
            "Epoch 69/100\n",
            "2/2 [==============================] - 0s 18ms/step - loss: 9.1948 - mae: 9.1948\n",
            "Epoch 70/100\n",
            "2/2 [==============================] - 0s 12ms/step - loss: 9.4547 - mae: 9.4547\n",
            "Epoch 71/100\n",
            "2/2 [==============================] - 0s 16ms/step - loss: 8.9000 - mae: 8.9000\n",
            "Epoch 72/100\n",
            "2/2 [==============================] - 0s 16ms/step - loss: 9.9876 - mae: 9.9876\n",
            "Epoch 73/100\n",
            "2/2 [==============================] - 0s 23ms/step - loss: 11.9370 - mae: 11.9370\n",
            "Epoch 74/100\n",
            "2/2 [==============================] - 0s 12ms/step - loss: 8.5769 - mae: 8.5769\n",
            "Epoch 75/100\n",
            "2/2 [==============================] - 0s 24ms/step - loss: 8.7633 - mae: 8.7633\n",
            "Epoch 76/100\n",
            "2/2 [==============================] - 0s 9ms/step - loss: 8.8089 - mae: 8.8089\n",
            "Epoch 77/100\n",
            "2/2 [==============================] - 0s 10ms/step - loss: 8.1899 - mae: 8.1899\n",
            "Epoch 78/100\n",
            "2/2 [==============================] - 0s 19ms/step - loss: 11.2083 - mae: 11.2083\n",
            "Epoch 79/100\n",
            "2/2 [==============================] - 0s 13ms/step - loss: 9.5498 - mae: 9.5498\n",
            "Epoch 80/100\n",
            "2/2 [==============================] - 0s 15ms/step - loss: 13.1807 - mae: 13.1807\n",
            "Epoch 81/100\n",
            "2/2 [==============================] - 0s 25ms/step - loss: 14.3232 - mae: 14.3232\n",
            "Epoch 82/100\n",
            "2/2 [==============================] - 0s 15ms/step - loss: 16.2634 - mae: 16.2634\n",
            "Epoch 83/100\n",
            "2/2 [==============================] - 0s 11ms/step - loss: 9.5503 - mae: 9.5503\n",
            "Epoch 84/100\n",
            "2/2 [==============================] - 0s 10ms/step - loss: 8.6406 - mae: 8.6406\n",
            "Epoch 85/100\n",
            "2/2 [==============================] - 0s 8ms/step - loss: 8.7409 - mae: 8.7409\n",
            "Epoch 86/100\n",
            "2/2 [==============================] - 0s 9ms/step - loss: 9.0091 - mae: 9.0091\n",
            "Epoch 87/100\n",
            "2/2 [==============================] - 0s 12ms/step - loss: 9.1651 - mae: 9.1651\n",
            "Epoch 88/100\n",
            "2/2 [==============================] - 0s 13ms/step - loss: 8.7134 - mae: 8.7134\n",
            "Epoch 89/100\n",
            "2/2 [==============================] - 0s 13ms/step - loss: 8.8564 - mae: 8.8564\n",
            "Epoch 90/100\n",
            "2/2 [==============================] - 0s 16ms/step - loss: 8.6659 - mae: 8.6659\n",
            "Epoch 91/100\n",
            "2/2 [==============================] - 0s 14ms/step - loss: 8.7159 - mae: 8.7159\n",
            "Epoch 92/100\n",
            "2/2 [==============================] - 0s 8ms/step - loss: 8.5825 - mae: 8.5825\n",
            "Epoch 93/100\n",
            "2/2 [==============================] - 0s 28ms/step - loss: 9.1743 - mae: 9.1743\n",
            "Epoch 94/100\n",
            "2/2 [==============================] - 0s 22ms/step - loss: 9.9078 - mae: 9.9078\n",
            "Epoch 95/100\n",
            "2/2 [==============================] - 0s 19ms/step - loss: 12.8287 - mae: 12.8287\n",
            "Epoch 96/100\n",
            "2/2 [==============================] - 0s 14ms/step - loss: 9.1531 - mae: 9.1531\n",
            "Epoch 97/100\n",
            "2/2 [==============================] - 0s 10ms/step - loss: 10.5435 - mae: 10.5435\n",
            "Epoch 98/100\n",
            "2/2 [==============================] - 0s 8ms/step - loss: 14.7545 - mae: 14.7545\n",
            "Epoch 99/100\n",
            "2/2 [==============================] - 0s 57ms/step - loss: 10.8543 - mae: 10.8543\n",
            "Epoch 100/100\n",
            "2/2 [==============================] - 0s 15ms/step - loss: 14.9128 - mae: 14.9128\n"
          ]
        },
        {
          "output_type": "execute_result",
          "data": {
            "text/plain": [
              "<keras.src.callbacks.History at 0x780790bf22c0>"
            ]
          },
          "metadata": {},
          "execution_count": 12
        }
      ]
    },
    {
      "cell_type": "code",
      "source": [
        "# Mari kita lihat terlebih dahulu X dan y\n",
        "X,y"
      ],
      "metadata": {
        "colab": {
          "base_uri": "https://localhost:8080/"
        },
        "id": "8lPktl3itHka",
        "outputId": "3a1a6ba9-891c-4762-f309-1923efb0b68c"
      },
      "execution_count": 13,
      "outputs": [
        {
          "output_type": "execute_result",
          "data": {
            "text/plain": [
              "(<tf.Tensor: shape=(50,), dtype=int32, numpy=\n",
              " array([-100,  -96,  -92,  -88,  -84,  -80,  -76,  -72,  -68,  -64,  -60,\n",
              "         -56,  -52,  -48,  -44,  -40,  -36,  -32,  -28,  -24,  -20,  -16,\n",
              "         -12,   -8,   -4,    0,    4,    8,   12,   16,   20,   24,   28,\n",
              "          32,   36,   40,   44,   48,   52,   56,   60,   64,   68,   72,\n",
              "          76,   80,   84,   88,   92,   96], dtype=int32)>,\n",
              " <tf.Tensor: shape=(50,), dtype=int32, numpy=\n",
              " array([-90, -86, -82, -78, -74, -70, -66, -62, -58, -54, -50, -46, -42,\n",
              "        -38, -34, -30, -26, -22, -18, -14, -10,  -6,  -2,   2,   6,  10,\n",
              "         14,  18,  22,  26,  30,  34,  38,  42,  46,  50,  54,  58,  62,\n",
              "         66,  70,  74,  78,  82,  86,  90,  94,  98, 102, 106], dtype=int32)>)"
            ]
          },
          "metadata": {},
          "execution_count": 13
        }
      ]
    },
    {
      "cell_type": "code",
      "source": [
        "# Seharusnya saat kita memasukan angka 100, jawaban yang benar adalah 110, mari kita coba\n",
        "model.predict([100])"
      ],
      "metadata": {
        "colab": {
          "base_uri": "https://localhost:8080/"
        },
        "id": "rvxQ-81xtSCq",
        "outputId": "3773a4d2-c1b7-4e79-99c9-9879ebf8f92d"
      },
      "execution_count": 14,
      "outputs": [
        {
          "output_type": "stream",
          "name": "stdout",
          "text": [
            "1/1 [==============================] - 0s 137ms/step\n"
          ]
        },
        {
          "output_type": "execute_result",
          "data": {
            "text/plain": [
              "array([[90.18146]], dtype=float32)"
            ]
          },
          "metadata": {},
          "execution_count": 14
        }
      ]
    },
    {
      "cell_type": "code",
      "source": [
        "# Masih jauh dari harapan, namun setidaknya membaik, maka dari itu mari kita coba membuat model dengan hidden layer yang lebih banyak dan kita buat juga dengan activation='relu'\n",
        "tf.random.set_seed(42)\n",
        "\n",
        "model = tf.keras.Sequential([\n",
        "    tf.keras.layers.Dense(50,activation=\"relu\"),\n",
        "    tf.keras.layers.Dense(1)\n",
        "])\n",
        "\n",
        "model.compile(loss=\"mae\",optimizer=tf.keras.optimizers.SGD(),metrics=\"mae\")\n",
        "\n",
        "model.fit(tf.expand_dims(X, axis=-1), y, epochs=100)"
      ],
      "metadata": {
        "colab": {
          "base_uri": "https://localhost:8080/"
        },
        "id": "daKFL42wtXsS",
        "outputId": "b1823d3d-0748-45f3-bb1c-e2230d2d382d"
      },
      "execution_count": 15,
      "outputs": [
        {
          "output_type": "stream",
          "name": "stdout",
          "text": [
            "Epoch 1/100\n",
            "2/2 [==============================] - 1s 26ms/step - loss: 43.4491 - mae: 43.4491\n",
            "Epoch 2/100\n",
            "2/2 [==============================] - 0s 13ms/step - loss: 14.0935 - mae: 14.0935\n",
            "Epoch 3/100\n",
            "2/2 [==============================] - 0s 13ms/step - loss: 14.8922 - mae: 14.8922\n",
            "Epoch 4/100\n",
            "2/2 [==============================] - 0s 14ms/step - loss: 13.2241 - mae: 13.2241\n",
            "Epoch 5/100\n",
            "2/2 [==============================] - 0s 14ms/step - loss: 12.0173 - mae: 12.0173\n",
            "Epoch 6/100\n",
            "2/2 [==============================] - 0s 12ms/step - loss: 16.4132 - mae: 16.4132\n",
            "Epoch 7/100\n",
            "2/2 [==============================] - 0s 13ms/step - loss: 10.5503 - mae: 10.5503\n",
            "Epoch 8/100\n",
            "2/2 [==============================] - 0s 13ms/step - loss: 14.9696 - mae: 14.9696\n",
            "Epoch 9/100\n",
            "2/2 [==============================] - 0s 12ms/step - loss: 21.4918 - mae: 21.4918\n",
            "Epoch 10/100\n",
            "2/2 [==============================] - 0s 18ms/step - loss: 11.2746 - mae: 11.2746\n",
            "Epoch 11/100\n",
            "2/2 [==============================] - 0s 22ms/step - loss: 12.4105 - mae: 12.4105\n",
            "Epoch 12/100\n",
            "2/2 [==============================] - 0s 12ms/step - loss: 12.9355 - mae: 12.9355\n",
            "Epoch 13/100\n",
            "2/2 [==============================] - 0s 12ms/step - loss: 13.1737 - mae: 13.1737\n",
            "Epoch 14/100\n",
            "2/2 [==============================] - 0s 13ms/step - loss: 16.5383 - mae: 16.5383\n",
            "Epoch 15/100\n",
            "2/2 [==============================] - 0s 8ms/step - loss: 14.1370 - mae: 14.1370\n",
            "Epoch 16/100\n",
            "2/2 [==============================] - 0s 14ms/step - loss: 13.1004 - mae: 13.1004\n",
            "Epoch 17/100\n",
            "2/2 [==============================] - 0s 6ms/step - loss: 11.3200 - mae: 11.3200\n",
            "Epoch 18/100\n",
            "2/2 [==============================] - 0s 7ms/step - loss: 10.1756 - mae: 10.1756\n",
            "Epoch 19/100\n",
            "2/2 [==============================] - 0s 7ms/step - loss: 10.8347 - mae: 10.8347\n",
            "Epoch 20/100\n",
            "2/2 [==============================] - 0s 7ms/step - loss: 11.5840 - mae: 11.5840\n",
            "Epoch 21/100\n",
            "2/2 [==============================] - 0s 7ms/step - loss: 18.7609 - mae: 18.7609\n",
            "Epoch 22/100\n",
            "2/2 [==============================] - 0s 7ms/step - loss: 12.3072 - mae: 12.3072\n",
            "Epoch 23/100\n",
            "2/2 [==============================] - 0s 6ms/step - loss: 14.1479 - mae: 14.1479\n",
            "Epoch 24/100\n",
            "2/2 [==============================] - 0s 6ms/step - loss: 11.0973 - mae: 11.0973\n",
            "Epoch 25/100\n",
            "2/2 [==============================] - 0s 7ms/step - loss: 12.5979 - mae: 12.5979\n",
            "Epoch 26/100\n",
            "2/2 [==============================] - 0s 7ms/step - loss: 12.3917 - mae: 12.3917\n",
            "Epoch 27/100\n",
            "2/2 [==============================] - 0s 6ms/step - loss: 12.9782 - mae: 12.9782\n",
            "Epoch 28/100\n",
            "2/2 [==============================] - 0s 7ms/step - loss: 9.5556 - mae: 9.5556\n",
            "Epoch 29/100\n",
            "2/2 [==============================] - 0s 6ms/step - loss: 15.7680 - mae: 15.7680\n",
            "Epoch 30/100\n",
            "2/2 [==============================] - 0s 7ms/step - loss: 12.5629 - mae: 12.5629\n",
            "Epoch 31/100\n",
            "2/2 [==============================] - 0s 6ms/step - loss: 12.9762 - mae: 12.9762\n",
            "Epoch 32/100\n",
            "2/2 [==============================] - 0s 9ms/step - loss: 14.6531 - mae: 14.6531\n",
            "Epoch 33/100\n",
            "2/2 [==============================] - 0s 8ms/step - loss: 9.7637 - mae: 9.7637\n",
            "Epoch 34/100\n",
            "2/2 [==============================] - 0s 7ms/step - loss: 7.2337 - mae: 7.2337\n",
            "Epoch 35/100\n",
            "2/2 [==============================] - 0s 7ms/step - loss: 11.6301 - mae: 11.6301\n",
            "Epoch 36/100\n",
            "2/2 [==============================] - 0s 6ms/step - loss: 9.3860 - mae: 9.3860\n",
            "Epoch 37/100\n",
            "2/2 [==============================] - 0s 7ms/step - loss: 13.4916 - mae: 13.4916\n",
            "Epoch 38/100\n",
            "2/2 [==============================] - 0s 7ms/step - loss: 8.7747 - mae: 8.7747\n",
            "Epoch 39/100\n",
            "2/2 [==============================] - 0s 6ms/step - loss: 10.1409 - mae: 10.1409\n",
            "Epoch 40/100\n",
            "2/2 [==============================] - 0s 7ms/step - loss: 11.7855 - mae: 11.7855\n",
            "Epoch 41/100\n",
            "2/2 [==============================] - 0s 7ms/step - loss: 14.4962 - mae: 14.4962\n",
            "Epoch 42/100\n",
            "2/2 [==============================] - 0s 7ms/step - loss: 8.0253 - mae: 8.0253\n",
            "Epoch 43/100\n",
            "2/2 [==============================] - 0s 7ms/step - loss: 13.1357 - mae: 13.1357\n",
            "Epoch 44/100\n",
            "2/2 [==============================] - 0s 7ms/step - loss: 10.4262 - mae: 10.4262\n",
            "Epoch 45/100\n",
            "2/2 [==============================] - 0s 7ms/step - loss: 11.9007 - mae: 11.9007\n",
            "Epoch 46/100\n",
            "2/2 [==============================] - 0s 7ms/step - loss: 16.0076 - mae: 16.0076\n",
            "Epoch 47/100\n",
            "2/2 [==============================] - 0s 7ms/step - loss: 11.6049 - mae: 11.6049\n",
            "Epoch 48/100\n",
            "2/2 [==============================] - 0s 8ms/step - loss: 9.9402 - mae: 9.9402\n",
            "Epoch 49/100\n",
            "2/2 [==============================] - 0s 10ms/step - loss: 10.5860 - mae: 10.5860\n",
            "Epoch 50/100\n",
            "2/2 [==============================] - 0s 8ms/step - loss: 19.7391 - mae: 19.7391\n",
            "Epoch 51/100\n",
            "2/2 [==============================] - 0s 8ms/step - loss: 13.9680 - mae: 13.9680\n",
            "Epoch 52/100\n",
            "2/2 [==============================] - 0s 9ms/step - loss: 14.6028 - mae: 14.6028\n",
            "Epoch 53/100\n",
            "2/2 [==============================] - 0s 9ms/step - loss: 8.0553 - mae: 8.0553\n",
            "Epoch 54/100\n",
            "2/2 [==============================] - 0s 9ms/step - loss: 15.0552 - mae: 15.0552\n",
            "Epoch 55/100\n",
            "2/2 [==============================] - 0s 7ms/step - loss: 13.6971 - mae: 13.6971\n",
            "Epoch 56/100\n",
            "2/2 [==============================] - 0s 7ms/step - loss: 14.4611 - mae: 14.4611\n",
            "Epoch 57/100\n",
            "2/2 [==============================] - 0s 7ms/step - loss: 12.3724 - mae: 12.3724\n",
            "Epoch 58/100\n",
            "2/2 [==============================] - 0s 7ms/step - loss: 12.8446 - mae: 12.8446\n",
            "Epoch 59/100\n",
            "2/2 [==============================] - 0s 7ms/step - loss: 11.9829 - mae: 11.9829\n",
            "Epoch 60/100\n",
            "2/2 [==============================] - 0s 7ms/step - loss: 12.0833 - mae: 12.0833\n",
            "Epoch 61/100\n",
            "2/2 [==============================] - 0s 7ms/step - loss: 11.5582 - mae: 11.5582\n",
            "Epoch 62/100\n",
            "2/2 [==============================] - 0s 6ms/step - loss: 10.8476 - mae: 10.8476\n",
            "Epoch 63/100\n",
            "2/2 [==============================] - 0s 7ms/step - loss: 9.6918 - mae: 9.6918\n",
            "Epoch 64/100\n",
            "2/2 [==============================] - 0s 7ms/step - loss: 10.9606 - mae: 10.9606\n",
            "Epoch 65/100\n",
            "2/2 [==============================] - 0s 7ms/step - loss: 15.2759 - mae: 15.2759\n",
            "Epoch 66/100\n",
            "2/2 [==============================] - 0s 7ms/step - loss: 12.3184 - mae: 12.3184\n",
            "Epoch 67/100\n",
            "2/2 [==============================] - 0s 7ms/step - loss: 11.6737 - mae: 11.6737\n",
            "Epoch 68/100\n",
            "2/2 [==============================] - 0s 7ms/step - loss: 9.8796 - mae: 9.8796\n",
            "Epoch 69/100\n",
            "2/2 [==============================] - 0s 7ms/step - loss: 13.3911 - mae: 13.3911\n",
            "Epoch 70/100\n",
            "2/2 [==============================] - 0s 8ms/step - loss: 15.7914 - mae: 15.7914\n",
            "Epoch 71/100\n",
            "2/2 [==============================] - 0s 9ms/step - loss: 13.8976 - mae: 13.8976\n",
            "Epoch 72/100\n",
            "2/2 [==============================] - 0s 7ms/step - loss: 13.8706 - mae: 13.8706\n",
            "Epoch 73/100\n",
            "2/2 [==============================] - 0s 7ms/step - loss: 8.9863 - mae: 8.9863\n",
            "Epoch 74/100\n",
            "2/2 [==============================] - 0s 7ms/step - loss: 11.0368 - mae: 11.0368\n",
            "Epoch 75/100\n",
            "2/2 [==============================] - 0s 8ms/step - loss: 10.7479 - mae: 10.7479\n",
            "Epoch 76/100\n",
            "2/2 [==============================] - 0s 9ms/step - loss: 15.6232 - mae: 15.6232\n",
            "Epoch 77/100\n",
            "2/2 [==============================] - 0s 12ms/step - loss: 12.1189 - mae: 12.1189\n",
            "Epoch 78/100\n",
            "2/2 [==============================] - 0s 10ms/step - loss: 14.8276 - mae: 14.8276\n",
            "Epoch 79/100\n",
            "2/2 [==============================] - 0s 7ms/step - loss: 4.2243 - mae: 4.2243\n",
            "Epoch 80/100\n",
            "2/2 [==============================] - 0s 6ms/step - loss: 14.1729 - mae: 14.1729\n",
            "Epoch 81/100\n",
            "2/2 [==============================] - 0s 8ms/step - loss: 9.0609 - mae: 9.0609\n",
            "Epoch 82/100\n",
            "2/2 [==============================] - 0s 8ms/step - loss: 14.9098 - mae: 14.9098\n",
            "Epoch 83/100\n",
            "2/2 [==============================] - 0s 8ms/step - loss: 10.6154 - mae: 10.6154\n",
            "Epoch 84/100\n",
            "2/2 [==============================] - 0s 7ms/step - loss: 7.0772 - mae: 7.0772\n",
            "Epoch 85/100\n",
            "2/2 [==============================] - 0s 8ms/step - loss: 11.0582 - mae: 11.0582\n",
            "Epoch 86/100\n",
            "2/2 [==============================] - 0s 7ms/step - loss: 12.4984 - mae: 12.4984\n",
            "Epoch 87/100\n",
            "2/2 [==============================] - 0s 7ms/step - loss: 9.0429 - mae: 9.0429\n",
            "Epoch 88/100\n",
            "2/2 [==============================] - 0s 8ms/step - loss: 9.9993 - mae: 9.9993\n",
            "Epoch 89/100\n",
            "2/2 [==============================] - 0s 7ms/step - loss: 9.2435 - mae: 9.2435\n",
            "Epoch 90/100\n",
            "2/2 [==============================] - 0s 7ms/step - loss: 16.9602 - mae: 16.9602\n",
            "Epoch 91/100\n",
            "2/2 [==============================] - 0s 8ms/step - loss: 13.9861 - mae: 13.9861\n",
            "Epoch 92/100\n",
            "2/2 [==============================] - 0s 8ms/step - loss: 11.9719 - mae: 11.9719\n",
            "Epoch 93/100\n",
            "2/2 [==============================] - 0s 8ms/step - loss: 12.1560 - mae: 12.1560\n",
            "Epoch 94/100\n",
            "2/2 [==============================] - 0s 7ms/step - loss: 13.6917 - mae: 13.6917\n",
            "Epoch 95/100\n",
            "2/2 [==============================] - 0s 8ms/step - loss: 12.0309 - mae: 12.0309\n",
            "Epoch 96/100\n",
            "2/2 [==============================] - 0s 8ms/step - loss: 10.7653 - mae: 10.7653\n",
            "Epoch 97/100\n",
            "2/2 [==============================] - 0s 7ms/step - loss: 10.6668 - mae: 10.6668\n",
            "Epoch 98/100\n",
            "2/2 [==============================] - 0s 8ms/step - loss: 13.6392 - mae: 13.6392\n",
            "Epoch 99/100\n",
            "2/2 [==============================] - 0s 7ms/step - loss: 13.0022 - mae: 13.0022\n",
            "Epoch 100/100\n",
            "2/2 [==============================] - 0s 7ms/step - loss: 14.5762 - mae: 14.5762\n"
          ]
        },
        {
          "output_type": "execute_result",
          "data": {
            "text/plain": [
              "<keras.src.callbacks.History at 0x780791fb4b80>"
            ]
          },
          "metadata": {},
          "execution_count": 15
        }
      ]
    },
    {
      "cell_type": "code",
      "source": [
        "# Mari kita coba predict\n",
        "model.predict([100])\n",
        "\n",
        "# Ternyata hasilnya malah lebih buruk, mari kita coba gunakan activation=None"
      ],
      "metadata": {
        "colab": {
          "base_uri": "https://localhost:8080/"
        },
        "id": "RFx8MmWitnIL",
        "outputId": "38ff4331-5ccd-48c5-c2da-3a6d8c760fc4"
      },
      "execution_count": 16,
      "outputs": [
        {
          "output_type": "stream",
          "name": "stdout",
          "text": [
            "1/1 [==============================] - 0s 73ms/step\n"
          ]
        },
        {
          "output_type": "execute_result",
          "data": {
            "text/plain": [
              "array([[76.94968]], dtype=float32)"
            ]
          },
          "metadata": {},
          "execution_count": 16
        }
      ]
    },
    {
      "cell_type": "code",
      "source": [
        "tf.random.set_seed(42)\n",
        "\n",
        "model = tf.keras.Sequential([\n",
        "    tf.keras.layers.Dense(50,activation=None),\n",
        "    tf.keras.layers.Dense(1)\n",
        "])\n",
        "\n",
        "model.compile(loss=\"mae\",optimizer=tf.keras.optimizers.SGD(),metrics=\"mae\")\n",
        "\n",
        "model.fit(tf.expand_dims(X, axis=-1), y, epochs=100)"
      ],
      "metadata": {
        "colab": {
          "base_uri": "https://localhost:8080/"
        },
        "id": "i2GROWKItxv7",
        "outputId": "0fe382ad-bc78-4204-96e2-512bb90dc522"
      },
      "execution_count": 17,
      "outputs": [
        {
          "output_type": "stream",
          "name": "stdout",
          "text": [
            "Epoch 1/100\n",
            "2/2 [==============================] - 0s 14ms/step - loss: 55.5456 - mae: 55.5456\n",
            "Epoch 2/100\n",
            "2/2 [==============================] - 0s 7ms/step - loss: 31.4820 - mae: 31.4820\n",
            "Epoch 3/100\n",
            "2/2 [==============================] - 0s 6ms/step - loss: 44.6282 - mae: 44.6282\n",
            "Epoch 4/100\n",
            "2/2 [==============================] - 0s 7ms/step - loss: 22.7752 - mae: 22.7752\n",
            "Epoch 5/100\n",
            "2/2 [==============================] - 0s 7ms/step - loss: 24.1215 - mae: 24.1215\n",
            "Epoch 6/100\n",
            "2/2 [==============================] - 0s 6ms/step - loss: 22.8141 - mae: 22.8141\n",
            "Epoch 7/100\n",
            "2/2 [==============================] - 0s 7ms/step - loss: 11.0601 - mae: 11.0601\n",
            "Epoch 8/100\n",
            "2/2 [==============================] - 0s 7ms/step - loss: 14.0556 - mae: 14.0556\n",
            "Epoch 9/100\n",
            "2/2 [==============================] - 0s 7ms/step - loss: 35.9298 - mae: 35.9298\n",
            "Epoch 10/100\n",
            "2/2 [==============================] - 0s 7ms/step - loss: 19.4986 - mae: 19.4986\n",
            "Epoch 11/100\n",
            "2/2 [==============================] - 0s 8ms/step - loss: 20.0994 - mae: 20.0994\n",
            "Epoch 12/100\n",
            "2/2 [==============================] - 0s 8ms/step - loss: 10.1143 - mae: 10.1143\n",
            "Epoch 13/100\n",
            "2/2 [==============================] - 0s 7ms/step - loss: 9.7818 - mae: 9.7818\n",
            "Epoch 14/100\n",
            "2/2 [==============================] - 0s 6ms/step - loss: 11.3345 - mae: 11.3345\n",
            "Epoch 15/100\n",
            "2/2 [==============================] - 0s 9ms/step - loss: 22.2624 - mae: 22.2624\n",
            "Epoch 16/100\n",
            "2/2 [==============================] - 0s 6ms/step - loss: 24.9610 - mae: 24.9610\n",
            "Epoch 17/100\n",
            "2/2 [==============================] - 0s 8ms/step - loss: 18.0981 - mae: 18.0981\n",
            "Epoch 18/100\n",
            "2/2 [==============================] - 0s 7ms/step - loss: 9.9767 - mae: 9.9767\n",
            "Epoch 19/100\n",
            "2/2 [==============================] - 0s 7ms/step - loss: 20.0924 - mae: 20.0924\n",
            "Epoch 20/100\n",
            "2/2 [==============================] - 0s 6ms/step - loss: 18.8021 - mae: 18.8021\n",
            "Epoch 21/100\n",
            "2/2 [==============================] - 0s 7ms/step - loss: 19.4985 - mae: 19.4985\n",
            "Epoch 22/100\n",
            "2/2 [==============================] - 0s 7ms/step - loss: 20.7002 - mae: 20.7002\n",
            "Epoch 23/100\n",
            "2/2 [==============================] - 0s 7ms/step - loss: 20.3417 - mae: 20.3417\n",
            "Epoch 24/100\n",
            "2/2 [==============================] - 0s 6ms/step - loss: 18.7017 - mae: 18.7017\n",
            "Epoch 25/100\n",
            "2/2 [==============================] - 0s 8ms/step - loss: 21.8097 - mae: 21.8097\n",
            "Epoch 26/100\n",
            "2/2 [==============================] - 0s 8ms/step - loss: 10.6576 - mae: 10.6576\n",
            "Epoch 27/100\n",
            "2/2 [==============================] - 0s 7ms/step - loss: 30.7298 - mae: 30.7298\n",
            "Epoch 28/100\n",
            "2/2 [==============================] - 0s 7ms/step - loss: 16.5229 - mae: 16.5229\n",
            "Epoch 29/100\n",
            "2/2 [==============================] - 0s 7ms/step - loss: 33.0500 - mae: 33.0500\n",
            "Epoch 30/100\n",
            "2/2 [==============================] - 0s 7ms/step - loss: 19.4977 - mae: 19.4977\n",
            "Epoch 31/100\n",
            "2/2 [==============================] - 0s 6ms/step - loss: 12.4655 - mae: 12.4655\n",
            "Epoch 32/100\n",
            "2/2 [==============================] - 0s 7ms/step - loss: 20.6970 - mae: 20.6970\n",
            "Epoch 33/100\n",
            "2/2 [==============================] - 0s 7ms/step - loss: 20.6210 - mae: 20.6210\n",
            "Epoch 34/100\n",
            "2/2 [==============================] - 0s 7ms/step - loss: 21.1770 - mae: 21.1770\n",
            "Epoch 35/100\n",
            "2/2 [==============================] - 0s 7ms/step - loss: 21.2680 - mae: 21.2680\n",
            "Epoch 36/100\n",
            "2/2 [==============================] - 0s 7ms/step - loss: 18.7956 - mae: 18.7956\n",
            "Epoch 37/100\n",
            "2/2 [==============================] - 0s 7ms/step - loss: 27.4084 - mae: 27.4084\n",
            "Epoch 38/100\n",
            "2/2 [==============================] - 0s 7ms/step - loss: 29.1564 - mae: 29.1564\n",
            "Epoch 39/100\n",
            "2/2 [==============================] - 0s 7ms/step - loss: 20.5351 - mae: 20.5351\n",
            "Epoch 40/100\n",
            "2/2 [==============================] - 0s 7ms/step - loss: 20.5709 - mae: 20.5709\n",
            "Epoch 41/100\n",
            "2/2 [==============================] - 0s 8ms/step - loss: 25.0259 - mae: 25.0259\n",
            "Epoch 42/100\n",
            "2/2 [==============================] - 0s 7ms/step - loss: 20.5610 - mae: 20.5610\n",
            "Epoch 43/100\n",
            "2/2 [==============================] - 0s 8ms/step - loss: 23.0581 - mae: 23.0581\n",
            "Epoch 44/100\n",
            "2/2 [==============================] - 0s 7ms/step - loss: 9.7293 - mae: 9.7293\n",
            "Epoch 45/100\n",
            "2/2 [==============================] - 0s 9ms/step - loss: 22.6741 - mae: 22.6741\n",
            "Epoch 46/100\n",
            "2/2 [==============================] - 0s 7ms/step - loss: 9.1326 - mae: 9.1326\n",
            "Epoch 47/100\n",
            "2/2 [==============================] - 0s 12ms/step - loss: 20.9736 - mae: 20.9736\n",
            "Epoch 48/100\n",
            "2/2 [==============================] - 0s 7ms/step - loss: 14.7930 - mae: 14.7930\n",
            "Epoch 49/100\n",
            "2/2 [==============================] - 0s 8ms/step - loss: 27.8207 - mae: 27.8207\n",
            "Epoch 50/100\n",
            "2/2 [==============================] - 0s 7ms/step - loss: 29.7327 - mae: 29.7327\n",
            "Epoch 51/100\n",
            "2/2 [==============================] - 0s 7ms/step - loss: 17.9405 - mae: 17.9405\n",
            "Epoch 52/100\n",
            "2/2 [==============================] - 0s 7ms/step - loss: 33.4428 - mae: 33.4428\n",
            "Epoch 53/100\n",
            "2/2 [==============================] - 0s 7ms/step - loss: 12.7858 - mae: 12.7858\n",
            "Epoch 54/100\n",
            "2/2 [==============================] - 0s 7ms/step - loss: 37.7220 - mae: 37.7220\n",
            "Epoch 55/100\n",
            "2/2 [==============================] - 0s 7ms/step - loss: 13.5480 - mae: 13.5480\n",
            "Epoch 56/100\n",
            "2/2 [==============================] - 0s 7ms/step - loss: 28.5311 - mae: 28.5311\n",
            "Epoch 57/100\n",
            "2/2 [==============================] - 0s 9ms/step - loss: 22.9780 - mae: 22.9780\n",
            "Epoch 58/100\n",
            "2/2 [==============================] - 0s 11ms/step - loss: 11.0910 - mae: 11.0910\n",
            "Epoch 59/100\n",
            "2/2 [==============================] - 0s 7ms/step - loss: 25.6361 - mae: 25.6361\n",
            "Epoch 60/100\n",
            "2/2 [==============================] - 0s 10ms/step - loss: 28.1240 - mae: 28.1240\n",
            "Epoch 61/100\n",
            "2/2 [==============================] - 0s 10ms/step - loss: 12.1987 - mae: 12.1987\n",
            "Epoch 62/100\n",
            "2/2 [==============================] - 0s 8ms/step - loss: 29.4298 - mae: 29.4298\n",
            "Epoch 63/100\n",
            "2/2 [==============================] - 0s 10ms/step - loss: 10.8104 - mae: 10.8104\n",
            "Epoch 64/100\n",
            "2/2 [==============================] - 0s 8ms/step - loss: 18.6408 - mae: 18.6408\n",
            "Epoch 65/100\n",
            "2/2 [==============================] - 0s 8ms/step - loss: 12.0968 - mae: 12.0968\n",
            "Epoch 66/100\n",
            "2/2 [==============================] - 0s 8ms/step - loss: 9.1602 - mae: 9.1602\n",
            "Epoch 67/100\n",
            "2/2 [==============================] - 0s 8ms/step - loss: 9.1803 - mae: 9.1803\n",
            "Epoch 68/100\n",
            "2/2 [==============================] - 0s 8ms/step - loss: 9.5314 - mae: 9.5314\n",
            "Epoch 69/100\n",
            "2/2 [==============================] - 0s 7ms/step - loss: 27.9076 - mae: 27.9076\n",
            "Epoch 70/100\n",
            "2/2 [==============================] - 0s 7ms/step - loss: 21.2706 - mae: 21.2706\n",
            "Epoch 71/100\n",
            "2/2 [==============================] - 0s 7ms/step - loss: 20.1824 - mae: 20.1824\n",
            "Epoch 72/100\n",
            "2/2 [==============================] - 0s 7ms/step - loss: 23.7121 - mae: 23.7121\n",
            "Epoch 73/100\n",
            "2/2 [==============================] - 0s 8ms/step - loss: 36.1355 - mae: 36.1355\n",
            "Epoch 74/100\n",
            "2/2 [==============================] - 0s 7ms/step - loss: 16.5052 - mae: 16.5052\n",
            "Epoch 75/100\n",
            "2/2 [==============================] - 0s 8ms/step - loss: 29.8884 - mae: 29.8884\n",
            "Epoch 76/100\n",
            "2/2 [==============================] - 0s 8ms/step - loss: 25.0360 - mae: 25.0360\n",
            "Epoch 77/100\n",
            "2/2 [==============================] - 0s 8ms/step - loss: 17.9008 - mae: 17.9008\n",
            "Epoch 78/100\n",
            "2/2 [==============================] - 0s 7ms/step - loss: 22.9739 - mae: 22.9739\n",
            "Epoch 79/100\n",
            "2/2 [==============================] - 0s 7ms/step - loss: 9.1727 - mae: 9.1727\n",
            "Epoch 80/100\n",
            "2/2 [==============================] - 0s 8ms/step - loss: 18.5101 - mae: 18.5101\n",
            "Epoch 81/100\n",
            "2/2 [==============================] - 0s 8ms/step - loss: 23.0779 - mae: 23.0779\n",
            "Epoch 82/100\n",
            "2/2 [==============================] - 0s 8ms/step - loss: 26.8085 - mae: 26.8085\n",
            "Epoch 83/100\n",
            "2/2 [==============================] - 0s 9ms/step - loss: 20.4888 - mae: 20.4888\n",
            "Epoch 84/100\n",
            "2/2 [==============================] - 0s 6ms/step - loss: 22.3815 - mae: 22.3815\n",
            "Epoch 85/100\n",
            "2/2 [==============================] - 0s 6ms/step - loss: 17.0420 - mae: 17.0420\n",
            "Epoch 86/100\n",
            "2/2 [==============================] - 0s 10ms/step - loss: 17.6919 - mae: 17.6919\n",
            "Epoch 87/100\n",
            "2/2 [==============================] - 0s 8ms/step - loss: 10.3449 - mae: 10.3449\n",
            "Epoch 88/100\n",
            "2/2 [==============================] - 0s 8ms/step - loss: 28.6889 - mae: 28.6889\n",
            "Epoch 89/100\n",
            "2/2 [==============================] - 0s 8ms/step - loss: 8.2162 - mae: 8.2162\n",
            "Epoch 90/100\n",
            "2/2 [==============================] - 0s 7ms/step - loss: 11.7382 - mae: 11.7382\n",
            "Epoch 91/100\n",
            "2/2 [==============================] - 0s 7ms/step - loss: 21.8423 - mae: 21.8423\n",
            "Epoch 92/100\n",
            "2/2 [==============================] - 0s 7ms/step - loss: 19.7773 - mae: 19.7773\n",
            "Epoch 93/100\n",
            "2/2 [==============================] - 0s 7ms/step - loss: 21.5382 - mae: 21.5382\n",
            "Epoch 94/100\n",
            "2/2 [==============================] - 0s 9ms/step - loss: 19.5466 - mae: 19.5466\n",
            "Epoch 95/100\n",
            "2/2 [==============================] - 0s 7ms/step - loss: 25.4774 - mae: 25.4774\n",
            "Epoch 96/100\n",
            "2/2 [==============================] - 0s 7ms/step - loss: 26.4575 - mae: 26.4575\n",
            "Epoch 97/100\n",
            "2/2 [==============================] - 0s 7ms/step - loss: 16.0873 - mae: 16.0873\n",
            "Epoch 98/100\n",
            "2/2 [==============================] - 0s 7ms/step - loss: 24.4830 - mae: 24.4830\n",
            "Epoch 99/100\n",
            "2/2 [==============================] - 0s 7ms/step - loss: 25.4769 - mae: 25.4769\n",
            "Epoch 100/100\n",
            "2/2 [==============================] - 0s 7ms/step - loss: 8.8508 - mae: 8.8508\n"
          ]
        },
        {
          "output_type": "execute_result",
          "data": {
            "text/plain": [
              "<keras.src.callbacks.History at 0x780791fa1e10>"
            ]
          },
          "metadata": {},
          "execution_count": 17
        }
      ]
    },
    {
      "cell_type": "code",
      "source": [
        "# Mari kita coba predict (saat input 100 output seharusnya adalah 110)\n",
        "model.predict([100])"
      ],
      "metadata": {
        "colab": {
          "base_uri": "https://localhost:8080/"
        },
        "id": "ImLVqGXnt_H8",
        "outputId": "7879b45c-7f44-4b9a-a337-c312611d7b7f"
      },
      "execution_count": 18,
      "outputs": [
        {
          "output_type": "stream",
          "name": "stdout",
          "text": [
            "1/1 [==============================] - 0s 68ms/step\n"
          ]
        },
        {
          "output_type": "execute_result",
          "data": {
            "text/plain": [
              "array([[133.08928]], dtype=float32)"
            ]
          },
          "metadata": {},
          "execution_count": 18
        }
      ]
    },
    {
      "cell_type": "code",
      "source": [
        "# Sekarang mari kita coba menggunakan optimizer yang berbeda, kali ini kita akan menggunakan optimizer adam\n",
        "tf.random.set_seed(42)\n",
        "\n",
        "model = tf.keras.Sequential([\n",
        "    tf.keras.layers.Dense(50,activation=None),\n",
        "    tf.keras.layers.Dense(1)\n",
        "])\n",
        "\n",
        "model.compile(loss=\"mae\",optimizer=tf.keras.optimizers.Adam(),metrics=\"mae\")\n",
        "\n",
        "model.fit(tf.expand_dims(X, axis=-1), y, epochs=100)"
      ],
      "metadata": {
        "colab": {
          "base_uri": "https://localhost:8080/"
        },
        "id": "1nlkuw3quSBt",
        "outputId": "b95c27d6-d462-4113-d7e5-21ebe129d618"
      },
      "execution_count": 19,
      "outputs": [
        {
          "output_type": "stream",
          "name": "stdout",
          "text": [
            "Epoch 1/100\n",
            "2/2 [==============================] - 1s 16ms/step - loss: 37.5009 - mae: 37.5009\n",
            "Epoch 2/100\n",
            "2/2 [==============================] - 0s 10ms/step - loss: 35.7880 - mae: 35.7880\n",
            "Epoch 3/100\n",
            "2/2 [==============================] - 0s 11ms/step - loss: 34.2959 - mae: 34.2959\n",
            "Epoch 4/100\n",
            "2/2 [==============================] - 0s 12ms/step - loss: 32.6768 - mae: 32.6768\n",
            "Epoch 5/100\n",
            "2/2 [==============================] - 0s 8ms/step - loss: 31.0636 - mae: 31.0636\n",
            "Epoch 6/100\n",
            "2/2 [==============================] - 0s 8ms/step - loss: 29.4992 - mae: 29.4992\n",
            "Epoch 7/100\n",
            "2/2 [==============================] - 0s 8ms/step - loss: 27.8527 - mae: 27.8527\n",
            "Epoch 8/100\n",
            "2/2 [==============================] - 0s 7ms/step - loss: 26.2666 - mae: 26.2666\n",
            "Epoch 9/100\n",
            "2/2 [==============================] - 0s 7ms/step - loss: 24.8153 - mae: 24.8153\n",
            "Epoch 10/100\n",
            "2/2 [==============================] - 0s 9ms/step - loss: 23.1707 - mae: 23.1707\n",
            "Epoch 11/100\n",
            "2/2 [==============================] - 0s 7ms/step - loss: 21.6120 - mae: 21.6120\n",
            "Epoch 12/100\n",
            "2/2 [==============================] - 0s 7ms/step - loss: 20.0762 - mae: 20.0762\n",
            "Epoch 13/100\n",
            "2/2 [==============================] - 0s 9ms/step - loss: 18.5351 - mae: 18.5351\n",
            "Epoch 14/100\n",
            "2/2 [==============================] - 0s 10ms/step - loss: 17.0678 - mae: 17.0678\n",
            "Epoch 15/100\n",
            "2/2 [==============================] - 0s 8ms/step - loss: 15.5727 - mae: 15.5727\n",
            "Epoch 16/100\n",
            "2/2 [==============================] - 0s 8ms/step - loss: 14.1629 - mae: 14.1629\n",
            "Epoch 17/100\n",
            "2/2 [==============================] - 0s 8ms/step - loss: 12.8181 - mae: 12.8181\n",
            "Epoch 18/100\n",
            "2/2 [==============================] - 0s 8ms/step - loss: 11.6180 - mae: 11.6180\n",
            "Epoch 19/100\n",
            "2/2 [==============================] - 0s 10ms/step - loss: 10.5787 - mae: 10.5787\n",
            "Epoch 20/100\n",
            "2/2 [==============================] - 0s 9ms/step - loss: 9.8405 - mae: 9.8405\n",
            "Epoch 21/100\n",
            "2/2 [==============================] - 0s 9ms/step - loss: 9.4609 - mae: 9.4609\n",
            "Epoch 22/100\n",
            "2/2 [==============================] - 0s 12ms/step - loss: 9.5944 - mae: 9.5944\n",
            "Epoch 23/100\n",
            "2/2 [==============================] - 0s 7ms/step - loss: 9.5508 - mae: 9.5508\n",
            "Epoch 24/100\n",
            "2/2 [==============================] - 0s 7ms/step - loss: 9.5745 - mae: 9.5745\n",
            "Epoch 25/100\n",
            "2/2 [==============================] - 0s 6ms/step - loss: 9.6034 - mae: 9.6034\n",
            "Epoch 26/100\n",
            "2/2 [==============================] - 0s 6ms/step - loss: 9.5692 - mae: 9.5692\n",
            "Epoch 27/100\n",
            "2/2 [==============================] - 0s 6ms/step - loss: 9.5781 - mae: 9.5781\n",
            "Epoch 28/100\n",
            "2/2 [==============================] - 0s 7ms/step - loss: 9.5634 - mae: 9.5634\n",
            "Epoch 29/100\n",
            "2/2 [==============================] - 0s 9ms/step - loss: 9.5457 - mae: 9.5457\n",
            "Epoch 30/100\n",
            "2/2 [==============================] - 0s 8ms/step - loss: 9.5225 - mae: 9.5225\n",
            "Epoch 31/100\n",
            "2/2 [==============================] - 0s 7ms/step - loss: 9.5253 - mae: 9.5253\n",
            "Epoch 32/100\n",
            "2/2 [==============================] - 0s 7ms/step - loss: 9.4856 - mae: 9.4856\n",
            "Epoch 33/100\n",
            "2/2 [==============================] - 0s 7ms/step - loss: 9.4618 - mae: 9.4618\n",
            "Epoch 34/100\n",
            "2/2 [==============================] - 0s 7ms/step - loss: 9.4383 - mae: 9.4383\n",
            "Epoch 35/100\n",
            "2/2 [==============================] - 0s 8ms/step - loss: 9.4091 - mae: 9.4091\n",
            "Epoch 36/100\n",
            "2/2 [==============================] - 0s 9ms/step - loss: 9.3803 - mae: 9.3803\n",
            "Epoch 37/100\n",
            "2/2 [==============================] - 0s 7ms/step - loss: 9.3557 - mae: 9.3557\n",
            "Epoch 38/100\n",
            "2/2 [==============================] - 0s 8ms/step - loss: 9.3284 - mae: 9.3284\n",
            "Epoch 39/100\n",
            "2/2 [==============================] - 0s 7ms/step - loss: 9.2947 - mae: 9.2947\n",
            "Epoch 40/100\n",
            "2/2 [==============================] - 0s 8ms/step - loss: 9.2721 - mae: 9.2721\n",
            "Epoch 41/100\n",
            "2/2 [==============================] - 0s 10ms/step - loss: 9.2556 - mae: 9.2556\n",
            "Epoch 42/100\n",
            "2/2 [==============================] - 0s 8ms/step - loss: 9.2110 - mae: 9.2110\n",
            "Epoch 43/100\n",
            "2/2 [==============================] - 0s 8ms/step - loss: 9.1874 - mae: 9.1874\n",
            "Epoch 44/100\n",
            "2/2 [==============================] - 0s 7ms/step - loss: 9.1622 - mae: 9.1622\n",
            "Epoch 45/100\n",
            "2/2 [==============================] - 0s 7ms/step - loss: 9.1317 - mae: 9.1317\n",
            "Epoch 46/100\n",
            "2/2 [==============================] - 0s 6ms/step - loss: 9.1080 - mae: 9.1080\n",
            "Epoch 47/100\n",
            "2/2 [==============================] - 0s 7ms/step - loss: 9.0803 - mae: 9.0803\n",
            "Epoch 48/100\n",
            "2/2 [==============================] - 0s 6ms/step - loss: 9.0600 - mae: 9.0600\n",
            "Epoch 49/100\n",
            "2/2 [==============================] - 0s 9ms/step - loss: 9.0384 - mae: 9.0384\n",
            "Epoch 50/100\n",
            "2/2 [==============================] - 0s 7ms/step - loss: 9.0022 - mae: 9.0022\n",
            "Epoch 51/100\n",
            "2/2 [==============================] - 0s 7ms/step - loss: 8.9774 - mae: 8.9774\n",
            "Epoch 52/100\n",
            "2/2 [==============================] - 0s 9ms/step - loss: 8.9536 - mae: 8.9536\n",
            "Epoch 53/100\n",
            "2/2 [==============================] - 0s 7ms/step - loss: 8.9322 - mae: 8.9322\n",
            "Epoch 54/100\n",
            "2/2 [==============================] - 0s 8ms/step - loss: 8.9046 - mae: 8.9046\n",
            "Epoch 55/100\n",
            "2/2 [==============================] - 0s 8ms/step - loss: 8.8776 - mae: 8.8776\n",
            "Epoch 56/100\n",
            "2/2 [==============================] - 0s 10ms/step - loss: 8.8547 - mae: 8.8547\n",
            "Epoch 57/100\n",
            "2/2 [==============================] - 0s 8ms/step - loss: 8.8263 - mae: 8.8263\n",
            "Epoch 58/100\n",
            "2/2 [==============================] - 0s 10ms/step - loss: 8.7973 - mae: 8.7973\n",
            "Epoch 59/100\n",
            "2/2 [==============================] - 0s 10ms/step - loss: 8.7687 - mae: 8.7687\n",
            "Epoch 60/100\n",
            "2/2 [==============================] - 0s 11ms/step - loss: 8.7393 - mae: 8.7393\n",
            "Epoch 61/100\n",
            "2/2 [==============================] - 0s 10ms/step - loss: 8.7226 - mae: 8.7226\n",
            "Epoch 62/100\n",
            "2/2 [==============================] - 0s 9ms/step - loss: 8.7051 - mae: 8.7051\n",
            "Epoch 63/100\n",
            "2/2 [==============================] - 0s 9ms/step - loss: 8.6618 - mae: 8.6618\n",
            "Epoch 64/100\n",
            "2/2 [==============================] - 0s 9ms/step - loss: 8.6356 - mae: 8.6356\n",
            "Epoch 65/100\n",
            "2/2 [==============================] - 0s 8ms/step - loss: 8.6074 - mae: 8.6074\n",
            "Epoch 66/100\n",
            "2/2 [==============================] - 0s 8ms/step - loss: 8.5861 - mae: 8.5861\n",
            "Epoch 67/100\n",
            "2/2 [==============================] - 0s 8ms/step - loss: 8.5617 - mae: 8.5617\n",
            "Epoch 68/100\n",
            "2/2 [==============================] - 0s 9ms/step - loss: 8.5384 - mae: 8.5384\n",
            "Epoch 69/100\n",
            "2/2 [==============================] - 0s 7ms/step - loss: 8.5132 - mae: 8.5132\n",
            "Epoch 70/100\n",
            "2/2 [==============================] - 0s 9ms/step - loss: 8.4883 - mae: 8.4883\n",
            "Epoch 71/100\n",
            "2/2 [==============================] - 0s 7ms/step - loss: 8.4605 - mae: 8.4605\n",
            "Epoch 72/100\n",
            "2/2 [==============================] - 0s 8ms/step - loss: 8.4431 - mae: 8.4431\n",
            "Epoch 73/100\n",
            "2/2 [==============================] - 0s 9ms/step - loss: 8.4163 - mae: 8.4163\n",
            "Epoch 74/100\n",
            "2/2 [==============================] - 0s 7ms/step - loss: 8.3883 - mae: 8.3883\n",
            "Epoch 75/100\n",
            "2/2 [==============================] - 0s 7ms/step - loss: 8.3605 - mae: 8.3605\n",
            "Epoch 76/100\n",
            "2/2 [==============================] - 0s 6ms/step - loss: 8.3349 - mae: 8.3349\n",
            "Epoch 77/100\n",
            "2/2 [==============================] - 0s 7ms/step - loss: 8.3185 - mae: 8.3185\n",
            "Epoch 78/100\n",
            "2/2 [==============================] - 0s 6ms/step - loss: 8.2849 - mae: 8.2849\n",
            "Epoch 79/100\n",
            "2/2 [==============================] - 0s 6ms/step - loss: 8.2595 - mae: 8.2595\n",
            "Epoch 80/100\n",
            "2/2 [==============================] - 0s 6ms/step - loss: 8.2457 - mae: 8.2457\n",
            "Epoch 81/100\n",
            "2/2 [==============================] - 0s 7ms/step - loss: 8.2314 - mae: 8.2314\n",
            "Epoch 82/100\n",
            "2/2 [==============================] - 0s 6ms/step - loss: 8.2056 - mae: 8.2056\n",
            "Epoch 83/100\n",
            "2/2 [==============================] - 0s 7ms/step - loss: 8.1871 - mae: 8.1871\n",
            "Epoch 84/100\n",
            "2/2 [==============================] - 0s 8ms/step - loss: 8.1664 - mae: 8.1664\n",
            "Epoch 85/100\n",
            "2/2 [==============================] - 0s 8ms/step - loss: 8.1445 - mae: 8.1445\n",
            "Epoch 86/100\n",
            "2/2 [==============================] - 0s 8ms/step - loss: 8.1188 - mae: 8.1188\n",
            "Epoch 87/100\n",
            "2/2 [==============================] - 0s 7ms/step - loss: 8.1012 - mae: 8.1012\n",
            "Epoch 88/100\n",
            "2/2 [==============================] - 0s 6ms/step - loss: 8.0841 - mae: 8.0841\n",
            "Epoch 89/100\n",
            "2/2 [==============================] - 0s 7ms/step - loss: 8.0662 - mae: 8.0662\n",
            "Epoch 90/100\n",
            "2/2 [==============================] - 0s 7ms/step - loss: 8.0473 - mae: 8.0473\n",
            "Epoch 91/100\n",
            "2/2 [==============================] - 0s 7ms/step - loss: 8.0284 - mae: 8.0284\n",
            "Epoch 92/100\n",
            "2/2 [==============================] - 0s 6ms/step - loss: 8.0081 - mae: 8.0081\n",
            "Epoch 93/100\n",
            "2/2 [==============================] - 0s 6ms/step - loss: 7.9966 - mae: 7.9966\n",
            "Epoch 94/100\n",
            "2/2 [==============================] - 0s 7ms/step - loss: 7.9665 - mae: 7.9665\n",
            "Epoch 95/100\n",
            "2/2 [==============================] - 0s 9ms/step - loss: 7.9403 - mae: 7.9403\n",
            "Epoch 96/100\n",
            "2/2 [==============================] - 0s 7ms/step - loss: 7.9144 - mae: 7.9144\n",
            "Epoch 97/100\n",
            "2/2 [==============================] - 0s 6ms/step - loss: 7.8964 - mae: 7.8964\n",
            "Epoch 98/100\n",
            "2/2 [==============================] - 0s 7ms/step - loss: 7.8772 - mae: 7.8772\n",
            "Epoch 99/100\n",
            "2/2 [==============================] - 0s 6ms/step - loss: 7.8581 - mae: 7.8581\n",
            "Epoch 100/100\n",
            "2/2 [==============================] - 0s 7ms/step - loss: 7.8396 - mae: 7.8396\n"
          ]
        },
        {
          "output_type": "execute_result",
          "data": {
            "text/plain": [
              "<keras.src.callbacks.History at 0x780791e9a830>"
            ]
          },
          "metadata": {},
          "execution_count": 19
        }
      ]
    },
    {
      "cell_type": "code",
      "source": [
        "# Mae terlihat bagus, namun mari kita coba predict\n",
        "model.predict([100])"
      ],
      "metadata": {
        "colab": {
          "base_uri": "https://localhost:8080/"
        },
        "id": "QIar8P15ug42",
        "outputId": "d3d6bb9f-58b8-4ea6-ff58-4ae389a6b814"
      },
      "execution_count": 20,
      "outputs": [
        {
          "output_type": "stream",
          "name": "stderr",
          "text": [
            "WARNING:tensorflow:5 out of the last 5 calls to <function Model.make_predict_function.<locals>.predict_function at 0x7807918909d0> triggered tf.function retracing. Tracing is expensive and the excessive number of tracings could be due to (1) creating @tf.function repeatedly in a loop, (2) passing tensors with different shapes, (3) passing Python objects instead of tensors. For (1), please define your @tf.function outside of the loop. For (2), @tf.function has reduce_retracing=True option that can avoid unnecessary retracing. For (3), please refer to https://www.tensorflow.org/guide/function#controlling_retracing and https://www.tensorflow.org/api_docs/python/tf/function for  more details.\n"
          ]
        },
        {
          "output_type": "stream",
          "name": "stdout",
          "text": [
            "1/1 [==============================] - 0s 101ms/step\n"
          ]
        },
        {
          "output_type": "execute_result",
          "data": {
            "text/plain": [
              "array([[93.74711]], dtype=float32)"
            ]
          },
          "metadata": {},
          "execution_count": 20
        }
      ]
    },
    {
      "cell_type": "code",
      "source": [
        "# Sudah hampir medekati, mari kita tingkatkan learning rate dengan optimizer Adam\n",
        "tf.random.set_seed(42)\n",
        "\n",
        "model = tf.keras.Sequential([\n",
        "    tf.keras.layers.Dense(50,activation=None),\n",
        "    tf.keras.layers.Dense(1)\n",
        "])\n",
        "\n",
        "model.compile(loss=\"mae\",optimizer=tf.keras.optimizers.Adam(learning_rate=0.01),metrics=\"mae\")\n",
        "\n",
        "model.fit(tf.expand_dims(X, axis=-1), y, epochs=100)"
      ],
      "metadata": {
        "colab": {
          "base_uri": "https://localhost:8080/"
        },
        "id": "2fKnJRo9uliE",
        "outputId": "29fccd8c-8e05-4f29-928f-770ff24b3fce"
      },
      "execution_count": 21,
      "outputs": [
        {
          "output_type": "stream",
          "name": "stdout",
          "text": [
            "Epoch 1/100\n",
            "2/2 [==============================] - 1s 13ms/step - loss: 72.5017 - mae: 72.5017\n",
            "Epoch 2/100\n",
            "2/2 [==============================] - 0s 7ms/step - loss: 54.5836 - mae: 54.5836\n",
            "Epoch 3/100\n",
            "2/2 [==============================] - 0s 7ms/step - loss: 39.2236 - mae: 39.2236\n",
            "Epoch 4/100\n",
            "2/2 [==============================] - 0s 11ms/step - loss: 23.0792 - mae: 23.0792\n",
            "Epoch 5/100\n",
            "2/2 [==============================] - 0s 7ms/step - loss: 11.7625 - mae: 11.7625\n",
            "Epoch 6/100\n",
            "2/2 [==============================] - 0s 7ms/step - loss: 11.2150 - mae: 11.2150\n",
            "Epoch 7/100\n",
            "2/2 [==============================] - 0s 9ms/step - loss: 16.9163 - mae: 16.9163\n",
            "Epoch 8/100\n",
            "2/2 [==============================] - 0s 7ms/step - loss: 17.1948 - mae: 17.1948\n",
            "Epoch 9/100\n",
            "2/2 [==============================] - 0s 7ms/step - loss: 14.1990 - mae: 14.1990\n",
            "Epoch 10/100\n",
            "2/2 [==============================] - 0s 8ms/step - loss: 9.8741 - mae: 9.8741\n",
            "Epoch 11/100\n",
            "2/2 [==============================] - 0s 7ms/step - loss: 9.1384 - mae: 9.1384\n",
            "Epoch 12/100\n",
            "2/2 [==============================] - 0s 8ms/step - loss: 8.8536 - mae: 8.8536\n",
            "Epoch 13/100\n",
            "2/2 [==============================] - 0s 7ms/step - loss: 10.3751 - mae: 10.3751\n",
            "Epoch 14/100\n",
            "2/2 [==============================] - 0s 7ms/step - loss: 10.4281 - mae: 10.4281\n",
            "Epoch 15/100\n",
            "2/2 [==============================] - 0s 7ms/step - loss: 9.0081 - mae: 9.0081\n",
            "Epoch 16/100\n",
            "2/2 [==============================] - 0s 7ms/step - loss: 7.9479 - mae: 7.9479\n",
            "Epoch 17/100\n",
            "2/2 [==============================] - 0s 7ms/step - loss: 8.1274 - mae: 8.1274\n",
            "Epoch 18/100\n",
            "2/2 [==============================] - 0s 9ms/step - loss: 7.8971 - mae: 7.8971\n",
            "Epoch 19/100\n",
            "2/2 [==============================] - 0s 7ms/step - loss: 7.7658 - mae: 7.7658\n",
            "Epoch 20/100\n",
            "2/2 [==============================] - 0s 8ms/step - loss: 7.6601 - mae: 7.6601\n",
            "Epoch 21/100\n",
            "2/2 [==============================] - 0s 7ms/step - loss: 7.4544 - mae: 7.4544\n",
            "Epoch 22/100\n",
            "2/2 [==============================] - 0s 7ms/step - loss: 7.0478 - mae: 7.0478\n",
            "Epoch 23/100\n",
            "2/2 [==============================] - 0s 7ms/step - loss: 6.8716 - mae: 6.8716\n",
            "Epoch 24/100\n",
            "2/2 [==============================] - 0s 7ms/step - loss: 6.5934 - mae: 6.5934\n",
            "Epoch 25/100\n",
            "2/2 [==============================] - 0s 6ms/step - loss: 6.3251 - mae: 6.3251\n",
            "Epoch 26/100\n",
            "2/2 [==============================] - 0s 8ms/step - loss: 6.1184 - mae: 6.1184\n",
            "Epoch 27/100\n",
            "2/2 [==============================] - 0s 7ms/step - loss: 5.8258 - mae: 5.8258\n",
            "Epoch 28/100\n",
            "2/2 [==============================] - 0s 7ms/step - loss: 5.5684 - mae: 5.5684\n",
            "Epoch 29/100\n",
            "2/2 [==============================] - 0s 7ms/step - loss: 5.3034 - mae: 5.3034\n",
            "Epoch 30/100\n",
            "2/2 [==============================] - 0s 6ms/step - loss: 5.0901 - mae: 5.0901\n",
            "Epoch 31/100\n",
            "2/2 [==============================] - 0s 7ms/step - loss: 4.9050 - mae: 4.9050\n",
            "Epoch 32/100\n",
            "2/2 [==============================] - 0s 6ms/step - loss: 4.5206 - mae: 4.5206\n",
            "Epoch 33/100\n",
            "2/2 [==============================] - 0s 7ms/step - loss: 4.2332 - mae: 4.2332\n",
            "Epoch 34/100\n",
            "2/2 [==============================] - 0s 6ms/step - loss: 3.9586 - mae: 3.9586\n",
            "Epoch 35/100\n",
            "2/2 [==============================] - 0s 7ms/step - loss: 3.6655 - mae: 3.6655\n",
            "Epoch 36/100\n",
            "2/2 [==============================] - 0s 8ms/step - loss: 3.3521 - mae: 3.3521\n",
            "Epoch 37/100\n",
            "2/2 [==============================] - 0s 7ms/step - loss: 3.0157 - mae: 3.0157\n",
            "Epoch 38/100\n",
            "2/2 [==============================] - 0s 7ms/step - loss: 2.6593 - mae: 2.6593\n",
            "Epoch 39/100\n",
            "2/2 [==============================] - 0s 7ms/step - loss: 2.4008 - mae: 2.4008\n",
            "Epoch 40/100\n",
            "2/2 [==============================] - 0s 9ms/step - loss: 1.9491 - mae: 1.9491\n",
            "Epoch 41/100\n",
            "2/2 [==============================] - 0s 16ms/step - loss: 1.5630 - mae: 1.5630\n",
            "Epoch 42/100\n",
            "2/2 [==============================] - 0s 7ms/step - loss: 1.1926 - mae: 1.1926\n",
            "Epoch 43/100\n",
            "2/2 [==============================] - 0s 8ms/step - loss: 0.8218 - mae: 0.8218\n",
            "Epoch 44/100\n",
            "2/2 [==============================] - 0s 7ms/step - loss: 0.3525 - mae: 0.3525\n",
            "Epoch 45/100\n",
            "2/2 [==============================] - 0s 7ms/step - loss: 0.7163 - mae: 0.7163\n",
            "Epoch 46/100\n",
            "2/2 [==============================] - 0s 8ms/step - loss: 1.9469 - mae: 1.9469\n",
            "Epoch 47/100\n",
            "2/2 [==============================] - 0s 7ms/step - loss: 1.1089 - mae: 1.1089\n",
            "Epoch 48/100\n",
            "2/2 [==============================] - 0s 7ms/step - loss: 1.8432 - mae: 1.8432\n",
            "Epoch 49/100\n",
            "2/2 [==============================] - 0s 8ms/step - loss: 2.4918 - mae: 2.4918\n",
            "Epoch 50/100\n",
            "2/2 [==============================] - 0s 7ms/step - loss: 1.8706 - mae: 1.8706\n",
            "Epoch 51/100\n",
            "2/2 [==============================] - 0s 7ms/step - loss: 2.3464 - mae: 2.3464\n",
            "Epoch 52/100\n",
            "2/2 [==============================] - 0s 7ms/step - loss: 1.3210 - mae: 1.3210\n",
            "Epoch 53/100\n",
            "2/2 [==============================] - 0s 7ms/step - loss: 2.7998 - mae: 2.7998\n",
            "Epoch 54/100\n",
            "2/2 [==============================] - 0s 8ms/step - loss: 1.1563 - mae: 1.1563\n",
            "Epoch 55/100\n",
            "2/2 [==============================] - 0s 8ms/step - loss: 3.5846 - mae: 3.5846\n",
            "Epoch 56/100\n",
            "2/2 [==============================] - 0s 7ms/step - loss: 1.5106 - mae: 1.5106\n",
            "Epoch 57/100\n",
            "2/2 [==============================] - 0s 7ms/step - loss: 2.1650 - mae: 2.1650\n",
            "Epoch 58/100\n",
            "2/2 [==============================] - 0s 7ms/step - loss: 1.1044 - mae: 1.1044\n",
            "Epoch 59/100\n",
            "2/2 [==============================] - 0s 7ms/step - loss: 3.5352 - mae: 3.5352\n",
            "Epoch 60/100\n",
            "2/2 [==============================] - 0s 9ms/step - loss: 1.4024 - mae: 1.4024\n",
            "Epoch 61/100\n",
            "2/2 [==============================] - 0s 12ms/step - loss: 1.4041 - mae: 1.4041\n",
            "Epoch 62/100\n",
            "2/2 [==============================] - 0s 8ms/step - loss: 0.6525 - mae: 0.6525\n",
            "Epoch 63/100\n",
            "2/2 [==============================] - 0s 11ms/step - loss: 0.3743 - mae: 0.3743\n",
            "Epoch 64/100\n",
            "2/2 [==============================] - 0s 8ms/step - loss: 0.3839 - mae: 0.3839\n",
            "Epoch 65/100\n",
            "2/2 [==============================] - 0s 9ms/step - loss: 0.2023 - mae: 0.2023\n",
            "Epoch 66/100\n",
            "2/2 [==============================] - 0s 9ms/step - loss: 0.3354 - mae: 0.3354\n",
            "Epoch 67/100\n",
            "2/2 [==============================] - 0s 8ms/step - loss: 0.6005 - mae: 0.6005\n",
            "Epoch 68/100\n",
            "2/2 [==============================] - 0s 8ms/step - loss: 1.3874 - mae: 1.3874\n",
            "Epoch 69/100\n",
            "2/2 [==============================] - 0s 7ms/step - loss: 1.2206 - mae: 1.2206\n",
            "Epoch 70/100\n",
            "2/2 [==============================] - 0s 8ms/step - loss: 0.9174 - mae: 0.9174\n",
            "Epoch 71/100\n",
            "2/2 [==============================] - 0s 8ms/step - loss: 1.4927 - mae: 1.4927\n",
            "Epoch 72/100\n",
            "2/2 [==============================] - 0s 13ms/step - loss: 0.5270 - mae: 0.5270\n",
            "Epoch 73/100\n",
            "2/2 [==============================] - 0s 9ms/step - loss: 0.1692 - mae: 0.1692\n",
            "Epoch 74/100\n",
            "2/2 [==============================] - 0s 10ms/step - loss: 0.3602 - mae: 0.3602\n",
            "Epoch 75/100\n",
            "2/2 [==============================] - 0s 8ms/step - loss: 0.2432 - mae: 0.2432\n",
            "Epoch 76/100\n",
            "2/2 [==============================] - 0s 8ms/step - loss: 0.5450 - mae: 0.5450\n",
            "Epoch 77/100\n",
            "2/2 [==============================] - 0s 8ms/step - loss: 1.1207 - mae: 1.1207\n",
            "Epoch 78/100\n",
            "2/2 [==============================] - 0s 8ms/step - loss: 0.6737 - mae: 0.6737\n",
            "Epoch 79/100\n",
            "2/2 [==============================] - 0s 8ms/step - loss: 2.2580 - mae: 2.2580\n",
            "Epoch 80/100\n",
            "2/2 [==============================] - 0s 8ms/step - loss: 1.0330 - mae: 1.0330\n",
            "Epoch 81/100\n",
            "2/2 [==============================] - 0s 7ms/step - loss: 2.7174 - mae: 2.7174\n",
            "Epoch 82/100\n",
            "2/2 [==============================] - 0s 8ms/step - loss: 1.2155 - mae: 1.2155\n",
            "Epoch 83/100\n",
            "2/2 [==============================] - 0s 8ms/step - loss: 2.1196 - mae: 2.1196\n",
            "Epoch 84/100\n",
            "2/2 [==============================] - 0s 7ms/step - loss: 1.0178 - mae: 1.0178\n",
            "Epoch 85/100\n",
            "2/2 [==============================] - 0s 7ms/step - loss: 1.2853 - mae: 1.2853\n",
            "Epoch 86/100\n",
            "2/2 [==============================] - 0s 7ms/step - loss: 0.5443 - mae: 0.5443\n",
            "Epoch 87/100\n",
            "2/2 [==============================] - 0s 8ms/step - loss: 0.2205 - mae: 0.2205\n",
            "Epoch 88/100\n",
            "2/2 [==============================] - 0s 8ms/step - loss: 0.2272 - mae: 0.2272\n",
            "Epoch 89/100\n",
            "2/2 [==============================] - 0s 9ms/step - loss: 0.2128 - mae: 0.2128\n",
            "Epoch 90/100\n",
            "2/2 [==============================] - 0s 8ms/step - loss: 0.4019 - mae: 0.4019\n",
            "Epoch 91/100\n",
            "2/2 [==============================] - 0s 8ms/step - loss: 0.9285 - mae: 0.9285\n",
            "Epoch 92/100\n",
            "2/2 [==============================] - 0s 8ms/step - loss: 0.1794 - mae: 0.1794\n",
            "Epoch 93/100\n",
            "2/2 [==============================] - 0s 8ms/step - loss: 0.6900 - mae: 0.6900\n",
            "Epoch 94/100\n",
            "2/2 [==============================] - 0s 9ms/step - loss: 0.6247 - mae: 0.6247\n",
            "Epoch 95/100\n",
            "2/2 [==============================] - 0s 9ms/step - loss: 0.2124 - mae: 0.2124\n",
            "Epoch 96/100\n",
            "2/2 [==============================] - 0s 10ms/step - loss: 1.0064 - mae: 1.0064\n",
            "Epoch 97/100\n",
            "2/2 [==============================] - 0s 8ms/step - loss: 0.2944 - mae: 0.2944\n",
            "Epoch 98/100\n",
            "2/2 [==============================] - 0s 9ms/step - loss: 0.5833 - mae: 0.5833\n",
            "Epoch 99/100\n",
            "2/2 [==============================] - 0s 9ms/step - loss: 0.8231 - mae: 0.8231\n",
            "Epoch 100/100\n",
            "2/2 [==============================] - 0s 7ms/step - loss: 1.5140 - mae: 1.5140\n"
          ]
        },
        {
          "output_type": "execute_result",
          "data": {
            "text/plain": [
              "<keras.src.callbacks.History at 0x780791498370>"
            ]
          },
          "metadata": {},
          "execution_count": 21
        }
      ]
    },
    {
      "cell_type": "code",
      "source": [
        "# MAE nya sangat baik, tapi mari kita lihat hasil prediksi dari model yang sudah di training\n",
        "model.predict([100])"
      ],
      "metadata": {
        "colab": {
          "base_uri": "https://localhost:8080/"
        },
        "id": "sWs2qAuCuu62",
        "outputId": "b1eb2798-949b-420c-e652-8054d272ad7c"
      },
      "execution_count": 22,
      "outputs": [
        {
          "output_type": "stream",
          "name": "stderr",
          "text": [
            "WARNING:tensorflow:6 out of the last 6 calls to <function Model.make_predict_function.<locals>.predict_function at 0x780791892b90> triggered tf.function retracing. Tracing is expensive and the excessive number of tracings could be due to (1) creating @tf.function repeatedly in a loop, (2) passing tensors with different shapes, (3) passing Python objects instead of tensors. For (1), please define your @tf.function outside of the loop. For (2), @tf.function has reduce_retracing=True option that can avoid unnecessary retracing. For (3), please refer to https://www.tensorflow.org/guide/function#controlling_retracing and https://www.tensorflow.org/api_docs/python/tf/function for  more details.\n"
          ]
        },
        {
          "output_type": "stream",
          "name": "stdout",
          "text": [
            "1/1 [==============================] - 0s 70ms/step\n"
          ]
        },
        {
          "output_type": "execute_result",
          "data": {
            "text/plain": [
              "array([[112.91465]], dtype=float32)"
            ]
          },
          "metadata": {},
          "execution_count": 22
        }
      ]
    },
    {
      "cell_type": "code",
      "source": [
        "# Model sudah lebih baik, mari kita tuning sedikit lagi learning rate nya\n",
        "# Sudah hampir medekati, mari kita tingkatkan learning rate dengan optimizer Adam\n",
        "tf.random.set_seed(42)\n",
        "\n",
        "model = tf.keras.Sequential([\n",
        "    tf.keras.layers.Dense(50,activation=None),\n",
        "    tf.keras.layers.Dense(1)\n",
        "])\n",
        "\n",
        "model.compile(loss=\"mae\",optimizer=tf.keras.optimizers.Adam(learning_rate=0.01),metrics=\"mae\")\n",
        "\n",
        "model.fit(tf.expand_dims(X, axis=-1), y, epochs=100)"
      ],
      "metadata": {
        "colab": {
          "base_uri": "https://localhost:8080/"
        },
        "id": "cdOr1aCBu1sl",
        "outputId": "80ff4997-61f1-4053-b79c-929c0e1c85ff"
      },
      "execution_count": 23,
      "outputs": [
        {
          "output_type": "stream",
          "name": "stdout",
          "text": [
            "Epoch 1/100\n",
            "2/2 [==============================] - 1s 11ms/step - loss: 49.9573 - mae: 49.9573\n",
            "Epoch 2/100\n",
            "2/2 [==============================] - 0s 10ms/step - loss: 34.6686 - mae: 34.6686\n",
            "Epoch 3/100\n",
            "2/2 [==============================] - 0s 8ms/step - loss: 21.6401 - mae: 21.6401\n",
            "Epoch 4/100\n",
            "2/2 [==============================] - 0s 8ms/step - loss: 11.1617 - mae: 11.1617\n",
            "Epoch 5/100\n",
            "2/2 [==============================] - 0s 7ms/step - loss: 11.5638 - mae: 11.5638\n",
            "Epoch 6/100\n",
            "2/2 [==============================] - 0s 8ms/step - loss: 15.7113 - mae: 15.7113\n",
            "Epoch 7/100\n",
            "2/2 [==============================] - 0s 7ms/step - loss: 15.6855 - mae: 15.6855\n",
            "Epoch 8/100\n",
            "2/2 [==============================] - 0s 7ms/step - loss: 12.2107 - mae: 12.2107\n",
            "Epoch 9/100\n",
            "2/2 [==============================] - 0s 7ms/step - loss: 9.3034 - mae: 9.3034\n",
            "Epoch 10/100\n",
            "2/2 [==============================] - 0s 6ms/step - loss: 9.1619 - mae: 9.1619\n",
            "Epoch 11/100\n",
            "2/2 [==============================] - 0s 7ms/step - loss: 9.2184 - mae: 9.2184\n",
            "Epoch 12/100\n",
            "2/2 [==============================] - 0s 7ms/step - loss: 10.2749 - mae: 10.2749\n",
            "Epoch 13/100\n",
            "2/2 [==============================] - 0s 7ms/step - loss: 9.6440 - mae: 9.6440\n",
            "Epoch 14/100\n",
            "2/2 [==============================] - 0s 7ms/step - loss: 8.7498 - mae: 8.7498\n",
            "Epoch 15/100\n",
            "2/2 [==============================] - 0s 7ms/step - loss: 8.4566 - mae: 8.4566\n",
            "Epoch 16/100\n",
            "2/2 [==============================] - 0s 8ms/step - loss: 8.2027 - mae: 8.2027\n",
            "Epoch 17/100\n",
            "2/2 [==============================] - 0s 7ms/step - loss: 8.2359 - mae: 8.2359\n",
            "Epoch 18/100\n",
            "2/2 [==============================] - 0s 7ms/step - loss: 8.0299 - mae: 8.0299\n",
            "Epoch 19/100\n",
            "2/2 [==============================] - 0s 8ms/step - loss: 7.8816 - mae: 7.8816\n",
            "Epoch 20/100\n",
            "2/2 [==============================] - 0s 7ms/step - loss: 7.7265 - mae: 7.7265\n",
            "Epoch 21/100\n",
            "2/2 [==============================] - 0s 8ms/step - loss: 7.5882 - mae: 7.5882\n",
            "Epoch 22/100\n",
            "2/2 [==============================] - 0s 7ms/step - loss: 7.2756 - mae: 7.2756\n",
            "Epoch 23/100\n",
            "2/2 [==============================] - 0s 7ms/step - loss: 7.1099 - mae: 7.1099\n",
            "Epoch 24/100\n",
            "2/2 [==============================] - 0s 7ms/step - loss: 6.8739 - mae: 6.8739\n",
            "Epoch 25/100\n",
            "2/2 [==============================] - 0s 7ms/step - loss: 6.6507 - mae: 6.6507\n",
            "Epoch 26/100\n",
            "2/2 [==============================] - 0s 7ms/step - loss: 6.4563 - mae: 6.4563\n",
            "Epoch 27/100\n",
            "2/2 [==============================] - 0s 8ms/step - loss: 6.2004 - mae: 6.2004\n",
            "Epoch 28/100\n",
            "2/2 [==============================] - 0s 8ms/step - loss: 5.9642 - mae: 5.9642\n",
            "Epoch 29/100\n",
            "2/2 [==============================] - 0s 8ms/step - loss: 5.7174 - mae: 5.7174\n",
            "Epoch 30/100\n",
            "2/2 [==============================] - 0s 7ms/step - loss: 5.4834 - mae: 5.4834\n",
            "Epoch 31/100\n",
            "2/2 [==============================] - 0s 7ms/step - loss: 5.2256 - mae: 5.2256\n",
            "Epoch 32/100\n",
            "2/2 [==============================] - 0s 7ms/step - loss: 4.9041 - mae: 4.9041\n",
            "Epoch 33/100\n",
            "2/2 [==============================] - 0s 7ms/step - loss: 4.5766 - mae: 4.5766\n",
            "Epoch 34/100\n",
            "2/2 [==============================] - 0s 8ms/step - loss: 4.5441 - mae: 4.5441\n",
            "Epoch 35/100\n",
            "2/2 [==============================] - 0s 8ms/step - loss: 4.0345 - mae: 4.0345\n",
            "Epoch 36/100\n",
            "2/2 [==============================] - 0s 6ms/step - loss: 3.7420 - mae: 3.7420\n",
            "Epoch 37/100\n",
            "2/2 [==============================] - 0s 7ms/step - loss: 3.3686 - mae: 3.3686\n",
            "Epoch 38/100\n",
            "2/2 [==============================] - 0s 7ms/step - loss: 3.0057 - mae: 3.0057\n",
            "Epoch 39/100\n",
            "2/2 [==============================] - 0s 7ms/step - loss: 2.6701 - mae: 2.6701\n",
            "Epoch 40/100\n",
            "2/2 [==============================] - 0s 7ms/step - loss: 2.2017 - mae: 2.2017\n",
            "Epoch 41/100\n",
            "2/2 [==============================] - 0s 8ms/step - loss: 1.8399 - mae: 1.8399\n",
            "Epoch 42/100\n",
            "2/2 [==============================] - 0s 8ms/step - loss: 1.3686 - mae: 1.3686\n",
            "Epoch 43/100\n",
            "2/2 [==============================] - 0s 7ms/step - loss: 1.2297 - mae: 1.2297\n",
            "Epoch 44/100\n",
            "2/2 [==============================] - 0s 7ms/step - loss: 1.1789 - mae: 1.1789\n",
            "Epoch 45/100\n",
            "2/2 [==============================] - 0s 7ms/step - loss: 2.4135 - mae: 2.4135\n",
            "Epoch 46/100\n",
            "2/2 [==============================] - 0s 9ms/step - loss: 1.5186 - mae: 1.5186\n",
            "Epoch 47/100\n",
            "2/2 [==============================] - 0s 6ms/step - loss: 2.6620 - mae: 2.6620\n",
            "Epoch 48/100\n",
            "2/2 [==============================] - 0s 7ms/step - loss: 1.4695 - mae: 1.4695\n",
            "Epoch 49/100\n",
            "2/2 [==============================] - 0s 7ms/step - loss: 1.2917 - mae: 1.2917\n",
            "Epoch 50/100\n",
            "2/2 [==============================] - 0s 7ms/step - loss: 2.8240 - mae: 2.8240\n",
            "Epoch 51/100\n",
            "2/2 [==============================] - 0s 7ms/step - loss: 1.4397 - mae: 1.4397\n",
            "Epoch 52/100\n",
            "2/2 [==============================] - 0s 7ms/step - loss: 2.6596 - mae: 2.6596\n",
            "Epoch 53/100\n",
            "2/2 [==============================] - 0s 8ms/step - loss: 1.2639 - mae: 1.2639\n",
            "Epoch 54/100\n",
            "2/2 [==============================] - 0s 8ms/step - loss: 1.1428 - mae: 1.1428\n",
            "Epoch 55/100\n",
            "2/2 [==============================] - 0s 7ms/step - loss: 1.5022 - mae: 1.5022\n",
            "Epoch 56/100\n",
            "2/2 [==============================] - 0s 7ms/step - loss: 1.0125 - mae: 1.0125\n",
            "Epoch 57/100\n",
            "2/2 [==============================] - 0s 8ms/step - loss: 2.7314 - mae: 2.7314\n",
            "Epoch 58/100\n",
            "2/2 [==============================] - 0s 7ms/step - loss: 1.2524 - mae: 1.2524\n",
            "Epoch 59/100\n",
            "2/2 [==============================] - 0s 7ms/step - loss: 3.7952 - mae: 3.7952\n",
            "Epoch 60/100\n",
            "2/2 [==============================] - 0s 7ms/step - loss: 1.4514 - mae: 1.4514\n",
            "Epoch 61/100\n",
            "2/2 [==============================] - 0s 7ms/step - loss: 2.9152 - mae: 2.9152\n",
            "Epoch 62/100\n",
            "2/2 [==============================] - 0s 6ms/step - loss: 2.6099 - mae: 2.6099\n",
            "Epoch 63/100\n",
            "2/2 [==============================] - 0s 7ms/step - loss: 1.2779 - mae: 1.2779\n",
            "Epoch 64/100\n",
            "2/2 [==============================] - 0s 6ms/step - loss: 1.3303 - mae: 1.3303\n",
            "Epoch 65/100\n",
            "2/2 [==============================] - 0s 7ms/step - loss: 2.0775 - mae: 2.0775\n",
            "Epoch 66/100\n",
            "2/2 [==============================] - 0s 6ms/step - loss: 2.0613 - mae: 2.0613\n",
            "Epoch 67/100\n",
            "2/2 [==============================] - 0s 9ms/step - loss: 1.3410 - mae: 1.3410\n",
            "Epoch 68/100\n",
            "2/2 [==============================] - 0s 7ms/step - loss: 1.0812 - mae: 1.0812\n",
            "Epoch 69/100\n",
            "2/2 [==============================] - 0s 7ms/step - loss: 2.0617 - mae: 2.0617\n",
            "Epoch 70/100\n",
            "2/2 [==============================] - 0s 13ms/step - loss: 1.7065 - mae: 1.7065\n",
            "Epoch 71/100\n",
            "2/2 [==============================] - 0s 11ms/step - loss: 2.0196 - mae: 2.0196\n",
            "Epoch 72/100\n",
            "2/2 [==============================] - 0s 8ms/step - loss: 1.7349 - mae: 1.7349\n",
            "Epoch 73/100\n",
            "2/2 [==============================] - 0s 8ms/step - loss: 1.7553 - mae: 1.7553\n",
            "Epoch 74/100\n",
            "2/2 [==============================] - 0s 7ms/step - loss: 1.9611 - mae: 1.9611\n",
            "Epoch 75/100\n",
            "2/2 [==============================] - 0s 7ms/step - loss: 1.0858 - mae: 1.0858\n",
            "Epoch 76/100\n",
            "2/2 [==============================] - 0s 7ms/step - loss: 0.8988 - mae: 0.8988\n",
            "Epoch 77/100\n",
            "2/2 [==============================] - 0s 7ms/step - loss: 1.5552 - mae: 1.5552\n",
            "Epoch 78/100\n",
            "2/2 [==============================] - 0s 7ms/step - loss: 0.9160 - mae: 0.9160\n",
            "Epoch 79/100\n",
            "2/2 [==============================] - 0s 7ms/step - loss: 1.5179 - mae: 1.5179\n",
            "Epoch 80/100\n",
            "2/2 [==============================] - 0s 7ms/step - loss: 0.3263 - mae: 0.3263\n",
            "Epoch 81/100\n",
            "2/2 [==============================] - 0s 8ms/step - loss: 0.5765 - mae: 0.5765\n",
            "Epoch 82/100\n",
            "2/2 [==============================] - 0s 7ms/step - loss: 1.0691 - mae: 1.0691\n",
            "Epoch 83/100\n",
            "2/2 [==============================] - 0s 8ms/step - loss: 1.4056 - mae: 1.4056\n",
            "Epoch 84/100\n",
            "2/2 [==============================] - 0s 7ms/step - loss: 0.8533 - mae: 0.8533\n",
            "Epoch 85/100\n",
            "2/2 [==============================] - 0s 7ms/step - loss: 0.4460 - mae: 0.4460\n",
            "Epoch 86/100\n",
            "2/2 [==============================] - 0s 7ms/step - loss: 1.7166 - mae: 1.7166\n",
            "Epoch 87/100\n",
            "2/2 [==============================] - 0s 7ms/step - loss: 1.0204 - mae: 1.0204\n",
            "Epoch 88/100\n",
            "2/2 [==============================] - 0s 7ms/step - loss: 1.8188 - mae: 1.8188\n",
            "Epoch 89/100\n",
            "2/2 [==============================] - 0s 8ms/step - loss: 1.0507 - mae: 1.0507\n",
            "Epoch 90/100\n",
            "2/2 [==============================] - 0s 7ms/step - loss: 2.3628 - mae: 2.3628\n",
            "Epoch 91/100\n",
            "2/2 [==============================] - 0s 7ms/step - loss: 2.9217 - mae: 2.9217\n",
            "Epoch 92/100\n",
            "2/2 [==============================] - 0s 8ms/step - loss: 1.0655 - mae: 1.0655\n",
            "Epoch 93/100\n",
            "2/2 [==============================] - 0s 8ms/step - loss: 3.0880 - mae: 3.0880\n",
            "Epoch 94/100\n",
            "2/2 [==============================] - 0s 11ms/step - loss: 1.8619 - mae: 1.8619\n",
            "Epoch 95/100\n",
            "2/2 [==============================] - 0s 8ms/step - loss: 1.9394 - mae: 1.9394\n",
            "Epoch 96/100\n",
            "2/2 [==============================] - 0s 7ms/step - loss: 2.6958 - mae: 2.6958\n",
            "Epoch 97/100\n",
            "2/2 [==============================] - 0s 7ms/step - loss: 1.0263 - mae: 1.0263\n",
            "Epoch 98/100\n",
            "2/2 [==============================] - 0s 7ms/step - loss: 2.6483 - mae: 2.6483\n",
            "Epoch 99/100\n",
            "2/2 [==============================] - 0s 7ms/step - loss: 1.2804 - mae: 1.2804\n",
            "Epoch 100/100\n",
            "2/2 [==============================] - 0s 7ms/step - loss: 2.3047 - mae: 2.3047\n"
          ]
        },
        {
          "output_type": "execute_result",
          "data": {
            "text/plain": [
              "<keras.src.callbacks.History at 0x7807913aa170>"
            ]
          },
          "metadata": {},
          "execution_count": 23
        }
      ]
    },
    {
      "cell_type": "code",
      "source": [
        "model.predict([100])\n",
        "\n",
        "# Sofar hasil nya cukup memuaskan"
      ],
      "metadata": {
        "colab": {
          "base_uri": "https://localhost:8080/"
        },
        "id": "AyjgZKN1vC3V",
        "outputId": "9e8eebc5-6bf1-483f-bd4f-52ed917dbc5f"
      },
      "execution_count": 24,
      "outputs": [
        {
          "output_type": "stream",
          "name": "stdout",
          "text": [
            "1/1 [==============================] - 0s 66ms/step\n"
          ]
        },
        {
          "output_type": "execute_result",
          "data": {
            "text/plain": [
              "array([[103.16192]], dtype=float32)"
            ]
          },
          "metadata": {},
          "execution_count": 24
        }
      ]
    },
    {
      "cell_type": "markdown",
      "source": [
        "### Sekarang Waktunya Visulize Model yang telah kita buat\n",
        "\n",
        "- buat data menjadi split (X_train,y_train,X_test,y_test)\n",
        "- buat prediksi menjadi variable y_preds\n",
        "- format yang akan digunakan dalam split (80% train, 20% test)"
      ],
      "metadata": {
        "id": "Gogf-klxzq63"
      }
    },
    {
      "cell_type": "code",
      "source": [
        "len(X),len(y)"
      ],
      "metadata": {
        "colab": {
          "base_uri": "https://localhost:8080/"
        },
        "id": "UKnZTPEZ0Wu_",
        "outputId": "9db59840-ad02-4726-e498-a887e36b42f5"
      },
      "execution_count": 25,
      "outputs": [
        {
          "output_type": "execute_result",
          "data": {
            "text/plain": [
              "(50, 50)"
            ]
          },
          "metadata": {},
          "execution_count": 25
        }
      ]
    },
    {
      "cell_type": "code",
      "source": [
        "# Buat Train dan Test\n",
        "X_train = X[:40]\n",
        "y_train = y[:40]\n",
        "\n",
        "X_test = X[40:]\n",
        "y_test = y[40:]"
      ],
      "metadata": {
        "id": "9WbrP1aSzobC"
      },
      "execution_count": 26,
      "outputs": []
    },
    {
      "cell_type": "code",
      "source": [
        "# Visualisasikan dengan matplotlib data train dan data test\n",
        "plt.figure(figsize=(10,10))\n",
        "plt.scatter(X_train,y_train,c='g')\n",
        "plt.scatter(X_test,y_test,c='r')\n",
        "plt.legend([\"Train Data\",\"Test Data\"])"
      ],
      "metadata": {
        "colab": {
          "base_uri": "https://localhost:8080/",
          "height": 848
        },
        "id": "ayjrgkV10KmQ",
        "outputId": "977cf8bb-7e56-41b5-fb06-95ce3fdfc0c4"
      },
      "execution_count": 27,
      "outputs": [
        {
          "output_type": "execute_result",
          "data": {
            "text/plain": [
              "<matplotlib.legend.Legend at 0x7807912e56f0>"
            ]
          },
          "metadata": {},
          "execution_count": 27
        },
        {
          "output_type": "display_data",
          "data": {
            "text/plain": [
              "<Figure size 1000x1000 with 1 Axes>"
            ],
            "image/png": "[encoded data removed]"
          },
          "metadata": {}
        }
      ]
    },
    {
      "cell_type": "code",
      "source": [
        "# Membuat Model dengan data yang sudah di split\n",
        "tf.random.set_seed(42)\n",
        "\n",
        "model = tf.keras.Sequential([\n",
        "    tf.keras.layers.Dense(50,activation=\"relu\"),\n",
        "    tf.keras.layers.Dense(50,activation=\"relu\"),\n",
        "    tf.keras.layers.Dense(1)\n",
        "])\n",
        "\n",
        "model.compile(loss=\"mae\",optimizer=tf.keras.optimizers.Adam(learning_rate=0.03),metrics=\"mae\")\n",
        "model.fit(tf.expand_dims(X_train, axis=-1), y_train, epochs=100)"
      ],
      "metadata": {
        "colab": {
          "base_uri": "https://localhost:8080/"
        },
        "id": "Mh3jQU3W00pu",
        "outputId": "00c0e8e6-a7fc-47cb-b927-ba4ea7f03e85"
      },
      "execution_count": 28,
      "outputs": [
        {
          "output_type": "stream",
          "name": "stdout",
          "text": [
            "Epoch 1/100\n",
            "2/2 [==============================] - 1s 18ms/step - loss: 33.4548 - mae: 33.4548\n",
            "Epoch 2/100\n",
            "2/2 [==============================] - 0s 7ms/step - loss: 11.4120 - mae: 11.4120\n",
            "Epoch 3/100\n",
            "2/2 [==============================] - 0s 6ms/step - loss: 11.2633 - mae: 11.2633\n",
            "Epoch 4/100\n",
            "2/2 [==============================] - 0s 10ms/step - loss: 9.9193 - mae: 9.9193\n",
            "Epoch 5/100\n",
            "2/2 [==============================] - 0s 11ms/step - loss: 5.9872 - mae: 5.9872\n",
            "Epoch 6/100\n",
            "2/2 [==============================] - 0s 9ms/step - loss: 10.1044 - mae: 10.1044\n",
            "Epoch 7/100\n",
            "2/2 [==============================] - 0s 7ms/step - loss: 6.3806 - mae: 6.3806\n",
            "Epoch 8/100\n",
            "2/2 [==============================] - 0s 8ms/step - loss: 10.2860 - mae: 10.2860\n",
            "Epoch 9/100\n",
            "2/2 [==============================] - 0s 8ms/step - loss: 8.9553 - mae: 8.9553\n",
            "Epoch 10/100\n",
            "2/2 [==============================] - 0s 6ms/step - loss: 4.6061 - mae: 4.6061\n",
            "Epoch 11/100\n",
            "2/2 [==============================] - 0s 7ms/step - loss: 10.5229 - mae: 10.5229\n",
            "Epoch 12/100\n",
            "2/2 [==============================] - 0s 7ms/step - loss: 7.5974 - mae: 7.5974\n",
            "Epoch 13/100\n",
            "2/2 [==============================] - 0s 7ms/step - loss: 6.8030 - mae: 6.8030\n",
            "Epoch 14/100\n",
            "2/2 [==============================] - 0s 9ms/step - loss: 7.8935 - mae: 7.8935\n",
            "Epoch 15/100\n",
            "2/2 [==============================] - 0s 7ms/step - loss: 4.7946 - mae: 4.7946\n",
            "Epoch 16/100\n",
            "2/2 [==============================] - 0s 8ms/step - loss: 7.2839 - mae: 7.2839\n",
            "Epoch 17/100\n",
            "2/2 [==============================] - 0s 8ms/step - loss: 6.6504 - mae: 6.6504\n",
            "Epoch 18/100\n",
            "2/2 [==============================] - 0s 7ms/step - loss: 6.8892 - mae: 6.8892\n",
            "Epoch 19/100\n",
            "2/2 [==============================] - 0s 7ms/step - loss: 8.5750 - mae: 8.5750\n",
            "Epoch 20/100\n",
            "2/2 [==============================] - 0s 8ms/step - loss: 7.3874 - mae: 7.3874\n",
            "Epoch 21/100\n",
            "2/2 [==============================] - 0s 7ms/step - loss: 10.1244 - mae: 10.1244\n",
            "Epoch 22/100\n",
            "2/2 [==============================] - 0s 7ms/step - loss: 5.0178 - mae: 5.0178\n",
            "Epoch 23/100\n",
            "2/2 [==============================] - 0s 7ms/step - loss: 5.8936 - mae: 5.8936\n",
            "Epoch 24/100\n",
            "2/2 [==============================] - 0s 7ms/step - loss: 7.9389 - mae: 7.9389\n",
            "Epoch 25/100\n",
            "2/2 [==============================] - 0s 7ms/step - loss: 6.2037 - mae: 6.2037\n",
            "Epoch 26/100\n",
            "2/2 [==============================] - 0s 7ms/step - loss: 4.6972 - mae: 4.6972\n",
            "Epoch 27/100\n",
            "2/2 [==============================] - 0s 6ms/step - loss: 4.3695 - mae: 4.3695\n",
            "Epoch 28/100\n",
            "2/2 [==============================] - 0s 8ms/step - loss: 4.4737 - mae: 4.4737\n",
            "Epoch 29/100\n",
            "2/2 [==============================] - 0s 6ms/step - loss: 2.9114 - mae: 2.9114\n",
            "Epoch 30/100\n",
            "2/2 [==============================] - 0s 7ms/step - loss: 3.9146 - mae: 3.9146\n",
            "Epoch 31/100\n",
            "2/2 [==============================] - 0s 7ms/step - loss: 4.7368 - mae: 4.7368\n",
            "Epoch 32/100\n",
            "2/2 [==============================] - 0s 7ms/step - loss: 4.3479 - mae: 4.3479\n",
            "Epoch 33/100\n",
            "2/2 [==============================] - 0s 7ms/step - loss: 3.7965 - mae: 3.7965\n",
            "Epoch 34/100\n",
            "2/2 [==============================] - 0s 8ms/step - loss: 3.4021 - mae: 3.4021\n",
            "Epoch 35/100\n",
            "2/2 [==============================] - 0s 7ms/step - loss: 3.5939 - mae: 3.5939\n",
            "Epoch 36/100\n",
            "2/2 [==============================] - 0s 6ms/step - loss: 4.9866 - mae: 4.9866\n",
            "Epoch 37/100\n",
            "2/2 [==============================] - 0s 8ms/step - loss: 4.7803 - mae: 4.7803\n",
            "Epoch 38/100\n",
            "2/2 [==============================] - 0s 8ms/step - loss: 5.8653 - mae: 5.8653\n",
            "Epoch 39/100\n",
            "2/2 [==============================] - 0s 12ms/step - loss: 2.6802 - mae: 2.6802\n",
            "Epoch 40/100\n",
            "2/2 [==============================] - 0s 8ms/step - loss: 2.6652 - mae: 2.6652\n",
            "Epoch 41/100\n",
            "2/2 [==============================] - 0s 8ms/step - loss: 2.1649 - mae: 2.1649\n",
            "Epoch 42/100\n",
            "2/2 [==============================] - 0s 8ms/step - loss: 2.0271 - mae: 2.0271\n",
            "Epoch 43/100\n",
            "2/2 [==============================] - 0s 11ms/step - loss: 1.9330 - mae: 1.9330\n",
            "Epoch 44/100\n",
            "2/2 [==============================] - 0s 10ms/step - loss: 4.4304 - mae: 4.4304\n",
            "Epoch 45/100\n",
            "2/2 [==============================] - 0s 8ms/step - loss: 3.4732 - mae: 3.4732\n",
            "Epoch 46/100\n",
            "2/2 [==============================] - 0s 7ms/step - loss: 3.6694 - mae: 3.6694\n",
            "Epoch 47/100\n",
            "2/2 [==============================] - 0s 9ms/step - loss: 2.7439 - mae: 2.7439\n",
            "Epoch 48/100\n",
            "2/2 [==============================] - 0s 8ms/step - loss: 3.5745 - mae: 3.5745\n",
            "Epoch 49/100\n",
            "2/2 [==============================] - 0s 8ms/step - loss: 2.2015 - mae: 2.2015\n",
            "Epoch 50/100\n",
            "2/2 [==============================] - 0s 7ms/step - loss: 2.5387 - mae: 2.5387\n",
            "Epoch 51/100\n",
            "2/2 [==============================] - 0s 7ms/step - loss: 1.0685 - mae: 1.0685\n",
            "Epoch 52/100\n",
            "2/2 [==============================] - 0s 7ms/step - loss: 1.2535 - mae: 1.2535\n",
            "Epoch 53/100\n",
            "2/2 [==============================] - 0s 7ms/step - loss: 0.8213 - mae: 0.8213\n",
            "Epoch 54/100\n",
            "2/2 [==============================] - 0s 7ms/step - loss: 2.2495 - mae: 2.2495\n",
            "Epoch 55/100\n",
            "2/2 [==============================] - 0s 7ms/step - loss: 1.1544 - mae: 1.1544\n",
            "Epoch 56/100\n",
            "2/2 [==============================] - 0s 12ms/step - loss: 1.8612 - mae: 1.8612\n",
            "Epoch 57/100\n",
            "2/2 [==============================] - 0s 10ms/step - loss: 2.2362 - mae: 2.2362\n",
            "Epoch 58/100\n",
            "2/2 [==============================] - 0s 8ms/step - loss: 1.7936 - mae: 1.7936\n",
            "Epoch 59/100\n",
            "2/2 [==============================] - 0s 10ms/step - loss: 1.2077 - mae: 1.2077\n",
            "Epoch 60/100\n",
            "2/2 [==============================] - 0s 7ms/step - loss: 0.9722 - mae: 0.9722\n",
            "Epoch 61/100\n",
            "2/2 [==============================] - 0s 7ms/step - loss: 1.2241 - mae: 1.2241\n",
            "Epoch 62/100\n",
            "2/2 [==============================] - 0s 10ms/step - loss: 0.8438 - mae: 0.8438\n",
            "Epoch 63/100\n",
            "2/2 [==============================] - 0s 8ms/step - loss: 0.8157 - mae: 0.8157\n",
            "Epoch 64/100\n",
            "2/2 [==============================] - 0s 7ms/step - loss: 0.7460 - mae: 0.7460\n",
            "Epoch 65/100\n",
            "2/2 [==============================] - 0s 8ms/step - loss: 1.7743 - mae: 1.7743\n",
            "Epoch 66/100\n",
            "2/2 [==============================] - 0s 6ms/step - loss: 1.8933 - mae: 1.8933\n",
            "Epoch 67/100\n",
            "2/2 [==============================] - 0s 7ms/step - loss: 1.1923 - mae: 1.1923\n",
            "Epoch 68/100\n",
            "2/2 [==============================] - 0s 7ms/step - loss: 3.5077 - mae: 3.5077\n",
            "Epoch 69/100\n",
            "2/2 [==============================] - 0s 7ms/step - loss: 1.2847 - mae: 1.2847\n",
            "Epoch 70/100\n",
            "2/2 [==============================] - 0s 7ms/step - loss: 1.9317 - mae: 1.9317\n",
            "Epoch 71/100\n",
            "2/2 [==============================] - 0s 7ms/step - loss: 2.5098 - mae: 2.5098\n",
            "Epoch 72/100\n",
            "2/2 [==============================] - 0s 7ms/step - loss: 2.1288 - mae: 2.1288\n",
            "Epoch 73/100\n",
            "2/2 [==============================] - 0s 7ms/step - loss: 2.4201 - mae: 2.4201\n",
            "Epoch 74/100\n",
            "2/2 [==============================] - 0s 11ms/step - loss: 1.8320 - mae: 1.8320\n",
            "Epoch 75/100\n",
            "2/2 [==============================] - 0s 7ms/step - loss: 1.8830 - mae: 1.8830\n",
            "Epoch 76/100\n",
            "2/2 [==============================] - 0s 7ms/step - loss: 2.3786 - mae: 2.3786\n",
            "Epoch 77/100\n",
            "2/2 [==============================] - 0s 7ms/step - loss: 2.4435 - mae: 2.4435\n",
            "Epoch 78/100\n",
            "2/2 [==============================] - 0s 7ms/step - loss: 0.7450 - mae: 0.7450\n",
            "Epoch 79/100\n",
            "2/2 [==============================] - 0s 10ms/step - loss: 3.2592 - mae: 3.2592\n",
            "Epoch 80/100\n",
            "2/2 [==============================] - 0s 8ms/step - loss: 4.1326 - mae: 4.1326\n",
            "Epoch 81/100\n",
            "2/2 [==============================] - 0s 8ms/step - loss: 4.9918 - mae: 4.9918\n",
            "Epoch 82/100\n",
            "2/2 [==============================] - 0s 10ms/step - loss: 1.2126 - mae: 1.2126\n",
            "Epoch 83/100\n",
            "2/2 [==============================] - 0s 7ms/step - loss: 4.9629 - mae: 4.9629\n",
            "Epoch 84/100\n",
            "2/2 [==============================] - 0s 8ms/step - loss: 1.9501 - mae: 1.9501\n",
            "Epoch 85/100\n",
            "2/2 [==============================] - 0s 8ms/step - loss: 3.3905 - mae: 3.3905\n",
            "Epoch 86/100\n",
            "2/2 [==============================] - 0s 7ms/step - loss: 1.3512 - mae: 1.3512\n",
            "Epoch 87/100\n",
            "2/2 [==============================] - 0s 8ms/step - loss: 0.9976 - mae: 0.9976\n",
            "Epoch 88/100\n",
            "2/2 [==============================] - 0s 7ms/step - loss: 1.8078 - mae: 1.8078\n",
            "Epoch 89/100\n",
            "2/2 [==============================] - 0s 7ms/step - loss: 2.4483 - mae: 2.4483\n",
            "Epoch 90/100\n",
            "2/2 [==============================] - 0s 7ms/step - loss: 1.1792 - mae: 1.1792\n",
            "Epoch 91/100\n",
            "2/2 [==============================] - 0s 10ms/step - loss: 2.0252 - mae: 2.0252\n",
            "Epoch 92/100\n",
            "2/2 [==============================] - 0s 9ms/step - loss: 1.6301 - mae: 1.6301\n",
            "Epoch 93/100\n",
            "2/2 [==============================] - 0s 8ms/step - loss: 2.4087 - mae: 2.4087\n",
            "Epoch 94/100\n",
            "2/2 [==============================] - 0s 7ms/step - loss: 1.2787 - mae: 1.2787\n",
            "Epoch 95/100\n",
            "2/2 [==============================] - 0s 7ms/step - loss: 2.0326 - mae: 2.0326\n",
            "Epoch 96/100\n",
            "2/2 [==============================] - 0s 7ms/step - loss: 1.3797 - mae: 1.3797\n",
            "Epoch 97/100\n",
            "2/2 [==============================] - 0s 7ms/step - loss: 2.5127 - mae: 2.5127\n",
            "Epoch 98/100\n",
            "2/2 [==============================] - 0s 9ms/step - loss: 3.4064 - mae: 3.4064\n",
            "Epoch 99/100\n",
            "2/2 [==============================] - 0s 8ms/step - loss: 1.9111 - mae: 1.9111\n",
            "Epoch 100/100\n",
            "2/2 [==============================] - 0s 8ms/step - loss: 4.6095 - mae: 4.6095\n"
          ]
        },
        {
          "output_type": "execute_result",
          "data": {
            "text/plain": [
              "<keras.src.callbacks.History at 0x780790d7e410>"
            ]
          },
          "metadata": {},
          "execution_count": 28
        }
      ]
    },
    {
      "cell_type": "code",
      "source": [
        "model.predict([100])"
      ],
      "metadata": {
        "colab": {
          "base_uri": "https://localhost:8080/"
        },
        "id": "cpSt8cKp8v4h",
        "outputId": "8ce44cb0-4ee8-4b92-c724-cb489051243a"
      },
      "execution_count": 29,
      "outputs": [
        {
          "output_type": "stream",
          "name": "stdout",
          "text": [
            "1/1 [==============================] - 0s 75ms/step\n"
          ]
        },
        {
          "output_type": "execute_result",
          "data": {
            "text/plain": [
              "array([[118.09336]], dtype=float32)"
            ]
          },
          "metadata": {},
          "execution_count": 29
        }
      ]
    },
    {
      "cell_type": "code",
      "source": [
        "# Mari kita visualisasikan hasil prediksi model yang telah di buat dengan membandingkan data train dan test\n",
        "\n",
        "y_pred = model.predict(X_test)\n",
        "y_pred"
      ],
      "metadata": {
        "colab": {
          "base_uri": "https://localhost:8080/"
        },
        "id": "YVaLpAyr8yjH",
        "outputId": "4e87245f-5c2c-4ada-e5a2-ff2df4bf7ad1"
      },
      "execution_count": 30,
      "outputs": [
        {
          "output_type": "stream",
          "name": "stdout",
          "text": [
            "1/1 [==============================] - 0s 60ms/step\n"
          ]
        },
        {
          "output_type": "execute_result",
          "data": {
            "text/plain": [
              "array([[ 74.90791 ],\n",
              "       [ 79.22464 ],\n",
              "       [ 83.54215 ],\n",
              "       [ 87.86106 ],\n",
              "       [ 92.17996 ],\n",
              "       [ 96.498856],\n",
              "       [100.81776 ],\n",
              "       [105.13666 ],\n",
              "       [109.45556 ],\n",
              "       [113.774475]], dtype=float32)"
            ]
          },
          "metadata": {},
          "execution_count": 30
        }
      ]
    },
    {
      "cell_type": "code",
      "source": [
        "plt.figure(figsize=(10,10))\n",
        "plt.scatter(X_train,y_train,c='g',label=\"Train Data\")\n",
        "plt.scatter(X_test,y_test,c='b',label=\"Test Data\")\n",
        "plt.scatter(y_test,y_pred,c='r',label=\"Predictions\")\n",
        "plt.legend()"
      ],
      "metadata": {
        "colab": {
          "base_uri": "https://localhost:8080/",
          "height": 848
        },
        "id": "ZrBnkMxm9VuE",
        "outputId": "d90dffcf-6bad-40db-95f4-cdff7777042b"
      },
      "execution_count": 31,
      "outputs": [
        {
          "output_type": "execute_result",
          "data": {
            "text/plain": [
              "<matplotlib.legend.Legend at 0x780790c9d780>"
            ]
          },
          "metadata": {},
          "execution_count": 31
        },
        {
          "output_type": "display_data",
          "data": {
            "text/plain": [
              "<Figure size 1000x1000 with 1 Axes>"
            ],
            "image/png": "[encoded data removed]"
          },
          "metadata": {}
        }
      ]
    },
    {
      "cell_type": "code",
      "source": [
        "# Sejauh ini model yang telah di buat sepertinya hampir mendekati, namun belum terlalu baik"
      ],
      "metadata": {
        "id": "KkJBzwhm-kiG"
      },
      "execution_count": 32,
      "outputs": []
    },
    {
      "cell_type": "markdown",
      "source": [
        "## Experiment membuat model dan memvisualisasikan nya dengan kondisi yang berbeda\n",
        "\n",
        "1. model_1 -> dense 1, epochs 100\n",
        "2. model_2 -> dense 128, dense 1, epochs 100\n",
        "3. model_3 -> dense 128, dense 1, epochs 500\n",
        "4. model_4 -> dense 128, dense 1, learning_rate = 0.02 , epochs=100"
      ],
      "metadata": {
        "id": "8nAWtVJHfM1J"
      }
    },
    {
      "cell_type": "code",
      "source": [
        "X_train,y_train"
      ],
      "metadata": {
        "colab": {
          "base_uri": "https://localhost:8080/"
        },
        "id": "VK6LVcp5fqL7",
        "outputId": "0436176f-019d-4a0a-95e3-a8754ee3677a"
      },
      "execution_count": 33,
      "outputs": [
        {
          "output_type": "execute_result",
          "data": {
            "text/plain": [
              "(<tf.Tensor: shape=(40,), dtype=int32, numpy=\n",
              " array([-100,  -96,  -92,  -88,  -84,  -80,  -76,  -72,  -68,  -64,  -60,\n",
              "         -56,  -52,  -48,  -44,  -40,  -36,  -32,  -28,  -24,  -20,  -16,\n",
              "         -12,   -8,   -4,    0,    4,    8,   12,   16,   20,   24,   28,\n",
              "          32,   36,   40,   44,   48,   52,   56], dtype=int32)>,\n",
              " <tf.Tensor: shape=(40,), dtype=int32, numpy=\n",
              " array([-90, -86, -82, -78, -74, -70, -66, -62, -58, -54, -50, -46, -42,\n",
              "        -38, -34, -30, -26, -22, -18, -14, -10,  -6,  -2,   2,   6,  10,\n",
              "         14,  18,  22,  26,  30,  34,  38,  42,  46,  50,  54,  58,  62,\n",
              "         66], dtype=int32)>)"
            ]
          },
          "metadata": {},
          "execution_count": 33
        }
      ]
    },
    {
      "cell_type": "code",
      "source": [
        "def make_plot(X_train,y_train,X_test,y_test,preds):\n",
        "  plt.figure(figsize=(10,10))\n",
        "  plt.scatter(X_train,y_train,c='r',label=\"Training Data\")\n",
        "  plt.scatter(X_test,y_test,c='g',label=\"Test Data\")\n",
        "  plt.scatter(y_test,preds,c='b',label=\"Prediction\")\n",
        "  plt.legend()"
      ],
      "metadata": {
        "id": "KzmBAni0hC8s"
      },
      "execution_count": 38,
      "outputs": []
    },
    {
      "cell_type": "markdown",
      "source": [
        "### Membuat Model 1, dengan 1 layer dan epochs 100"
      ],
      "metadata": {
        "id": "efGcQb6ngnaq"
      }
    },
    {
      "cell_type": "code",
      "source": [
        "# Membuat Model 1\n",
        "tf.random.set_seed(42)\n",
        "\n",
        "model_1 = tf.keras.Sequential([\n",
        "    tf.keras.layers.Dense(1)\n",
        "])\n",
        "\n",
        "model_1.compile(loss='mae',optimizer=tf.keras.optimizers.SGD(),metrics=\"mae\")\n",
        "\n",
        "# Tambahkan verbose 0 agar tidak menampilkan output per epochs\n",
        "model_1.fit(tf.expand_dims(X_train, axis=-1), y_train, epochs=100,verbose=0)"
      ],
      "metadata": {
        "colab": {
          "base_uri": "https://localhost:8080/"
        },
        "id": "ZzsIYaKsfnPA",
        "outputId": "09425fed-7327-4d1d-fa90-6a4d8e8d22d8"
      },
      "execution_count": 46,
      "outputs": [
        {
          "output_type": "execute_result",
          "data": {
            "text/plain": [
              "<keras.src.callbacks.History at 0x7807807c36a0>"
            ]
          },
          "metadata": {},
          "execution_count": 46
        }
      ]
    },
    {
      "cell_type": "code",
      "source": [
        "# Visualisasikan Model yang sudah di training dengan data test\n",
        "preds_1 = model_1.predict(X_test)\n",
        "make_plot(X_train,y_train,X_test,y_test,preds_1)"
      ],
      "metadata": {
        "colab": {
          "base_uri": "https://localhost:8080/",
          "height": 848
        },
        "id": "1tGtfRfngktB",
        "outputId": "75d7448d-ee4b-4260-f2ed-66db3aff587f"
      },
      "execution_count": 47,
      "outputs": [
        {
          "output_type": "stream",
          "name": "stdout",
          "text": [
            "1/1 [==============================] - 0s 52ms/step\n"
          ]
        },
        {
          "output_type": "display_data",
          "data": {
            "text/plain": [
              "<Figure size 1000x1000 with 1 Axes>"
            ],
            "image/png": "[encoded data removed]"
          },
          "metadata": {}
        }
      ]
    },
    {
      "cell_type": "markdown",
      "source": [
        "### Membuat Model 2, layer 1 (128) - layer 2 (1) dan epochs 100"
      ],
      "metadata": {
        "id": "C-M2QCFTiCUz"
      }
    },
    {
      "cell_type": "code",
      "source": [
        "# Membuat Model 2\n",
        "tf.random.set_seed(42)\n",
        "\n",
        "model_2 = tf.keras.Sequential([\n",
        "    tf.keras.layers.Dense(128),\n",
        "    tf.keras.layers.Dense(1)\n",
        "])\n",
        "\n",
        "model_2.compile(loss='mae',optimizer=tf.keras.optimizers.SGD(),metrics=\"mae\")\n",
        "\n",
        "# Tambahkan verbose 0 agar tidak menampilkan output per epochs\n",
        "model_2.fit(tf.expand_dims(X_train, axis=-1), y_train, epochs=100,verbose=0)"
      ],
      "metadata": {
        "colab": {
          "base_uri": "https://localhost:8080/"
        },
        "id": "cALhJ7POiA-h",
        "outputId": "ecae80c4-fda2-48da-cc8d-ea6d917daa0a"
      },
      "execution_count": 48,
      "outputs": [
        {
          "output_type": "execute_result",
          "data": {
            "text/plain": [
              "<keras.src.callbacks.History at 0x78078029b550>"
            ]
          },
          "metadata": {},
          "execution_count": 48
        }
      ]
    },
    {
      "cell_type": "code",
      "source": [
        "# Visualisasikan Model yang sudah di training dengan data test\n",
        "preds_2 = model_2.predict(X_test)\n",
        "make_plot(X_train,y_train,X_test,y_test,preds_2)"
      ],
      "metadata": {
        "colab": {
          "base_uri": "https://localhost:8080/",
          "height": 848
        },
        "id": "nBOrvAt8iO5S",
        "outputId": "276d9cee-361c-48c6-cb2a-cd1aec8f4fd2"
      },
      "execution_count": 49,
      "outputs": [
        {
          "output_type": "stream",
          "name": "stdout",
          "text": [
            "1/1 [==============================] - 0s 85ms/step\n"
          ]
        },
        {
          "output_type": "display_data",
          "data": {
            "text/plain": [
              "<Figure size 1000x1000 with 1 Axes>"
            ],
            "image/png": "[encoded data removed]"
          },
          "metadata": {}
        }
      ]
    },
    {
      "cell_type": "code",
      "source": [
        "# Membuat Model 3\n",
        "tf.random.set_seed(42)\n",
        "\n",
        "model_3 = tf.keras.Sequential([\n",
        "    tf.keras.layers.Dense(128),\n",
        "    tf.keras.layers.Dense(1)\n",
        "])\n",
        "\n",
        "model_3.compile(loss='mae',optimizer=tf.keras.optimizers.SGD(),metrics=\"mae\")\n",
        "\n",
        "# Tambahkan verbose 0 agar tidak menampilkan output per epochs\n",
        "model_3.fit(tf.expand_dims(X_train, axis=-1), y_train, epochs=500,verbose=0)"
      ],
      "metadata": {
        "colab": {
          "base_uri": "https://localhost:8080/"
        },
        "id": "72FaD4PziX6v",
        "outputId": "35c7a061-a41c-487c-8db6-8d79935d4ee0"
      },
      "execution_count": 45,
      "outputs": [
        {
          "output_type": "execute_result",
          "data": {
            "text/plain": [
              "<keras.src.callbacks.History at 0x7807805986d0>"
            ]
          },
          "metadata": {},
          "execution_count": 45
        }
      ]
    },
    {
      "cell_type": "code",
      "source": [
        "# Visualisasikan Model yang sudah di training dengan data test\n",
        "preds_3 = model_3.predict(X_test)\n",
        "make_plot(X_train,y_train,X_test,y_test,preds_3)"
      ],
      "metadata": {
        "colab": {
          "base_uri": "https://localhost:8080/",
          "height": 848
        },
        "id": "vAOQrDT7ibsw",
        "outputId": "33888520-76a7-4b89-960f-7d22bda362cd"
      },
      "execution_count": 50,
      "outputs": [
        {
          "output_type": "stream",
          "name": "stdout",
          "text": [
            "1/1 [==============================] - 0s 66ms/step\n"
          ]
        },
        {
          "output_type": "display_data",
          "data": {
            "text/plain": [
              "<Figure size 1000x1000 with 1 Axes>"
            ],
            "image/png": "[encoded data removed]"
          },
          "metadata": {}
        }
      ]
    },
    {
      "cell_type": "code",
      "source": [
        "# Membuat Model 4\n",
        "tf.random.set_seed(42)\n",
        "\n",
        "model_4 = tf.keras.Sequential([\n",
        "    tf.keras.layers.Dense(128),\n",
        "    tf.keras.layers.Dense(1)\n",
        "])\n",
        "\n",
        "model_4.compile(loss='mae',optimizer=tf.keras.optimizers.Adam(learning_rate=0.03),metrics=\"mae\")\n",
        "\n",
        "# Tambahkan verbose 0 agar tidak menampilkan output per epochs\n",
        "model_4.fit(tf.expand_dims(X_train, axis=-1), y_train, epochs=100,verbose=0)"
      ],
      "metadata": {
        "colab": {
          "base_uri": "https://localhost:8080/"
        },
        "id": "bESMaCQti6LE",
        "outputId": "18e2d41e-3f05-4826-8a82-4c80579dba59"
      },
      "execution_count": 55,
      "outputs": [
        {
          "output_type": "execute_result",
          "data": {
            "text/plain": [
              "<keras.src.callbacks.History at 0x780781fde3b0>"
            ]
          },
          "metadata": {},
          "execution_count": 55
        }
      ]
    },
    {
      "cell_type": "code",
      "source": [
        "# Visualisasikan Model yang sudah di training dengan data test\n",
        "preds_4 = model_4.predict(X_test)\n",
        "make_plot(X_train,y_train,X_test,y_test,preds_4)"
      ],
      "metadata": {
        "colab": {
          "base_uri": "https://localhost:8080/",
          "height": 848
        },
        "id": "UbjXrZQwjFJu",
        "outputId": "efd88d38-1224-44a3-f9ee-588e2f5abaaf"
      },
      "execution_count": 56,
      "outputs": [
        {
          "output_type": "stream",
          "name": "stdout",
          "text": [
            "1/1 [==============================] - 0s 56ms/step\n"
          ]
        },
        {
          "output_type": "display_data",
          "data": {
            "text/plain": [
              "<Figure size 1000x1000 with 1 Axes>"
            ],
            "image/png": "[encoded data removed]"
          },
          "metadata": {}
        }
      ]
    },
    {
      "cell_type": "code",
      "source": [],
      "metadata": {
        "id": "J7q3RhEUjJM9"
      },
      "execution_count": null,
      "outputs": []
    }
  ]
}