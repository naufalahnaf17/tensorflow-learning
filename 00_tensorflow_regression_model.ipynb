{
  "nbformat": 4,
  "nbformat_minor": 0,
  "metadata": {
    "colab": {
      "provenance": [],
      "gpuType": "V28",
      "authorship_tag": "ABX9TyNWgNLYnILkYDFk2kv1s/jH",
      "include_colab_link": true
    },
    "kernelspec": {
      "name": "python3",
      "display_name": "Python 3"
    },
    "language_info": {
      "name": "python"
    },
    "accelerator": "TPU"
  },
  "cells": [
    {
      "cell_type": "markdown",
      "metadata": {
        "id": "view-in-github",
        "colab_type": "text"
      },
      "source": [
        "<a href=\"https://colab.research.google.com/github/naufalahnaf17/tensorflow_01_regression/blob/main/00_tensorflow_regression_model.ipynb\" target=\"_parent\"><img src=\"https://colab.research.google.com/assets/colab-badge.svg\" alt=\"Open In Colab\"/></a>"
      ]
    },
    {
      "cell_type": "markdown",
      "source": [
        "# Pengenalan awal tentang Tensorflow\n",
        "\n",
        "### Ada beberapa yang bakal kita lakukan disini yaitu :\n",
        "- kita akan menggunakan tensorflow -> untuk membuat model\n",
        "- lalu kita juga akan menggunakan matplotlib -> untuk memvisualisasikan data yang kita gunakan\n",
        "- setelah itu kita juga akan membuat model pertama kita menggunakan tensorflow\n",
        "- lalu kita juga akan mengevaluasi model yang telah dibuat dengan tuning yang berbeda\n",
        "\n",
        "### Algoritma yang kita akan gunakan yaitu Regression dan Evaluasi yang akan kita gunakan adalah MAE (Mean Absolute Error)"
      ],
      "metadata": {
        "id": "Flk-UpyJjXWv"
      }
    },
    {
      "cell_type": "markdown",
      "source": [
        "### Pertama tama kita akan melakukan import tensorflow dan matplotlib terlebih dahulu"
      ],
      "metadata": {
        "id": "iWiS5Wn6kXJO"
      }
    },
    {
      "cell_type": "code",
      "source": [
        "# Import Tensorflow\n",
        "import tensorflow as tf\n",
        "# Import Matplotlib\n",
        "import matplotlib.pyplot as plt"
      ],
      "metadata": {
        "id": "3EyejOJTjd5I"
      },
      "execution_count": null,
      "outputs": []
    },
    {
      "cell_type": "code",
      "source": [
        "# Kita akan mengecek versi tensorflow terlebih dahulu, dengan begitu kita bisa tau versi tensorflow yang digunakan\n",
        "print(\"Tensorflow Version\",tf.__version__)"
      ],
      "metadata": {
        "colab": {
          "base_uri": "https://localhost:8080/"
        },
        "id": "PAy03cDtkpzP",
        "outputId": "66902c82-7d56-4130-ecbd-fe3598faf069"
      },
      "execution_count": null,
      "outputs": [
        {
          "output_type": "stream",
          "name": "stdout",
          "text": [
            "Tensorflow Version 2.15.0\n"
          ]
        }
      ]
    },
    {
      "cell_type": "markdown",
      "source": [],
      "metadata": {
        "id": "nE6YtYNDk22T"
      }
    },
    {
      "cell_type": "markdown",
      "source": [
        "### Selanjutnya kita akan membuat data yang akan kita training, kali ini kita akan melakukan dengan data sederhana terlebih dahulu"
      ],
      "metadata": {
        "id": "bljSMfxik4K_"
      }
    },
    {
      "cell_type": "code",
      "source": [
        "# Kita akan membuat data X dan y\n",
        "# Data X adalah data dari -100 hingga 100 dengan jarak masing masing adalah 4\n",
        "\n",
        "X = tf.range(-100,100,4)\n",
        "X"
      ],
      "metadata": {
        "colab": {
          "base_uri": "https://localhost:8080/"
        },
        "id": "QdPgKXB0lF3_",
        "outputId": "c1faafe8-ad4a-4ac1-ff78-2423f3b86f74"
      },
      "execution_count": null,
      "outputs": [
        {
          "output_type": "execute_result",
          "data": {
            "text/plain": [
              "<tf.Tensor: shape=(50,), dtype=int32, numpy=\n",
              "array([-100,  -96,  -92,  -88,  -84,  -80,  -76,  -72,  -68,  -64,  -60,\n",
              "        -56,  -52,  -48,  -44,  -40,  -36,  -32,  -28,  -24,  -20,  -16,\n",
              "        -12,   -8,   -4,    0,    4,    8,   12,   16,   20,   24,   28,\n",
              "         32,   36,   40,   44,   48,   52,   56,   60,   64,   68,   72,\n",
              "         76,   80,   84,   88,   92,   96], dtype=int32)>"
            ]
          },
          "metadata": {},
          "execution_count": 6
        }
      ]
    },
    {
      "cell_type": "code",
      "source": [
        "# Selanjutnya kita akan membuat data y\n",
        "# Data y adalah data dari range X namun kita tambahkan 10\n",
        "y = X + 10\n",
        "y"
      ],
      "metadata": {
        "colab": {
          "base_uri": "https://localhost:8080/"
        },
        "id": "wbhNHe0olRCz",
        "outputId": "479dd851-b6be-451d-f3e7-7a5f8c54f438"
      },
      "execution_count": null,
      "outputs": [
        {
          "output_type": "execute_result",
          "data": {
            "text/plain": [
              "<tf.Tensor: shape=(50,), dtype=int32, numpy=\n",
              "array([-90, -86, -82, -78, -74, -70, -66, -62, -58, -54, -50, -46, -42,\n",
              "       -38, -34, -30, -26, -22, -18, -14, -10,  -6,  -2,   2,   6,  10,\n",
              "        14,  18,  22,  26,  30,  34,  38,  42,  46,  50,  54,  58,  62,\n",
              "        66,  70,  74,  78,  82,  86,  90,  94,  98, 102, 106], dtype=int32)>"
            ]
          },
          "metadata": {},
          "execution_count": 7
        }
      ]
    },
    {
      "cell_type": "code",
      "source": [
        "# Mari kita visualisasikan data X dan y secara sederhana terlebih dahulu\n",
        "plt.scatter(X,y)"
      ],
      "metadata": {
        "colab": {
          "base_uri": "https://localhost:8080/",
          "height": 448
        },
        "id": "CrnQ6l4WlpmA",
        "outputId": "77f230b3-8054-414d-bd28-b453d061c7ea"
      },
      "execution_count": null,
      "outputs": [
        {
          "output_type": "execute_result",
          "data": {
            "text/plain": [
              "<matplotlib.collections.PathCollection at 0x7e8fe76bb100>"
            ]
          },
          "metadata": {},
          "execution_count": 15
        },
        {
          "output_type": "display_data",
          "data": {
            "text/plain": [
              "<Figure size 640x480 with 1 Axes>"
            ],
            "image/png": "[encoded data removed]"
          },
          "metadata": {}
        }
      ]
    },
    {
      "cell_type": "markdown",
      "source": [
        "### Selanjutnya mari kita membuat model sederhana dengan tensorflow\n",
        "\n",
        "Step by step untuk membuat model sederhana dengan tensorflow\n",
        "\n",
        "1. Create Model -> define input dan output\n",
        "2. Compile Model -> define loss function (loss dalam artian kita harus tau untuk evaluasi model yang telah kita buat seberapa bagus, dan juga kita bisa membuat evaluasi tentang model yang dibuat)\n",
        "3. Fitting Model -> letting model find pattern dari X dan y (features dan labels)"
      ],
      "metadata": {
        "id": "nVxRaFCxm1Hl"
      }
    },
    {
      "cell_type": "code",
      "source": [
        "X.ndim,y.ndim"
      ],
      "metadata": {
        "colab": {
          "base_uri": "https://localhost:8080/"
        },
        "id": "mQYBbXgJpOEo",
        "outputId": "a47b8160-1723-4052-e6fb-0126c85032be"
      },
      "execution_count": null,
      "outputs": [
        {
          "output_type": "execute_result",
          "data": {
            "text/plain": [
              "(1, 1)"
            ]
          },
          "metadata": {},
          "execution_count": 19
        }
      ]
    },
    {
      "cell_type": "code",
      "source": [
        "# Step 1 Create Model\n",
        "# Untuk saat ini kita akan membuat model sederhana dengan 1 hidden layer tanpa activation\n",
        "# Untuk model yang akan kita buat untuk saat ini adalah tf.keras.Sequential\n",
        "\n",
        "# Untuk saat ini kita akan menggunakan set seed agar pelatihan model dan pengulangan terjadi secara sama\n",
        "tf.random.set_seed(42)\n",
        "\n",
        "model = tf.keras.Sequential([\n",
        "    tf.keras.layers.Dense(1)\n",
        "])\n",
        "\n",
        "# Step 2 Compile Model\n",
        "# Kita akan compile model sederhana yang kita buat dengan Loss dan Metrics MAE dan untuk optimizer kita akan menggunakan SGD (stochastic gradient descent)\n",
        "model.compile(loss=\"mae\",optimizer=tf.keras.optimizers.SGD(),metrics=\"mae\")\n",
        "\n",
        "# Step 3 Fitting Model\n",
        "# Pada saat kita fit model seharusnya syntax nya seperti ini\n",
        "# model.fit(X,y,epochs=5)\n",
        "# Namun kita harus sedikit memodifikasi karna ndim x dan y hanya 1 sedangkan minimal ndim seharusnya ada 2\n",
        "# Epochs adalah lap seperti dalam balapan -> jadi model yang kita buat ini akan melakukan 5 putaran untuk mempelajari data yang ada\n",
        "model.fit(tf.expand_dims(X, axis=-1), y, epochs=5)"
      ],
      "metadata": {
        "colab": {
          "base_uri": "https://localhost:8080/"
        },
        "id": "4Nrh4ix5m35W",
        "outputId": "7ca8676d-22fe-4014-e350-a798908e6313"
      },
      "execution_count": null,
      "outputs": [
        {
          "output_type": "stream",
          "name": "stdout",
          "text": [
            "Epoch 1/5\n",
            "2/2 [==============================] - 0s 7ms/step - loss: 122.0167 - mae: 122.0167\n",
            "Epoch 2/5\n",
            "2/2 [==============================] - 0s 4ms/step - loss: 72.0737 - mae: 72.0737\n",
            "Epoch 3/5\n",
            "2/2 [==============================] - 0s 4ms/step - loss: 23.9749 - mae: 23.9749\n",
            "Epoch 4/5\n",
            "2/2 [==============================] - 0s 4ms/step - loss: 13.6803 - mae: 13.6803\n",
            "Epoch 5/5\n",
            "2/2 [==============================] - 0s 4ms/step - loss: 15.5783 - mae: 15.5783\n"
          ]
        },
        {
          "output_type": "execute_result",
          "data": {
            "text/plain": [
              "<keras.src.callbacks.History at 0x7e884c0fea70>"
            ]
          },
          "metadata": {},
          "execution_count": 22
        }
      ]
    },
    {
      "cell_type": "code",
      "source": [
        "# Melakukan predict\n",
        "# Sebelum itu mari kita lihat data X dan y terlebih dahulu\n",
        "X,y"
      ],
      "metadata": {
        "colab": {
          "base_uri": "https://localhost:8080/"
        },
        "id": "jtuv4jqgn4cx",
        "outputId": "120811d9-1408-48ff-8c75-bdd5b4b1f8cb"
      },
      "execution_count": null,
      "outputs": [
        {
          "output_type": "execute_result",
          "data": {
            "text/plain": [
              "(<tf.Tensor: shape=(50,), dtype=int32, numpy=\n",
              " array([-100,  -96,  -92,  -88,  -84,  -80,  -76,  -72,  -68,  -64,  -60,\n",
              "         -56,  -52,  -48,  -44,  -40,  -36,  -32,  -28,  -24,  -20,  -16,\n",
              "         -12,   -8,   -4,    0,    4,    8,   12,   16,   20,   24,   28,\n",
              "          32,   36,   40,   44,   48,   52,   56,   60,   64,   68,   72,\n",
              "          76,   80,   84,   88,   92,   96], dtype=int32)>,\n",
              " <tf.Tensor: shape=(50,), dtype=int32, numpy=\n",
              " array([-90, -86, -82, -78, -74, -70, -66, -62, -58, -54, -50, -46, -42,\n",
              "        -38, -34, -30, -26, -22, -18, -14, -10,  -6,  -2,   2,   6,  10,\n",
              "         14,  18,  22,  26,  30,  34,  38,  42,  46,  50,  54,  58,  62,\n",
              "         66,  70,  74,  78,  82,  86,  90,  94,  98, 102, 106], dtype=int32)>)"
            ]
          },
          "metadata": {},
          "execution_count": 23
        }
      ]
    },
    {
      "cell_type": "code",
      "source": [
        "# Bisa dilihat dari data diatas masing masing kita bisa langsung tahu bahwa dari angka n ke angka ke depan adalah 4\n",
        "# Jadi kalau kita melakukan prediksi angka 100, maka harusnya y nya adalah 110\n",
        "model.predict([100])"
      ],
      "metadata": {
        "colab": {
          "base_uri": "https://localhost:8080/"
        },
        "id": "qAEgYdgcpx0v",
        "outputId": "57cb3db5-c486-41c9-96a3-e8b2751436ff"
      },
      "execution_count": null,
      "outputs": [
        {
          "output_type": "stream",
          "name": "stdout",
          "text": [
            "1/1 [==============================] - 0s 96ms/step\n"
          ]
        },
        {
          "output_type": "execute_result",
          "data": {
            "text/plain": [
              "array([[77.71062]], dtype=float32)"
            ]
          },
          "metadata": {},
          "execution_count": 24
        }
      ]
    },
    {
      "cell_type": "code",
      "source": [
        "# Ternyata model nya masih terlalu buruk karna seharusnya pada saat kita memasukan angka 100 jawaban yang seharusnya adalah 110"
      ],
      "metadata": {
        "id": "YFcATm4gqLAJ"
      },
      "execution_count": null,
      "outputs": []
    },
    {
      "cell_type": "markdown",
      "source": [
        "### Model pertama sudah berhasil dibuat, namun hasilnya sedikit mengecewakan karna jauh dari jawaban yang seharusnya\n",
        "\n",
        "pada section kali ini mari kita sedikit evaluasi model yang telah kita buat, ada beberapa cara untuk mengevaluasi model yang telah kita buat\n",
        "\n",
        "Creating Model (Step 1) :\n",
        "- Kita bisa menambahkan layer dan menaikan number dari layer itu sendiri (neuron) contoh -> **tf.keras.layers.Dense(100,activation=\"relu\")**\n",
        "\n",
        "Compile Model (Step 2) :\n",
        "- Kita juga bisa menggunakan optimizer berbeda dan menambahkan learning rate dari optimizer function contoh : -> model.compile(loss=\"mae\",optimizer=tf.keras.optimizers.Adam(learning_rate=0.001),metrics=\"mae\")\n",
        "\n",
        "Fitting Model (Step 3) :\n",
        "- Kita juga bisa menambahkan lap (epochs) pada model yang kita buat, walaupun lebih lama dalam melakukan training bisa jadi memungkinkan bahwa dengan menaikan epochs kita bisa mendapatkan hasil yang lebih maksimal\n",
        "- Atau bisa juga dengan menambahkan data X dan y"
      ],
      "metadata": {
        "id": "nxgrvWAkqeyu"
      }
    },
    {
      "cell_type": "code",
      "source": [
        "# Mari kita buat ulang model seperti diatas\n",
        "# Pada percobaan pertama kita akan menambahkan Epochs terlebih dahulu menjadi 100\n",
        "\n",
        "tf.random.set_seed(42)\n",
        "\n",
        "model = tf.keras.Sequential([\n",
        "    tf.keras.layers.Dense(1)\n",
        "])\n",
        "\n",
        "model.compile(loss=\"mae\",optimizer=tf.keras.optimizers.SGD(),metrics=\"mae\")\n",
        "\n",
        "model.fit(tf.expand_dims(X, axis=-1), y, epochs=100)"
      ],
      "metadata": {
        "colab": {
          "base_uri": "https://localhost:8080/"
        },
        "id": "0P33itSkqsvL",
        "outputId": "a7abf699-c770-496a-a5b3-6fab8b515406"
      },
      "execution_count": null,
      "outputs": [
        {
          "output_type": "stream",
          "name": "stdout",
          "text": [
            "Epoch 1/100\n",
            "2/2 [==============================] - 0s 7ms/step - loss: 108.4287 - mae: 108.4287\n",
            "Epoch 2/100\n",
            "2/2 [==============================] - 0s 4ms/step - loss: 58.5869 - mae: 58.5869\n",
            "Epoch 3/100\n",
            "2/2 [==============================] - 0s 4ms/step - loss: 16.4367 - mae: 16.4367\n",
            "Epoch 4/100\n",
            "2/2 [==============================] - 0s 4ms/step - loss: 10.2305 - mae: 10.2305\n",
            "Epoch 5/100\n",
            "2/2 [==============================] - 0s 4ms/step - loss: 12.3418 - mae: 12.3418\n",
            "Epoch 6/100\n",
            "2/2 [==============================] - 0s 4ms/step - loss: 12.9478 - mae: 12.9478\n",
            "Epoch 7/100\n",
            "2/2 [==============================] - 0s 4ms/step - loss: 10.8476 - mae: 10.8476\n",
            "Epoch 8/100\n",
            "2/2 [==============================] - 0s 4ms/step - loss: 13.9007 - mae: 13.9007\n",
            "Epoch 9/100\n",
            "2/2 [==============================] - 0s 4ms/step - loss: 14.7508 - mae: 14.7508\n",
            "Epoch 10/100\n",
            "2/2 [==============================] - 0s 4ms/step - loss: 10.0185 - mae: 10.0185\n",
            "Epoch 11/100\n",
            "2/2 [==============================] - 0s 4ms/step - loss: 9.9904 - mae: 9.9904\n",
            "Epoch 12/100\n",
            "2/2 [==============================] - 0s 4ms/step - loss: 9.9316 - mae: 9.9316\n",
            "Epoch 13/100\n",
            "2/2 [==============================] - 0s 4ms/step - loss: 9.7697 - mae: 9.7697\n",
            "Epoch 14/100\n",
            "2/2 [==============================] - 0s 4ms/step - loss: 10.5704 - mae: 10.5704\n",
            "Epoch 15/100\n",
            "2/2 [==============================] - 0s 4ms/step - loss: 14.2809 - mae: 14.2809\n",
            "Epoch 16/100\n",
            "2/2 [==============================] - 0s 4ms/step - loss: 13.6986 - mae: 13.6986\n",
            "Epoch 17/100\n",
            "2/2 [==============================] - 0s 4ms/step - loss: 10.2039 - mae: 10.2039\n",
            "Epoch 18/100\n",
            "2/2 [==============================] - 0s 4ms/step - loss: 10.7002 - mae: 10.7002\n",
            "Epoch 19/100\n",
            "2/2 [==============================] - 0s 4ms/step - loss: 10.0976 - mae: 10.0976\n",
            "Epoch 20/100\n",
            "2/2 [==============================] - 0s 4ms/step - loss: 10.8920 - mae: 10.8920\n",
            "Epoch 21/100\n",
            "2/2 [==============================] - 0s 4ms/step - loss: 12.1307 - mae: 12.1307\n",
            "Epoch 22/100\n",
            "2/2 [==============================] - 0s 4ms/step - loss: 9.6048 - mae: 9.6048\n",
            "Epoch 23/100\n",
            "2/2 [==============================] - 0s 4ms/step - loss: 9.3398 - mae: 9.3398\n",
            "Epoch 24/100\n",
            "2/2 [==============================] - 0s 4ms/step - loss: 9.7440 - mae: 9.7440\n",
            "Epoch 25/100\n",
            "2/2 [==============================] - 0s 4ms/step - loss: 9.6404 - mae: 9.6404\n",
            "Epoch 26/100\n",
            "2/2 [==============================] - 0s 4ms/step - loss: 10.0491 - mae: 10.0491\n",
            "Epoch 27/100\n",
            "2/2 [==============================] - 0s 4ms/step - loss: 10.3784 - mae: 10.3784\n",
            "Epoch 28/100\n",
            "2/2 [==============================] - 0s 4ms/step - loss: 9.7871 - mae: 9.7871\n",
            "Epoch 29/100\n",
            "2/2 [==============================] - 0s 4ms/step - loss: 9.6735 - mae: 9.6735\n",
            "Epoch 30/100\n",
            "2/2 [==============================] - 0s 4ms/step - loss: 9.7979 - mae: 9.7979\n",
            "Epoch 31/100\n",
            "2/2 [==============================] - 0s 4ms/step - loss: 10.6921 - mae: 10.6921\n",
            "Epoch 32/100\n",
            "2/2 [==============================] - 0s 4ms/step - loss: 9.6978 - mae: 9.6978\n",
            "Epoch 33/100\n",
            "2/2 [==============================] - 0s 4ms/step - loss: 9.5141 - mae: 9.5141\n",
            "Epoch 34/100\n",
            "2/2 [==============================] - 0s 4ms/step - loss: 9.8397 - mae: 9.8397\n",
            "Epoch 35/100\n",
            "2/2 [==============================] - 0s 4ms/step - loss: 11.0383 - mae: 11.0383\n",
            "Epoch 36/100\n",
            "2/2 [==============================] - 0s 4ms/step - loss: 10.6869 - mae: 10.6869\n",
            "Epoch 37/100\n",
            "2/2 [==============================] - 0s 4ms/step - loss: 9.4060 - mae: 9.4060\n",
            "Epoch 38/100\n",
            "2/2 [==============================] - 0s 4ms/step - loss: 9.4160 - mae: 9.4160\n",
            "Epoch 39/100\n",
            "2/2 [==============================] - 0s 4ms/step - loss: 10.2431 - mae: 10.2431\n",
            "Epoch 40/100\n",
            "2/2 [==============================] - 0s 4ms/step - loss: 11.8367 - mae: 11.8367\n",
            "Epoch 41/100\n",
            "2/2 [==============================] - 0s 4ms/step - loss: 10.4469 - mae: 10.4469\n",
            "Epoch 42/100\n",
            "2/2 [==============================] - 0s 4ms/step - loss: 10.3853 - mae: 10.3853\n",
            "Epoch 43/100\n",
            "2/2 [==============================] - 0s 4ms/step - loss: 12.9616 - mae: 12.9616\n",
            "Epoch 44/100\n",
            "2/2 [==============================] - 0s 4ms/step - loss: 10.1953 - mae: 10.1953\n",
            "Epoch 45/100\n",
            "2/2 [==============================] - 0s 4ms/step - loss: 9.5422 - mae: 9.5422\n",
            "Epoch 46/100\n",
            "2/2 [==============================] - 0s 4ms/step - loss: 9.4125 - mae: 9.4125\n",
            "Epoch 47/100\n",
            "2/2 [==============================] - 0s 4ms/step - loss: 9.3937 - mae: 9.3937\n",
            "Epoch 48/100\n",
            "2/2 [==============================] - 0s 4ms/step - loss: 9.6375 - mae: 9.6375\n",
            "Epoch 49/100\n",
            "2/2 [==============================] - 0s 4ms/step - loss: 10.2922 - mae: 10.2922\n",
            "Epoch 50/100\n",
            "2/2 [==============================] - 0s 4ms/step - loss: 9.6045 - mae: 9.6045\n",
            "Epoch 51/100\n",
            "2/2 [==============================] - 0s 4ms/step - loss: 9.0457 - mae: 9.0457\n",
            "Epoch 52/100\n",
            "2/2 [==============================] - 0s 4ms/step - loss: 9.3129 - mae: 9.3129\n",
            "Epoch 53/100\n",
            "2/2 [==============================] - 0s 4ms/step - loss: 9.4306 - mae: 9.4306\n",
            "Epoch 54/100\n",
            "2/2 [==============================] - 0s 4ms/step - loss: 9.3076 - mae: 9.3076\n",
            "Epoch 55/100\n",
            "2/2 [==============================] - 0s 4ms/step - loss: 9.4637 - mae: 9.4637\n",
            "Epoch 56/100\n",
            "2/2 [==============================] - 0s 4ms/step - loss: 9.1562 - mae: 9.1562\n",
            "Epoch 57/100\n",
            "2/2 [==============================] - 0s 4ms/step - loss: 8.7305 - mae: 8.7305\n",
            "Epoch 58/100\n",
            "2/2 [==============================] - 0s 4ms/step - loss: 9.2302 - mae: 9.2302\n",
            "Epoch 59/100\n",
            "2/2 [==============================] - 0s 4ms/step - loss: 9.0505 - mae: 9.0505\n",
            "Epoch 60/100\n",
            "2/2 [==============================] - 0s 4ms/step - loss: 10.1847 - mae: 10.1847\n",
            "Epoch 61/100\n",
            "2/2 [==============================] - 0s 4ms/step - loss: 9.0366 - mae: 9.0366\n",
            "Epoch 62/100\n",
            "2/2 [==============================] - 0s 4ms/step - loss: 10.0295 - mae: 10.0295\n",
            "Epoch 63/100\n",
            "2/2 [==============================] - 0s 4ms/step - loss: 12.7919 - mae: 12.7919\n",
            "Epoch 64/100\n",
            "2/2 [==============================] - 0s 4ms/step - loss: 9.4807 - mae: 9.4807\n",
            "Epoch 65/100\n",
            "2/2 [==============================] - 0s 4ms/step - loss: 8.9579 - mae: 8.9579\n",
            "Epoch 66/100\n",
            "2/2 [==============================] - 0s 4ms/step - loss: 8.9505 - mae: 8.9505\n",
            "Epoch 67/100\n",
            "2/2 [==============================] - 0s 4ms/step - loss: 9.0673 - mae: 9.0673\n",
            "Epoch 68/100\n",
            "2/2 [==============================] - 0s 4ms/step - loss: 9.1791 - mae: 9.1791\n",
            "Epoch 69/100\n",
            "2/2 [==============================] - 0s 4ms/step - loss: 9.1744 - mae: 9.1744\n",
            "Epoch 70/100\n",
            "2/2 [==============================] - 0s 3ms/step - loss: 9.4342 - mae: 9.4342\n",
            "Epoch 71/100\n",
            "2/2 [==============================] - 0s 4ms/step - loss: 8.8795 - mae: 8.8795\n",
            "Epoch 72/100\n",
            "2/2 [==============================] - 0s 4ms/step - loss: 9.9757 - mae: 9.9757\n",
            "Epoch 73/100\n",
            "2/2 [==============================] - 0s 6ms/step - loss: 11.9265 - mae: 11.9265\n",
            "Epoch 74/100\n",
            "2/2 [==============================] - 0s 4ms/step - loss: 8.5563 - mae: 8.5563\n",
            "Epoch 75/100\n",
            "2/2 [==============================] - 0s 4ms/step - loss: 8.7428 - mae: 8.7428\n",
            "Epoch 76/100\n",
            "2/2 [==============================] - 0s 4ms/step - loss: 8.7885 - mae: 8.7885\n",
            "Epoch 77/100\n",
            "2/2 [==============================] - 0s 4ms/step - loss: 8.1695 - mae: 8.1695\n",
            "Epoch 78/100\n",
            "2/2 [==============================] - 0s 4ms/step - loss: 11.2010 - mae: 11.2010\n",
            "Epoch 79/100\n",
            "2/2 [==============================] - 0s 4ms/step - loss: 9.5343 - mae: 9.5343\n",
            "Epoch 80/100\n",
            "2/2 [==============================] - 0s 4ms/step - loss: 13.1679 - mae: 13.1679\n",
            "Epoch 81/100\n",
            "2/2 [==============================] - 0s 4ms/step - loss: 14.3099 - mae: 14.3099\n",
            "Epoch 82/100\n",
            "2/2 [==============================] - 0s 4ms/step - loss: 16.2485 - mae: 16.2485\n",
            "Epoch 83/100\n",
            "2/2 [==============================] - 0s 4ms/step - loss: 9.5297 - mae: 9.5297\n",
            "Epoch 84/100\n",
            "2/2 [==============================] - 0s 4ms/step - loss: 8.6199 - mae: 8.6199\n",
            "Epoch 85/100\n",
            "2/2 [==============================] - 0s 4ms/step - loss: 8.7205 - mae: 8.7205\n",
            "Epoch 86/100\n",
            "2/2 [==============================] - 0s 4ms/step - loss: 8.9887 - mae: 8.9887\n",
            "Epoch 87/100\n",
            "2/2 [==============================] - 0s 4ms/step - loss: 9.1447 - mae: 9.1447\n",
            "Epoch 88/100\n",
            "2/2 [==============================] - 0s 4ms/step - loss: 8.6929 - mae: 8.6929\n",
            "Epoch 89/100\n",
            "2/2 [==============================] - 0s 3ms/step - loss: 8.8360 - mae: 8.8360\n",
            "Epoch 90/100\n",
            "2/2 [==============================] - 0s 4ms/step - loss: 8.6454 - mae: 8.6454\n",
            "Epoch 91/100\n",
            "2/2 [==============================] - 0s 4ms/step - loss: 8.6954 - mae: 8.6954\n",
            "Epoch 92/100\n",
            "2/2 [==============================] - 0s 4ms/step - loss: 8.5621 - mae: 8.5621\n",
            "Epoch 93/100\n",
            "2/2 [==============================] - 0s 4ms/step - loss: 9.1539 - mae: 9.1539\n",
            "Epoch 94/100\n",
            "2/2 [==============================] - 0s 4ms/step - loss: 9.8939 - mae: 9.8939\n",
            "Epoch 95/100\n",
            "2/2 [==============================] - 0s 4ms/step - loss: 12.8150 - mae: 12.8150\n",
            "Epoch 96/100\n",
            "2/2 [==============================] - 0s 4ms/step - loss: 9.1359 - mae: 9.1359\n",
            "Epoch 97/100\n",
            "2/2 [==============================] - 0s 3ms/step - loss: 10.5339 - mae: 10.5339\n",
            "Epoch 98/100\n",
            "2/2 [==============================] - 0s 3ms/step - loss: 14.7418 - mae: 14.7418\n",
            "Epoch 99/100\n",
            "2/2 [==============================] - 0s 4ms/step - loss: 10.8425 - mae: 10.8425\n",
            "Epoch 100/100\n",
            "2/2 [==============================] - 0s 4ms/step - loss: 14.9011 - mae: 14.9011\n"
          ]
        },
        {
          "output_type": "execute_result",
          "data": {
            "text/plain": [
              "<keras.src.callbacks.History at 0x7e884c32ec20>"
            ]
          },
          "metadata": {},
          "execution_count": 26
        }
      ]
    },
    {
      "cell_type": "code",
      "source": [
        "# Mari kita lihat terlebih dahulu X dan y\n",
        "X,y"
      ],
      "metadata": {
        "colab": {
          "base_uri": "https://localhost:8080/"
        },
        "id": "8lPktl3itHka",
        "outputId": "0c07bac4-603c-4210-d12b-b5d03487f1a9"
      },
      "execution_count": null,
      "outputs": [
        {
          "output_type": "execute_result",
          "data": {
            "text/plain": [
              "(<tf.Tensor: shape=(50,), dtype=int32, numpy=\n",
              " array([-100,  -96,  -92,  -88,  -84,  -80,  -76,  -72,  -68,  -64,  -60,\n",
              "         -56,  -52,  -48,  -44,  -40,  -36,  -32,  -28,  -24,  -20,  -16,\n",
              "         -12,   -8,   -4,    0,    4,    8,   12,   16,   20,   24,   28,\n",
              "          32,   36,   40,   44,   48,   52,   56,   60,   64,   68,   72,\n",
              "          76,   80,   84,   88,   92,   96], dtype=int32)>,\n",
              " <tf.Tensor: shape=(50,), dtype=int32, numpy=\n",
              " array([-90, -86, -82, -78, -74, -70, -66, -62, -58, -54, -50, -46, -42,\n",
              "        -38, -34, -30, -26, -22, -18, -14, -10,  -6,  -2,   2,   6,  10,\n",
              "         14,  18,  22,  26,  30,  34,  38,  42,  46,  50,  54,  58,  62,\n",
              "         66,  70,  74,  78,  82,  86,  90,  94,  98, 102, 106], dtype=int32)>)"
            ]
          },
          "metadata": {},
          "execution_count": 28
        }
      ]
    },
    {
      "cell_type": "code",
      "source": [
        "# Seharusnya saat kita memasukan angka 100, jawaban yang benar adalah 110, mari kita coba\n",
        "model.predict([100])"
      ],
      "metadata": {
        "colab": {
          "base_uri": "https://localhost:8080/"
        },
        "id": "rvxQ-81xtSCq",
        "outputId": "c4f1be04-e601-4add-f699-4ede8e2856ee"
      },
      "execution_count": null,
      "outputs": [
        {
          "output_type": "stream",
          "name": "stdout",
          "text": [
            "1/1 [==============================] - 0s 71ms/step\n"
          ]
        },
        {
          "output_type": "execute_result",
          "data": {
            "text/plain": [
              "array([[90.228935]], dtype=float32)"
            ]
          },
          "metadata": {},
          "execution_count": 30
        }
      ]
    },
    {
      "cell_type": "code",
      "source": [
        "# Masih jauh dari harapan, namun setidaknya membaik, maka dari itu mari kita coba membuat model dengan hidden layer yang lebih banyak dan kita buat juga dengan activation='relu'\n",
        "tf.random.set_seed(42)\n",
        "\n",
        "model = tf.keras.Sequential([\n",
        "    tf.keras.layers.Dense(50,activation=\"relu\"),\n",
        "    tf.keras.layers.Dense(1)\n",
        "])\n",
        "\n",
        "model.compile(loss=\"mae\",optimizer=tf.keras.optimizers.SGD(),metrics=\"mae\")\n",
        "\n",
        "model.fit(tf.expand_dims(X, axis=-1), y, epochs=100)"
      ],
      "metadata": {
        "colab": {
          "base_uri": "https://localhost:8080/"
        },
        "id": "daKFL42wtXsS",
        "outputId": "b8995265-1fa0-4f57-ed97-d441950445ce"
      },
      "execution_count": null,
      "outputs": [
        {
          "output_type": "stream",
          "name": "stdout",
          "text": [
            "Epoch 1/100\n",
            "2/2 [==============================] - 0s 7ms/step - loss: 35.2434 - mae: 35.2434\n",
            "Epoch 2/100\n",
            "2/2 [==============================] - 0s 4ms/step - loss: 14.0674 - mae: 14.0674\n",
            "Epoch 3/100\n",
            "2/2 [==============================] - 0s 4ms/step - loss: 15.0276 - mae: 15.0276\n",
            "Epoch 4/100\n",
            "2/2 [==============================] - 0s 4ms/step - loss: 13.7495 - mae: 13.7495\n",
            "Epoch 5/100\n",
            "2/2 [==============================] - 0s 4ms/step - loss: 12.9631 - mae: 12.9631\n",
            "Epoch 6/100\n",
            "2/2 [==============================] - 0s 4ms/step - loss: 16.0549 - mae: 16.0549\n",
            "Epoch 7/100\n",
            "2/2 [==============================] - 0s 4ms/step - loss: 9.7956 - mae: 9.7956\n",
            "Epoch 8/100\n",
            "2/2 [==============================] - 0s 4ms/step - loss: 15.7155 - mae: 15.7155\n",
            "Epoch 9/100\n",
            "2/2 [==============================] - 0s 4ms/step - loss: 16.6656 - mae: 16.6656\n",
            "Epoch 10/100\n",
            "2/2 [==============================] - 0s 4ms/step - loss: 13.3814 - mae: 13.3814\n",
            "Epoch 11/100\n",
            "2/2 [==============================] - 0s 4ms/step - loss: 12.9864 - mae: 12.9864\n",
            "Epoch 12/100\n",
            "2/2 [==============================] - 0s 4ms/step - loss: 13.3834 - mae: 13.3834\n",
            "Epoch 13/100\n",
            "2/2 [==============================] - 0s 4ms/step - loss: 13.3812 - mae: 13.3812\n",
            "Epoch 14/100\n",
            "2/2 [==============================] - 0s 4ms/step - loss: 16.7097 - mae: 16.7097\n",
            "Epoch 15/100\n",
            "2/2 [==============================] - 0s 4ms/step - loss: 14.1891 - mae: 14.1891\n",
            "Epoch 16/100\n",
            "2/2 [==============================] - 0s 4ms/step - loss: 13.3983 - mae: 13.3983\n",
            "Epoch 17/100\n",
            "2/2 [==============================] - 0s 4ms/step - loss: 11.1949 - mae: 11.1949\n",
            "Epoch 18/100\n",
            "2/2 [==============================] - 0s 4ms/step - loss: 10.8445 - mae: 10.8445\n",
            "Epoch 19/100\n",
            "2/2 [==============================] - 0s 4ms/step - loss: 11.5407 - mae: 11.5407\n",
            "Epoch 20/100\n",
            "2/2 [==============================] - 0s 4ms/step - loss: 12.0427 - mae: 12.0427\n",
            "Epoch 21/100\n",
            "2/2 [==============================] - 0s 4ms/step - loss: 12.5951 - mae: 12.5951\n",
            "Epoch 22/100\n",
            "2/2 [==============================] - 0s 4ms/step - loss: 12.9520 - mae: 12.9520\n",
            "Epoch 23/100\n",
            "2/2 [==============================] - 0s 4ms/step - loss: 10.1114 - mae: 10.1114\n",
            "Epoch 24/100\n",
            "2/2 [==============================] - 0s 4ms/step - loss: 12.8088 - mae: 12.8088\n",
            "Epoch 25/100\n",
            "2/2 [==============================] - 0s 4ms/step - loss: 13.6264 - mae: 13.6264\n",
            "Epoch 26/100\n",
            "2/2 [==============================] - 0s 4ms/step - loss: 8.4222 - mae: 8.4222\n",
            "Epoch 27/100\n",
            "2/2 [==============================] - 0s 4ms/step - loss: 14.2591 - mae: 14.2591\n",
            "Epoch 28/100\n",
            "2/2 [==============================] - 0s 4ms/step - loss: 12.8285 - mae: 12.8285\n",
            "Epoch 29/100\n",
            "2/2 [==============================] - 0s 4ms/step - loss: 15.1810 - mae: 15.1810\n",
            "Epoch 30/100\n",
            "2/2 [==============================] - 0s 5ms/step - loss: 12.1952 - mae: 12.1952\n",
            "Epoch 31/100\n",
            "2/2 [==============================] - 0s 4ms/step - loss: 13.0807 - mae: 13.0807\n",
            "Epoch 32/100\n",
            "2/2 [==============================] - 0s 4ms/step - loss: 14.6362 - mae: 14.6362\n",
            "Epoch 33/100\n",
            "2/2 [==============================] - 0s 4ms/step - loss: 9.1412 - mae: 9.1412\n",
            "Epoch 34/100\n",
            "2/2 [==============================] - 0s 4ms/step - loss: 8.4510 - mae: 8.4510\n",
            "Epoch 35/100\n",
            "2/2 [==============================] - 0s 4ms/step - loss: 11.4855 - mae: 11.4855\n",
            "Epoch 36/100\n",
            "2/2 [==============================] - 0s 4ms/step - loss: 9.3171 - mae: 9.3171\n",
            "Epoch 37/100\n",
            "2/2 [==============================] - 0s 4ms/step - loss: 13.3118 - mae: 13.3118\n",
            "Epoch 38/100\n",
            "2/2 [==============================] - 0s 4ms/step - loss: 9.1292 - mae: 9.1292\n",
            "Epoch 39/100\n",
            "2/2 [==============================] - 0s 4ms/step - loss: 9.5949 - mae: 9.5949\n",
            "Epoch 40/100\n",
            "2/2 [==============================] - 0s 4ms/step - loss: 9.5893 - mae: 9.5893\n",
            "Epoch 41/100\n",
            "2/2 [==============================] - 0s 4ms/step - loss: 16.9528 - mae: 16.9528\n",
            "Epoch 42/100\n",
            "2/2 [==============================] - 0s 4ms/step - loss: 11.2488 - mae: 11.2488\n",
            "Epoch 43/100\n",
            "2/2 [==============================] - 0s 5ms/step - loss: 10.1127 - mae: 10.1127\n",
            "Epoch 44/100\n",
            "2/2 [==============================] - 0s 5ms/step - loss: 11.6678 - mae: 11.6678\n",
            "Epoch 45/100\n",
            "2/2 [==============================] - 0s 4ms/step - loss: 12.0842 - mae: 12.0842\n",
            "Epoch 46/100\n",
            "2/2 [==============================] - 0s 4ms/step - loss: 11.4842 - mae: 11.4842\n",
            "Epoch 47/100\n",
            "2/2 [==============================] - 0s 4ms/step - loss: 13.2109 - mae: 13.2109\n",
            "Epoch 48/100\n",
            "2/2 [==============================] - 0s 4ms/step - loss: 10.7576 - mae: 10.7576\n",
            "Epoch 49/100\n",
            "2/2 [==============================] - 0s 4ms/step - loss: 11.6046 - mae: 11.6046\n",
            "Epoch 50/100\n",
            "2/2 [==============================] - 0s 4ms/step - loss: 20.3579 - mae: 20.3579\n",
            "Epoch 51/100\n",
            "2/2 [==============================] - 0s 4ms/step - loss: 12.7379 - mae: 12.7379\n",
            "Epoch 52/100\n",
            "2/2 [==============================] - 0s 4ms/step - loss: 16.1213 - mae: 16.1213\n",
            "Epoch 53/100\n",
            "2/2 [==============================] - 0s 4ms/step - loss: 10.8519 - mae: 10.8519\n",
            "Epoch 54/100\n",
            "2/2 [==============================] - 0s 4ms/step - loss: 12.0429 - mae: 12.0429\n",
            "Epoch 55/100\n",
            "2/2 [==============================] - 0s 4ms/step - loss: 5.6855 - mae: 5.6855\n",
            "Epoch 56/100\n",
            "2/2 [==============================] - 0s 4ms/step - loss: 16.4222 - mae: 16.4222\n",
            "Epoch 57/100\n",
            "2/2 [==============================] - 0s 4ms/step - loss: 10.5106 - mae: 10.5106\n",
            "Epoch 58/100\n",
            "2/2 [==============================] - 0s 4ms/step - loss: 10.3054 - mae: 10.3054\n",
            "Epoch 59/100\n",
            "2/2 [==============================] - 0s 4ms/step - loss: 11.4374 - mae: 11.4374\n",
            "Epoch 60/100\n",
            "2/2 [==============================] - 0s 4ms/step - loss: 9.2431 - mae: 9.2431\n",
            "Epoch 61/100\n",
            "2/2 [==============================] - 0s 4ms/step - loss: 17.0678 - mae: 17.0678\n",
            "Epoch 62/100\n",
            "2/2 [==============================] - 0s 4ms/step - loss: 11.1855 - mae: 11.1855\n",
            "Epoch 63/100\n",
            "2/2 [==============================] - 0s 4ms/step - loss: 9.5448 - mae: 9.5448\n",
            "Epoch 64/100\n",
            "2/2 [==============================] - 0s 4ms/step - loss: 11.4906 - mae: 11.4906\n",
            "Epoch 65/100\n",
            "2/2 [==============================] - 0s 4ms/step - loss: 16.0102 - mae: 16.0102\n",
            "Epoch 66/100\n",
            "2/2 [==============================] - 0s 4ms/step - loss: 8.8710 - mae: 8.8710\n",
            "Epoch 67/100\n",
            "2/2 [==============================] - 0s 4ms/step - loss: 15.2393 - mae: 15.2393\n",
            "Epoch 68/100\n",
            "2/2 [==============================] - 0s 4ms/step - loss: 10.3507 - mae: 10.3507\n",
            "Epoch 69/100\n",
            "2/2 [==============================] - 0s 4ms/step - loss: 14.8864 - mae: 14.8864\n",
            "Epoch 70/100\n",
            "2/2 [==============================] - 0s 4ms/step - loss: 18.7686 - mae: 18.7686\n",
            "Epoch 71/100\n",
            "2/2 [==============================] - 0s 4ms/step - loss: 13.2945 - mae: 13.2945\n",
            "Epoch 72/100\n",
            "2/2 [==============================] - 0s 4ms/step - loss: 13.7955 - mae: 13.7955\n",
            "Epoch 73/100\n",
            "2/2 [==============================] - 0s 4ms/step - loss: 8.3899 - mae: 8.3899\n",
            "Epoch 74/100\n",
            "2/2 [==============================] - 0s 4ms/step - loss: 11.7726 - mae: 11.7726\n",
            "Epoch 75/100\n",
            "2/2 [==============================] - 0s 4ms/step - loss: 10.8511 - mae: 10.8511\n",
            "Epoch 76/100\n",
            "2/2 [==============================] - 0s 4ms/step - loss: 18.1738 - mae: 18.1738\n",
            "Epoch 77/100\n",
            "2/2 [==============================] - 0s 4ms/step - loss: 13.4550 - mae: 13.4550\n",
            "Epoch 78/100\n",
            "2/2 [==============================] - 0s 4ms/step - loss: 13.2364 - mae: 13.2364\n",
            "Epoch 79/100\n",
            "2/2 [==============================] - 0s 4ms/step - loss: 6.6321 - mae: 6.6321\n",
            "Epoch 80/100\n",
            "2/2 [==============================] - 0s 5ms/step - loss: 10.7685 - mae: 10.7685\n",
            "Epoch 81/100\n",
            "2/2 [==============================] - 0s 4ms/step - loss: 10.6896 - mae: 10.6896\n",
            "Epoch 82/100\n",
            "2/2 [==============================] - 0s 4ms/step - loss: 11.9080 - mae: 11.9080\n",
            "Epoch 83/100\n",
            "2/2 [==============================] - 0s 4ms/step - loss: 8.5363 - mae: 8.5363\n",
            "Epoch 84/100\n",
            "2/2 [==============================] - 0s 4ms/step - loss: 9.1729 - mae: 9.1729\n",
            "Epoch 85/100\n",
            "2/2 [==============================] - 0s 4ms/step - loss: 12.1783 - mae: 12.1783\n",
            "Epoch 86/100\n",
            "2/2 [==============================] - 0s 4ms/step - loss: 8.8126 - mae: 8.8126\n",
            "Epoch 87/100\n",
            "2/2 [==============================] - 0s 4ms/step - loss: 12.2305 - mae: 12.2305\n",
            "Epoch 88/100\n",
            "2/2 [==============================] - 0s 4ms/step - loss: 12.5450 - mae: 12.5450\n",
            "Epoch 89/100\n",
            "2/2 [==============================] - 0s 4ms/step - loss: 10.1110 - mae: 10.1110\n",
            "Epoch 90/100\n",
            "2/2 [==============================] - 0s 4ms/step - loss: 14.3184 - mae: 14.3184\n",
            "Epoch 91/100\n",
            "2/2 [==============================] - 0s 4ms/step - loss: 12.3726 - mae: 12.3726\n",
            "Epoch 92/100\n",
            "2/2 [==============================] - 0s 4ms/step - loss: 12.6993 - mae: 12.6993\n",
            "Epoch 93/100\n",
            "2/2 [==============================] - 0s 4ms/step - loss: 13.3809 - mae: 13.3809\n",
            "Epoch 94/100\n",
            "2/2 [==============================] - 0s 4ms/step - loss: 10.8886 - mae: 10.8886\n",
            "Epoch 95/100\n",
            "2/2 [==============================] - 0s 4ms/step - loss: 13.1606 - mae: 13.1606\n",
            "Epoch 96/100\n",
            "2/2 [==============================] - 0s 4ms/step - loss: 9.1251 - mae: 9.1251\n",
            "Epoch 97/100\n",
            "2/2 [==============================] - 0s 4ms/step - loss: 11.4099 - mae: 11.4099\n",
            "Epoch 98/100\n",
            "2/2 [==============================] - 0s 4ms/step - loss: 13.7891 - mae: 13.7891\n",
            "Epoch 99/100\n",
            "2/2 [==============================] - 0s 4ms/step - loss: 13.3477 - mae: 13.3477\n",
            "Epoch 100/100\n",
            "2/2 [==============================] - 0s 4ms/step - loss: 15.3993 - mae: 15.3993\n"
          ]
        },
        {
          "output_type": "execute_result",
          "data": {
            "text/plain": [
              "<keras.src.callbacks.History at 0x7e88387c8130>"
            ]
          },
          "metadata": {},
          "execution_count": 32
        }
      ]
    },
    {
      "cell_type": "code",
      "source": [
        "# Mari kita coba predict\n",
        "model.predict([100])\n",
        "\n",
        "# Ternyata hasilnya malah lebih buruk, mari kita coba gunakan activation=None"
      ],
      "metadata": {
        "colab": {
          "base_uri": "https://localhost:8080/"
        },
        "id": "RFx8MmWitnIL",
        "outputId": "3d51b015-87fe-4255-81ab-1fb82a2d0755"
      },
      "execution_count": null,
      "outputs": [
        {
          "output_type": "stream",
          "name": "stdout",
          "text": [
            "1/1 [==============================] - 0s 74ms/step\n"
          ]
        },
        {
          "output_type": "execute_result",
          "data": {
            "text/plain": [
              "array([[75.51567]], dtype=float32)"
            ]
          },
          "metadata": {},
          "execution_count": 34
        }
      ]
    },
    {
      "cell_type": "code",
      "source": [
        "tf.random.set_seed(42)\n",
        "\n",
        "model = tf.keras.Sequential([\n",
        "    tf.keras.layers.Dense(50,activation=None),\n",
        "    tf.keras.layers.Dense(1)\n",
        "])\n",
        "\n",
        "model.compile(loss=\"mae\",optimizer=tf.keras.optimizers.SGD(),metrics=\"mae\")\n",
        "\n",
        "model.fit(tf.expand_dims(X, axis=-1), y, epochs=100)"
      ],
      "metadata": {
        "colab": {
          "base_uri": "https://localhost:8080/"
        },
        "id": "i2GROWKItxv7",
        "outputId": "9b136d11-9b8f-447f-d1ea-f2737ea9583c"
      },
      "execution_count": null,
      "outputs": [
        {
          "output_type": "stream",
          "name": "stdout",
          "text": [
            "Epoch 1/100\n",
            "2/2 [==============================] - 0s 7ms/step - loss: 59.0581 - mae: 59.0581\n",
            "Epoch 2/100\n",
            "2/2 [==============================] - 0s 4ms/step - loss: 31.7120 - mae: 31.7120\n",
            "Epoch 3/100\n",
            "2/2 [==============================] - 0s 4ms/step - loss: 29.9530 - mae: 29.9530\n",
            "Epoch 4/100\n",
            "2/2 [==============================] - 0s 4ms/step - loss: 26.2035 - mae: 26.2035\n",
            "Epoch 5/100\n",
            "2/2 [==============================] - 0s 4ms/step - loss: 24.4336 - mae: 24.4336\n",
            "Epoch 6/100\n",
            "2/2 [==============================] - 0s 4ms/step - loss: 20.3462 - mae: 20.3462\n",
            "Epoch 7/100\n",
            "2/2 [==============================] - 0s 4ms/step - loss: 21.0032 - mae: 21.0032\n",
            "Epoch 8/100\n",
            "2/2 [==============================] - 0s 4ms/step - loss: 17.1511 - mae: 17.1511\n",
            "Epoch 9/100\n",
            "2/2 [==============================] - 0s 4ms/step - loss: 25.7183 - mae: 25.7183\n",
            "Epoch 10/100\n",
            "2/2 [==============================] - 0s 4ms/step - loss: 20.3083 - mae: 20.3083\n",
            "Epoch 11/100\n",
            "2/2 [==============================] - 0s 4ms/step - loss: 14.1356 - mae: 14.1356\n",
            "Epoch 12/100\n",
            "2/2 [==============================] - 0s 4ms/step - loss: 22.4021 - mae: 22.4021\n",
            "Epoch 13/100\n",
            "2/2 [==============================] - 0s 4ms/step - loss: 9.9185 - mae: 9.9185\n",
            "Epoch 14/100\n",
            "2/2 [==============================] - 0s 4ms/step - loss: 11.8021 - mae: 11.8021\n",
            "Epoch 15/100\n",
            "2/2 [==============================] - 0s 4ms/step - loss: 22.6741 - mae: 22.6741\n",
            "Epoch 16/100\n",
            "2/2 [==============================] - 0s 4ms/step - loss: 18.0480 - mae: 18.0480\n",
            "Epoch 17/100\n",
            "2/2 [==============================] - 0s 4ms/step - loss: 20.5818 - mae: 20.5818\n",
            "Epoch 18/100\n",
            "2/2 [==============================] - 0s 4ms/step - loss: 26.1405 - mae: 26.1405\n",
            "Epoch 19/100\n",
            "2/2 [==============================] - 0s 4ms/step - loss: 25.6801 - mae: 25.6801\n",
            "Epoch 20/100\n",
            "2/2 [==============================] - 0s 4ms/step - loss: 19.1064 - mae: 19.1064\n",
            "Epoch 21/100\n",
            "2/2 [==============================] - 0s 4ms/step - loss: 36.1045 - mae: 36.1045\n",
            "Epoch 22/100\n",
            "2/2 [==============================] - 0s 4ms/step - loss: 9.5542 - mae: 9.5542\n",
            "Epoch 23/100\n",
            "2/2 [==============================] - 0s 4ms/step - loss: 16.3244 - mae: 16.3244\n",
            "Epoch 24/100\n",
            "2/2 [==============================] - 0s 4ms/step - loss: 17.9884 - mae: 17.9884\n",
            "Epoch 25/100\n",
            "2/2 [==============================] - 0s 4ms/step - loss: 21.7265 - mae: 21.7265\n",
            "Epoch 26/100\n",
            "2/2 [==============================] - 0s 4ms/step - loss: 10.6288 - mae: 10.6288\n",
            "Epoch 27/100\n",
            "2/2 [==============================] - 0s 4ms/step - loss: 27.8721 - mae: 27.8721\n",
            "Epoch 28/100\n",
            "2/2 [==============================] - 0s 4ms/step - loss: 17.8375 - mae: 17.8375\n",
            "Epoch 29/100\n",
            "2/2 [==============================] - 0s 4ms/step - loss: 32.9264 - mae: 32.9264\n",
            "Epoch 30/100\n",
            "2/2 [==============================] - 0s 4ms/step - loss: 20.4054 - mae: 20.4054\n",
            "Epoch 31/100\n",
            "2/2 [==============================] - 0s 4ms/step - loss: 11.8347 - mae: 11.8347\n",
            "Epoch 32/100\n",
            "2/2 [==============================] - 0s 4ms/step - loss: 20.8343 - mae: 20.8343\n",
            "Epoch 33/100\n",
            "2/2 [==============================] - 0s 3ms/step - loss: 21.3481 - mae: 21.3481\n",
            "Epoch 34/100\n",
            "2/2 [==============================] - 0s 4ms/step - loss: 10.2110 - mae: 10.2110\n",
            "Epoch 35/100\n",
            "2/2 [==============================] - 0s 4ms/step - loss: 19.3907 - mae: 19.3907\n",
            "Epoch 36/100\n",
            "2/2 [==============================] - 0s 4ms/step - loss: 25.1697 - mae: 25.1697\n",
            "Epoch 37/100\n",
            "2/2 [==============================] - 0s 4ms/step - loss: 29.4945 - mae: 29.4945\n",
            "Epoch 38/100\n",
            "2/2 [==============================] - 0s 4ms/step - loss: 17.5806 - mae: 17.5806\n",
            "Epoch 39/100\n",
            "2/2 [==============================] - 0s 4ms/step - loss: 20.6756 - mae: 20.6756\n",
            "Epoch 40/100\n",
            "2/2 [==============================] - 0s 4ms/step - loss: 20.5926 - mae: 20.5926\n",
            "Epoch 41/100\n",
            "2/2 [==============================] - 0s 4ms/step - loss: 25.0097 - mae: 25.0097\n",
            "Epoch 42/100\n",
            "2/2 [==============================] - 0s 4ms/step - loss: 20.5610 - mae: 20.5610\n",
            "Epoch 43/100\n",
            "2/2 [==============================] - 0s 4ms/step - loss: 23.0840 - mae: 23.0840\n",
            "Epoch 44/100\n",
            "2/2 [==============================] - 0s 4ms/step - loss: 9.7608 - mae: 9.7608\n",
            "Epoch 45/100\n",
            "2/2 [==============================] - 0s 4ms/step - loss: 22.6200 - mae: 22.6200\n",
            "Epoch 46/100\n",
            "2/2 [==============================] - 0s 4ms/step - loss: 9.1654 - mae: 9.1654\n",
            "Epoch 47/100\n",
            "2/2 [==============================] - 0s 4ms/step - loss: 20.4316 - mae: 20.4316\n",
            "Epoch 48/100\n",
            "2/2 [==============================] - 0s 4ms/step - loss: 8.3923 - mae: 8.3923\n",
            "Epoch 49/100\n",
            "2/2 [==============================] - 0s 4ms/step - loss: 12.6189 - mae: 12.6189\n",
            "Epoch 50/100\n",
            "2/2 [==============================] - 0s 4ms/step - loss: 32.3342 - mae: 32.3342\n",
            "Epoch 51/100\n",
            "2/2 [==============================] - 0s 4ms/step - loss: 16.5458 - mae: 16.5458\n",
            "Epoch 52/100\n",
            "2/2 [==============================] - 0s 3ms/step - loss: 33.7030 - mae: 33.7030\n",
            "Epoch 53/100\n",
            "2/2 [==============================] - 0s 4ms/step - loss: 11.0264 - mae: 11.0264\n",
            "Epoch 54/100\n",
            "2/2 [==============================] - 0s 4ms/step - loss: 39.5207 - mae: 39.5207\n",
            "Epoch 55/100\n",
            "2/2 [==============================] - 0s 4ms/step - loss: 10.3730 - mae: 10.3730\n",
            "Epoch 56/100\n",
            "2/2 [==============================] - 0s 3ms/step - loss: 20.3196 - mae: 20.3196\n",
            "Epoch 57/100\n",
            "2/2 [==============================] - 0s 4ms/step - loss: 12.1804 - mae: 12.1804\n",
            "Epoch 58/100\n",
            "2/2 [==============================] - 0s 4ms/step - loss: 26.4929 - mae: 26.4929\n",
            "Epoch 59/100\n",
            "2/2 [==============================] - 0s 4ms/step - loss: 26.6845 - mae: 26.6845\n",
            "Epoch 60/100\n",
            "2/2 [==============================] - 0s 4ms/step - loss: 9.1057 - mae: 9.1057\n",
            "Epoch 61/100\n",
            "2/2 [==============================] - 0s 4ms/step - loss: 18.0136 - mae: 18.0136\n",
            "Epoch 62/100\n",
            "2/2 [==============================] - 0s 3ms/step - loss: 22.5339 - mae: 22.5339\n",
            "Epoch 63/100\n",
            "2/2 [==============================] - 0s 4ms/step - loss: 21.1333 - mae: 21.1334\n",
            "Epoch 64/100\n",
            "2/2 [==============================] - 0s 4ms/step - loss: 18.1678 - mae: 18.1678\n",
            "Epoch 65/100\n",
            "2/2 [==============================] - 0s 4ms/step - loss: 28.5062 - mae: 28.5062\n",
            "Epoch 66/100\n",
            "2/2 [==============================] - 0s 3ms/step - loss: 20.0501 - mae: 20.0501\n",
            "Epoch 67/100\n",
            "2/2 [==============================] - 0s 4ms/step - loss: 19.6957 - mae: 19.6957\n",
            "Epoch 68/100\n",
            "2/2 [==============================] - 0s 4ms/step - loss: 16.7197 - mae: 16.7197\n",
            "Epoch 69/100\n",
            "2/2 [==============================] - 0s 4ms/step - loss: 27.0193 - mae: 27.0193\n",
            "Epoch 70/100\n",
            "2/2 [==============================] - 0s 4ms/step - loss: 21.4708 - mae: 21.4708\n",
            "Epoch 71/100\n",
            "2/2 [==============================] - 0s 4ms/step - loss: 19.3542 - mae: 19.3542\n",
            "Epoch 72/100\n",
            "2/2 [==============================] - 0s 4ms/step - loss: 26.0280 - mae: 26.0280\n",
            "Epoch 73/100\n",
            "2/2 [==============================] - 0s 4ms/step - loss: 34.2775 - mae: 34.2775\n",
            "Epoch 74/100\n",
            "2/2 [==============================] - 0s 3ms/step - loss: 16.1175 - mae: 16.1175\n",
            "Epoch 75/100\n",
            "2/2 [==============================] - 0s 4ms/step - loss: 30.6278 - mae: 30.6278\n",
            "Epoch 76/100\n",
            "2/2 [==============================] - 0s 4ms/step - loss: 23.3124 - mae: 23.3124\n",
            "Epoch 77/100\n",
            "2/2 [==============================] - 0s 4ms/step - loss: 17.9805 - mae: 17.9805\n",
            "Epoch 78/100\n",
            "2/2 [==============================] - 0s 4ms/step - loss: 22.8260 - mae: 22.8260\n",
            "Epoch 79/100\n",
            "2/2 [==============================] - 0s 3ms/step - loss: 9.2450 - mae: 9.2450\n",
            "Epoch 80/100\n",
            "2/2 [==============================] - 0s 4ms/step - loss: 18.5952 - mae: 18.5952\n",
            "Epoch 81/100\n",
            "2/2 [==============================] - 0s 4ms/step - loss: 22.8453 - mae: 22.8453\n",
            "Epoch 82/100\n",
            "2/2 [==============================] - 0s 4ms/step - loss: 22.8200 - mae: 22.8200\n",
            "Epoch 83/100\n",
            "2/2 [==============================] - 0s 4ms/step - loss: 20.2014 - mae: 20.2014\n",
            "Epoch 84/100\n",
            "2/2 [==============================] - 0s 4ms/step - loss: 24.2307 - mae: 24.2307\n",
            "Epoch 85/100\n",
            "2/2 [==============================] - 0s 4ms/step - loss: 28.0958 - mae: 28.0958\n",
            "Epoch 86/100\n",
            "2/2 [==============================] - 0s 4ms/step - loss: 9.8418 - mae: 9.8418\n",
            "Epoch 87/100\n",
            "2/2 [==============================] - 0s 4ms/step - loss: 32.5135 - mae: 32.5135\n",
            "Epoch 88/100\n",
            "2/2 [==============================] - 0s 4ms/step - loss: 20.3658 - mae: 20.3658\n",
            "Epoch 89/100\n",
            "2/2 [==============================] - 0s 4ms/step - loss: 20.0983 - mae: 20.0983\n",
            "Epoch 90/100\n",
            "2/2 [==============================] - 0s 3ms/step - loss: 43.7305 - mae: 43.7305\n",
            "Epoch 91/100\n",
            "2/2 [==============================] - 0s 4ms/step - loss: 12.6843 - mae: 12.6843\n",
            "Epoch 92/100\n",
            "2/2 [==============================] - 0s 4ms/step - loss: 21.8045 - mae: 21.8045\n",
            "Epoch 93/100\n",
            "2/2 [==============================] - 0s 4ms/step - loss: 11.4038 - mae: 11.4038\n",
            "Epoch 94/100\n",
            "2/2 [==============================] - 0s 4ms/step - loss: 22.7009 - mae: 22.7009\n",
            "Epoch 95/100\n",
            "2/2 [==============================] - 0s 4ms/step - loss: 20.1552 - mae: 20.1552\n",
            "Epoch 96/100\n",
            "2/2 [==============================] - 0s 4ms/step - loss: 20.7267 - mae: 20.7267\n",
            "Epoch 97/100\n",
            "2/2 [==============================] - 0s 4ms/step - loss: 22.6415 - mae: 22.6415\n",
            "Epoch 98/100\n",
            "2/2 [==============================] - 0s 4ms/step - loss: 17.4044 - mae: 17.4044\n",
            "Epoch 99/100\n",
            "2/2 [==============================] - 0s 4ms/step - loss: 15.7498 - mae: 15.7498\n",
            "Epoch 100/100\n",
            "2/2 [==============================] - 0s 4ms/step - loss: 27.1848 - mae: 27.1848\n"
          ]
        },
        {
          "output_type": "execute_result",
          "data": {
            "text/plain": [
              "<keras.src.callbacks.History at 0x7e8838537250>"
            ]
          },
          "metadata": {},
          "execution_count": 40
        }
      ]
    },
    {
      "cell_type": "code",
      "source": [
        "# Mari kita coba predict (saat input 100 output seharusnya adalah 110)\n",
        "model.predict([100])"
      ],
      "metadata": {
        "colab": {
          "base_uri": "https://localhost:8080/"
        },
        "id": "ImLVqGXnt_H8",
        "outputId": "2a93ab75-1f59-4b69-a9f8-9b4168872e38"
      },
      "execution_count": null,
      "outputs": [
        {
          "output_type": "stream",
          "name": "stdout",
          "text": [
            "1/1 [==============================] - 0s 77ms/step\n"
          ]
        },
        {
          "output_type": "execute_result",
          "data": {
            "text/plain": [
              "array([[145.77362]], dtype=float32)"
            ]
          },
          "metadata": {},
          "execution_count": 41
        }
      ]
    },
    {
      "cell_type": "code",
      "source": [
        "# Sekarang mari kita coba menggunakan optimizer yang berbeda, kali ini kita akan menggunakan optimizer adam\n",
        "tf.random.set_seed(42)\n",
        "\n",
        "model = tf.keras.Sequential([\n",
        "    tf.keras.layers.Dense(50,activation=None),\n",
        "    tf.keras.layers.Dense(1)\n",
        "])\n",
        "\n",
        "model.compile(loss=\"mae\",optimizer=tf.keras.optimizers.Adam(),metrics=\"mae\")\n",
        "\n",
        "model.fit(tf.expand_dims(X, axis=-1), y, epochs=100)"
      ],
      "metadata": {
        "colab": {
          "base_uri": "https://localhost:8080/"
        },
        "id": "1nlkuw3quSBt",
        "outputId": "61c6ed43-662e-4b96-f305-397af60d8513"
      },
      "execution_count": null,
      "outputs": [
        {
          "output_type": "stream",
          "name": "stdout",
          "text": [
            "Epoch 1/100\n",
            "2/2 [==============================] - 0s 7ms/step - loss: 26.7012 - mae: 26.7012\n",
            "Epoch 2/100\n",
            "2/2 [==============================] - 0s 4ms/step - loss: 24.8942 - mae: 24.8942\n",
            "Epoch 3/100\n",
            "2/2 [==============================] - 0s 4ms/step - loss: 23.3450 - mae: 23.3450\n",
            "Epoch 4/100\n",
            "2/2 [==============================] - 0s 4ms/step - loss: 21.6683 - mae: 21.6683\n",
            "Epoch 5/100\n",
            "2/2 [==============================] - 0s 4ms/step - loss: 19.9977 - mae: 19.9977\n",
            "Epoch 6/100\n",
            "2/2 [==============================] - 0s 4ms/step - loss: 18.4133 - mae: 18.4133\n",
            "Epoch 7/100\n",
            "2/2 [==============================] - 0s 4ms/step - loss: 16.7288 - mae: 16.7288\n",
            "Epoch 8/100\n",
            "2/2 [==============================] - 0s 4ms/step - loss: 15.1555 - mae: 15.1555\n",
            "Epoch 9/100\n",
            "2/2 [==============================] - 0s 4ms/step - loss: 13.8633 - mae: 13.8633\n",
            "Epoch 10/100\n",
            "2/2 [==============================] - 0s 4ms/step - loss: 12.3743 - mae: 12.3743\n",
            "Epoch 11/100\n",
            "2/2 [==============================] - 0s 4ms/step - loss: 11.1641 - mae: 11.1641\n",
            "Epoch 12/100\n",
            "2/2 [==============================] - 0s 4ms/step - loss: 10.2107 - mae: 10.2107\n",
            "Epoch 13/100\n",
            "2/2 [==============================] - 0s 4ms/step - loss: 9.6536 - mae: 9.6536\n",
            "Epoch 14/100\n",
            "2/2 [==============================] - 0s 4ms/step - loss: 9.7369 - mae: 9.7369\n",
            "Epoch 15/100\n",
            "2/2 [==============================] - 0s 4ms/step - loss: 9.6993 - mae: 9.6993\n",
            "Epoch 16/100\n",
            "2/2 [==============================] - 0s 4ms/step - loss: 9.6330 - mae: 9.6330\n",
            "Epoch 17/100\n",
            "2/2 [==============================] - 0s 4ms/step - loss: 9.6964 - mae: 9.6964\n",
            "Epoch 18/100\n",
            "2/2 [==============================] - 0s 4ms/step - loss: 9.6653 - mae: 9.6653\n",
            "Epoch 19/100\n",
            "2/2 [==============================] - 0s 4ms/step - loss: 9.6585 - mae: 9.6585\n",
            "Epoch 20/100\n",
            "2/2 [==============================] - 0s 4ms/step - loss: 9.6520 - mae: 9.6520\n",
            "Epoch 21/100\n",
            "2/2 [==============================] - 0s 4ms/step - loss: 9.6028 - mae: 9.6028\n",
            "Epoch 22/100\n",
            "2/2 [==============================] - 0s 4ms/step - loss: 9.5813 - mae: 9.5813\n",
            "Epoch 23/100\n",
            "2/2 [==============================] - 0s 4ms/step - loss: 9.5546 - mae: 9.5546\n",
            "Epoch 24/100\n",
            "2/2 [==============================] - 0s 4ms/step - loss: 9.5286 - mae: 9.5286\n",
            "Epoch 25/100\n",
            "2/2 [==============================] - 0s 4ms/step - loss: 9.5053 - mae: 9.5053\n",
            "Epoch 26/100\n",
            "2/2 [==============================] - 0s 4ms/step - loss: 9.4796 - mae: 9.4796\n",
            "Epoch 27/100\n",
            "2/2 [==============================] - 0s 4ms/step - loss: 9.4509 - mae: 9.4509\n",
            "Epoch 28/100\n",
            "2/2 [==============================] - 0s 4ms/step - loss: 9.4237 - mae: 9.4237\n",
            "Epoch 29/100\n",
            "2/2 [==============================] - 0s 4ms/step - loss: 9.3960 - mae: 9.3960\n",
            "Epoch 30/100\n",
            "2/2 [==============================] - 0s 4ms/step - loss: 9.3709 - mae: 9.3709\n",
            "Epoch 31/100\n",
            "2/2 [==============================] - 0s 4ms/step - loss: 9.3427 - mae: 9.3427\n",
            "Epoch 32/100\n",
            "2/2 [==============================] - 0s 4ms/step - loss: 9.3106 - mae: 9.3106\n",
            "Epoch 33/100\n",
            "2/2 [==============================] - 0s 4ms/step - loss: 9.2770 - mae: 9.2770\n",
            "Epoch 34/100\n",
            "2/2 [==============================] - 0s 4ms/step - loss: 9.2430 - mae: 9.2430\n",
            "Epoch 35/100\n",
            "2/2 [==============================] - 0s 4ms/step - loss: 9.2121 - mae: 9.2121\n",
            "Epoch 36/100\n",
            "2/2 [==============================] - 0s 4ms/step - loss: 9.1771 - mae: 9.1771\n",
            "Epoch 37/100\n",
            "2/2 [==============================] - 0s 4ms/step - loss: 9.1519 - mae: 9.1519\n",
            "Epoch 38/100\n",
            "2/2 [==============================] - 0s 4ms/step - loss: 9.1206 - mae: 9.1206\n",
            "Epoch 39/100\n",
            "2/2 [==============================] - 0s 4ms/step - loss: 9.0765 - mae: 9.0765\n",
            "Epoch 40/100\n",
            "2/2 [==============================] - 0s 5ms/step - loss: 9.0550 - mae: 9.0550\n",
            "Epoch 41/100\n",
            "2/2 [==============================] - 0s 4ms/step - loss: 9.0393 - mae: 9.0393\n",
            "Epoch 42/100\n",
            "2/2 [==============================] - 0s 4ms/step - loss: 8.9831 - mae: 8.9831\n",
            "Epoch 43/100\n",
            "2/2 [==============================] - 0s 4ms/step - loss: 8.9575 - mae: 8.9575\n",
            "Epoch 44/100\n",
            "2/2 [==============================] - 0s 4ms/step - loss: 8.9293 - mae: 8.9293\n",
            "Epoch 45/100\n",
            "2/2 [==============================] - 0s 4ms/step - loss: 8.8929 - mae: 8.8929\n",
            "Epoch 46/100\n",
            "2/2 [==============================] - 0s 4ms/step - loss: 8.8671 - mae: 8.8671\n",
            "Epoch 47/100\n",
            "2/2 [==============================] - 0s 4ms/step - loss: 8.8354 - mae: 8.8354\n",
            "Epoch 48/100\n",
            "2/2 [==============================] - 0s 4ms/step - loss: 8.8134 - mae: 8.8134\n",
            "Epoch 49/100\n",
            "2/2 [==============================] - 0s 4ms/step - loss: 8.7897 - mae: 8.7897\n",
            "Epoch 50/100\n",
            "2/2 [==============================] - 0s 4ms/step - loss: 8.7462 - mae: 8.7462\n",
            "Epoch 51/100\n",
            "2/2 [==============================] - 0s 4ms/step - loss: 8.7182 - mae: 8.7182\n",
            "Epoch 52/100\n",
            "2/2 [==============================] - 0s 4ms/step - loss: 8.6912 - mae: 8.6912\n",
            "Epoch 53/100\n",
            "2/2 [==============================] - 0s 4ms/step - loss: 8.6674 - mae: 8.6674\n",
            "Epoch 54/100\n",
            "2/2 [==============================] - 0s 4ms/step - loss: 8.6353 - mae: 8.6353\n",
            "Epoch 55/100\n",
            "2/2 [==============================] - 0s 4ms/step - loss: 8.6037 - mae: 8.6037\n",
            "Epoch 56/100\n",
            "2/2 [==============================] - 0s 4ms/step - loss: 8.5778 - mae: 8.5778\n",
            "Epoch 57/100\n",
            "2/2 [==============================] - 0s 4ms/step - loss: 8.5443 - mae: 8.5443\n",
            "Epoch 58/100\n",
            "2/2 [==============================] - 0s 4ms/step - loss: 8.5104 - mae: 8.5104\n",
            "Epoch 59/100\n",
            "2/2 [==============================] - 0s 4ms/step - loss: 8.4789 - mae: 8.4789\n",
            "Epoch 60/100\n",
            "2/2 [==============================] - 0s 4ms/step - loss: 8.4601 - mae: 8.4601\n",
            "Epoch 61/100\n",
            "2/2 [==============================] - 0s 4ms/step - loss: 8.4550 - mae: 8.4550\n",
            "Epoch 62/100\n",
            "2/2 [==============================] - 0s 4ms/step - loss: 8.4431 - mae: 8.4431\n",
            "Epoch 63/100\n",
            "2/2 [==============================] - 0s 4ms/step - loss: 8.4082 - mae: 8.4082\n",
            "Epoch 64/100\n",
            "2/2 [==============================] - 0s 3ms/step - loss: 8.3632 - mae: 8.3632\n",
            "Epoch 65/100\n",
            "2/2 [==============================] - 0s 4ms/step - loss: 8.3503 - mae: 8.3503\n",
            "Epoch 66/100\n",
            "2/2 [==============================] - 0s 4ms/step - loss: 8.3268 - mae: 8.3268\n",
            "Epoch 67/100\n",
            "2/2 [==============================] - 0s 4ms/step - loss: 8.3077 - mae: 8.3077\n",
            "Epoch 68/100\n",
            "2/2 [==============================] - 0s 4ms/step - loss: 8.2874 - mae: 8.2874\n",
            "Epoch 69/100\n",
            "2/2 [==============================] - 0s 4ms/step - loss: 8.2657 - mae: 8.2657\n",
            "Epoch 70/100\n",
            "2/2 [==============================] - 0s 4ms/step - loss: 8.2560 - mae: 8.2560\n",
            "Epoch 71/100\n",
            "2/2 [==============================] - 0s 4ms/step - loss: 8.2234 - mae: 8.2234\n",
            "Epoch 72/100\n",
            "2/2 [==============================] - 0s 4ms/step - loss: 8.2001 - mae: 8.2001\n",
            "Epoch 73/100\n",
            "2/2 [==============================] - 0s 4ms/step - loss: 8.1709 - mae: 8.1709\n",
            "Epoch 74/100\n",
            "2/2 [==============================] - 0s 4ms/step - loss: 8.1403 - mae: 8.1403\n",
            "Epoch 75/100\n",
            "2/2 [==============================] - 0s 4ms/step - loss: 8.1100 - mae: 8.1100\n",
            "Epoch 76/100\n",
            "2/2 [==============================] - 0s 4ms/step - loss: 8.0816 - mae: 8.0816\n",
            "Epoch 77/100\n",
            "2/2 [==============================] - 0s 4ms/step - loss: 8.0668 - mae: 8.0668\n",
            "Epoch 78/100\n",
            "2/2 [==============================] - 0s 4ms/step - loss: 8.0317 - mae: 8.0317\n",
            "Epoch 79/100\n",
            "2/2 [==============================] - 0s 4ms/step - loss: 8.0100 - mae: 8.0100\n",
            "Epoch 80/100\n",
            "2/2 [==============================] - 0s 4ms/step - loss: 7.9819 - mae: 7.9819\n",
            "Epoch 81/100\n",
            "2/2 [==============================] - 0s 4ms/step - loss: 7.9677 - mae: 7.9677\n",
            "Epoch 82/100\n",
            "2/2 [==============================] - 0s 4ms/step - loss: 7.9316 - mae: 7.9316\n",
            "Epoch 83/100\n",
            "2/2 [==============================] - 0s 4ms/step - loss: 7.9091 - mae: 7.9091\n",
            "Epoch 84/100\n",
            "2/2 [==============================] - 0s 4ms/step - loss: 7.8934 - mae: 7.8934\n",
            "Epoch 85/100\n",
            "2/2 [==============================] - 0s 4ms/step - loss: 7.8651 - mae: 7.8651\n",
            "Epoch 86/100\n",
            "2/2 [==============================] - 0s 4ms/step - loss: 7.8405 - mae: 7.8405\n",
            "Epoch 87/100\n",
            "2/2 [==============================] - 0s 4ms/step - loss: 7.8033 - mae: 7.8033\n",
            "Epoch 88/100\n",
            "2/2 [==============================] - 0s 4ms/step - loss: 7.7899 - mae: 7.7899\n",
            "Epoch 89/100\n",
            "2/2 [==============================] - 0s 4ms/step - loss: 7.7699 - mae: 7.7699\n",
            "Epoch 90/100\n",
            "2/2 [==============================] - 0s 4ms/step - loss: 7.7510 - mae: 7.7510\n",
            "Epoch 91/100\n",
            "2/2 [==============================] - 0s 4ms/step - loss: 7.7299 - mae: 7.7299\n",
            "Epoch 92/100\n",
            "2/2 [==============================] - 0s 4ms/step - loss: 7.7075 - mae: 7.7075\n",
            "Epoch 93/100\n",
            "2/2 [==============================] - 0s 4ms/step - loss: 7.6981 - mae: 7.6981\n",
            "Epoch 94/100\n",
            "2/2 [==============================] - 0s 4ms/step - loss: 7.6596 - mae: 7.6596\n",
            "Epoch 95/100\n",
            "2/2 [==============================] - 0s 4ms/step - loss: 7.6283 - mae: 7.6283\n",
            "Epoch 96/100\n",
            "2/2 [==============================] - 0s 4ms/step - loss: 7.5966 - mae: 7.5966\n",
            "Epoch 97/100\n",
            "2/2 [==============================] - 0s 3ms/step - loss: 7.5763 - mae: 7.5763\n",
            "Epoch 98/100\n",
            "2/2 [==============================] - 0s 4ms/step - loss: 7.5301 - mae: 7.5301\n",
            "Epoch 99/100\n",
            "2/2 [==============================] - 0s 4ms/step - loss: 7.5100 - mae: 7.5100\n",
            "Epoch 100/100\n",
            "2/2 [==============================] - 0s 4ms/step - loss: 7.4891 - mae: 7.4891\n"
          ]
        },
        {
          "output_type": "execute_result",
          "data": {
            "text/plain": [
              "<keras.src.callbacks.History at 0x7e88384ef0d0>"
            ]
          },
          "metadata": {},
          "execution_count": 42
        }
      ]
    },
    {
      "cell_type": "code",
      "source": [
        "# Mae terlihat bagus, namun mari kita coba predict\n",
        "model.predict([100])"
      ],
      "metadata": {
        "colab": {
          "base_uri": "https://localhost:8080/"
        },
        "id": "QIar8P15ug42",
        "outputId": "51e95c35-9712-4ef9-ca6a-9ce0b1443827"
      },
      "execution_count": null,
      "outputs": [
        {
          "output_type": "stream",
          "name": "stdout",
          "text": [
            "1/1 [==============================] - 0s 48ms/step\n"
          ]
        },
        {
          "output_type": "execute_result",
          "data": {
            "text/plain": [
              "array([[94.39033]], dtype=float32)"
            ]
          },
          "metadata": {},
          "execution_count": 44
        }
      ]
    },
    {
      "cell_type": "code",
      "source": [
        "# Sudah hampir medekati, mari kita tingkatkan learning rate dengan optimizer Adam\n",
        "tf.random.set_seed(42)\n",
        "\n",
        "model = tf.keras.Sequential([\n",
        "    tf.keras.layers.Dense(50,activation=None),\n",
        "    tf.keras.layers.Dense(1)\n",
        "])\n",
        "\n",
        "model.compile(loss=\"mae\",optimizer=tf.keras.optimizers.Adam(learning_rate=0.01),metrics=\"mae\")\n",
        "\n",
        "model.fit(tf.expand_dims(X, axis=-1), y, epochs=100)"
      ],
      "metadata": {
        "colab": {
          "base_uri": "https://localhost:8080/"
        },
        "id": "2fKnJRo9uliE",
        "outputId": "06d199b1-73c3-4624-b967-c1d3ff88f5ae"
      },
      "execution_count": null,
      "outputs": [
        {
          "output_type": "stream",
          "name": "stdout",
          "text": [
            "Epoch 1/100\n",
            "2/2 [==============================] - 0s 8ms/step - loss: 70.3695 - mae: 70.3695\n",
            "Epoch 2/100\n",
            "2/2 [==============================] - 0s 4ms/step - loss: 51.6663 - mae: 51.6663\n",
            "Epoch 3/100\n",
            "2/2 [==============================] - 0s 5ms/step - loss: 35.6175 - mae: 35.6175\n",
            "Epoch 4/100\n",
            "2/2 [==============================] - 0s 4ms/step - loss: 19.0842 - mae: 19.0842\n",
            "Epoch 5/100\n",
            "2/2 [==============================] - 0s 4ms/step - loss: 10.8443 - mae: 10.8443\n",
            "Epoch 6/100\n",
            "2/2 [==============================] - 0s 4ms/step - loss: 13.8279 - mae: 13.8279\n",
            "Epoch 7/100\n",
            "2/2 [==============================] - 0s 4ms/step - loss: 17.7622 - mae: 17.7622\n",
            "Epoch 8/100\n",
            "2/2 [==============================] - 0s 4ms/step - loss: 16.2481 - mae: 16.2481\n",
            "Epoch 9/100\n",
            "2/2 [==============================] - 0s 4ms/step - loss: 12.5072 - mae: 12.5072\n",
            "Epoch 10/100\n",
            "2/2 [==============================] - 0s 4ms/step - loss: 9.3761 - mae: 9.3761\n",
            "Epoch 11/100\n",
            "2/2 [==============================] - 0s 4ms/step - loss: 8.9825 - mae: 8.9825\n",
            "Epoch 12/100\n",
            "2/2 [==============================] - 0s 4ms/step - loss: 9.6182 - mae: 9.6182\n",
            "Epoch 13/100\n",
            "2/2 [==============================] - 0s 4ms/step - loss: 10.2649 - mae: 10.2649\n",
            "Epoch 14/100\n",
            "2/2 [==============================] - 0s 4ms/step - loss: 9.1747 - mae: 9.1747\n",
            "Epoch 15/100\n",
            "2/2 [==============================] - 0s 4ms/step - loss: 8.3050 - mae: 8.3050\n",
            "Epoch 16/100\n",
            "2/2 [==============================] - 0s 4ms/step - loss: 8.0097 - mae: 8.0097\n",
            "Epoch 17/100\n",
            "2/2 [==============================] - 0s 4ms/step - loss: 8.0631 - mae: 8.0631\n",
            "Epoch 18/100\n",
            "2/2 [==============================] - 0s 4ms/step - loss: 7.8301 - mae: 7.8301\n",
            "Epoch 19/100\n",
            "2/2 [==============================] - 0s 4ms/step - loss: 7.6639 - mae: 7.6639\n",
            "Epoch 20/100\n",
            "2/2 [==============================] - 0s 4ms/step - loss: 7.4891 - mae: 7.4891\n",
            "Epoch 21/100\n",
            "2/2 [==============================] - 0s 4ms/step - loss: 7.3088 - mae: 7.3088\n",
            "Epoch 22/100\n",
            "2/2 [==============================] - 0s 4ms/step - loss: 6.9696 - mae: 6.9696\n",
            "Epoch 23/100\n",
            "2/2 [==============================] - 0s 4ms/step - loss: 6.7733 - mae: 6.7733\n",
            "Epoch 24/100\n",
            "2/2 [==============================] - 0s 4ms/step - loss: 6.5065 - mae: 6.5065\n",
            "Epoch 25/100\n",
            "2/2 [==============================] - 0s 4ms/step - loss: 6.2525 - mae: 6.2525\n",
            "Epoch 26/100\n",
            "2/2 [==============================] - 0s 4ms/step - loss: 6.0299 - mae: 6.0299\n",
            "Epoch 27/100\n",
            "2/2 [==============================] - 0s 4ms/step - loss: 5.7407 - mae: 5.7407\n",
            "Epoch 28/100\n",
            "2/2 [==============================] - 0s 4ms/step - loss: 5.4744 - mae: 5.4744\n",
            "Epoch 29/100\n",
            "2/2 [==============================] - 0s 4ms/step - loss: 5.1979 - mae: 5.1979\n",
            "Epoch 30/100\n",
            "2/2 [==============================] - 0s 4ms/step - loss: 4.9370 - mae: 4.9370\n",
            "Epoch 31/100\n",
            "2/2 [==============================] - 0s 4ms/step - loss: 4.6410 - mae: 4.6410\n",
            "Epoch 32/100\n",
            "2/2 [==============================] - 0s 4ms/step - loss: 4.3968 - mae: 4.3968\n",
            "Epoch 33/100\n",
            "2/2 [==============================] - 0s 4ms/step - loss: 4.2056 - mae: 4.2056\n",
            "Epoch 34/100\n",
            "2/2 [==============================] - 0s 4ms/step - loss: 3.8254 - mae: 3.8254\n",
            "Epoch 35/100\n",
            "2/2 [==============================] - 0s 4ms/step - loss: 3.4350 - mae: 3.4350\n",
            "Epoch 36/100\n",
            "2/2 [==============================] - 0s 4ms/step - loss: 3.0917 - mae: 3.0917\n",
            "Epoch 37/100\n",
            "2/2 [==============================] - 0s 4ms/step - loss: 2.7149 - mae: 2.7149\n",
            "Epoch 38/100\n",
            "2/2 [==============================] - 0s 4ms/step - loss: 2.3237 - mae: 2.3237\n",
            "Epoch 39/100\n",
            "2/2 [==============================] - 0s 4ms/step - loss: 1.9540 - mae: 1.9540\n",
            "Epoch 40/100\n",
            "2/2 [==============================] - 0s 4ms/step - loss: 1.5608 - mae: 1.5608\n",
            "Epoch 41/100\n",
            "2/2 [==============================] - 0s 4ms/step - loss: 1.2188 - mae: 1.2188\n",
            "Epoch 42/100\n",
            "2/2 [==============================] - 0s 4ms/step - loss: 1.0906 - mae: 1.0906\n",
            "Epoch 43/100\n",
            "2/2 [==============================] - 0s 4ms/step - loss: 1.1190 - mae: 1.1190\n",
            "Epoch 44/100\n",
            "2/2 [==============================] - 0s 4ms/step - loss: 0.7136 - mae: 0.7136\n",
            "Epoch 45/100\n",
            "2/2 [==============================] - 0s 4ms/step - loss: 0.8008 - mae: 0.8008\n",
            "Epoch 46/100\n",
            "2/2 [==============================] - 0s 4ms/step - loss: 1.1627 - mae: 1.1627\n",
            "Epoch 47/100\n",
            "2/2 [==============================] - 0s 4ms/step - loss: 1.0877 - mae: 1.0877\n",
            "Epoch 48/100\n",
            "2/2 [==============================] - 0s 4ms/step - loss: 1.0342 - mae: 1.0342\n",
            "Epoch 49/100\n",
            "2/2 [==============================] - 0s 4ms/step - loss: 1.2779 - mae: 1.2779\n",
            "Epoch 50/100\n",
            "2/2 [==============================] - 0s 4ms/step - loss: 0.8592 - mae: 0.8592\n",
            "Epoch 51/100\n",
            "2/2 [==============================] - 0s 4ms/step - loss: 0.9296 - mae: 0.9296\n",
            "Epoch 52/100\n",
            "2/2 [==============================] - 0s 3ms/step - loss: 0.5388 - mae: 0.5388\n",
            "Epoch 53/100\n",
            "2/2 [==============================] - 0s 4ms/step - loss: 0.7721 - mae: 0.7721\n",
            "Epoch 54/100\n",
            "2/2 [==============================] - 0s 4ms/step - loss: 0.8714 - mae: 0.8714\n",
            "Epoch 55/100\n",
            "2/2 [==============================] - 0s 4ms/step - loss: 0.6768 - mae: 0.6768\n",
            "Epoch 56/100\n",
            "2/2 [==============================] - 0s 4ms/step - loss: 0.3532 - mae: 0.3532\n",
            "Epoch 57/100\n",
            "2/2 [==============================] - 0s 4ms/step - loss: 0.4165 - mae: 0.4165\n",
            "Epoch 58/100\n",
            "2/2 [==============================] - 0s 4ms/step - loss: 0.5054 - mae: 0.5054\n",
            "Epoch 59/100\n",
            "2/2 [==============================] - 0s 3ms/step - loss: 0.3850 - mae: 0.3850\n",
            "Epoch 60/100\n",
            "2/2 [==============================] - 0s 3ms/step - loss: 0.7545 - mae: 0.7545\n",
            "Epoch 61/100\n",
            "2/2 [==============================] - 0s 4ms/step - loss: 1.2387 - mae: 1.2387\n",
            "Epoch 62/100\n",
            "2/2 [==============================] - 0s 4ms/step - loss: 2.4741 - mae: 2.4741\n",
            "Epoch 63/100\n",
            "2/2 [==============================] - 0s 4ms/step - loss: 1.9446 - mae: 1.9446\n",
            "Epoch 64/100\n",
            "2/2 [==============================] - 0s 3ms/step - loss: 2.6077 - mae: 2.6077\n",
            "Epoch 65/100\n",
            "2/2 [==============================] - 0s 3ms/step - loss: 2.5412 - mae: 2.5412\n",
            "Epoch 66/100\n",
            "2/2 [==============================] - 0s 4ms/step - loss: 1.5505 - mae: 1.5505\n",
            "Epoch 67/100\n",
            "2/2 [==============================] - 0s 4ms/step - loss: 1.4598 - mae: 1.4598\n",
            "Epoch 68/100\n",
            "2/2 [==============================] - 0s 4ms/step - loss: 2.3237 - mae: 2.3237\n",
            "Epoch 69/100\n",
            "2/2 [==============================] - 0s 3ms/step - loss: 1.6440 - mae: 1.6440\n",
            "Epoch 70/100\n",
            "2/2 [==============================] - 0s 3ms/step - loss: 2.6088 - mae: 2.6088\n",
            "Epoch 71/100\n",
            "2/2 [==============================] - 0s 4ms/step - loss: 3.0643 - mae: 3.0643\n",
            "Epoch 72/100\n",
            "2/2 [==============================] - 0s 4ms/step - loss: 1.2172 - mae: 1.2172\n",
            "Epoch 73/100\n",
            "2/2 [==============================] - 0s 4ms/step - loss: 4.0863 - mae: 4.0863\n",
            "Epoch 74/100\n",
            "2/2 [==============================] - 0s 3ms/step - loss: 2.0709 - mae: 2.0709\n",
            "Epoch 75/100\n",
            "2/2 [==============================] - 0s 4ms/step - loss: 2.8951 - mae: 2.8951\n",
            "Epoch 76/100\n",
            "2/2 [==============================] - 0s 4ms/step - loss: 3.9766 - mae: 3.9766\n",
            "Epoch 77/100\n",
            "2/2 [==============================] - 0s 3ms/step - loss: 1.4001 - mae: 1.4001\n",
            "Epoch 78/100\n",
            "2/2 [==============================] - 0s 4ms/step - loss: 2.4624 - mae: 2.4624\n",
            "Epoch 79/100\n",
            "2/2 [==============================] - 0s 3ms/step - loss: 1.0944 - mae: 1.0944\n",
            "Epoch 80/100\n",
            "2/2 [==============================] - 0s 4ms/step - loss: 2.1251 - mae: 2.1251\n",
            "Epoch 81/100\n",
            "2/2 [==============================] - 0s 4ms/step - loss: 1.2644 - mae: 1.2644\n",
            "Epoch 82/100\n",
            "2/2 [==============================] - 0s 4ms/step - loss: 0.9037 - mae: 0.9037\n",
            "Epoch 83/100\n",
            "2/2 [==============================] - 0s 3ms/step - loss: 0.3377 - mae: 0.3377\n",
            "Epoch 84/100\n",
            "2/2 [==============================] - 0s 4ms/step - loss: 0.4401 - mae: 0.4401\n",
            "Epoch 85/100\n",
            "2/2 [==============================] - 0s 4ms/step - loss: 1.0856 - mae: 1.0856\n",
            "Epoch 86/100\n",
            "2/2 [==============================] - 0s 4ms/step - loss: 0.7483 - mae: 0.7483\n",
            "Epoch 87/100\n",
            "2/2 [==============================] - 0s 4ms/step - loss: 2.1611 - mae: 2.1611\n",
            "Epoch 88/100\n",
            "2/2 [==============================] - 0s 3ms/step - loss: 0.9295 - mae: 0.9295\n",
            "Epoch 89/100\n",
            "2/2 [==============================] - 0s 4ms/step - loss: 3.0676 - mae: 3.0676\n",
            "Epoch 90/100\n",
            "2/2 [==============================] - 0s 4ms/step - loss: 1.3815 - mae: 1.3815\n",
            "Epoch 91/100\n",
            "2/2 [==============================] - 0s 4ms/step - loss: 1.3500 - mae: 1.3500\n",
            "Epoch 92/100\n",
            "2/2 [==============================] - 0s 4ms/step - loss: 0.7517 - mae: 0.7517\n",
            "Epoch 93/100\n",
            "2/2 [==============================] - 0s 4ms/step - loss: 2.4991 - mae: 2.4991\n",
            "Epoch 94/100\n",
            "2/2 [==============================] - 0s 4ms/step - loss: 1.0808 - mae: 1.0808\n",
            "Epoch 95/100\n",
            "2/2 [==============================] - 0s 4ms/step - loss: 1.8841 - mae: 1.8841\n",
            "Epoch 96/100\n",
            "2/2 [==============================] - 0s 4ms/step - loss: 0.8804 - mae: 0.8804\n",
            "Epoch 97/100\n",
            "2/2 [==============================] - 0s 3ms/step - loss: 2.0851 - mae: 2.0851\n",
            "Epoch 98/100\n",
            "2/2 [==============================] - 0s 4ms/step - loss: 0.9826 - mae: 0.9826\n",
            "Epoch 99/100\n",
            "2/2 [==============================] - 0s 4ms/step - loss: 2.2512 - mae: 2.2512\n",
            "Epoch 100/100\n",
            "2/2 [==============================] - 0s 4ms/step - loss: 1.0403 - mae: 1.0403\n"
          ]
        },
        {
          "output_type": "execute_result",
          "data": {
            "text/plain": [
              "<keras.src.callbacks.History at 0x7e8830759db0>"
            ]
          },
          "metadata": {},
          "execution_count": 45
        }
      ]
    },
    {
      "cell_type": "code",
      "source": [
        "# MAE nya sangat baik, tapi mari kita lihat hasil prediksi dari model yang sudah di training\n",
        "model.predict([100])"
      ],
      "metadata": {
        "colab": {
          "base_uri": "https://localhost:8080/"
        },
        "id": "sWs2qAuCuu62",
        "outputId": "532efe52-448c-4d7d-f31a-a77b4fe33add"
      },
      "execution_count": null,
      "outputs": [
        {
          "output_type": "stream",
          "name": "stdout",
          "text": [
            "1/1 [==============================] - 0s 45ms/step\n"
          ]
        },
        {
          "output_type": "execute_result",
          "data": {
            "text/plain": [
              "array([[105.71115]], dtype=float32)"
            ]
          },
          "metadata": {},
          "execution_count": 47
        }
      ]
    },
    {
      "cell_type": "code",
      "source": [
        "# Model sudah lebih baik, mari kita tuning sedikit lagi learning rate nya\n",
        "# Sudah hampir medekati, mari kita tingkatkan learning rate dengan optimizer Adam\n",
        "tf.random.set_seed(42)\n",
        "\n",
        "model = tf.keras.Sequential([\n",
        "    tf.keras.layers.Dense(50,activation=None),\n",
        "    tf.keras.layers.Dense(1)\n",
        "])\n",
        "\n",
        "model.compile(loss=\"mae\",optimizer=tf.keras.optimizers.Adam(learning_rate=0.01),metrics=\"mae\")\n",
        "\n",
        "model.fit(tf.expand_dims(X, axis=-1), y, epochs=100)"
      ],
      "metadata": {
        "colab": {
          "base_uri": "https://localhost:8080/"
        },
        "id": "cdOr1aCBu1sl",
        "outputId": "dab506fa-7bc4-4e7f-bbb0-f1c6dde09d96"
      },
      "execution_count": null,
      "outputs": [
        {
          "output_type": "stream",
          "name": "stdout",
          "text": [
            "Epoch 1/100\n",
            "2/2 [==============================] - 0s 7ms/step - loss: 71.5733 - mae: 71.5733\n",
            "Epoch 2/100\n",
            "2/2 [==============================] - 0s 4ms/step - loss: 55.2695 - mae: 55.2695\n",
            "Epoch 3/100\n",
            "2/2 [==============================] - 0s 4ms/step - loss: 40.9126 - mae: 40.9126\n",
            "Epoch 4/100\n",
            "2/2 [==============================] - 0s 4ms/step - loss: 25.2470 - mae: 25.2470\n",
            "Epoch 5/100\n",
            "2/2 [==============================] - 0s 4ms/step - loss: 12.7148 - mae: 12.7148\n",
            "Epoch 6/100\n",
            "2/2 [==============================] - 0s 4ms/step - loss: 10.6473 - mae: 10.6473\n",
            "Epoch 7/100\n",
            "2/2 [==============================] - 0s 4ms/step - loss: 16.8771 - mae: 16.8771\n",
            "Epoch 8/100\n",
            "2/2 [==============================] - 0s 4ms/step - loss: 17.5628 - mae: 17.5628\n",
            "Epoch 9/100\n",
            "2/2 [==============================] - 0s 4ms/step - loss: 14.4385 - mae: 14.4385\n",
            "Epoch 10/100\n",
            "2/2 [==============================] - 0s 4ms/step - loss: 9.8456 - mae: 9.8456\n",
            "Epoch 11/100\n",
            "2/2 [==============================] - 0s 4ms/step - loss: 9.0948 - mae: 9.0948\n",
            "Epoch 12/100\n",
            "2/2 [==============================] - 0s 4ms/step - loss: 8.8664 - mae: 8.8664\n",
            "Epoch 13/100\n",
            "2/2 [==============================] - 0s 4ms/step - loss: 10.2519 - mae: 10.2519\n",
            "Epoch 14/100\n",
            "2/2 [==============================] - 0s 4ms/step - loss: 9.9053 - mae: 9.9053\n",
            "Epoch 15/100\n",
            "2/2 [==============================] - 0s 4ms/step - loss: 8.5645 - mae: 8.5645\n",
            "Epoch 16/100\n",
            "2/2 [==============================] - 0s 4ms/step - loss: 7.9355 - mae: 7.9355\n",
            "Epoch 17/100\n",
            "2/2 [==============================] - 0s 4ms/step - loss: 8.0996 - mae: 8.0996\n",
            "Epoch 18/100\n",
            "2/2 [==============================] - 0s 4ms/step - loss: 7.8507 - mae: 7.8507\n",
            "Epoch 19/100\n",
            "2/2 [==============================] - 0s 4ms/step - loss: 7.7073 - mae: 7.7073\n",
            "Epoch 20/100\n",
            "2/2 [==============================] - 0s 4ms/step - loss: 7.5382 - mae: 7.5382\n",
            "Epoch 21/100\n",
            "2/2 [==============================] - 0s 4ms/step - loss: 7.3737 - mae: 7.3737\n",
            "Epoch 22/100\n",
            "2/2 [==============================] - 0s 4ms/step - loss: 6.8744 - mae: 6.8744\n",
            "Epoch 23/100\n",
            "2/2 [==============================] - 0s 4ms/step - loss: 6.7123 - mae: 6.7123\n",
            "Epoch 24/100\n",
            "2/2 [==============================] - 0s 4ms/step - loss: 6.4058 - mae: 6.4058\n",
            "Epoch 25/100\n",
            "2/2 [==============================] - 0s 4ms/step - loss: 6.1085 - mae: 6.1085\n",
            "Epoch 26/100\n",
            "2/2 [==============================] - 0s 4ms/step - loss: 5.9169 - mae: 5.9169\n",
            "Epoch 27/100\n",
            "2/2 [==============================] - 0s 4ms/step - loss: 5.7080 - mae: 5.7080\n",
            "Epoch 28/100\n",
            "2/2 [==============================] - 0s 4ms/step - loss: 5.4042 - mae: 5.4042\n",
            "Epoch 29/100\n",
            "2/2 [==============================] - 0s 4ms/step - loss: 5.1625 - mae: 5.1625\n",
            "Epoch 30/100\n",
            "2/2 [==============================] - 0s 4ms/step - loss: 4.9012 - mae: 4.9012\n",
            "Epoch 31/100\n",
            "2/2 [==============================] - 0s 4ms/step - loss: 4.7547 - mae: 4.7547\n",
            "Epoch 32/100\n",
            "2/2 [==============================] - 0s 4ms/step - loss: 4.3592 - mae: 4.3592\n",
            "Epoch 33/100\n",
            "2/2 [==============================] - 0s 4ms/step - loss: 4.0478 - mae: 4.0478\n",
            "Epoch 34/100\n",
            "2/2 [==============================] - 0s 4ms/step - loss: 3.7326 - mae: 3.7326\n",
            "Epoch 35/100\n",
            "2/2 [==============================] - 0s 4ms/step - loss: 3.3729 - mae: 3.3729\n",
            "Epoch 36/100\n",
            "2/2 [==============================] - 0s 4ms/step - loss: 3.1565 - mae: 3.1565\n",
            "Epoch 37/100\n",
            "2/2 [==============================] - 0s 4ms/step - loss: 2.7001 - mae: 2.7001\n",
            "Epoch 38/100\n",
            "2/2 [==============================] - 0s 4ms/step - loss: 2.3603 - mae: 2.3603\n",
            "Epoch 39/100\n",
            "2/2 [==============================] - 0s 4ms/step - loss: 2.1318 - mae: 2.1318\n",
            "Epoch 40/100\n",
            "2/2 [==============================] - 0s 4ms/step - loss: 1.6501 - mae: 1.6501\n",
            "Epoch 41/100\n",
            "2/2 [==============================] - 0s 4ms/step - loss: 1.5194 - mae: 1.5194\n",
            "Epoch 42/100\n",
            "2/2 [==============================] - 0s 4ms/step - loss: 0.9994 - mae: 0.9994\n",
            "Epoch 43/100\n",
            "2/2 [==============================] - 0s 4ms/step - loss: 0.5895 - mae: 0.5895\n",
            "Epoch 44/100\n",
            "2/2 [==============================] - 0s 4ms/step - loss: 0.8200 - mae: 0.8200\n",
            "Epoch 45/100\n",
            "2/2 [==============================] - 0s 4ms/step - loss: 1.6643 - mae: 1.6643\n",
            "Epoch 46/100\n",
            "2/2 [==============================] - 0s 4ms/step - loss: 1.0061 - mae: 1.0061\n",
            "Epoch 47/100\n",
            "2/2 [==============================] - 0s 4ms/step - loss: 1.9003 - mae: 1.9003\n",
            "Epoch 48/100\n",
            "2/2 [==============================] - 0s 4ms/step - loss: 2.0697 - mae: 2.0697\n",
            "Epoch 49/100\n",
            "2/2 [==============================] - 0s 4ms/step - loss: 1.3555 - mae: 1.3555\n",
            "Epoch 50/100\n",
            "2/2 [==============================] - 0s 4ms/step - loss: 1.2977 - mae: 1.2977\n",
            "Epoch 51/100\n",
            "2/2 [==============================] - 0s 4ms/step - loss: 1.1488 - mae: 1.1488\n",
            "Epoch 52/100\n",
            "2/2 [==============================] - 0s 4ms/step - loss: 0.8338 - mae: 0.8338\n",
            "Epoch 53/100\n",
            "2/2 [==============================] - 0s 4ms/step - loss: 0.9165 - mae: 0.9165\n",
            "Epoch 54/100\n",
            "2/2 [==============================] - 0s 4ms/step - loss: 1.5121 - mae: 1.5121\n",
            "Epoch 55/100\n",
            "2/2 [==============================] - 0s 4ms/step - loss: 1.0085 - mae: 1.0085\n",
            "Epoch 56/100\n",
            "2/2 [==============================] - 0s 4ms/step - loss: 3.0269 - mae: 3.0269\n",
            "Epoch 57/100\n",
            "2/2 [==============================] - 0s 4ms/step - loss: 1.2237 - mae: 1.2237\n",
            "Epoch 58/100\n",
            "2/2 [==============================] - 0s 4ms/step - loss: 3.8019 - mae: 3.8019\n",
            "Epoch 59/100\n",
            "2/2 [==============================] - 0s 4ms/step - loss: 1.7782 - mae: 1.7782\n",
            "Epoch 60/100\n",
            "2/2 [==============================] - 0s 4ms/step - loss: 2.0403 - mae: 2.0403\n",
            "Epoch 61/100\n",
            "2/2 [==============================] - 0s 4ms/step - loss: 1.1874 - mae: 1.1874\n",
            "Epoch 62/100\n",
            "2/2 [==============================] - 0s 4ms/step - loss: 1.2131 - mae: 1.2131\n",
            "Epoch 63/100\n",
            "2/2 [==============================] - 0s 4ms/step - loss: 0.8559 - mae: 0.8559\n",
            "Epoch 64/100\n",
            "2/2 [==============================] - 0s 4ms/step - loss: 0.4872 - mae: 0.4872\n",
            "Epoch 65/100\n",
            "2/2 [==============================] - 0s 4ms/step - loss: 0.2973 - mae: 0.2973\n",
            "Epoch 66/100\n",
            "2/2 [==============================] - 0s 4ms/step - loss: 0.2065 - mae: 0.2065\n",
            "Epoch 67/100\n",
            "2/2 [==============================] - 0s 4ms/step - loss: 0.3127 - mae: 0.3127\n",
            "Epoch 68/100\n",
            "2/2 [==============================] - 0s 4ms/step - loss: 0.5390 - mae: 0.5390\n",
            "Epoch 69/100\n",
            "2/2 [==============================] - 0s 4ms/step - loss: 0.7725 - mae: 0.7725\n",
            "Epoch 70/100\n",
            "2/2 [==============================] - 0s 4ms/step - loss: 0.7868 - mae: 0.7868\n",
            "Epoch 71/100\n",
            "2/2 [==============================] - 0s 4ms/step - loss: 0.5375 - mae: 0.5375\n",
            "Epoch 72/100\n",
            "2/2 [==============================] - 0s 4ms/step - loss: 0.2861 - mae: 0.2861\n",
            "Epoch 73/100\n",
            "2/2 [==============================] - 0s 3ms/step - loss: 0.2891 - mae: 0.2891\n",
            "Epoch 74/100\n",
            "2/2 [==============================] - 0s 4ms/step - loss: 0.2915 - mae: 0.2915\n",
            "Epoch 75/100\n",
            "2/2 [==============================] - 0s 4ms/step - loss: 0.6484 - mae: 0.6484\n",
            "Epoch 76/100\n",
            "2/2 [==============================] - 0s 4ms/step - loss: 1.1501 - mae: 1.1501\n",
            "Epoch 77/100\n",
            "2/2 [==============================] - 0s 4ms/step - loss: 0.7844 - mae: 0.7844\n",
            "Epoch 78/100\n",
            "2/2 [==============================] - 0s 4ms/step - loss: 1.9210 - mae: 1.9210\n",
            "Epoch 79/100\n",
            "2/2 [==============================] - 0s 4ms/step - loss: 0.4800 - mae: 0.4800\n",
            "Epoch 80/100\n",
            "2/2 [==============================] - 0s 4ms/step - loss: 0.6777 - mae: 0.6777\n",
            "Epoch 81/100\n",
            "2/2 [==============================] - 0s 4ms/step - loss: 1.0434 - mae: 1.0434\n",
            "Epoch 82/100\n",
            "2/2 [==============================] - 0s 3ms/step - loss: 1.6153 - mae: 1.6153\n",
            "Epoch 83/100\n",
            "2/2 [==============================] - 0s 3ms/step - loss: 1.0519 - mae: 1.0519\n",
            "Epoch 84/100\n",
            "2/2 [==============================] - 0s 4ms/step - loss: 2.5419 - mae: 2.5419\n",
            "Epoch 85/100\n",
            "2/2 [==============================] - 0s 4ms/step - loss: 2.4088 - mae: 2.4088\n",
            "Epoch 86/100\n",
            "2/2 [==============================] - 0s 4ms/step - loss: 1.0563 - mae: 1.0563\n",
            "Epoch 87/100\n",
            "2/2 [==============================] - 0s 4ms/step - loss: 1.1145 - mae: 1.1145\n",
            "Epoch 88/100\n",
            "2/2 [==============================] - 0s 3ms/step - loss: 2.1427 - mae: 2.1427\n",
            "Epoch 89/100\n",
            "2/2 [==============================] - 0s 4ms/step - loss: 1.7891 - mae: 1.7891\n",
            "Epoch 90/100\n",
            "2/2 [==============================] - 0s 4ms/step - loss: 1.6326 - mae: 1.6326\n",
            "Epoch 91/100\n",
            "2/2 [==============================] - 0s 4ms/step - loss: 1.9529 - mae: 1.9529\n",
            "Epoch 92/100\n",
            "2/2 [==============================] - 0s 3ms/step - loss: 0.9111 - mae: 0.9111\n",
            "Epoch 93/100\n",
            "2/2 [==============================] - 0s 4ms/step - loss: 0.7410 - mae: 0.7410\n",
            "Epoch 94/100\n",
            "2/2 [==============================] - 0s 4ms/step - loss: 0.4742 - mae: 0.4742\n",
            "Epoch 95/100\n",
            "2/2 [==============================] - 0s 4ms/step - loss: 0.4321 - mae: 0.4321\n",
            "Epoch 96/100\n",
            "2/2 [==============================] - 0s 3ms/step - loss: 0.8506 - mae: 0.8506\n",
            "Epoch 97/100\n",
            "2/2 [==============================] - 0s 4ms/step - loss: 1.7451 - mae: 1.7451\n",
            "Epoch 98/100\n",
            "2/2 [==============================] - 0s 4ms/step - loss: 1.1456 - mae: 1.1456\n",
            "Epoch 99/100\n",
            "2/2 [==============================] - 0s 4ms/step - loss: 2.4628 - mae: 2.4628\n",
            "Epoch 100/100\n",
            "2/2 [==============================] - 0s 4ms/step - loss: 2.6420 - mae: 2.6420\n"
          ]
        },
        {
          "output_type": "execute_result",
          "data": {
            "text/plain": [
              "<keras.src.callbacks.History at 0x7e887467d240>"
            ]
          },
          "metadata": {},
          "execution_count": 60
        }
      ]
    },
    {
      "cell_type": "code",
      "source": [
        "model.predict([100])\n",
        "\n",
        "# Sofar hasil nya cukup memuaskan"
      ],
      "metadata": {
        "colab": {
          "base_uri": "https://localhost:8080/"
        },
        "id": "AyjgZKN1vC3V",
        "outputId": "265aea61-67ef-4a3c-8f44-1f728643290b"
      },
      "execution_count": null,
      "outputs": [
        {
          "output_type": "stream",
          "name": "stdout",
          "text": [
            "1/1 [==============================] - 0s 76ms/step\n"
          ]
        },
        {
          "output_type": "execute_result",
          "data": {
            "text/plain": [
              "array([[109.99686]], dtype=float32)"
            ]
          },
          "metadata": {},
          "execution_count": 61
        }
      ]
    }
  ]
}